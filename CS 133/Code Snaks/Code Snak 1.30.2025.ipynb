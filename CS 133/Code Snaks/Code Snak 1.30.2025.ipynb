{
 "cells": [
  {
   "cell_type": "code",
   "execution_count": 7,
   "id": "7499fa5b-c4df-4c4d-bdea-352f32a47877",
   "metadata": {},
   "outputs": [
    {
     "data": {
      "text/plain": [
       "Index(['A', 'B', 'C', 'D'], dtype='object')"
      ]
     },
     "execution_count": 7,
     "metadata": {},
     "output_type": "execute_result"
    }
   ],
   "source": [
    "import pandas as pd\n",
    "\n",
    "fruit = pd.Series( ['apple', 'orange', 'bannna', 'kiwi' ], index=[\"A\", \"B\", \"C\", \"D\"] )\n",
    "fruit.index\n"
   ]
  },
  {
   "cell_type": "code",
   "execution_count": 8,
   "id": "aa27357f-a768-4319-9b34-7cf79b681950",
   "metadata": {},
   "outputs": [
    {
     "data": {
      "text/plain": [
       "B    orange\n",
       "D      kiwi\n",
       "dtype: object"
      ]
     },
     "execution_count": 8,
     "metadata": {},
     "output_type": "execute_result"
    }
   ],
   "source": [
    "fruit[ [\"B\",\"D\"] ]"
   ]
  },
  {
   "cell_type": "code",
   "execution_count": 9,
   "id": "6de70a5b-ab06-4c6d-9685-ef1b4ffad1c0",
   "metadata": {},
   "outputs": [
    {
     "name": "stderr",
     "output_type": "stream",
     "text": [
      "C:\\Users\\evanc\\AppData\\Local\\Temp\\ipykernel_17068\\3492483789.py:1: FutureWarning: Series.__getitem__ treating keys as positions is deprecated. In a future version, integer keys will always be treated as labels (consistent with DataFrame behavior). To access a value by position, use `ser.iloc[pos]`\n",
      "  fruit[ [1,3] ]\n"
     ]
    },
    {
     "data": {
      "text/plain": [
       "B    orange\n",
       "D      kiwi\n",
       "dtype: object"
      ]
     },
     "execution_count": 9,
     "metadata": {},
     "output_type": "execute_result"
    }
   ],
   "source": [
    "fruit[ [1,3] ]"
   ]
  },
  {
   "cell_type": "markdown",
   "id": "0736571b-06d1-4cfd-9d18-929fbf4e95cd",
   "metadata": {},
   "source": [
    "This raises an error because we specified what our index is defined by \"A\", \"B\", \"C\", \"D\" so while we might be trying to grab the index of orange, bannna, and kiwi since we changed the index we should not use integers.\n",
    "\n",
    "We can use .iloc regardless of our index settings, using loc gives a key error."
   ]
  },
  {
   "cell_type": "code",
   "execution_count": 10,
   "id": "821c5eff-6a59-4868-920c-167bbdc3b222",
   "metadata": {},
   "outputs": [
    {
     "data": {
      "text/plain": [
       "'bannna'"
      ]
     },
     "execution_count": 10,
     "metadata": {},
     "output_type": "execute_result"
    }
   ],
   "source": [
    "fruit.iloc[ 2 ]"
   ]
  },
  {
   "cell_type": "code",
   "execution_count": 13,
   "id": "b8ddea84-b581-48e8-926f-64c7cd7c6b43",
   "metadata": {},
   "outputs": [
    {
     "data": {
      "text/plain": [
       "A     apple\n",
       "B    orange\n",
       "D      kiwi\n",
       "dtype: object"
      ]
     },
     "execution_count": 13,
     "metadata": {},
     "output_type": "execute_result"
    }
   ],
   "source": [
    "fruit.drop(\"C\", inplace=True)\n",
    "fruit"
   ]
  },
  {
   "cell_type": "markdown",
   "id": "bed38a28-91b5-4bf2-b595-64384928e80e",
   "metadata": {},
   "source": [
    "Codesnak time:\n",
    "1. Import pandas as pd\n",
    "2. create a Series called bars with at least 5 cany bars\n",
    "3. use a slice to index rows 2-4\n",
    "4. remove row 3\n",
    "5. use a slice to index rows 2-4"
   ]
  },
  {
   "cell_type": "code",
   "execution_count": 14,
   "id": "59b68705-c79d-49c3-a437-f3ec0cefe734",
   "metadata": {},
   "outputs": [
    {
     "data": {
      "text/plain": [
       "0       Crunch\n",
       "1       Kitkat\n",
       "2       Reeses\n",
       "3         Twix\n",
       "4     Mars Bar\n",
       "5    Milky Way\n",
       "6     Snickers\n",
       "dtype: object"
      ]
     },
     "execution_count": 14,
     "metadata": {},
     "output_type": "execute_result"
    }
   ],
   "source": [
    "import pandas as pd\n",
    "\n",
    "bars = pd.Series( ['Crunch', 'Kitkat', 'Reeses', 'Twix', 'Mars Bar', 'Milky Way', 'Snickers'] )\n",
    "\n",
    "bars"
   ]
  },
  {
   "cell_type": "code",
   "execution_count": 20,
   "id": "584a1272-a9d5-48f7-a8f5-0e9dc338116a",
   "metadata": {},
   "outputs": [
    {
     "data": {
      "text/plain": [
       "2      Reeses\n",
       "3        Twix\n",
       "4    Mars Bar\n",
       "dtype: object"
      ]
     },
     "execution_count": 20,
     "metadata": {},
     "output_type": "execute_result"
    }
   ],
   "source": [
    "favs = bars[ 2:5 ]\n",
    "favs"
   ]
  },
  {
   "cell_type": "code",
   "execution_count": 21,
   "id": "5b7c5893-0dae-41bf-90a4-32d924b58e01",
   "metadata": {},
   "outputs": [
    {
     "data": {
      "text/plain": [
       "0       Crunch\n",
       "1       Kitkat\n",
       "3         Twix\n",
       "4     Mars Bar\n",
       "5    Milky Way\n",
       "6     Snickers\n",
       "dtype: object"
      ]
     },
     "execution_count": 21,
     "metadata": {},
     "output_type": "execute_result"
    }
   ],
   "source": [
    "bars = bars.drop(2)\n",
    "bars"
   ]
  },
  {
   "cell_type": "code",
   "execution_count": 22,
   "id": "08fe5885-f5df-4ac2-ad5f-b3b098a7f41c",
   "metadata": {},
   "outputs": [
    {
     "data": {
      "text/plain": [
       "3         Twix\n",
       "4     Mars Bar\n",
       "5    Milky Way\n",
       "dtype: object"
      ]
     },
     "execution_count": 22,
     "metadata": {},
     "output_type": "execute_result"
    }
   ],
   "source": [
    "bars[2:5]"
   ]
  },
  {
   "cell_type": "markdown",
   "id": "f4b33072-8a19-43fc-a17b-c616e486d66d",
   "metadata": {},
   "source": [
    "-- END CODE SNAK --"
   ]
  },
  {
   "cell_type": "code",
   "execution_count": null,
   "id": "f03272df-dd2d-4ced-bbf8-475fadd6e442",
   "metadata": {},
   "outputs": [],
   "source": []
  }
 ],
 "metadata": {
  "kernelspec": {
   "display_name": "Python 3 (ipykernel)",
   "language": "python",
   "name": "python3"
  },
  "language_info": {
   "codemirror_mode": {
    "name": "ipython",
    "version": 3
   },
   "file_extension": ".py",
   "mimetype": "text/x-python",
   "name": "python",
   "nbconvert_exporter": "python",
   "pygments_lexer": "ipython3",
   "version": "3.12.5"
  }
 },
 "nbformat": 4,
 "nbformat_minor": 5
}
