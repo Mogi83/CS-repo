{
 "cells": [
  {
   "cell_type": "code",
   "execution_count": 1,
   "id": "2235cecc-56e7-4bd7-9c6c-bb232949ada9",
   "metadata": {},
   "outputs": [],
   "source": [
    "#Code Snak 01.28.2025\n",
    "#1. create two 10x10 arrays of zeros named fleet and find.\n",
    "#2. In fleet "
   ]
  },
  {
   "cell_type": "code",
   "execution_count": 40,
   "id": "3ff890d8-a59d-441d-a910-6c006d9260fc",
   "metadata": {},
   "outputs": [
    {
     "name": "stdout",
     "output_type": "stream",
     "text": [
      "[[ 0  0  0  0  0  0  0  0  0  0]\n",
      " [ 0  0  0  0  0  0  0  0  0  0]\n",
      " [ 0  0  0  0  0  0  0  0  0  0]\n",
      " [ 0  0  0  0  0  0  0  0  0  0]\n",
      " [ 0  0  0 -1 -1 -1 -1  1  0  0]\n",
      " [ 0  0  0  0  0  0  0  0  0  0]\n",
      " [ 0  0  0  0  0  0  2  0  0  0]\n",
      " [ 0  0  0  0  0  0  2  0  0  0]\n",
      " [ 0  0  0  0  0  0  2  0  0  0]\n",
      " [ 0  0  0  0  0  0  0  0  0  0]]\n",
      "\n",
      "[[-1  0  0  0  0  0  0  0  0 -1]\n",
      " [ 0  0  0  0  0  0  0  0  0  0]\n",
      " [ 0  0  0  0  0  0  0  0  0  0]\n",
      " [ 0  0 -1  0  0  0  0  0  0  0]\n",
      " [ 0  0  0  0  0  0  0  0  0  0]\n",
      " [ 0  0  0  0 -1  0  0  0  0  0]\n",
      " [ 0  0  0  0  0  0  0  0  0  0]\n",
      " [ 0  0  0  0  0  0  0 -1  0  0]\n",
      " [ 0  0  0  0  0  0  0  0 -1  0]\n",
      " [ 0  0  0  0  0  0  0  0  0 -1]]\n"
     ]
    }
   ],
   "source": [
    "import numpy as np\n",
    "import random\n",
    "\n",
    "fleet = np.zeros((10,10), dtype=int)\n",
    "fleet[4, 3:8] = 1\n",
    "fleet[6:9, 6] = 2\n",
    "\n",
    "#hits\n",
    "fleet[4,3] *= -1\n",
    "fleet[4,4] *= -1\n",
    "fleet[4,5] *= -1\n",
    "fleet[4,6] *= -1\n",
    "print(fleet)\n",
    "print()\n",
    "\n",
    "\n",
    "find = np.zeros((10,10), dtype=int)\n",
    "#marks\n",
    "find[0,0] = -1\n",
    "find[5,4] = -1\n",
    "find[9,9] = -1\n",
    "find[0,9] = -1\n",
    "find[3,2] = -1\n",
    "find[7,7] = -1\n",
    "find[8,8] = -1\n",
    "print(find)"
   ]
  },
  {
   "cell_type": "code",
   "execution_count": null,
   "id": "63ec96f1-549b-4f07-af30-29857ae3f75b",
   "metadata": {},
   "outputs": [],
   "source": []
  },
  {
   "cell_type": "code",
   "execution_count": null,
   "id": "e6f68f30-bcbb-4d1a-a3b9-e542b8eaf284",
   "metadata": {},
   "outputs": [],
   "source": []
  }
 ],
 "metadata": {
  "kernelspec": {
   "display_name": "Python 3 (ipykernel)",
   "language": "python",
   "name": "python3"
  },
  "language_info": {
   "codemirror_mode": {
    "name": "ipython",
    "version": 3
   },
   "file_extension": ".py",
   "mimetype": "text/x-python",
   "name": "python",
   "nbconvert_exporter": "python",
   "pygments_lexer": "ipython3",
   "version": "3.12.5"
  }
 },
 "nbformat": 4,
 "nbformat_minor": 5
}
