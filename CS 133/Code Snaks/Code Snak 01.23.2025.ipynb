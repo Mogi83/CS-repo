{
 "cells": [
  {
   "cell_type": "code",
   "execution_count": 1,
   "id": "bab4c8d4-cb0a-4e40-9447-7c53e982d114",
   "metadata": {},
   "outputs": [],
   "source": [
    "#CODE SNAK 01.23.2025"
   ]
  },
  {
   "cell_type": "code",
   "execution_count": 2,
   "id": "b44a6c4d-7451-4a0b-b020-4a4e35f621f1",
   "metadata": {},
   "outputs": [],
   "source": [
    "\n",
    "\n",
    "def countXO(XOlist):\n",
    "    countX = 0\n",
    "    countO = 0\n",
    "    for x in XOlist:\n",
    "        if x == 'X': countX += 1\n",
    "        if x == 'O': countO += 1    \n",
    "\n",
    "    print (countX, countO)"
   ]
  },
  {
   "cell_type": "code",
   "execution_count": 3,
   "id": "643035fd-09d1-48c2-9892-19682fd688a4",
   "metadata": {},
   "outputs": [
    {
     "name": "stdout",
     "output_type": "stream",
     "text": [
      "2 2\n"
     ]
    }
   ],
   "source": [
    "xo = ['X','O','X','O',11,1213,1, 0 , 112]\n",
    "countXO(xo)"
   ]
  },
  {
   "cell_type": "code",
   "execution_count": 6,
   "id": "e7e204e3-87eb-4567-a636-ed0d036bcbec",
   "metadata": {},
   "outputs": [
    {
     "name": "stdout",
     "output_type": "stream",
     "text": [
      "{}\n"
     ]
    }
   ],
   "source": [
    "IntDict = {}\n",
    "def countInt(Intlist):\n",
    "    for x in IntList:\n",
    "        if x in IntDict:\n",
    "            IntDict[x] += 1\n",
    "        else:\n",
    "            IntDict[x] = 1\n",
    "print (IntDict)"
   ]
  },
  {
   "cell_type": "code",
   "execution_count": 7,
   "id": "463d835d-9329-4752-a026-321f7c3f97a5",
   "metadata": {},
   "outputs": [
    {
     "ename": "NameError",
     "evalue": "name 'IntList' is not defined",
     "output_type": "error",
     "traceback": [
      "\u001b[1;31m---------------------------------------------------------------------------\u001b[0m",
      "\u001b[1;31mNameError\u001b[0m                                 Traceback (most recent call last)",
      "Cell \u001b[1;32mIn[7], line 2\u001b[0m\n\u001b[0;32m      1\u001b[0m il \u001b[38;5;241m=\u001b[39m [\u001b[38;5;241m1\u001b[39m ,\u001b[38;5;241m3\u001b[39m ,\u001b[38;5;241m3\u001b[39m, \u001b[38;5;241m6\u001b[39m, \u001b[38;5;241m7\u001b[39m, \u001b[38;5;241m20\u001b[39m, \u001b[38;5;241m100\u001b[39m, \u001b[38;5;241m9\u001b[39m, \u001b[38;5;241m11\u001b[39m, \u001b[38;5;241m4\u001b[39m, \u001b[38;5;241m5\u001b[39m, \u001b[38;5;241m6\u001b[39m, \u001b[38;5;241m7\u001b[39m, \u001b[38;5;241m9\u001b[39m, \u001b[38;5;241m4\u001b[39m]\n\u001b[1;32m----> 2\u001b[0m \u001b[43mcountInt\u001b[49m\u001b[43m(\u001b[49m\u001b[43mil\u001b[49m\u001b[43m)\u001b[49m\n",
      "Cell \u001b[1;32mIn[6], line 3\u001b[0m, in \u001b[0;36mcountInt\u001b[1;34m(Intlist)\u001b[0m\n\u001b[0;32m      2\u001b[0m \u001b[38;5;28;01mdef\u001b[39;00m \u001b[38;5;21mcountInt\u001b[39m(Intlist):\n\u001b[1;32m----> 3\u001b[0m     li \u001b[38;5;241m=\u001b[39m \u001b[43mIntList\u001b[49m\n\u001b[0;32m      4\u001b[0m     \u001b[38;5;28;01mfor\u001b[39;00m x \u001b[38;5;129;01min\u001b[39;00m il:\n\u001b[0;32m      5\u001b[0m         \u001b[38;5;28;01mif\u001b[39;00m x \u001b[38;5;129;01min\u001b[39;00m IntDict:\n",
      "\u001b[1;31mNameError\u001b[0m: name 'IntList' is not defined"
     ]
    }
   ],
   "source": [
    "il = [1 ,3 ,3, 6, 7, 20, 100, 9, 11, 4, 5, 6, 7, 9, 4]\n",
    "countInt(il)"
   ]
  },
  {
   "cell_type": "code",
   "execution_count": null,
   "id": "bf898649-d781-417e-be32-e4d58d133353",
   "metadata": {},
   "outputs": [],
   "source": [
    "newList = [i if type(i) == int else 0 for i in xo]\n",
    "newList"
   ]
  },
  {
   "cell_type": "code",
   "execution_count": null,
   "id": "36dea6db-01e2-449b-8502-6fb9a46a2824",
   "metadata": {},
   "outputs": [],
   "source": []
  }
 ],
 "metadata": {
  "kernelspec": {
   "display_name": "Python 3 (ipykernel)",
   "language": "python",
   "name": "python3"
  },
  "language_info": {
   "codemirror_mode": {
    "name": "ipython",
    "version": 3
   },
   "file_extension": ".py",
   "mimetype": "text/x-python",
   "name": "python",
   "nbconvert_exporter": "python",
   "pygments_lexer": "ipython3",
   "version": "3.12.5"
  }
 },
 "nbformat": 4,
 "nbformat_minor": 5
}
