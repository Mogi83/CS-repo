{
 "cells": [
  {
   "cell_type": "markdown",
   "id": "ae9d3a3a-4471-412d-9a26-cea8d86ac926",
   "metadata": {},
   "source": [
    "## Lab 2: Zombie Apocalypse 🧟\n",
    "__Version 1__"
   ]
  },
  {
   "cell_type": "markdown",
   "id": "c67f16bf-f43b-494a-9d11-3f1751b8fe07",
   "metadata": {},
   "source": [
    "The city is under attack from zombies and several vaccines have been proposed but the government isn't sure which one to use. Your job is to create a simulation to test the vaccines and analyze them using inferential statistics so you can make a recommendation.\n",
    "\n",
    "A sample of the population has been created in the file \"lab2-sample.csv\". The data contain the status of an individual (1 = infected, 0 = non-infected), and their x and y coordinates in the city. Scientists have determined that a person has a 30% chance per day of being infected by a zombie within a 5 unit radius (all distances have been converted to standard units).\n",
    "\n",
    "Follow the prompts below that guide you through your research. When you are finished submit an HTML version of your notebook.\n",
    "\n",
    "Good luck, the city is counting on you!"
   ]
  },
  {
   "cell_type": "markdown",
   "id": "712cf8be-738b-4830-a316-58597fcc01c9",
   "metadata": {},
   "source": [
    "---"
   ]
  },
  {
   "cell_type": "markdown",
   "id": "75f30b8e-4fff-43d6-b3e4-8ac907d22487",
   "metadata": {},
   "source": [
    "Import pandas, lab2lib, and any other modules you need here."
   ]
  },
  {
   "cell_type": "code",
   "execution_count": null,
   "id": "12ac7bce-302d-4a3e-9a53-a5784bbe4ebe",
   "metadata": {},
   "outputs": [],
   "source": []
  },
  {
   "cell_type": "markdown",
   "id": "292d432e-f54c-49df-a828-dba9515c5d11",
   "metadata": {},
   "source": [
    "Load the `lab2-sample.csv` data into a dataframe and get familiar with it."
   ]
  },
  {
   "cell_type": "code",
   "execution_count": null,
   "id": "07e4f001-8c5b-4355-b228-d400e5e5728d",
   "metadata": {},
   "outputs": [],
   "source": []
  },
  {
   "cell_type": "markdown",
   "id": "0ca1ea58-8afc-4bbe-9156-86d6a70cc185",
   "metadata": {},
   "source": [
    "---"
   ]
  },
  {
   "cell_type": "markdown",
   "id": "d8fc245f-03cc-450f-9e18-8bf560e115cf",
   "metadata": {},
   "source": [
    "The first thing you'll need is a Python function to simulate a single day. Create a function which takes the following parameters:\n",
    "1. A dataframe of the population to simulate\n",
    "2. The infection radius distance (default to 5)\n",
    "3. The infection probability of non-vaccinated people (default to .3)\n",
    "4. The infection probability of vaccinated people (default to -1 to indicate no vaccine)\n",
    "\n",
    "The function should iterate through all non-infected people (status == 0). For each person it should find all infected people within the infection radius and generate a random number to determine if an infection event should take place. If the vaccinated infection probability is not -1 and the population dataframe includes a `vaccinated` column and the non-infected person is vaccinated (`vaccinated` == 1) the infection probablity of vaccinated people should be used to determin the infection event, otherwise the infection probability of non-vaccinated people should be used. If infected, a person's status should be set to 1. The function should return the population dataframe."
   ]
  },
  {
   "cell_type": "code",
   "execution_count": null,
   "id": "6658ad58-d829-481e-851f-4804a774fb99",
   "metadata": {},
   "outputs": [],
   "source": []
  },
  {
   "cell_type": "markdown",
   "id": "69fe39db-32a3-41f7-8c2b-9fafc9c17b45",
   "metadata": {},
   "source": [
    "Run some tests on your function to ensure it's working properly. A unit test is suggested below to get you started (change the name to match your function)."
   ]
  },
  {
   "cell_type": "code",
   "execution_count": null,
   "id": "2d073e1c-2174-49fc-9c09-2cff5d6e7d3f",
   "metadata": {},
   "outputs": [],
   "source": [
    "test1 = day( pd.read_csv(\"lab2-sample.csv\"), 5, 1)\n",
    "assert( test1.status.value_counts()[1] == 34 )"
   ]
  },
  {
   "cell_type": "markdown",
   "id": "70bd7da9-a4ec-4e03-9ee8-0e993afd2ca0",
   "metadata": {},
   "source": [
    "---"
   ]
  },
  {
   "cell_type": "markdown",
   "id": "875dc6ec-23e5-44b3-a076-7e3e866aae47",
   "metadata": {},
   "source": [
    "Create a function to run a complete simulation. The function should take the following parameters:\n",
    "1. A dataframe of the population to simulate\n",
    "2. The number of days to simulate (default to 30)\n",
    "3. The infection radius distance (default to 5)\n",
    "4. The infection probability of non-vaccinated people (default to 3)\n",
    "5. The vaccine effectiveness (default to 0)\n",
    "6. The vaccine rate (default to 0)\n",
    "\n",
    "The function should first make a copy of the population dataframe (use the DataFrame.copy() method). If the vaccine effectiveness is not 0, the population should first be vaccinated. The number of vaccinations should equal the number of non-infected individuals times the vaccine rate. The individuals to be vaccinated should be chosen at random. When vaccinating, create a `vaccinated` column and set vaccinated individuals to 1. After vaccination the function should call your single day simulation function for the number days specified in the parameter to this function. When calling the day function, pass in the appropriate arguments. To calculate the argument for the infection probability for vaccinated people, use the probability of infection for non-vaccinated people scaled by (1 - vaccine effectiveness). Return the modified population dataframe."
   ]
  },
  {
   "cell_type": "code",
   "execution_count": null,
   "id": "9c6196ec-edea-4ccc-83de-8a5285d4a78d",
   "metadata": {},
   "outputs": [],
   "source": []
  },
  {
   "cell_type": "markdown",
   "id": "e63df606-0645-4431-8342-c774f4ed6ce3",
   "metadata": {},
   "source": [
    "Test your function by running it on \"lab2-sample.csv\" with and without vaccines. When testing vaccines try using a vaccine effectiveness and rate both set to 1, then confirm that no infections occur."
   ]
  },
  {
   "cell_type": "code",
   "execution_count": null,
   "id": "a534e4e1-a367-484b-afbe-57e57c7692a5",
   "metadata": {},
   "outputs": [],
   "source": [
    "testvac1 = sim(pd.read_csv(\"lab2-sample.csv\"), v_eff=1, v_rate=1)\n",
    "assert( testvac1.status.value_counts()[1] == 2)"
   ]
  },
  {
   "cell_type": "markdown",
   "id": "42597470-a29a-4d0e-b981-09eb339317e9",
   "metadata": {},
   "source": [
    "---"
   ]
  },
  {
   "cell_type": "markdown",
   "id": "1df2d227-3c9f-41d2-955d-bd2c7a4f31db",
   "metadata": {},
   "source": [
    "Create a function that runs iterations of an experiment on a data file and saves the number of infected indivduals for each run and returns these in a list. The first parameter should be the file (default to \"lab2-sample.csv\"), the second parameter should be the number of iterations (default 10) and the remaining parameters should match those required in your simulation function above (with the exception of the population dataframe)."
   ]
  },
  {
   "cell_type": "code",
   "execution_count": null,
   "id": "dbe89663-ad8a-45e4-91c8-561cfb624d60",
   "metadata": {},
   "outputs": [],
   "source": []
  },
  {
   "cell_type": "markdown",
   "id": "71ab834b-99d0-4bfb-bfff-f4157faeb518",
   "metadata": {},
   "source": [
    "---"
   ]
  },
  {
   "cell_type": "markdown",
   "id": "561d706c-d235-4fe9-bba3-ab6061ea29c9",
   "metadata": {},
   "source": [
    "Call your iterative function using defaults and save the results as a baseline."
   ]
  },
  {
   "cell_type": "code",
   "execution_count": null,
   "id": "11a7357a-2f72-4d04-b453-78ac5a3f14fa",
   "metadata": {},
   "outputs": [],
   "source": []
  },
  {
   "cell_type": "markdown",
   "id": "b1948e26-2530-4f0e-92a1-8ab7790d8f61",
   "metadata": {},
   "source": [
    "Call your iterative function using using a vaccine with 60% effectiveness and an 80% rate and save the results as vaccine 1."
   ]
  },
  {
   "cell_type": "code",
   "execution_count": null,
   "id": "e2459ef9-a21d-42af-a4c0-bb1772019ff3",
   "metadata": {},
   "outputs": [],
   "source": []
  },
  {
   "cell_type": "markdown",
   "id": "026191af-037b-40ac-a1e7-9afb9c6847c1",
   "metadata": {},
   "source": [
    "Call your iterative function using using a vaccine with 80% effectiveness and a 60% rate and save the results as vaccine 2."
   ]
  },
  {
   "cell_type": "code",
   "execution_count": null,
   "id": "c9f3e192-e0c9-46e0-a8a5-46ec91125201",
   "metadata": {},
   "outputs": [],
   "source": []
  },
  {
   "cell_type": "markdown",
   "id": "98fce2c5-68af-4d10-a4c4-1117a03903cd",
   "metadata": {},
   "source": [
    "Run a two-sided proportions test comparing the proportion of the means of infections in the baseline and vaccine 1 to determine if they are significantly different."
   ]
  },
  {
   "cell_type": "code",
   "execution_count": null,
   "id": "8fb34cbc-c576-4a70-9633-306cf345551d",
   "metadata": {},
   "outputs": [],
   "source": []
  },
  {
   "cell_type": "markdown",
   "id": "c01cc3ea-2156-4e91-9110-c512118ac28c",
   "metadata": {},
   "source": [
    "Run the same test as above comparing vaccine 1 and vaccine 2."
   ]
  },
  {
   "cell_type": "code",
   "execution_count": null,
   "id": "367dd1a4-11e6-4e90-a85b-6fbf5ef963ec",
   "metadata": {},
   "outputs": [],
   "source": []
  },
  {
   "cell_type": "markdown",
   "id": "aa8c9c9f-7a3e-467a-b54b-1bd1d80edb76",
   "metadata": {},
   "source": [
    "Interpret the results of your two proportions test."
   ]
  },
  {
   "cell_type": "markdown",
   "id": "fb4a7fd2-5473-4398-b18c-71cfe072c3a2",
   "metadata": {},
   "source": [
    "Based on these results, find a vaccine effectiveness and rate that minimizes infections with the constraint that the sum of the effectiveness and rate must be 1.4 or less. (Both previous vaccine tests satisfy this constraint: .8 + .6 <= 1.4 and .6 + .8 <= 1.4). Show that your vaccine is significantly different than vaccine 1 and 2."
   ]
  },
  {
   "cell_type": "code",
   "execution_count": null,
   "id": "458ab4b2-9b9b-44f6-a694-991724a7408d",
   "metadata": {},
   "outputs": [],
   "source": []
  },
  {
   "cell_type": "code",
   "execution_count": null,
   "id": "2e691ae8-90a6-4f57-acb2-445685f99c9a",
   "metadata": {},
   "outputs": [],
   "source": []
  },
  {
   "cell_type": "markdown",
   "id": "b1282681-e578-47fa-aa56-b1530cad4d12",
   "metadata": {},
   "source": [
    "Finally run your vaccine once on the entire population \"lab2.csv\" (this will take some time) and report whether you've saved the city (infection rate contained to 50%)."
   ]
  },
  {
   "cell_type": "code",
   "execution_count": null,
   "id": "04c5ccbf-8e93-4800-b6fb-46942e595d4d",
   "metadata": {},
   "outputs": [],
   "source": []
  },
  {
   "cell_type": "markdown",
   "id": "7a276d31-25ff-45b7-9066-a675467ea763",
   "metadata": {},
   "source": [
    "---"
   ]
  },
  {
   "cell_type": "markdown",
   "id": "7b7a9301-248b-4700-abcf-19f6fe97fc36",
   "metadata": {},
   "source": [
    "### Submission Instructions\n",
    "\n",
    "Be sure to ***SAVE YOUR WORK***!  \n",
    "\n",
    "Next, select File -> Save and Export As ... -> HTML\n",
    "\n",
    "Then submit your notebook HTML file to Canvas."
   ]
  }
 ],
 "metadata": {
  "kernelspec": {
   "display_name": "Python 3 (ipykernel)",
   "language": "python",
   "name": "python3"
  },
  "language_info": {
   "codemirror_mode": {
    "name": "ipython",
    "version": 3
   },
   "file_extension": ".py",
   "mimetype": "text/x-python",
   "name": "python",
   "nbconvert_exporter": "python",
   "pygments_lexer": "ipython3",
   "version": "3.12.5"
  }
 },
 "nbformat": 4,
 "nbformat_minor": 5
}
