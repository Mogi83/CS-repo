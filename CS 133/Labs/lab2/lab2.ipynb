{
 "cells": [
  {
   "cell_type": "markdown",
   "id": "ae9d3a3a-4471-412d-9a26-cea8d86ac926",
   "metadata": {},
   "source": [
    "## Lab 2: Zombie Apocalypse 🧟\n",
    "__Version 1__"
   ]
  },
  {
   "cell_type": "markdown",
   "id": "c67f16bf-f43b-494a-9d11-3f1751b8fe07",
   "metadata": {},
   "source": [
    "The city is under attack from zombies and several vaccines have been proposed but the government isn't sure which one to use. Your job is to create a simulation to test the vaccines and analyze them using inferential statistics so you can make a recommendation.\n",
    "\n",
    "A sample of the population has been created in the file \"lab2-sample.csv\". The data contain the status of an individual (1 = infected, 0 = non-infected), and their x and y coordinates in the city. Scientists have determined that a person has a 30% chance per day of being infected by a zombie within a 5 unit radius (all distances have been converted to standard units).\n",
    "\n",
    "Follow the prompts below that guide you through your research. When you are finished submit an HTML version of your notebook.\n",
    "\n",
    "Good luck, the city is counting on you!"
   ]
  },
  {
   "cell_type": "markdown",
   "id": "712cf8be-738b-4830-a316-58597fcc01c9",
   "metadata": {},
   "source": [
    "---"
   ]
  },
  {
   "cell_type": "markdown",
   "id": "75f30b8e-4fff-43d6-b3e4-8ac907d22487",
   "metadata": {},
   "source": [
    "Import pandas, lab2lib, and any other modules you need here."
   ]
  },
  {
   "cell_type": "code",
   "execution_count": 1,
   "id": "12ac7bce-302d-4a3e-9a53-a5784bbe4ebe",
   "metadata": {
    "editable": true,
    "slideshow": {
     "slide_type": ""
    },
    "tags": []
   },
   "outputs": [],
   "source": [
    "import pandas as pd\n",
    "import matplotlib as plt\n",
    "import scipy.stats as stats\n",
    "from statsmodels.stats import proportion\n",
    "import numpy as np"
   ]
  },
  {
   "cell_type": "markdown",
   "id": "292d432e-f54c-49df-a828-dba9515c5d11",
   "metadata": {
    "editable": true,
    "slideshow": {
     "slide_type": ""
    },
    "tags": []
   },
   "source": [
    "Load the `lab2-sample.csv` data into a dataframe and get familiar with it."
   ]
  },
  {
   "cell_type": "code",
   "execution_count": 2,
   "id": "07e4f001-8c5b-4355-b228-d400e5e5728d",
   "metadata": {
    "editable": true,
    "slideshow": {
     "slide_type": ""
    },
    "tags": []
   },
   "outputs": [
    {
     "data": {
      "text/html": [
       "<div>\n",
       "<style scoped>\n",
       "    .dataframe tbody tr th:only-of-type {\n",
       "        vertical-align: middle;\n",
       "    }\n",
       "\n",
       "    .dataframe tbody tr th {\n",
       "        vertical-align: top;\n",
       "    }\n",
       "\n",
       "    .dataframe thead th {\n",
       "        text-align: right;\n",
       "    }\n",
       "</style>\n",
       "<table border=\"1\" class=\"dataframe\">\n",
       "  <thead>\n",
       "    <tr style=\"text-align: right;\">\n",
       "      <th></th>\n",
       "      <th>status</th>\n",
       "      <th>x</th>\n",
       "      <th>y</th>\n",
       "    </tr>\n",
       "  </thead>\n",
       "  <tbody>\n",
       "    <tr>\n",
       "      <th>34</th>\n",
       "      <td>1</td>\n",
       "      <td>12.125416</td>\n",
       "      <td>12.605890</td>\n",
       "    </tr>\n",
       "    <tr>\n",
       "      <th>142</th>\n",
       "      <td>1</td>\n",
       "      <td>9.753383</td>\n",
       "      <td>24.630488</td>\n",
       "    </tr>\n",
       "    <tr>\n",
       "      <th>2</th>\n",
       "      <td>0</td>\n",
       "      <td>15.560043</td>\n",
       "      <td>28.581505</td>\n",
       "    </tr>\n",
       "    <tr>\n",
       "      <th>0</th>\n",
       "      <td>0</td>\n",
       "      <td>46.598301</td>\n",
       "      <td>42.323014</td>\n",
       "    </tr>\n",
       "    <tr>\n",
       "      <th>4</th>\n",
       "      <td>0</td>\n",
       "      <td>18.555827</td>\n",
       "      <td>46.410041</td>\n",
       "    </tr>\n",
       "    <tr>\n",
       "      <th>...</th>\n",
       "      <td>...</td>\n",
       "      <td>...</td>\n",
       "      <td>...</td>\n",
       "    </tr>\n",
       "    <tr>\n",
       "      <th>195</th>\n",
       "      <td>0</td>\n",
       "      <td>25.119138</td>\n",
       "      <td>24.119612</td>\n",
       "    </tr>\n",
       "    <tr>\n",
       "      <th>196</th>\n",
       "      <td>0</td>\n",
       "      <td>45.306712</td>\n",
       "      <td>18.898339</td>\n",
       "    </tr>\n",
       "    <tr>\n",
       "      <th>197</th>\n",
       "      <td>0</td>\n",
       "      <td>31.170071</td>\n",
       "      <td>37.228473</td>\n",
       "    </tr>\n",
       "    <tr>\n",
       "      <th>198</th>\n",
       "      <td>0</td>\n",
       "      <td>29.325565</td>\n",
       "      <td>29.565473</td>\n",
       "    </tr>\n",
       "    <tr>\n",
       "      <th>199</th>\n",
       "      <td>0</td>\n",
       "      <td>45.044452</td>\n",
       "      <td>3.711375</td>\n",
       "    </tr>\n",
       "  </tbody>\n",
       "</table>\n",
       "<p>200 rows × 3 columns</p>\n",
       "</div>"
      ],
      "text/plain": [
       "     status          x          y\n",
       "34        1  12.125416  12.605890\n",
       "142       1   9.753383  24.630488\n",
       "2         0  15.560043  28.581505\n",
       "0         0  46.598301  42.323014\n",
       "4         0  18.555827  46.410041\n",
       "..      ...        ...        ...\n",
       "195       0  25.119138  24.119612\n",
       "196       0  45.306712  18.898339\n",
       "197       0  31.170071  37.228473\n",
       "198       0  29.325565  29.565473\n",
       "199       0  45.044452   3.711375\n",
       "\n",
       "[200 rows x 3 columns]"
      ]
     },
     "execution_count": 2,
     "metadata": {},
     "output_type": "execute_result"
    }
   ],
   "source": [
    "sample = pd.read_csv('lab2-sample.csv')\n",
    "\n",
    "sample.describe()\n",
    "\n",
    "sample.sort_values(by = 'status', ascending = False)"
   ]
  },
  {
   "cell_type": "code",
   "execution_count": null,
   "id": "8fd018cd-5643-433f-9a85-c6b566524164",
   "metadata": {
    "editable": true,
    "slideshow": {
     "slide_type": ""
    },
    "tags": []
   },
   "outputs": [],
   "source": []
  },
  {
   "cell_type": "markdown",
   "id": "0ca1ea58-8afc-4bbe-9156-86d6a70cc185",
   "metadata": {
    "editable": true,
    "slideshow": {
     "slide_type": ""
    },
    "tags": []
   },
   "source": [
    "---"
   ]
  },
  {
   "cell_type": "markdown",
   "id": "d8fc245f-03cc-450f-9e18-8bf560e115cf",
   "metadata": {},
   "source": [
    "The first thing you'll need is a Python function to simulate a single day. Create a function which takes the following parameters:\n",
    "1. A dataframe of the population to simulate\n",
    "2. The infection radius distance (default to 5)\n",
    "3. The infection probability of non-vaccinated people (default to .3)\n",
    "4. The infection probability of vaccinated people (default to -1 to indicate no vaccine)\n",
    "\n",
    "The function should iterate through all non-infected people (status == 0). For each person it should find all infected people within the infection radius and generate a random number to determine if an infection event should take place. If the vaccinated infection probability is not -1 and the population dataframe includes a `vaccinated` column and the non-infected person is vaccinated (`vaccinated` == 1) the infection probablity of vaccinated people should be used to determin the infection event, otherwise the infection probability of non-vaccinated people should be used. If infected, a person's status should be set to 1. The function should return the population dataframe."
   ]
  },
  {
   "cell_type": "code",
   "execution_count": 3,
   "id": "6658ad58-d829-481e-851f-4804a774fb99",
   "metadata": {
    "editable": true,
    "slideshow": {
     "slide_type": ""
    },
    "tags": []
   },
   "outputs": [],
   "source": [
    "def day(pop, r = 5, p_i = 0.3, p_v = -1):\n",
    "    groups = [x for x in pop.groupby('status')]\n",
    "    for idx, p in groups[0][1].iterrows():\n",
    "        \n",
    "        pvac = p_v if 'vaccinated' in pop.columns and p_v != -1 and p['vaccinated'] == 1 else p_i \n",
    "        \n",
    "        for _, z in groups[1][1].iterrows():\n",
    "            \n",
    "            if (p.x - z.x)**2 + (p.y - z.y)**2 < r ** 2: \n",
    "                if np.random.random() < pvac:\n",
    "                    pop.at[idx, 'status'] = 1\n",
    "                    break\n",
    "    return pop\n",
    "\n",
    "def day2(pop, r=5, p_i = .3, p_v =-1 ):\n",
    "    #Group by status\n",
    "    groups =[ x for x in pop.groupby('status') ] #pop.groupby('status')\n",
    "    for idx, p in groups[0][1].iterrows():\n",
    "    #for each infected person\n",
    "        prob = p_v if 'vaccinated' in pop.columns and p_v != -1 and p['vaccinated'] == 1 else p_i  #not -1?\n",
    "        #check if distance is in radius\n",
    "        for _, z in groups[1][1].iterrows():\n",
    "            if (p.x - z.x)** 2 +(p.y - z.y)**2 < r**2:\n",
    "                #check for infection event\n",
    "                if np.random.random() < prob:\n",
    "                    #recor it and stop\n",
    "                    pop.at[idx, 'status'] = 1\n",
    "                    break\n",
    "    # return dataframe\n",
    "    return pop\n",
    "\n",
    "    # pop[column].value():\n",
    "        #\n",
    "    #Group dataframe by status\n",
    "    #for each non infected person\n",
    "        #for each infected person\n",
    "            #check if distance is in radius\n",
    "                #check for an infection event\n",
    "                    # record it and stop"
   ]
  },
  {
   "cell_type": "markdown",
   "id": "69fe39db-32a3-41f7-8c2b-9fafc9c17b45",
   "metadata": {},
   "source": [
    "Run some tests on your function to ensure it's working properly. A unit test is suggested below to get you started (change the name to match your function)."
   ]
  },
  {
   "cell_type": "code",
   "execution_count": 4,
   "id": "2d073e1c-2174-49fc-9c09-2cff5d6e7d3f",
   "metadata": {},
   "outputs": [],
   "source": [
    "test1 = day2( pd.read_csv(\"lab2-sample.csv\"), 5, 1)\n",
    "#test1.sort_values(by = 'status', ascending = False)\n",
    "assert( test1.status.value_counts()[1] == 13 )"
   ]
  },
  {
   "cell_type": "markdown",
   "id": "70bd7da9-a4ec-4e03-9ee8-0e993afd2ca0",
   "metadata": {},
   "source": [
    "---"
   ]
  },
  {
   "cell_type": "markdown",
   "id": "875dc6ec-23e5-44b3-a076-7e3e866aae47",
   "metadata": {},
   "source": [
    "Create a function to run a complete simulation. The function should take the following parameters:\n",
    "1. A dataframe of the population to simulate\n",
    "2. The number of days to simulate (default to 30)\n",
    "3. The infection radius distance (default to 5)\n",
    "4. The infection probability of non-vaccinated people (default to 3)\n",
    "5. The vaccine effectiveness (default to 0)\n",
    "6. The vaccine rate (default to 0)\n",
    "\n",
    "The function should first make a copy of the population dataframe (use the DataFrame.copy() method). If the vaccine effectiveness is not 0, the population should first be vaccinated. The number of vaccinations should equal the number of non-infected individuals times the vaccine rate. The individuals to be vaccinated should be chosen at random. When vaccinating, create a `vaccinated` column and set vaccinated individuals to 1. After vaccination the function should call your single day simulation function for the number days specified in the parameter to this function. When calling the day function, pass in the appropriate arguments. To calculate the argument for the infection probability for vaccinated people, use the probability of infection for non-vaccinated people scaled by (1 - vaccine effectiveness). Return the modified population dataframe."
   ]
  },
  {
   "cell_type": "code",
   "execution_count": 5,
   "id": "9c6196ec-edea-4ccc-83de-8a5285d4a78d",
   "metadata": {},
   "outputs": [],
   "source": [
    "def sim(population, days = 30, r = 5, p_i = 0.3, v_eff = 0, v_rate = 0):\n",
    "    pop = population.copy()\n",
    "    if v_eff != 0:\n",
    "        pop['vaccinated'] = 0\n",
    "        h = pop[pop.status == 0].index\n",
    "        v_idx = np.random.choice(h, size = int(len(h)*v_rate), replace = False)\n",
    "        pop.loc[ v_idx, 'vaccinated' ] = 1\n",
    "    pv = p_i * (1 - v_eff) if v_eff != 0 else -1\n",
    "    for _ in range(days):\n",
    "        pop = day2(pop, r, p_i, pv)\n",
    "    return pop"
   ]
  },
  {
   "cell_type": "markdown",
   "id": "e63df606-0645-4431-8342-c774f4ed6ce3",
   "metadata": {},
   "source": [
    "Test your function by running it on \"lab2-sample.csv\" with and without vaccines. When testing vaccines try using a vaccine effectiveness and rate both set to 1, then confirm that no infections occur."
   ]
  },
  {
   "cell_type": "code",
   "execution_count": 6,
   "id": "a534e4e1-a367-484b-afbe-57e57c7692a5",
   "metadata": {},
   "outputs": [],
   "source": [
    "testvac1 = sim(pd.read_csv(\"lab2-sample.csv\"), v_eff=1, v_rate=1)\n",
    "assert( testvac1.status.value_counts()[1] == 2) # no one should be infected other than the starting 2"
   ]
  },
  {
   "cell_type": "markdown",
   "id": "42597470-a29a-4d0e-b981-09eb339317e9",
   "metadata": {},
   "source": [
    "---"
   ]
  },
  {
   "cell_type": "markdown",
   "id": "1df2d227-3c9f-41d2-955d-bd2c7a4f31db",
   "metadata": {},
   "source": [
    "Create a function that runs iterations of an experiment on a data file and saves the number of infected indivduals for each run and returns these in a list. The first parameter should be the file (default to \"lab2-sample.csv\"), the second parameter should be the number of iterations (default 10) and the remaining parameters should match those required in your simulation function above (with the exception of the population dataframe)."
   ]
  },
  {
   "cell_type": "code",
   "execution_count": 7,
   "id": "dbe89663-ad8a-45e4-91c8-561cfb624d60",
   "metadata": {},
   "outputs": [],
   "source": [
    "def runs( f=\"lab2-sample.csv\", n = 10, days = 30, r =5, p_i = .3, v_eff = 0 , v_rate = 0):\n",
    "    return [int(sim(pd.read_csv(f), days, r, p_i, v_eff, v_rate).status.value_counts().get(1, 0)) for _ in range(n)]\n"
   ]
  },
  {
   "cell_type": "markdown",
   "id": "71ab834b-99d0-4bfb-bfff-f4157faeb518",
   "metadata": {},
   "source": [
    "---"
   ]
  },
  {
   "cell_type": "markdown",
   "id": "561d706c-d235-4fe9-bba3-ab6061ea29c9",
   "metadata": {},
   "source": [
    "Call your iterative function using defaults and save the results as a baseline."
   ]
  },
  {
   "cell_type": "code",
   "execution_count": 8,
   "id": "11a7357a-2f72-4d04-b453-78ac5a3f14fa",
   "metadata": {},
   "outputs": [
    {
     "data": {
      "text/plain": [
       "[186, 180, 173, 189, 172, 173, 172, 173, 181, 172]"
      ]
     },
     "execution_count": 8,
     "metadata": {},
     "output_type": "execute_result"
    }
   ],
   "source": [
    "baseline = runs()\n",
    "baseline"
   ]
  },
  {
   "cell_type": "markdown",
   "id": "b1948e26-2530-4f0e-92a1-8ab7790d8f61",
   "metadata": {},
   "source": [
    "Call your iterative function using using a vaccine with 60% effectiveness and an 80% rate and save the results as vaccine 1."
   ]
  },
  {
   "cell_type": "code",
   "execution_count": 9,
   "id": "e2459ef9-a21d-42af-a4c0-bb1772019ff3",
   "metadata": {},
   "outputs": [
    {
     "data": {
      "text/plain": [
       "[108, 101, 103, 141, 143, 141, 131, 96, 111, 81]"
      ]
     },
     "execution_count": 9,
     "metadata": {},
     "output_type": "execute_result"
    }
   ],
   "source": [
    "vaccine1 = runs(v_eff = .6, v_rate = .8)\n",
    "vaccine1"
   ]
  },
  {
   "cell_type": "markdown",
   "id": "026191af-037b-40ac-a1e7-9afb9c6847c1",
   "metadata": {},
   "source": [
    "Call your iterative function using using a vaccine with 80% effectiveness and a 60% rate and save the results as vaccine 2."
   ]
  },
  {
   "cell_type": "code",
   "execution_count": 10,
   "id": "c9f3e192-e0c9-46e0-a8a5-46ec91125201",
   "metadata": {},
   "outputs": [
    {
     "data": {
      "text/plain": [
       "[85, 138, 79, 84, 111, 97, 124, 100, 129, 67]"
      ]
     },
     "execution_count": 10,
     "metadata": {},
     "output_type": "execute_result"
    }
   ],
   "source": [
    "vaccine2 = runs(v_eff = .8, v_rate = .6)\n",
    "vaccine2"
   ]
  },
  {
   "cell_type": "markdown",
   "id": "98fce2c5-68af-4d10-a4c4-1117a03903cd",
   "metadata": {},
   "source": [
    "Run a two-sided proportions test comparing the proportion of the means of infections in the baseline and vaccine 1 to determine if they are significantly different."
   ]
  },
  {
   "cell_type": "code",
   "execution_count": 11,
   "id": "8fb34cbc-c576-4a70-9633-306cf345551d",
   "metadata": {},
   "outputs": [
    {
     "data": {
      "text/plain": [
       "(np.float64(3.768429515832426), np.float64(0.00016427785696122073))"
      ]
     },
     "execution_count": 11,
     "metadata": {},
     "output_type": "execute_result"
    }
   ],
   "source": [
    "count = [int(np.mean(baseline)), int(np.mean(vaccine1))]\n",
    "nobs = [len(baseline) * 200, len(vaccine1) * 200] \n",
    "prop_var = (int(np.mean(baseline)) + int(np.mean(vaccine1))) / (sum(nobs))\n",
    "proportion.proportions_ztest(count=count, nobs=nobs, value=0, alternative='two-sided', prop_var=prop_var)"
   ]
  },
  {
   "cell_type": "markdown",
   "id": "c01cc3ea-2156-4e91-9110-c512118ac28c",
   "metadata": {},
   "source": [
    "Run the same test as above comparing vaccine 1 and vaccine 2."
   ]
  },
  {
   "cell_type": "code",
   "execution_count": 12,
   "id": "367dd1a4-11e6-4e90-a85b-6fbf5ef963ec",
   "metadata": {},
   "outputs": [
    {
     "data": {
      "text/plain": [
       "(np.float64(0.9793898343236672), np.float64(0.3273873980640638))"
      ]
     },
     "execution_count": 12,
     "metadata": {},
     "output_type": "execute_result"
    }
   ],
   "source": [
    "count = [int(np.mean(vaccine1)), int(np.mean(vaccine2))]\n",
    "nobs = [len(vaccine1) * 200, len(vaccine2) * 200] \n",
    "prop_var = (int(np.mean(vaccine1)) + int(np.mean(vaccine2))) / (sum(nobs))\n",
    "proportion.proportions_ztest(count=count, nobs=nobs, value=0, alternative='two-sided', prop_var=prop_var)"
   ]
  },
  {
   "cell_type": "markdown",
   "id": "aa8c9c9f-7a3e-467a-b54b-1bd1d80edb76",
   "metadata": {},
   "source": [
    "Interpret the results of your two proportions test."
   ]
  },
  {
   "cell_type": "markdown",
   "id": "1079a9f4-1aba-42cf-8590-ccf3194416c6",
   "metadata": {},
   "source": [
    "Looking at Basline vs Vaccine 1 output we can see that we have a high z stat meaing that im 4.39 standard deviations away from the mean difference of both data sets given we assume the null hypothesis is true. There is a huge difference between the groups. The p-value is extremely small, I would argue near zero which tells me to reject the null hypothesis and say there is a statistically significant diffference between baseline and vaccine1 groups.\n",
    "\n",
    "For Vaccine 1 vs Vaccine 2 our z stat is much closer to zero meaning the groups are similar to each other (only 0.5 std dev apart), also supporting our claim the p value is large (61.4%) meaing there is a high probability that they are similar. We fail to reject the null hypothesis and can say that there is no statistically significant difference between the two vaccines.\n"
   ]
  },
  {
   "cell_type": "markdown",
   "id": "fb4a7fd2-5473-4398-b18c-71cfe072c3a2",
   "metadata": {},
   "source": [
    "Based on these results, find a vaccine effectiveness and rate that minimizes infections with the constraint that the sum of the effectiveness and rate must be 1.4 or less. (Both previous vaccine tests satisfy this constraint: .8 + .6 <= 1.4 and .6 + .8 <= 1.4). Show that your vaccine is significantly different than vaccine 1 and 2."
   ]
  },
  {
   "cell_type": "code",
   "execution_count": 13,
   "id": "04c5ccbf-8e93-4800-b6fb-46942e595d4d",
   "metadata": {},
   "outputs": [
    {
     "name": "stdout",
     "output_type": "stream",
     "text": [
      "141.1\n",
      "125.6\n",
      "115.7\n",
      "104.6\n",
      "94.2\n",
      "73.5\n",
      "43.1\n"
     ]
    }
   ],
   "source": [
    "#There is a MUCH better way to do this but honestly I tried to make a function that stored means and iterated the effectiveness and rate but didn't work.\n",
    "#In retrospect its very obvious that O10 would be the best its 100% effective...\n",
    "O4 = runs(v_eff = 0.4, v_rate = 1.0)\n",
    "print(np.mean(O4))\n",
    "\n",
    "O5 = runs(v_eff = 0.5, v_rate = 0.9)\n",
    "print(np.mean(O5))\n",
    "\n",
    "O6 = runs(v_eff = 0.6, v_rate = 0.8)\n",
    "print(np.mean(O6))\n",
    "\n",
    "O7 = runs(v_eff = 0.7, v_rate = 0.7)\n",
    "print(np.mean(O7))\n",
    "\n",
    "O8 = runs(v_eff = 0.8, v_rate =  0.6)\n",
    "print(np.mean(O8))\n",
    "\n",
    "O9 = runs(v_eff = 0.9, v_rate = 0.5)\n",
    "print(np.mean(O9))\n",
    "\n",
    "O10 = runs(v_eff = 1.0, v_rate = 0.4)\n",
    "print(np.mean(O10))"
   ]
  },
  {
   "cell_type": "code",
   "execution_count": 14,
   "id": "2e691ae8-90a6-4f57-acb2-445685f99c9a",
   "metadata": {},
   "outputs": [
    {
     "name": "stdout",
     "output_type": "stream",
     "text": [
      "(np.float64(-5.0368620050931465), np.float64(4.732256841694787e-07))\n",
      "(np.float64(-4.922755097515544), np.float64(8.533421788306673e-07))\n"
     ]
    }
   ],
   "source": [
    "best_vaccine = runs(v_eff = 1.0, v_rate = .4)\n",
    "\n",
    "count = [int(np.mean(best_vaccine)), int(np.mean(vaccine1))]\n",
    "nobs = [len(best_vaccine) * 200, len(vaccine1) * 200] \n",
    "prop_var = (int(np.mean(vaccine1)) + int(np.mean(vaccine2))) / (sum(nobs))\n",
    "print(proportion.proportions_ztest(count=count, nobs=nobs, value=0, alternative='two-sided', prop_var=prop_var))\n",
    "\n",
    "count = [int(np.mean(best_vaccine)), int(np.mean(vaccine2))]\n",
    "nobs = [len(best_vaccine) * 200, len(vaccine2) * 200] \n",
    "prop_var = (int(np.mean(best_vaccine)) + int(np.mean(vaccine2))) / (sum(nobs))\n",
    "print(proportion.proportions_ztest(count=count, nobs=nobs, value=0, alternative='two-sided', prop_var=prop_var))"
   ]
  },
  {
   "cell_type": "markdown",
   "id": "b1282681-e578-47fa-aa56-b1530cad4d12",
   "metadata": {},
   "source": [
    "Finally run your vaccine once on the entire population \"lab2.csv\" (this will take some time) and report whether you've saved the city (infection rate contained to 50%)."
   ]
  },
  {
   "cell_type": "code",
   "execution_count": 15,
   "id": "d9acd79b-e9d0-46b7-bf98-7a3d5520bc34",
   "metadata": {},
   "outputs": [
    {
     "data": {
      "text/plain": [
       "[438, 400, 481, 472, 442, 428, 499, 521, 419, 463]"
      ]
     },
     "execution_count": 15,
     "metadata": {},
     "output_type": "execute_result"
    }
   ],
   "source": [
    "city = runs(f=\"lab2.csv\", v_eff = 1.0, v_rate = 0.4 )\n",
    "city"
   ]
  },
  {
   "cell_type": "code",
   "execution_count": 16,
   "id": "0cc879fd-6c92-4d35-9763-a31398008677",
   "metadata": {},
   "outputs": [
    {
     "name": "stdout",
     "output_type": "stream",
     "text": [
      "they survived\n"
     ]
    }
   ],
   "source": [
    "if np.mean(city)/1000 <= 0.5:\n",
    "    print(\"they survived\")\n",
    "else:\n",
    "    print(\"zombies won\")"
   ]
  },
  {
   "cell_type": "markdown",
   "id": "7a276d31-25ff-45b7-9066-a675467ea763",
   "metadata": {},
   "source": [
    "---"
   ]
  },
  {
   "cell_type": "markdown",
   "id": "7b7a9301-248b-4700-abcf-19f6fe97fc36",
   "metadata": {},
   "source": [
    "### Submission Instructions\n",
    "\n",
    "Be sure to ***SAVE YOUR WORK***!  \n",
    "\n",
    "Next, select File -> Save and Export As ... -> HTML\n",
    "\n",
    "Then submit your notebook HTML file to Canvas."
   ]
  }
 ],
 "metadata": {
  "kernelspec": {
   "display_name": "Python 3 (ipykernel)",
   "language": "python",
   "name": "python3"
  },
  "language_info": {
   "codemirror_mode": {
    "name": "ipython",
    "version": 3
   },
   "file_extension": ".py",
   "mimetype": "text/x-python",
   "name": "python",
   "nbconvert_exporter": "python",
   "pygments_lexer": "ipython3",
   "version": "3.12.5"
  }
 },
 "nbformat": 4,
 "nbformat_minor": 5
}
