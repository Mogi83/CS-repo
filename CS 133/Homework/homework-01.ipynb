{
  "cells": [
    {
      "cell_type": "markdown",
      "metadata": {
        "id": "view-in-github",
        "colab_type": "text"
      },
      "source": [
        "<a href=\"https://colab.research.google.com/github/Mogi83/CS-repo/blob/main/CS%20133/Homework/homework-01.ipynb\" target=\"_parent\"><img src=\"https://colab.research.google.com/assets/colab-badge.svg\" alt=\"Open In Colab\"/></a>"
      ]
    },
    {
      "cell_type": "markdown",
      "id": "e4d51e3f-8623-4bd9-af4b-b370405af880",
      "metadata": {
        "deletable": false,
        "editable": false,
        "nbgrader": {
          "cell_type": "markdown",
          "checksum": "6b188523e37c82d90783f55989f49a1e",
          "grade": false,
          "grade_id": "cell-63320302d2c7800b",
          "locked": true,
          "schema_version": 3,
          "solution": false,
          "task": false
        },
        "tags": [],
        "id": "e4d51e3f-8623-4bd9-af4b-b370405af880"
      },
      "source": [
        "# Homework 1 - Introduction to Python\n",
        "CS 133  \n",
        "Spring 2025  \n",
        "v1.0\n",
        "\n",
        "---"
      ]
    },
    {
      "cell_type": "markdown",
      "id": "d888104a-6cf1-47bd-94db-b41d26001c4f",
      "metadata": {
        "deletable": false,
        "editable": false,
        "jp-MarkdownHeadingCollapsed": true,
        "nbgrader": {
          "cell_type": "markdown",
          "checksum": "3481abdfa204fcb514650e8e5590bc72",
          "grade": false,
          "grade_id": "cell-9263ca85a1946546",
          "locked": true,
          "schema_version": 3,
          "solution": false,
          "task": false
        },
        "id": "d888104a-6cf1-47bd-94db-b41d26001c4f"
      },
      "source": [
        "### 1. Data types"
      ]
    },
    {
      "cell_type": "markdown",
      "id": "af85fd6b-2974-44d9-972e-84854fc93c4c",
      "metadata": {
        "deletable": false,
        "editable": false,
        "nbgrader": {
          "cell_type": "markdown",
          "checksum": "d8e6d7db194a8861449a32f4dcc71bd9",
          "grade": false,
          "grade_id": "cell-9cea4ef935d120c3",
          "locked": true,
          "schema_version": 3,
          "solution": false,
          "task": false
        },
        "id": "af85fd6b-2974-44d9-972e-84854fc93c4c"
      },
      "source": [
        "Python is a _strongly_ typed language because data types do not change in Python, i.e. a *string* is always a string and an *int* is always an integer. To change a data type requires an explicit operation (called a _cast_).\n",
        "\n",
        "However, unlike many programming languages Python is _dynamically_ typed, **not** _statically_ typed. This means the data type (*string*, *int*, etc.) is enforced on _values_ not _variables_. Variables in Python are simply loose references to data values (also known as _objects_) and can be changed to refer to different objects at any time (even if those objects have different types). That can be confusing if you're used to conventional programming languages.\n",
        "\n",
        "Python has many features that make it expressive and concise. One of these is doing multiple variable assignments in a single statement. For example, to initialize the variables `x`, `y`, and `z` all to 0 you could write:\n",
        "\n",
        "```x = y = z = 0```\n",
        "\n",
        "Technically, what this is doing is first assigning 0 to the variable `z`, then assigning whatever is in the variable `z` to `y`, and so on. This is because the order of precedence for the assignment operator goes 'inside out'."
      ]
    },
    {
      "cell_type": "markdown",
      "id": "811a833c-047e-4b4f-9118-7169a1b7ccf6",
      "metadata": {
        "deletable": false,
        "editable": false,
        "nbgrader": {
          "cell_type": "markdown",
          "checksum": "f6381f98ec939c0a1518bd63f374930e",
          "grade": false,
          "grade_id": "cell-55859a8d8b19c3ef",
          "locked": true,
          "schema_version": 3,
          "solution": false,
          "task": false
        },
        "id": "811a833c-047e-4b4f-9118-7169a1b7ccf6"
      },
      "source": [
        "1.1 (1 pt) Create two variables named `a` and `b`, and use a **single statement** to assign `b` to the integer `3` and `a` to the variable `b`"
      ]
    },
    {
      "cell_type": "code",
      "execution_count": 3,
      "id": "38934819-f0e2-46e1-bf72-f4145af37323",
      "metadata": {
        "deletable": false,
        "nbgrader": {
          "cell_type": "code",
          "checksum": "ef7b3beef775483aebf84ccb6db1aef3",
          "grade": true,
          "grade_id": "cell-32d8ecc480e0fa21",
          "locked": false,
          "points": 1,
          "schema_version": 3,
          "solution": true,
          "task": false
        },
        "id": "38934819-f0e2-46e1-bf72-f4145af37323",
        "outputId": "7ddb9c3d-49e7-4f10-8242-f5d1acd1e8b5",
        "colab": {
          "base_uri": "https://localhost:8080/"
        }
      },
      "outputs": [
        {
          "output_type": "stream",
          "name": "stdout",
          "text": [
            "3 3\n"
          ]
        }
      ],
      "source": [
        "a = b = 3\n",
        "print (a, b)"
      ]
    },
    {
      "cell_type": "markdown",
      "id": "267f1a2f-c4dc-4863-a7ae-7c998ae14ef5",
      "metadata": {
        "deletable": false,
        "editable": false,
        "nbgrader": {
          "cell_type": "markdown",
          "checksum": "5dec2898316abe281b8fd285b48941d1",
          "grade": false,
          "grade_id": "cell-fc9ac257ff7e85d2",
          "locked": true,
          "schema_version": 3,
          "solution": false,
          "task": false
        },
        "id": "267f1a2f-c4dc-4863-a7ae-7c998ae14ef5"
      },
      "source": [
        "1.1.2 (1 pt) Change the value of the `b` variable to the float `5.0` then state the value of the `a` variable. (Note: to **state** the value of a variable, just put it on a line by itself - Python will output its value to the console)"
      ]
    },
    {
      "cell_type": "code",
      "execution_count": null,
      "id": "306e05fc-2e2b-4f72-b195-e71295ed7475",
      "metadata": {
        "deletable": false,
        "nbgrader": {
          "cell_type": "code",
          "checksum": "cc4bac6e2c8ef0a66fc36ff53e18d8bc",
          "grade": true,
          "grade_id": "cell-d6be708fb612d132",
          "locked": false,
          "points": 1,
          "schema_version": 3,
          "solution": true,
          "task": false
        },
        "id": "306e05fc-2e2b-4f72-b195-e71295ed7475",
        "outputId": "485a69f1-e7d2-4adb-9336-3d5150905f1b"
      },
      "outputs": [
        {
          "name": "stdout",
          "output_type": "stream",
          "text": [
            "a: 3 b: 5.0\n"
          ]
        }
      ],
      "source": [
        "b = 5.0\n",
        "print (\"a: \" + str(a), \"b: \" + str(b))"
      ]
    },
    {
      "cell_type": "markdown",
      "id": "0b6b3b45-ef1b-4009-a0a8-5a697dad64d7",
      "metadata": {
        "deletable": false,
        "editable": false,
        "nbgrader": {
          "cell_type": "markdown",
          "checksum": "dde1a58314b687eefc77ce204859f95b",
          "grade": false,
          "grade_id": "cell-e80c412e349a99c0",
          "locked": true,
          "schema_version": 3,
          "solution": false,
          "task": false
        },
        "id": "0b6b3b45-ef1b-4009-a0a8-5a697dad64d7"
      },
      "source": [
        "1.1.3 (1 pt) You assigned `b` to the `a` variable in 1.1 above. Then you changed the value of the `b` variable. Why didn't the value of `a` also change?"
      ]
    },
    {
      "cell_type": "markdown",
      "id": "de138fa7-328c-44b0-bf54-113ee930f81e",
      "metadata": {
        "deletable": false,
        "nbgrader": {
          "cell_type": "markdown",
          "checksum": "a3f71ec96b763914745e4b7500e35361",
          "grade": true,
          "grade_id": "cell-fe1058eb0025248b",
          "locked": false,
          "points": 1,
          "schema_version": 3,
          "solution": true,
          "task": false
        },
        "id": "de138fa7-328c-44b0-bf54-113ee930f81e"
      },
      "source": [
        "In code block [1] both named variables 'a' and 'b' are pointing to an integer object with the value of 3. However in [2] 'b' points to a new float object, because 'a' is not being reassigned to equal 'b' (like in block [1]) it continues to point to its originally assigned value of 3."
      ]
    },
    {
      "cell_type": "markdown",
      "id": "07dc23f1-48b1-4d8e-8049-b2ebb1377a6e",
      "metadata": {
        "deletable": false,
        "editable": false,
        "nbgrader": {
          "cell_type": "markdown",
          "checksum": "9ad031f118031cd6871b371d0163c322",
          "grade": false,
          "grade_id": "cell-02ad5b7ca22417d9",
          "locked": true,
          "schema_version": 3,
          "solution": false,
          "task": false
        },
        "id": "07dc23f1-48b1-4d8e-8049-b2ebb1377a6e"
      },
      "source": [
        "1.1.4 (1 pt) Now set the `a` and `b` variables to the same list `['c', 'h', 'a', 'n', 'c', 'e' ]`"
      ]
    },
    {
      "cell_type": "code",
      "execution_count": 4,
      "id": "52c1631b-7edf-43ae-a32c-b35bd73b2c5f",
      "metadata": {
        "deletable": false,
        "nbgrader": {
          "cell_type": "code",
          "checksum": "406dd7c474d7ddce34b1781dd3286035",
          "grade": true,
          "grade_id": "cell-858fdeebe06541b7",
          "locked": false,
          "points": 1,
          "schema_version": 3,
          "solution": true,
          "task": false
        },
        "id": "52c1631b-7edf-43ae-a32c-b35bd73b2c5f"
      },
      "outputs": [],
      "source": [
        "a = b = ['c', 'h', 'a', 'n', 'c', 'e' ]"
      ]
    },
    {
      "cell_type": "markdown",
      "id": "61ad24c0-d666-423f-bb4a-a7318e279315",
      "metadata": {
        "deletable": false,
        "editable": false,
        "nbgrader": {
          "cell_type": "markdown",
          "checksum": "1af5c0e8ada080adcf67f9ccd691d377",
          "grade": false,
          "grade_id": "cell-65c814c579a8cef9",
          "locked": true,
          "schema_version": 3,
          "solution": false,
          "task": false
        },
        "id": "61ad24c0-d666-423f-bb4a-a7318e279315"
      },
      "source": [
        "1.1.5 (1 pt) Using the `b` variable, change the value of the fifth letter in the list to `g`"
      ]
    },
    {
      "cell_type": "code",
      "execution_count": 5,
      "id": "461fa3a9-1fd5-401b-8879-ec0d96117661",
      "metadata": {
        "deletable": false,
        "nbgrader": {
          "cell_type": "code",
          "checksum": "a84e329f3942fa3ab5893c7335360a6e",
          "grade": true,
          "grade_id": "cell-8a2552c931f27130",
          "locked": false,
          "points": 1,
          "schema_version": 3,
          "solution": true,
          "task": false
        },
        "id": "461fa3a9-1fd5-401b-8879-ec0d96117661",
        "outputId": "f74fee59-6edc-4e92-e05e-a27798d40cdd",
        "colab": {
          "base_uri": "https://localhost:8080/"
        }
      },
      "outputs": [
        {
          "output_type": "stream",
          "name": "stdout",
          "text": [
            "['c', 'h', 'a', 'n', 'c', 'g']\n"
          ]
        }
      ],
      "source": [
        "b[5] = 'g'\n",
        "print (b)"
      ]
    },
    {
      "cell_type": "markdown",
      "id": "5bb3c7ab-5d4a-48c4-9eae-85771e75e161",
      "metadata": {
        "deletable": false,
        "editable": false,
        "nbgrader": {
          "cell_type": "markdown",
          "checksum": "87054e8f8f2123aa0aaa9f4771e50ba5",
          "grade": false,
          "grade_id": "cell-8927e96b858916e0",
          "locked": true,
          "schema_version": 3,
          "solution": false,
          "task": false
        },
        "id": "5bb3c7ab-5d4a-48c4-9eae-85771e75e161"
      },
      "source": [
        "1.1.5 (1 pt) State the value of `a` and `b`. (Note: only the output of the last line of a cell will be shown. To state multiple variables put them on the same line separated by commas)"
      ]
    },
    {
      "cell_type": "code",
      "execution_count": null,
      "id": "5ad899cf-05c7-40f5-8280-eda721e02d6b",
      "metadata": {
        "deletable": false,
        "nbgrader": {
          "cell_type": "code",
          "checksum": "88910c9e1ac0d280d32874782f9fe61c",
          "grade": true,
          "grade_id": "cell-fc6904e0367d9c46",
          "locked": false,
          "points": 1,
          "schema_version": 3,
          "solution": true,
          "task": false
        },
        "id": "5ad899cf-05c7-40f5-8280-eda721e02d6b",
        "outputId": "f2f73edc-59a8-49aa-833d-4e47616e7d4a"
      },
      "outputs": [
        {
          "name": "stdout",
          "output_type": "stream",
          "text": [
            "['c', 'h', 'a', 'n', 'c', 'g']\n",
            "['c', 'h', 'a', 'n', 'c', 'g']\n"
          ]
        }
      ],
      "source": [
        "print (a)\n",
        "print(b)"
      ]
    },
    {
      "cell_type": "markdown",
      "id": "26e7a025-8f7e-41cf-be76-593e695cc5c7",
      "metadata": {
        "deletable": false,
        "editable": false,
        "nbgrader": {
          "cell_type": "markdown",
          "checksum": "bc2dcf82758632618f43ba6a62ca29a8",
          "grade": false,
          "grade_id": "cell-430c8a8bbb094d46",
          "locked": true,
          "schema_version": 3,
          "solution": false,
          "task": false
        },
        "id": "26e7a025-8f7e-41cf-be76-593e695cc5c7"
      },
      "source": [
        "1.1.6 (1 pt) This is a similar pattern to what you did in question 1.1. Why did the value of `a` change this time?"
      ]
    },
    {
      "cell_type": "markdown",
      "id": "a841db5a-e25c-4eb5-948b-f2aff0f189ab",
      "metadata": {
        "deletable": false,
        "nbgrader": {
          "cell_type": "markdown",
          "checksum": "356d8aa1de5bcc150cdd05172a1800df",
          "grade": true,
          "grade_id": "cell-77923b29a2d0a0fa",
          "locked": false,
          "points": 1,
          "schema_version": 3,
          "solution": true,
          "task": false
        },
        "id": "a841db5a-e25c-4eb5-948b-f2aff0f189ab"
      },
      "source": [
        "I assigned a equal to b in the start as they have the same assignment of the array."
      ]
    },
    {
      "cell_type": "markdown",
      "id": "a4b7520d-aa3d-4d69-b5ca-b1b24200669f",
      "metadata": {
        "deletable": false,
        "editable": false,
        "jp-MarkdownHeadingCollapsed": true,
        "nbgrader": {
          "cell_type": "markdown",
          "checksum": "5d649ebef0c1c68e12f9cb5b0dcc1758",
          "grade": false,
          "grade_id": "cell-2f83838bd6de941d",
          "locked": true,
          "schema_version": 3,
          "solution": false,
          "task": false
        },
        "id": "a4b7520d-aa3d-4d69-b5ca-b1b24200669f"
      },
      "source": [
        "### 2. Tuples"
      ]
    },
    {
      "cell_type": "markdown",
      "id": "04e167d5-a460-42dc-9f9b-4bad7aa97710",
      "metadata": {
        "deletable": false,
        "editable": false,
        "nbgrader": {
          "cell_type": "markdown",
          "checksum": "f97cc9339cd3ef66e213c4bb70ecb113",
          "grade": false,
          "grade_id": "cell-fc930b712b4f37a8",
          "locked": true,
          "schema_version": 3,
          "solution": false,
          "task": false
        },
        "id": "04e167d5-a460-42dc-9f9b-4bad7aa97710"
      },
      "source": [
        "Tuples are _immutable_ lists that are very useful in Python. They can be written with or without parentheses (in some cases) but it is usually good practice to include the parentheses.\n",
        "\n",
        "You can use tuples in assignment statements on both sides of the `=` operator and Python will order the values appropriately."
      ]
    },
    {
      "cell_type": "markdown",
      "id": "c27c24fe-afe6-48ac-9d30-595e797e6fa4",
      "metadata": {
        "deletable": false,
        "editable": false,
        "nbgrader": {
          "cell_type": "markdown",
          "checksum": "71f9faa79d04b4d1a261268177e6cac9",
          "grade": false,
          "grade_id": "cell-c7e5ef448cadaa65",
          "locked": true,
          "schema_version": 3,
          "solution": false,
          "task": false
        },
        "id": "c27c24fe-afe6-48ac-9d30-595e797e6fa4"
      },
      "source": [
        "2.1 (2 pts) Assign the variables `x`, `y`, and `z` to the values `True`, `0`, and `'blue'` using tuples in a single statement. Show the values of `x`, `y`, and `z` without using the `print()` function by stating them in tuple form."
      ]
    },
    {
      "cell_type": "code",
      "execution_count": null,
      "id": "f9156b75-ae8e-4c38-b4a3-bb45818baa72",
      "metadata": {
        "deletable": false,
        "nbgrader": {
          "cell_type": "code",
          "checksum": "bcd3380e901c86816c5845b6cb345e82",
          "grade": true,
          "grade_id": "cell-9d9a9cab1082d234",
          "locked": false,
          "points": 2,
          "schema_version": 3,
          "solution": true,
          "task": false
        },
        "id": "f9156b75-ae8e-4c38-b4a3-bb45818baa72",
        "outputId": "17b1e867-799f-4482-bfda-30d3bdb6e8ee"
      },
      "outputs": [
        {
          "data": {
            "text/plain": [
              "(True, 0, 'blue')"
            ]
          },
          "execution_count": 6,
          "metadata": {},
          "output_type": "execute_result"
        }
      ],
      "source": [
        "x, y, z = (True, 0, 'blue')\n",
        "(x, y, z)"
      ]
    },
    {
      "cell_type": "markdown",
      "id": "78523a7f-9ba6-4ceb-a45d-ae94bf05f821",
      "metadata": {
        "deletable": false,
        "editable": false,
        "nbgrader": {
          "cell_type": "markdown",
          "checksum": "6abab5d40111bc8e1979cdbeaf732f11",
          "grade": false,
          "grade_id": "cell-d9686c542798d3e2",
          "locked": true,
          "schema_version": 3,
          "solution": false,
          "task": false
        },
        "id": "78523a7f-9ba6-4ceb-a45d-ae94bf05f821"
      },
      "source": [
        "You access elements in a tuple just like a list, i.e. using the `[n]` notation, where `n` is the `n+1st` element of the tuple."
      ]
    },
    {
      "cell_type": "markdown",
      "id": "4ef2a82f-d7a6-45cb-88f0-a0776e236988",
      "metadata": {
        "deletable": false,
        "editable": false,
        "nbgrader": {
          "cell_type": "markdown",
          "checksum": "14767520b64c2b7552d900d3b61c399c",
          "grade": false,
          "grade_id": "cell-a581a689e1baf620",
          "locked": true,
          "schema_version": 3,
          "solution": false,
          "task": false
        },
        "id": "4ef2a82f-d7a6-45cb-88f0-a0776e236988"
      },
      "source": [
        "2.2 (1 pt) Assign a variable named `seq` a tuple of values `100`, `101`, `102`, `103`, and `103`."
      ]
    },
    {
      "cell_type": "code",
      "execution_count": null,
      "id": "83d3567e-81ca-4934-8539-bf6285d93c81",
      "metadata": {
        "deletable": false,
        "nbgrader": {
          "cell_type": "code",
          "checksum": "1d2616cc296350a5120128b4ff06df04",
          "grade": true,
          "grade_id": "cell-c988cc398c3401ba",
          "locked": false,
          "points": 0,
          "schema_version": 3,
          "solution": true,
          "task": false
        },
        "id": "83d3567e-81ca-4934-8539-bf6285d93c81"
      },
      "outputs": [],
      "source": [
        "seq = (100,101,102,103,103)"
      ]
    },
    {
      "cell_type": "markdown",
      "id": "e9de627d-f2e8-4787-932b-23521c68e821",
      "metadata": {
        "deletable": false,
        "editable": false,
        "nbgrader": {
          "cell_type": "markdown",
          "checksum": "d597a4167bafa06c4d209f6e75b330ca",
          "grade": false,
          "grade_id": "cell-dc51c9d5fcfe1406",
          "locked": true,
          "schema_version": 3,
          "solution": false,
          "task": false
        },
        "id": "e9de627d-f2e8-4787-932b-23521c68e821"
      },
      "source": [
        "2.2.1 (1 pt) State the `103` element of `seq` by referencing it using the `[n]` notation"
      ]
    },
    {
      "cell_type": "code",
      "execution_count": null,
      "id": "c4234e21-a10e-41e2-8ccb-54a4ee518d7d",
      "metadata": {
        "deletable": false,
        "nbgrader": {
          "cell_type": "code",
          "checksum": "4b0405a47ec10c9f38f8cf99bf64d8a2",
          "grade": true,
          "grade_id": "cell-9dbfe4cbdaccfb6c",
          "locked": false,
          "points": 1,
          "schema_version": 3,
          "solution": true,
          "task": false
        },
        "id": "c4234e21-a10e-41e2-8ccb-54a4ee518d7d",
        "outputId": "97b8ff79-b2e0-4e80-c5b3-c02c111f4d2a"
      },
      "outputs": [
        {
          "data": {
            "text/plain": [
              "103"
            ]
          },
          "execution_count": 8,
          "metadata": {},
          "output_type": "execute_result"
        }
      ],
      "source": [
        "seq[4]"
      ]
    },
    {
      "cell_type": "markdown",
      "id": "252f3d90-0de4-4521-a0bd-a7aa42f3fa57",
      "metadata": {
        "deletable": false,
        "editable": false,
        "nbgrader": {
          "cell_type": "markdown",
          "checksum": "4f992453c2c77260958cdecb67925d73",
          "grade": false,
          "grade_id": "cell-0005f6dd87631e4b",
          "locked": true,
          "schema_version": 3,
          "solution": false,
          "task": false
        },
        "id": "252f3d90-0de4-4521-a0bd-a7aa42f3fa57"
      },
      "source": [
        "2.3 (5 pts) Using a tuple to represent the position of player's token in a 3-d grid, create a function that will move the player's token in one of six directions (along the three axes). Name the function `move(token, dir)` where `token` is a tuple of `(x,y,z)` corresponding to the token's position and `dir` is one of (x-axis: `right`, `left`), (y-axis: `up`, `down`), (z-axis: `forward`, `backward`). The function should return a new tuple with the coordinates of the new position if `dir` is a recognized direction, otherwise it should return the original position.\n",
        "\n",
        "Example use: `move( (0,0,0), 'forward')` should return the value `(0,0,1)`"
      ]
    },
    {
      "cell_type": "code",
      "execution_count": null,
      "id": "3502e23a-e88e-4f98-a3a7-21cd265257e5",
      "metadata": {
        "deletable": false,
        "nbgrader": {
          "cell_type": "code",
          "checksum": "83e3cb06fe511cf5ce8628240e0eb2f8",
          "grade": true,
          "grade_id": "cell-6e1201256cad4608",
          "locked": false,
          "points": 5,
          "schema_version": 3,
          "solution": true,
          "task": false
        },
        "id": "3502e23a-e88e-4f98-a3a7-21cd265257e5"
      },
      "outputs": [],
      "source": [
        "dir_map = {\n",
        "    #x-axis\n",
        "    \"right\": (1, 0, 0),\n",
        "    \"left\": (-1, 0, 0),\n",
        "\n",
        "    #y-axis\n",
        "    \"up\": (0, 1, 0),\n",
        "    \"down\": (0, -1, 0),\n",
        "\n",
        "    #z-axis\n",
        "    \"forward\": (0, 0, 1),\n",
        "    \"backward\": (0, 0, -1)\n",
        "}\n",
        "\n",
        "\n",
        "def move(token, dir):\n",
        "    new_pos_list = list(token)\n",
        "    if dir in dir_map:\n",
        "        adjustment = dir_map[dir]\n",
        "\n",
        "        for i in range(len(new_pos_list)):\n",
        "            new_pos_list[i] += adjustment[i]\n",
        "\n",
        "        return tuple(new_pos_list)\n",
        "    else:\n",
        "        return token"
      ]
    },
    {
      "cell_type": "markdown",
      "id": "fb6365c9-0f88-4b92-b4ad-7a4e8f95325d",
      "metadata": {
        "deletable": false,
        "editable": false,
        "nbgrader": {
          "cell_type": "markdown",
          "checksum": "d7f97bc051c792ba2be47bcb665b4aa8",
          "grade": false,
          "grade_id": "cell-d44f8e080a9adb7e",
          "locked": true,
          "schema_version": 3,
          "solution": false,
          "task": false
        },
        "id": "fb6365c9-0f88-4b92-b4ad-7a4e8f95325d"
      },
      "source": [
        "2.4.1 (3 pts) Use a series of calls to your function to move a token from the position (2, 3, -1) back to the origin (0, 0, 0). Be sure to print the final value by stating it."
      ]
    },
    {
      "cell_type": "code",
      "execution_count": null,
      "id": "2cf081ab-7d21-4a42-b599-2733c96ea6dc",
      "metadata": {
        "deletable": false,
        "nbgrader": {
          "cell_type": "code",
          "checksum": "498d20a306f43cb72a02dc8a111f3f9f",
          "grade": true,
          "grade_id": "cell-9c37287b1a9a2929",
          "locked": false,
          "points": 2,
          "schema_version": 3,
          "solution": true,
          "task": false
        },
        "id": "2cf081ab-7d21-4a42-b599-2733c96ea6dc",
        "outputId": "ecae9e31-363e-4117-84b8-cb1fee4dbcac"
      },
      "outputs": [
        {
          "data": {
            "text/plain": [
              "(0, 0, 0)"
            ]
          },
          "execution_count": 31,
          "metadata": {},
          "output_type": "execute_result"
        }
      ],
      "source": [
        "givenPos = (2, 3, -1)\n",
        "\n",
        "givenPos = move(givenPos, \"left\")\n",
        "givenPos = move(givenPos, \"left\")\n",
        "#expected value (0, 3, -1)\n",
        "#print(givenPos)\n",
        "\n",
        "\n",
        "givenPos = move(givenPos, \"down\")\n",
        "givenPos = move(givenPos, \"down\")\n",
        "givenPos = move(givenPos, \"down\")\n",
        "#expected value (0, 0, -1)\n",
        "#print(givenPos)\n",
        "\n",
        "\n",
        "givenPos = move(givenPos, \"forward\")\n",
        "#finished, should be (0, 0, 0)\n",
        "\n",
        "givenPos"
      ]
    },
    {
      "cell_type": "markdown",
      "id": "3f9acb18-4353-4f98-9846-9a049ad8a6d2",
      "metadata": {
        "deletable": false,
        "editable": false,
        "jp-MarkdownHeadingCollapsed": true,
        "nbgrader": {
          "cell_type": "markdown",
          "checksum": "ad4654510354d78b9cbf3de46dbbc849",
          "grade": false,
          "grade_id": "cell-18430d4dbc8bfb65",
          "locked": true,
          "schema_version": 3,
          "solution": false,
          "task": false
        },
        "id": "3f9acb18-4353-4f98-9846-9a049ad8a6d2"
      },
      "source": [
        "### 3. Lists, Dictionaries, and Sets"
      ]
    },
    {
      "cell_type": "markdown",
      "id": "e3e90e6d-fb1d-4ce3-b8e0-9a0d22cd426a",
      "metadata": {
        "deletable": false,
        "editable": false,
        "nbgrader": {
          "cell_type": "markdown",
          "checksum": "1fd63d20029973766ad9bfdac04b235c",
          "grade": false,
          "grade_id": "cell-d5ab0a1d17bf98c1",
          "locked": true,
          "schema_version": 3,
          "solution": false,
          "task": false
        },
        "id": "e3e90e6d-fb1d-4ce3-b8e0-9a0d22cd426a"
      },
      "source": [
        "Lists are similar to tuples but are _mutable_, meaning they can be changed (you can delete or add elements to a mutable list). Lists are ordered so you must access elements using the indexed notation `[n]`.  \n",
        "\n",
        "Dictionaries are not ordered. Instead you access an element using a `key`. The key can be any hashable data type (e.g. strings, integers, etc.) but all keys used in a dictionary must be unique. The `key` is like a label or name of a value in the dictionary. You can retrieve a value from the dictionary using a syntax similar to indexing in a list, i.e. `[key]` where `key` is either a constant value or a variable containing a value.  \n",
        "\n",
        "Sets are like dictionaries without keys. The values stored in a set are unordered like dictionaries, but you cannot access them with a `key` or index. Only one copy of a value will be kept for a set which means every value in a set will be unique."
      ]
    },
    {
      "cell_type": "markdown",
      "id": "f8ca83dd-388c-45b6-871f-5aad5d42dd8e",
      "metadata": {
        "deletable": false,
        "editable": false,
        "nbgrader": {
          "cell_type": "markdown",
          "checksum": "7e4c408f02b12e43666aef49b55b4fa7",
          "grade": false,
          "grade_id": "cell-44d490fce8a295c4",
          "locked": true,
          "schema_version": 3,
          "solution": false,
          "task": false
        },
        "id": "f8ca83dd-388c-45b6-871f-5aad5d42dd8e"
      },
      "source": [
        "3.1 (2 pts) Create a variable and assign it a list containing the names of the seven colors of the rainbow (red, orange, yellow, blue, green, indigo, violet). State the value of the third element in the list referenced by the variable."
      ]
    },
    {
      "cell_type": "code",
      "execution_count": null,
      "id": "955019e3-6cf1-443e-9e94-bfc7dcfc48ef",
      "metadata": {
        "deletable": false,
        "nbgrader": {
          "cell_type": "code",
          "checksum": "f8411ba1a17269bfdb810fb1dfe5d463",
          "grade": true,
          "grade_id": "cell-3e872054f6ed2687",
          "locked": false,
          "points": 2,
          "schema_version": 3,
          "solution": true,
          "task": false
        },
        "id": "955019e3-6cf1-443e-9e94-bfc7dcfc48ef",
        "outputId": "a99df670-8960-4c6e-c62e-659fa801d190"
      },
      "outputs": [
        {
          "data": {
            "text/plain": [
              "['red', 'orange', 'yellow', 'blue', 'green', 'indigo', 'violet']"
            ]
          },
          "execution_count": 11,
          "metadata": {},
          "output_type": "execute_result"
        }
      ],
      "source": [
        "rainbow = ['red', 'orange', 'yellow', 'blue', 'green', 'indigo', 'violet']\n",
        "rainbow[2]\n",
        "rainbow"
      ]
    },
    {
      "cell_type": "markdown",
      "id": "64728d5d-72f7-4c57-aa46-0ef57c73066e",
      "metadata": {
        "deletable": false,
        "editable": false,
        "nbgrader": {
          "cell_type": "markdown",
          "checksum": "eeae93c10118dbd71bcb95fbee46448e",
          "grade": false,
          "grade_id": "cell-0affe6aa81ea63b6",
          "locked": true,
          "schema_version": 3,
          "solution": false,
          "task": false
        },
        "id": "64728d5d-72f7-4c57-aa46-0ef57c73066e"
      },
      "source": [
        "3.1.1 (2 pts) Use the list method `insert(position, value)` to add the color `black` to the front of the list. State the new value of the list variable."
      ]
    },
    {
      "cell_type": "code",
      "execution_count": null,
      "id": "81397b48-80b8-4f39-a1a6-4833a8adf45b",
      "metadata": {
        "deletable": false,
        "nbgrader": {
          "cell_type": "code",
          "checksum": "ae5cef35351226d9cbc1e74ece5e7b60",
          "grade": true,
          "grade_id": "cell-fcef9f93e7dccb27",
          "locked": false,
          "points": 2,
          "schema_version": 3,
          "solution": true,
          "task": false
        },
        "id": "81397b48-80b8-4f39-a1a6-4833a8adf45b",
        "outputId": "83425860-7fd9-4742-c8f3-ba275c5f1045"
      },
      "outputs": [
        {
          "data": {
            "text/plain": [
              "['black', 'red', 'orange', 'yellow', 'blue', 'green', 'indigo', 'violet']"
            ]
          },
          "execution_count": 12,
          "metadata": {},
          "output_type": "execute_result"
        }
      ],
      "source": [
        "rainbow.insert(0, 'black')\n",
        "rainbow"
      ]
    },
    {
      "cell_type": "markdown",
      "id": "d54e00c9-6880-4734-b319-90a054e68e97",
      "metadata": {
        "deletable": false,
        "editable": false,
        "nbgrader": {
          "cell_type": "markdown",
          "checksum": "f2eaa37fb7f9a62ed209025a25264bde",
          "grade": false,
          "grade_id": "cell-20a44382aaa86e20",
          "locked": true,
          "schema_version": 3,
          "solution": false,
          "task": false
        },
        "id": "d54e00c9-6880-4734-b319-90a054e68e97"
      },
      "source": [
        "3.1.2 (2 pts) Use the list method `append(value)` to add the color `white` to the back of the list. State the new value of the list variable."
      ]
    },
    {
      "cell_type": "code",
      "execution_count": null,
      "id": "444ff9ac-81a2-4213-bb58-d2a3374f5241",
      "metadata": {
        "deletable": false,
        "nbgrader": {
          "cell_type": "code",
          "checksum": "5263539feefe21f57b4d3e751f512265",
          "grade": true,
          "grade_id": "cell-2f3f9ee338e36b30",
          "locked": false,
          "points": 2,
          "schema_version": 3,
          "solution": true,
          "task": false
        },
        "id": "444ff9ac-81a2-4213-bb58-d2a3374f5241",
        "outputId": "5bd5a922-1990-4155-8d9a-813e7e388a20"
      },
      "outputs": [
        {
          "data": {
            "text/plain": [
              "['black',\n",
              " 'red',\n",
              " 'orange',\n",
              " 'yellow',\n",
              " 'blue',\n",
              " 'green',\n",
              " 'indigo',\n",
              " 'violet',\n",
              " 'white']"
            ]
          },
          "execution_count": 13,
          "metadata": {},
          "output_type": "execute_result"
        }
      ],
      "source": [
        "rainbow.append('white')\n",
        "rainbow"
      ]
    },
    {
      "cell_type": "markdown",
      "id": "b52319f4-54bb-45f4-a108-e58b33ed9b2e",
      "metadata": {
        "deletable": false,
        "editable": false,
        "nbgrader": {
          "cell_type": "markdown",
          "checksum": "0d632d48c423299e76b0364eda9a1809",
          "grade": false,
          "grade_id": "cell-b897dc91d0048402",
          "locked": true,
          "schema_version": 3,
          "solution": false,
          "task": false
        },
        "id": "b52319f4-54bb-45f4-a108-e58b33ed9b2e"
      },
      "source": [
        "3.2 (3 pts) Create a variable containing an empty dictionary. Add three items to the dictionary with the following keys: `name`, `age`, and `occupation`. The corresponding values should be `Bob`, `27`, and `rocket scientist`. Use the variable to state the value of the key `age`."
      ]
    },
    {
      "cell_type": "code",
      "execution_count": null,
      "id": "ba4e875f-6508-44b6-af8c-61c2911aae2e",
      "metadata": {
        "deletable": false,
        "nbgrader": {
          "cell_type": "code",
          "checksum": "b4c8a13ed2cb57bac475ae7a5250cd6c",
          "grade": true,
          "grade_id": "cell-f5d5cc2324fbd7c7",
          "locked": false,
          "points": 3,
          "schema_version": 3,
          "solution": true,
          "task": false
        },
        "id": "ba4e875f-6508-44b6-af8c-61c2911aae2e",
        "outputId": "0eb1ebbd-e10d-40bc-a50c-b823d24b6217"
      },
      "outputs": [
        {
          "data": {
            "text/plain": [
              "'27'"
            ]
          },
          "execution_count": 14,
          "metadata": {},
          "output_type": "execute_result"
        }
      ],
      "source": [
        "newDict = {\n",
        "\n",
        "}\n",
        "newDict.update({\"name\": \"Bob\", \"age\": \"27\", \"occupation\": \"rocket scientest\"})\n",
        "\n",
        "newDict[\"age\"]"
      ]
    },
    {
      "cell_type": "markdown",
      "id": "b457d871-df22-4308-a0e4-b5c801a52cc4",
      "metadata": {
        "deletable": false,
        "editable": false,
        "nbgrader": {
          "cell_type": "markdown",
          "checksum": "81f211185eabcdfbb30b2efd85948aef",
          "grade": false,
          "grade_id": "cell-b2af74fe7c710f9f",
          "locked": true,
          "schema_version": 3,
          "solution": false,
          "task": false
        },
        "id": "b457d871-df22-4308-a0e4-b5c801a52cc4"
      },
      "source": [
        "3.2.1 (1 pt) What happens if you try to access a key that does not exist in the dictionary?"
      ]
    },
    {
      "cell_type": "markdown",
      "id": "395e3d8f-5ad5-4b93-b7b6-6c682c8c1b92",
      "metadata": {
        "deletable": false,
        "nbgrader": {
          "cell_type": "markdown",
          "checksum": "c3b683aff5c3a62da1288cc46090b2d2",
          "grade": true,
          "grade_id": "cell-d92d9b0a07d29169",
          "locked": false,
          "points": 1,
          "schema_version": 3,
          "solution": true,
          "task": false
        },
        "id": "395e3d8f-5ad5-4b93-b7b6-6c682c8c1b92"
      },
      "source": [
        "We would get a KeyError."
      ]
    },
    {
      "cell_type": "markdown",
      "id": "9ad4f841-8325-403d-b70e-267da6773b49",
      "metadata": {
        "deletable": false,
        "editable": false,
        "nbgrader": {
          "cell_type": "markdown",
          "checksum": "a5ef62a8df864fe40b24515731400af8",
          "grade": false,
          "grade_id": "cell-33369fe999331143",
          "locked": true,
          "schema_version": 3,
          "solution": false,
          "task": false
        },
        "id": "9ad4f841-8325-403d-b70e-267da6773b49"
      },
      "source": [
        "3.2.2 (2 pts) Create a variable containing a `set` with the first six digits of pi (3, 1, 4, 1, 5, 9). State the value of the variable."
      ]
    },
    {
      "cell_type": "code",
      "execution_count": null,
      "id": "15f43441-a85c-4b4b-be86-a995df3798a5",
      "metadata": {
        "deletable": false,
        "nbgrader": {
          "cell_type": "code",
          "checksum": "4b96c8a1df4b7d55605c52859592cc65",
          "grade": true,
          "grade_id": "cell-27f8407a7ce727bd",
          "locked": false,
          "points": 2,
          "schema_version": 3,
          "solution": true,
          "task": false
        },
        "id": "15f43441-a85c-4b4b-be86-a995df3798a5",
        "outputId": "fa5314fd-29ae-4327-c45b-d41838cece80"
      },
      "outputs": [
        {
          "data": {
            "text/plain": [
              "{1, 3, 4, 5, 9}"
            ]
          },
          "execution_count": 15,
          "metadata": {},
          "output_type": "execute_result"
        }
      ],
      "source": [
        "pi = {3, 1, 4, 1, 5, 9}\n",
        "pi"
      ]
    },
    {
      "cell_type": "markdown",
      "id": "cecd1f89-b9a2-4211-a8b3-bdd88f56763b",
      "metadata": {
        "deletable": false,
        "editable": false,
        "nbgrader": {
          "cell_type": "markdown",
          "checksum": "5b8bff27367df7c20bef5538d2220609",
          "grade": false,
          "grade_id": "cell-1f9239f111778bbf",
          "locked": true,
          "schema_version": 3,
          "solution": false,
          "task": false
        },
        "id": "cecd1f89-b9a2-4211-a8b3-bdd88f56763b"
      },
      "source": [
        "3.2.3 (1 pt) Why did the value change compared to it's initial value?"
      ]
    },
    {
      "cell_type": "markdown",
      "id": "b4e1904d-e4f4-48c1-8087-7870ce39b06b",
      "metadata": {
        "deletable": false,
        "nbgrader": {
          "cell_type": "markdown",
          "checksum": "cf0ae3d104f8a1b9378d7f25e284a0d3",
          "grade": true,
          "grade_id": "cell-f3476fc0e9afe432",
          "locked": false,
          "points": 1,
          "schema_version": 3,
          "solution": true,
          "task": false
        },
        "id": "b4e1904d-e4f4-48c1-8087-7870ce39b06b"
      },
      "source": [
        "Sets don't repeat values, so even though the object was assigned with two values of 1 we only state it once."
      ]
    },
    {
      "cell_type": "markdown",
      "id": "3e440865-787a-46cb-8ee6-5d0ad041a378",
      "metadata": {
        "deletable": false,
        "editable": false,
        "nbgrader": {
          "cell_type": "markdown",
          "checksum": "bf61627b74ee9bb31d8ea4dedd13e71b",
          "grade": false,
          "grade_id": "cell-a5e7504e134e0846",
          "locked": true,
          "schema_version": 3,
          "solution": false,
          "task": false
        },
        "id": "3e440865-787a-46cb-8ee6-5d0ad041a378"
      },
      "source": [
        "3.3 (3 pts) You are a game designer and need a way to generate characters for your game. Create the following three lists:  \n",
        "\n",
        "- character types: include three or more types, e.g. warrior, wizard, thief\n",
        "- weapons: include three or more weapons, e.g. sword, bow, wand\n",
        "- abilities: include three or more special abilities, e.g. fireball, stealth"
      ]
    },
    {
      "cell_type": "code",
      "execution_count": null,
      "id": "9d24bc5a-cb84-4eff-9d15-696a790c5519",
      "metadata": {
        "deletable": false,
        "nbgrader": {
          "cell_type": "code",
          "checksum": "6b5804128872636d0ce6aa5457738ea8",
          "grade": true,
          "grade_id": "cell-ecd5448767a37d3c",
          "locked": false,
          "points": 3,
          "schema_version": 3,
          "solution": true,
          "task": false
        },
        "id": "9d24bc5a-cb84-4eff-9d15-696a790c5519"
      },
      "outputs": [],
      "source": [
        "char_type = ['Fighter', 'Ranger', 'Bard', 'Wizard', 'Sorcerer', 'Warlock', 'Rouge']\n",
        "weap_type = ['Longsword', 'Shortsword', 'Dagger', 'Mace', 'Lute', 'Spellbook', 'Longbow', 'Shortbow']\n",
        "abil_type = ['Slash', 'Parry','Second Wind', 'Precise Shot', 'Hidden Strike', 'Shield Bash', 'Fireball', 'Invisibility']\n",
        "\n",
        "#Test values for duplicate classes\n",
        "#char_type = ['Fighter']\n",
        "#weap_type = ['Longsword']\n",
        "#abil_type = ['Slash']"
      ]
    },
    {
      "cell_type": "markdown",
      "id": "5c71c412-d524-4387-83f8-9375cd8e8ae3",
      "metadata": {
        "deletable": false,
        "editable": false,
        "nbgrader": {
          "cell_type": "markdown",
          "checksum": "b9fff918ea3bb93fed1d9c76b6073c2f",
          "grade": false,
          "grade_id": "cell-8dd444e0e432e073",
          "locked": true,
          "schema_version": 3,
          "solution": false,
          "task": false
        },
        "id": "5c71c412-d524-4387-83f8-9375cd8e8ae3"
      },
      "source": [
        "3.3.1 (10 pts) Use a loop to create five unique characters by randomly choosing one element from each of the three lists. For each new character create a dictionary that stores the generated values. Add each new character to a list but first check if a duplicate exists by creating a string from the three values and checking if the string exists in a set. If not, store the string in the set and add the new character to the character list.\n",
        "\n",
        "You can use the following pseudo code if you wish:\n",
        "- import the `random` module\n",
        "- initialize a variable with an empty list to hold the new characters\n",
        "- initialize a variable to an empty set to use for checking duplicates (note you will need to use the `set()` constructor)\n",
        "- loop 5 times, e.g. `for i in range(5)`\n",
        "    - initialize a temporary empty dictionary to hold a new character\n",
        "    - set the new character's type to a random value of the character type list (hint: use `random.choice(ctype)` where `ctype` is the name of your list)\n",
        "    - repeat the step above for weapon and ability\n",
        "    - convert the new character into a string using `f\"{character}\"` where `character` is the variable name you created to temporarily hold the new character\n",
        "    - check if the string is contained in the set you created for checking duplicates (hint: use the syntax `x in y` where `x` is the element and `y` is the set)\n",
        "    - if the string is not in the set\n",
        "        - add the string to the set\n",
        "        - append the new character to the list of new chracters\n",
        "\n",
        "Make sure to print your new character list by stating it at the end of the cell"
      ]
    },
    {
      "cell_type": "code",
      "execution_count": null,
      "id": "13ec27c0-9815-4ec4-bbcd-5f77071d359d",
      "metadata": {
        "deletable": false,
        "nbgrader": {
          "cell_type": "code",
          "checksum": "064f556f828c18cb9099b73f85feea85",
          "grade": true,
          "grade_id": "cell-5bd7b3c1f435f425",
          "locked": false,
          "points": 10,
          "schema_version": 3,
          "solution": true,
          "task": false
        },
        "id": "13ec27c0-9815-4ec4-bbcd-5f77071d359d",
        "outputId": "3dfe77cb-4dc2-4244-a6df-a4ca5c39bcac"
      },
      "outputs": [
        {
          "name": "stdout",
          "output_type": "stream",
          "text": [
            "[{'type': 'Ranger', 'weapon': 'Spellbook', 'ability': 'Invisibility'}, {'type': 'Warlock', 'weapon': 'Longbow', 'ability': 'Parry'}, {'type': 'Rouge', 'weapon': 'Shortsword', 'ability': 'Slash'}, {'type': 'Sorcerer', 'weapon': 'Longsword', 'ability': 'Parry'}, {'type': 'Sorcerer', 'weapon': 'Shortsword', 'ability': 'Hidden Strike'}]\n"
          ]
        }
      ],
      "source": [
        "import random\n",
        "\n",
        "char_list= []\n",
        "duplicate_check = set({})\n",
        "\n",
        "def characterGenerator (num = 5):\n",
        "    for i in range(num):\n",
        "        temp_char = {\n",
        "\n",
        "        }\n",
        "\n",
        "        temp_char.update({\"type\": random.choice(char_type), \"weapon\": random.choice(weap_type), \"ability\": random.choice(abil_type)})\n",
        "        if f\"{temp_char}\" in duplicate_check:\n",
        "            print(\"Character already exists!\")\n",
        "        else:\n",
        "            duplicate_check.add(f\"{temp_char}\")\n",
        "            char_list.append(temp_char)\n",
        "\n",
        "\n",
        "    print(char_list)\n",
        "\n",
        "\n",
        "characterGenerator()"
      ]
    },
    {
      "cell_type": "markdown",
      "id": "55a82a54-f559-4b7a-8aba-6f2a1795c00c",
      "metadata": {
        "deletable": false,
        "editable": false,
        "jp-MarkdownHeadingCollapsed": true,
        "nbgrader": {
          "cell_type": "markdown",
          "checksum": "ce4584bb59705af5fa808f0c31d7788e",
          "grade": false,
          "grade_id": "cell-453d1aa133dbd17d",
          "locked": true,
          "schema_version": 3,
          "solution": false,
          "task": false
        },
        "id": "55a82a54-f559-4b7a-8aba-6f2a1795c00c"
      },
      "source": [
        "### 4. Functions"
      ]
    },
    {
      "cell_type": "markdown",
      "id": "b42ff324-7d9b-4227-a559-26516b95e6da",
      "metadata": {
        "deletable": false,
        "editable": false,
        "nbgrader": {
          "cell_type": "markdown",
          "checksum": "d837a844ae882aa0c807738abaf5c7d9",
          "grade": false,
          "grade_id": "cell-7e5750947b271d3b",
          "locked": true,
          "schema_version": 3,
          "solution": false,
          "task": false
        },
        "id": "b42ff324-7d9b-4227-a559-26516b95e6da"
      },
      "source": [
        "4.1 (10 pts) Create a function named `recipe_scaler` that takes the following parameters:  \n",
        "\n",
        "`ingredients` : a dictionary that maps ingredient names to amounts (note these amounts will be for 1 serving and will be specified in ounces with the exception of eggs)  \n",
        "`servings` : the number of servings to scale (default should be 1 which means no scaling)  \n",
        "`units` : the type of units (default should be `metric` - all input values to the function will be in imperial ounces)  \n",
        "\n",
        "The function should scale the recipe by the number of `servings` passed in, convert between metric and imperial units if needed, and return a new dictionary with the adjusted ingredients.\n",
        "\n",
        "When converting between metric and imperial use 1 oz = 28.35 g. However, make sure to handle the case for eggs (no conversion).\n",
        "\n",
        "Example output:  \n",
        "\n",
        "```recipe_scaler( { 'flour': 2, 'sugar': 1, 'eggs': 3 }, 2, 'imperial') => { 'flour': 113.4, 'sugar': 56.7, 'eggs': 6 }```"
      ]
    },
    {
      "cell_type": "code",
      "execution_count": null,
      "id": "490081ee-8f4c-4818-ac16-5c9ebd4c784b",
      "metadata": {
        "deletable": false,
        "nbgrader": {
          "cell_type": "code",
          "checksum": "69bb952a0b4ddb17e055e59b2ba50686",
          "grade": true,
          "grade_id": "cell-b9344a79320297d9",
          "locked": false,
          "points": 10,
          "schema_version": 3,
          "solution": true,
          "task": false
        },
        "id": "490081ee-8f4c-4818-ac16-5c9ebd4c784b",
        "outputId": "268464ee-e917-46fa-fee8-3ef3604178cf"
      },
      "outputs": [
        {
          "name": "stdout",
          "output_type": "stream",
          "text": [
            "{'flour': 113.4, 'sugar': 56.7, 'eggs': 6} \n",
            "\n",
            "{'flour': 2, 'sugar': 2, 'eggs': 4}\n"
          ]
        }
      ],
      "source": [
        "def recipe_scaler(ingredients: dict, servings = 1, units = \"metric\"):\n",
        "    scaled_ingredients = {\n",
        "\n",
        "    }\n",
        "\n",
        "    ingredient_names = list(ingredients.keys())\n",
        "    ingredient_values = list(ingredients.values())\n",
        "\n",
        "    for i in range(len(ingredient_names)):\n",
        "        if units == 'imperial' and ingredient_names[i] != 'eggs':\n",
        "            scaled_ingredients.update({ingredient_names[i]: (ingredient_values[i] * 28.35 * servings)})\n",
        "        elif ingredient_names[i] == 'eggs':\n",
        "            scaled_ingredients.update({'eggs': (ingredient_values[i] * servings)})\n",
        "        else:\n",
        "            scaled_ingredients.update({ingredient_names[i]: (ingredient_values[i] * servings)})\n",
        "    return scaled_ingredients\n",
        "\n",
        "print(recipe_scaler( { 'flour': 2, 'sugar': 1, 'eggs': 3 }, 2, 'imperial'), \"\\n\")\n",
        "print(recipe_scaler( { 'flour': 1, 'sugar': 1, 'eggs': 2 }, 2, 'metric'))"
      ]
    },
    {
      "cell_type": "markdown",
      "id": "88bb450e-8545-48d9-a766-671faddd566f",
      "metadata": {
        "deletable": false,
        "editable": false,
        "nbgrader": {
          "cell_type": "markdown",
          "checksum": "ea373246483de6528c0ed17829174c4d",
          "grade": false,
          "grade_id": "cell-a4f14c73f44e32e2",
          "locked": true,
          "schema_version": 3,
          "solution": false,
          "task": false
        },
        "id": "88bb450e-8545-48d9-a766-671faddd566f"
      },
      "source": [
        "### 5. Loops and list comprehensions"
      ]
    },
    {
      "cell_type": "markdown",
      "id": "d8817987-9379-4a11-8d60-b4541726f41c",
      "metadata": {
        "deletable": false,
        "editable": false,
        "nbgrader": {
          "cell_type": "markdown",
          "checksum": "216f3233a8721e44e425b735c1172aff",
          "grade": false,
          "grade_id": "cell-edfbeb55179cfdce",
          "locked": true,
          "schema_version": 3,
          "solution": false,
          "task": false
        },
        "id": "d8817987-9379-4a11-8d60-b4541726f41c"
      },
      "source": [
        "Besides standard `for` and `while` loops, Python allows you to loop over a list in an expression that can be used to generate new lists."
      ]
    },
    {
      "cell_type": "markdown",
      "id": "d31cedf1-6445-44ea-9068-e2fcfe06f53e",
      "metadata": {
        "deletable": false,
        "editable": false,
        "nbgrader": {
          "cell_type": "markdown",
          "checksum": "878aed47e620e2e2785a957328187c69",
          "grade": false,
          "grade_id": "cell-a7d0444462d45e50",
          "locked": true,
          "schema_version": 3,
          "solution": false,
          "task": false
        },
        "id": "d31cedf1-6445-44ea-9068-e2fcfe06f53e"
      },
      "source": [
        "5.1 (3 pts) The `range()` function returns a list of the numbers in a sequence. Use a standard `for` loop using the `range()` function to create a list named `dbt` of the numbers from 0 to 21 where the value is 0 if the number is not divisible by 3. State the value of `dbt` at the end."
      ]
    },
    {
      "cell_type": "code",
      "execution_count": null,
      "id": "330c9e21-84be-4317-98bf-35cf365e2b85",
      "metadata": {
        "deletable": false,
        "nbgrader": {
          "cell_type": "code",
          "checksum": "951a961a27b8bb6e8a4dafb514031e00",
          "grade": true,
          "grade_id": "cell-55563470181c0bb6",
          "locked": false,
          "points": 2,
          "schema_version": 3,
          "solution": true,
          "task": false
        },
        "id": "330c9e21-84be-4317-98bf-35cf365e2b85",
        "outputId": "3f8d9565-5fd0-43b4-9f80-6cfdef95660b"
      },
      "outputs": [
        {
          "data": {
            "text/plain": [
              "[0, 0, 0, 3, 0, 0, 6, 0, 0, 9, 0, 0, 12, 0, 0, 15, 0, 0, 18, 0, 0, 21]"
            ]
          },
          "execution_count": 5,
          "metadata": {},
          "output_type": "execute_result"
        }
      ],
      "source": [
        "dbt = []\n",
        "for i in range(22):\n",
        "    if i % 3:\n",
        "        dbt.append(0)\n",
        "    else:\n",
        "        dbt.append(i)\n",
        "\n",
        "dbt"
      ]
    },
    {
      "cell_type": "markdown",
      "id": "0c123c7d-83cb-4310-bd9a-ba9edb1f37ba",
      "metadata": {
        "deletable": false,
        "editable": false,
        "nbgrader": {
          "cell_type": "markdown",
          "checksum": "b4d229b3ff488cc0826361e675d48db2",
          "grade": false,
          "grade_id": "cell-9ace64dd6df79333",
          "locked": true,
          "schema_version": 3,
          "solution": false,
          "task": false
        },
        "id": "0c123c7d-83cb-4310-bd9a-ba9edb1f37ba"
      },
      "source": [
        "To use a `for` loop expression requires the form  \n",
        "```\n",
        "<value> for <var> in <list>\n",
        "```\n",
        "\n",
        "In this expression `<value>` is some expression that can evaluate to a constant value (usually in terms of the loop variable). The `<var>` is the loop variable (you can choose whatever you like), and the `<list>` is the list you want to loop over.\n",
        "\n",
        "Try to guess the output of the cells below and then run them to see if you're correct."
      ]
    },
    {
      "cell_type": "code",
      "execution_count": null,
      "id": "d0475585-d3e3-471a-8e4b-546723478213",
      "metadata": {
        "id": "d0475585-d3e3-471a-8e4b-546723478213",
        "outputId": "56308eb0-c24d-4299-b07d-21d075039628"
      },
      "outputs": [
        {
          "data": {
            "text/plain": [
              "[9, 9, 9, 9, 9, 9, 9, 9, 9]"
            ]
          },
          "execution_count": 20,
          "metadata": {},
          "output_type": "execute_result"
        }
      ],
      "source": [
        "[ 9 for i in range(9) ]"
      ]
    },
    {
      "cell_type": "code",
      "execution_count": null,
      "id": "3bb3cd36-c843-4399-af45-bf47243bcbd7",
      "metadata": {
        "id": "3bb3cd36-c843-4399-af45-bf47243bcbd7",
        "outputId": "7b728d5c-7a98-44b9-f1ee-30d9874e45df"
      },
      "outputs": [
        {
          "data": {
            "text/plain": [
              "[0, 1, 2, 3, 4, 5, 6, 7, 8]"
            ]
          },
          "execution_count": 21,
          "metadata": {},
          "output_type": "execute_result"
        }
      ],
      "source": [
        "[ i for i in range(9) ]"
      ]
    },
    {
      "cell_type": "code",
      "execution_count": null,
      "id": "4519fc59-d201-4850-8338-c2a1dce21443",
      "metadata": {
        "id": "4519fc59-d201-4850-8338-c2a1dce21443",
        "outputId": "037078ad-aafd-4551-fcba-f8770d94c100"
      },
      "outputs": [
        {
          "data": {
            "text/plain": [
              "[0, 2, 4, 6, 8, 10, 12, 14, 16]"
            ]
          },
          "execution_count": 22,
          "metadata": {},
          "output_type": "execute_result"
        }
      ],
      "source": [
        "[ i * 2 for i in range(9) ]"
      ]
    },
    {
      "cell_type": "code",
      "execution_count": null,
      "id": "8b4b6257-0bdd-40b2-99a6-538d53184e98",
      "metadata": {
        "id": "8b4b6257-0bdd-40b2-99a6-538d53184e98",
        "outputId": "6ca5a7c2-0da7-4664-d6c3-78ac383bca7f"
      },
      "outputs": [
        {
          "data": {
            "text/plain": [
              "['redish', 'blueish', 'greenish', 'yellowish']"
            ]
          },
          "execution_count": 35,
          "metadata": {},
          "output_type": "execute_result"
        }
      ],
      "source": [
        "[ f\"{x}ish\" for x in [ 'red', 'blue', 'green', 'yellow' ] ]"
      ]
    },
    {
      "cell_type": "markdown",
      "id": "fd1c98c3-766d-4a42-890b-5eb1f6ffa0d5",
      "metadata": {
        "deletable": false,
        "editable": false,
        "nbgrader": {
          "cell_type": "markdown",
          "checksum": "e46abf0369d1ee1d94cde24285f33e49",
          "grade": false,
          "grade_id": "cell-77bea4723bfcc617",
          "locked": true,
          "schema_version": 3,
          "solution": false,
          "task": false
        },
        "id": "fd1c98c3-766d-4a42-890b-5eb1f6ffa0d5"
      },
      "source": [
        "5.1.2 (2 pts) Create a list using an expresion that generates the numbers from 0 to 21 using list comprehension (don't assign the result to a variable so it will be output to the console)"
      ]
    },
    {
      "cell_type": "code",
      "execution_count": null,
      "id": "e6a1764b-533f-4efc-9997-0e3b2fdccb6c",
      "metadata": {
        "deletable": false,
        "nbgrader": {
          "cell_type": "code",
          "checksum": "434a7ef71cfbfcf36d7c59067ca3b2d7",
          "grade": true,
          "grade_id": "cell-07c789938a447fe9",
          "locked": false,
          "points": 2,
          "schema_version": 3,
          "solution": true,
          "task": false
        },
        "id": "e6a1764b-533f-4efc-9997-0e3b2fdccb6c",
        "outputId": "33f6c82c-18b8-4806-cfbc-19e91842f1d0"
      },
      "outputs": [
        {
          "data": {
            "text/plain": [
              "[0, 1, 2, 3, 4, 5, 6, 7, 8, 9, 10, 11, 12, 13, 14, 15, 16, 17, 18, 19, 20, 21]"
            ]
          },
          "execution_count": 50,
          "metadata": {},
          "output_type": "execute_result"
        }
      ],
      "source": [
        "[i for i in range(22)]"
      ]
    },
    {
      "cell_type": "markdown",
      "id": "ee10074e-c8d2-45a3-a13b-41c518b552d0",
      "metadata": {
        "deletable": false,
        "editable": false,
        "nbgrader": {
          "cell_type": "markdown",
          "checksum": "38a28211c209768a1d9c6d145d416af9",
          "grade": false,
          "grade_id": "cell-9003d895403afed3",
          "locked": true,
          "schema_version": 3,
          "solution": false,
          "task": false
        },
        "id": "ee10074e-c8d2-45a3-a13b-41c518b552d0"
      },
      "source": [
        "5.1.3 (3 pts) Python also allows the `if/else` construction inan expression making it useful when combined with a list comprehension. The syntax is:  \n",
        "\n",
        "```<value> for <var> in <list> if <condition> else <othervalue>```\n",
        "\n",
        "`<condition>` should evaluate to a boolean value and `<othervalue>` will be used if the `<condition>` is `False`\n",
        "\n",
        "Start with your expression above and modify it to include an `if/else` expression to set the value to 0 if it is not divisible by 3."
      ]
    },
    {
      "cell_type": "code",
      "execution_count": null,
      "id": "1bb41a05-a249-4db1-ab6c-ccde3244c0c8",
      "metadata": {
        "deletable": false,
        "nbgrader": {
          "cell_type": "code",
          "checksum": "0a36ea404f48260e5fbbc4df5aa20306",
          "grade": true,
          "grade_id": "cell-f44d14455ab7acc3",
          "locked": false,
          "points": 3,
          "schema_version": 3,
          "solution": true,
          "task": false
        },
        "id": "1bb41a05-a249-4db1-ab6c-ccde3244c0c8",
        "outputId": "bd0ab20c-7af4-47b1-8b4b-b33ed45e97bc"
      },
      "outputs": [
        {
          "data": {
            "text/plain": [
              "[0, 0, 0, 3, 0, 0, 6, 0, 0, 9, 0, 0, 12, 0, 0, 15, 0, 0, 18, 0, 0, 21]"
            ]
          },
          "execution_count": 51,
          "metadata": {},
          "output_type": "execute_result"
        }
      ],
      "source": [
        "dbt = [i if (i % 3 == 0) else 0 for i in range(22)]\n",
        "dbt"
      ]
    },
    {
      "cell_type": "markdown",
      "id": "390d07be-1fbb-43f3-bc92-de359ae70eb8",
      "metadata": {
        "deletable": false,
        "editable": false,
        "nbgrader": {
          "cell_type": "markdown",
          "checksum": "e25407b1bcf73f526e2d0502ab32dbd4",
          "grade": false,
          "grade_id": "cell-47075651e4fc46bc",
          "locked": true,
          "schema_version": 3,
          "solution": false,
          "task": false
        },
        "id": "390d07be-1fbb-43f3-bc92-de359ae70eb8"
      },
      "source": [
        "### 6. Numpy"
      ]
    },
    {
      "cell_type": "markdown",
      "id": "f4e39a12-b3b3-4bb1-9ca9-90e0f335448e",
      "metadata": {
        "deletable": false,
        "editable": false,
        "nbgrader": {
          "cell_type": "markdown",
          "checksum": "238314d9ff012e33db4085c3f5b4168a",
          "grade": false,
          "grade_id": "cell-5be33e94d61873e2",
          "locked": true,
          "schema_version": 3,
          "solution": false,
          "task": false
        },
        "id": "f4e39a12-b3b3-4bb1-9ca9-90e0f335448e"
      },
      "source": [
        "The Numpy package provides a powerful set of tools for working with mult-dimensional arrays that forms the basis for more advanced data science packages.  \n",
        "\n",
        "A Numpy array is very similar to a list but has many more features. Numpy arrays can be multi-dimensional and this is why they are named `ndarray` (n-dimensional array).  \n",
        "\n",
        "It is customary to import the numpy package as np as shown below. Run the cell so the package is available for the following problems."
      ]
    },
    {
      "cell_type": "code",
      "execution_count": null,
      "id": "f55d095e-d6b8-430a-81a6-a22e7ba85ed0",
      "metadata": {
        "id": "f55d095e-d6b8-430a-81a6-a22e7ba85ed0"
      },
      "outputs": [],
      "source": [
        "import numpy as np"
      ]
    },
    {
      "cell_type": "markdown",
      "id": "03fb50e3-b89b-46c8-927b-c00efe604e67",
      "metadata": {
        "deletable": false,
        "editable": false,
        "nbgrader": {
          "cell_type": "markdown",
          "checksum": "8ccb652b63092f81828b57e559d49549",
          "grade": false,
          "grade_id": "cell-7f603fe8c7322d49",
          "locked": true,
          "schema_version": 3,
          "solution": false,
          "task": false
        },
        "id": "03fb50e3-b89b-46c8-927b-c00efe604e67"
      },
      "source": [
        "6.1 (2 pts) Use the expression you wrote in 5.1.3 to initialize a numpy ndarray using the `array()` function. Assign it to a variable named `threes`."
      ]
    },
    {
      "cell_type": "code",
      "execution_count": null,
      "id": "7afd6629-0ca8-49e3-94dc-a00e1508f298",
      "metadata": {
        "deletable": false,
        "nbgrader": {
          "cell_type": "code",
          "checksum": "dec8063a9b7de7d677842bbade54600e",
          "grade": true,
          "grade_id": "cell-c42e10c8e308fdc0",
          "locked": false,
          "points": 2,
          "schema_version": 3,
          "solution": true,
          "task": false
        },
        "id": "7afd6629-0ca8-49e3-94dc-a00e1508f298"
      },
      "outputs": [],
      "source": [
        "threes = np.array([i if (i % 3 == 0) else 0 for i in range(22)])"
      ]
    },
    {
      "cell_type": "markdown",
      "id": "ccd83560-ba32-4b74-bdb0-b22523346efc",
      "metadata": {
        "deletable": false,
        "editable": false,
        "nbgrader": {
          "cell_type": "markdown",
          "checksum": "2d19aff831a3f0e5afe319569de465c0",
          "grade": false,
          "grade_id": "cell-a7d27e74b1ec706c",
          "locked": true,
          "schema_version": 3,
          "solution": false,
          "task": false
        },
        "id": "ccd83560-ba32-4b74-bdb0-b22523346efc"
      },
      "source": [
        "6.1.2 (1 pt) Display the shape of the `threes` variable by stating the `shape` member of the `threes` array"
      ]
    },
    {
      "cell_type": "code",
      "execution_count": null,
      "id": "a29bca93-60d8-4aaf-b922-a199c60b0ab9",
      "metadata": {
        "deletable": false,
        "nbgrader": {
          "cell_type": "code",
          "checksum": "c755e6fc9672a68c0f20a93368a883cf",
          "grade": true,
          "grade_id": "cell-2fdf170b88271a2a",
          "locked": false,
          "points": 1,
          "schema_version": 3,
          "solution": true,
          "task": false
        },
        "id": "a29bca93-60d8-4aaf-b922-a199c60b0ab9",
        "outputId": "61fc826c-3faa-48c5-ad81-6fb0577544a4"
      },
      "outputs": [
        {
          "data": {
            "text/plain": [
              "(22,)"
            ]
          },
          "execution_count": 60,
          "metadata": {},
          "output_type": "execute_result"
        }
      ],
      "source": [
        "threes.shape"
      ]
    },
    {
      "cell_type": "markdown",
      "id": "7f5556f7-233f-4144-b50b-80af2b26e86a",
      "metadata": {
        "deletable": false,
        "editable": false,
        "nbgrader": {
          "cell_type": "markdown",
          "checksum": "3a19e5f9b90e179aaaa3a12b0944fc9d",
          "grade": false,
          "grade_id": "cell-73c6130f66828dde",
          "locked": true,
          "schema_version": 3,
          "solution": false,
          "task": false
        },
        "id": "7f5556f7-233f-4144-b50b-80af2b26e86a"
      },
      "source": [
        "6.1.3 (1 pt) What does the number(s) in the output above mean?"
      ]
    },
    {
      "cell_type": "raw",
      "id": "aae1a07a-0ca2-4ca0-bc0c-81fbba9cc7aa",
      "metadata": {
        "deletable": false,
        "nbgrader": {
          "cell_type": "markdown",
          "checksum": "add0559b4da27d461c15d755a8fff93d",
          "grade": true,
          "grade_id": "cell-d5d682a94b9026a0",
          "locked": false,
          "points": 0,
          "schema_version": 3,
          "solution": true,
          "task": false
        },
        "id": "aae1a07a-0ca2-4ca0-bc0c-81fbba9cc7aa"
      },
      "source": [
        "There is a one dimensional array with 22 items."
      ]
    },
    {
      "cell_type": "markdown",
      "id": "79b437a5-e7e7-47ff-8540-9593300ef751",
      "metadata": {
        "deletable": false,
        "editable": false,
        "nbgrader": {
          "cell_type": "markdown",
          "checksum": "d6bb2abcaaa6bd811aa155643a66697b",
          "grade": false,
          "grade_id": "cell-b93d87bc7d269285",
          "locked": true,
          "schema_version": 3,
          "solution": false,
          "task": false
        },
        "id": "79b437a5-e7e7-47ff-8540-9593300ef751"
      },
      "source": [
        "6.1.4 (2 pts) Reshape the array so that it is 7 by 3 (7 rows of 3 values), using the `reshape()` method. Make sure to reassign `threes` to the result and state the value of `threes`"
      ]
    },
    {
      "cell_type": "code",
      "execution_count": null,
      "id": "bae6627b-a96d-47b2-8dcb-a86bffc3b005",
      "metadata": {
        "deletable": false,
        "nbgrader": {
          "cell_type": "code",
          "checksum": "09117e8b390485d65d81b56047c66de3",
          "grade": true,
          "grade_id": "cell-e297843b58f9830f",
          "locked": false,
          "points": 2,
          "schema_version": 3,
          "solution": true,
          "task": false
        },
        "id": "bae6627b-a96d-47b2-8dcb-a86bffc3b005",
        "outputId": "808202c6-04b2-49a0-a2f0-f05cec89b303"
      },
      "outputs": [
        {
          "name": "stdout",
          "output_type": "stream",
          "text": [
            "[ 0  0  3  0  0  6  0  0  9  0  0 12  0  0 15  0  0 18  0  0 21]\n",
            " \n",
            "[[ 0  0  3]\n",
            " [ 0  0  6]\n",
            " [ 0  0  9]\n",
            " [ 0  0 12]\n",
            " [ 0  0 15]\n",
            " [ 0  0 18]\n",
            " [ 0  0 21]]\n"
          ]
        }
      ],
      "source": [
        "#Given that my code above makes a 1 dimension array 22 long when I belive we should have one thats 21 long so I am going to delete my first zero so I can reshape as intended.\n",
        "\n",
        "threes = np.delete(threes, 0)\n",
        "print(threes)\n",
        "print(\" \")\n",
        "threes = threes.reshape((7, 3))\n",
        "print(threes)"
      ]
    },
    {
      "cell_type": "markdown",
      "id": "e0ba2948-d3a0-41c4-bc6d-67eddbb13387",
      "metadata": {
        "deletable": false,
        "editable": false,
        "nbgrader": {
          "cell_type": "markdown",
          "checksum": "20ac8bc882b7e75cea3770b5dadd6d2e",
          "grade": false,
          "grade_id": "cell-9fd46be214039397",
          "locked": true,
          "schema_version": 3,
          "solution": false,
          "task": false
        },
        "id": "e0ba2948-d3a0-41c4-bc6d-67eddbb13387"
      },
      "source": [
        "6.2 (2 pts) The `delete(arr, slice, axis)` method can be used to remove a portion of an array. The parameter `slice` can be the index of a single value or a 'slice' of the array. The named parameter `axis` is an integer index of the axis (row=0, col=1, etc.) and defaults to `None` which flattens the array.  \n",
        "\n",
        "Delete the second column of the `threes` array using the `delete()` method. Be sure to reassign `threes` to the result and state the new value."
      ]
    },
    {
      "cell_type": "code",
      "execution_count": null,
      "id": "eae2f278-3056-4ac7-b8f7-f7d8184d71af",
      "metadata": {
        "deletable": false,
        "nbgrader": {
          "cell_type": "code",
          "checksum": "b799d0eb652c59d09d08fbd741056fe0",
          "grade": true,
          "grade_id": "cell-a4f491497634e096",
          "locked": false,
          "points": 1,
          "schema_version": 3,
          "solution": true,
          "task": false
        },
        "id": "eae2f278-3056-4ac7-b8f7-f7d8184d71af",
        "outputId": "3ea8f9c0-8439-47a6-fa82-d877c9172830"
      },
      "outputs": [
        {
          "data": {
            "text/plain": [
              "array([[ 0,  3],\n",
              "       [ 0,  6],\n",
              "       [ 0,  9],\n",
              "       [ 0, 12],\n",
              "       [ 0, 15],\n",
              "       [ 0, 18],\n",
              "       [ 0, 21]])"
            ]
          },
          "execution_count": 62,
          "metadata": {},
          "output_type": "execute_result"
        }
      ],
      "source": [
        "threes = np.delete(threes, 1, axis = 1)\n",
        "threes"
      ]
    },
    {
      "cell_type": "markdown",
      "id": "cc957287-7ef8-413c-a92e-9f06dadbfc05",
      "metadata": {
        "deletable": false,
        "editable": false,
        "nbgrader": {
          "cell_type": "markdown",
          "checksum": "74a7487ad5876db58534a9708fe504dd",
          "grade": false,
          "grade_id": "cell-8339852c910f5bed",
          "locked": true,
          "schema_version": 3,
          "solution": false,
          "task": false
        },
        "id": "cc957287-7ef8-413c-a92e-9f06dadbfc05"
      },
      "source": [
        "6.3 (5 pts) One of the powerful features of numpy arrays is the ability to perform operations on each element in the array with a simple expression. When a numpy `ndarray` data type is used in an expression, such as a mathematical operation, it will automatically loop over each element in the array and perform the operation on it.  \n",
        "\n",
        "Numpy arrays can use familiar list indexing to access elements, with commas to denote each access. For example, `threes[2, 1]` will access the element in the 3rd row and 2nd column.  \n",
        "\n",
        "When a 'slice' is used in the index it stands for 'all values included in the slice'. For example, `threes[3:5, 1]` will access the elements in the 2nd column for all rows between 3 and 5.  \n",
        "\n",
        "Using the `:` notation alone is shorthand for all rows: `threes[3,:]` gives all elements on row 3 (as a new array)."
      ]
    },
    {
      "cell_type": "markdown",
      "id": "f525b8ba-4662-46be-866f-0043404c362b",
      "metadata": {
        "deletable": false,
        "editable": false,
        "nbgrader": {
          "cell_type": "markdown",
          "checksum": "69deb74c85131707337be611378d78dc",
          "grade": false,
          "grade_id": "cell-9d0ff56fdfed6969",
          "locked": true,
          "schema_version": 3,
          "solution": false,
          "task": false
        },
        "id": "f525b8ba-4662-46be-866f-0043404c362b"
      },
      "source": [
        "Set the second column of the `threes` array to the square of the first (use `x ** 2` to square a number).\n",
        "\n",
        "First try writing an expression that gives only the first element of each row."
      ]
    },
    {
      "cell_type": "code",
      "execution_count": null,
      "id": "559eef1a-ea44-45d8-becf-6f1fef6609af",
      "metadata": {
        "deletable": false,
        "nbgrader": {
          "cell_type": "code",
          "checksum": "3ec097e1fb136d4cb23e10f9e7387c66",
          "grade": true,
          "grade_id": "cell-4435e02405db4f88",
          "locked": false,
          "points": 5,
          "schema_version": 3,
          "solution": true,
          "task": false
        },
        "id": "559eef1a-ea44-45d8-becf-6f1fef6609af",
        "outputId": "c3cbef9e-54db-4b2f-89ba-027cb539e140"
      },
      "outputs": [
        {
          "name": "stdout",
          "output_type": "stream",
          "text": [
            "First row elements: \n",
            "[0 0 0 0 0 0 0]\n",
            "\n"
          ]
        },
        {
          "data": {
            "text/plain": [
              "array([[         1,          3],\n",
              "       [         2,         36],\n",
              "       [         3,        729],\n",
              "       [         4,      20736],\n",
              "       [         5,     759375],\n",
              "       [         6,   34012224],\n",
              "       [         7, 1801088541]])"
            ]
          },
          "execution_count": 63,
          "metadata": {},
          "output_type": "execute_result"
        }
      ],
      "source": [
        "#1st element of each row\n",
        "print (\"First row elements: \\n\" + str(threes[:, 0]))\n",
        "threes\n",
        "print() #for clarity\n",
        "#**2 column 2 results in not a real change im going to replace the zeros with 1-7 values so we can see what is happening.\n",
        "threes[:, 0] = range(1, 8)\n",
        "threes[:, 1] = threes[:, 1] ** threes[:,0]\n",
        "threes"
      ]
    },
    {
      "cell_type": "markdown",
      "id": "afd7be56-609d-4194-832f-497e0950eea9",
      "metadata": {
        "deletable": false,
        "editable": false,
        "nbgrader": {
          "cell_type": "markdown",
          "checksum": "987ca43b341bd67869a9602c26046607",
          "grade": false,
          "grade_id": "cell-851230e4716e87f3",
          "locked": true,
          "schema_version": 3,
          "solution": false,
          "task": false
        },
        "id": "afd7be56-609d-4194-832f-497e0950eea9"
      },
      "source": [
        "6.3.1 (5 pts) Using the expression above, assign the square of the element in the first column to the second column for each row. State the result"
      ]
    },
    {
      "cell_type": "code",
      "execution_count": null,
      "id": "45541e1c-6923-4a5a-88fa-4f302e9c2632",
      "metadata": {
        "deletable": false,
        "nbgrader": {
          "cell_type": "code",
          "checksum": "15352e867d786672dab57b0857650b16",
          "grade": true,
          "grade_id": "cell-ad542fa70b970378",
          "locked": false,
          "points": 4,
          "schema_version": 3,
          "solution": true,
          "task": false
        },
        "id": "45541e1c-6923-4a5a-88fa-4f302e9c2632",
        "outputId": "8653a462-a567-4c9b-c55e-2c5d9b065dea"
      },
      "outputs": [
        {
          "data": {
            "text/plain": [
              "array([[ 1,  1],\n",
              "       [ 2,  4],\n",
              "       [ 3,  9],\n",
              "       [ 4, 16],\n",
              "       [ 5, 25],\n",
              "       [ 6, 36],\n",
              "       [ 7, 49]])"
            ]
          },
          "execution_count": 64,
          "metadata": {},
          "output_type": "execute_result"
        }
      ],
      "source": [
        "# Square index 0\n",
        "\n",
        "threes[:, 1] = threes[:, 0] ** 2\n",
        "threes"
      ]
    },
    {
      "cell_type": "markdown",
      "id": "b4617022-eb10-47b3-86ec-41a0356661f4",
      "metadata": {
        "deletable": false,
        "editable": false,
        "nbgrader": {
          "cell_type": "markdown",
          "checksum": "12c42f2b773850d807e87e21b2a5a831",
          "grade": false,
          "grade_id": "cell-04a8589bac288046",
          "locked": true,
          "schema_version": 3,
          "solution": false,
          "task": false
        },
        "id": "b4617022-eb10-47b3-86ec-41a0356661f4"
      },
      "source": [
        "### 7 Pandas"
      ]
    },
    {
      "cell_type": "markdown",
      "id": "fc883496-0942-47f1-97da-32dba9e98172",
      "metadata": {
        "deletable": false,
        "editable": false,
        "nbgrader": {
          "cell_type": "markdown",
          "checksum": "7da990157c8327db38c0f39099abefc3",
          "grade": false,
          "grade_id": "cell-fe9713af40b9a074",
          "locked": true,
          "schema_version": 3,
          "solution": false,
          "task": false
        },
        "id": "fc883496-0942-47f1-97da-32dba9e98172"
      },
      "source": [
        "The Pandas library is the next important data science library we will use. It extends the basic Numpy `ndarray` to something called a `DataFrame`, which is a matrix comprised of rows and columns. Pandas is targeted to data science and machine learning so it's features and structure are tailored for that purpose.  \n",
        "\n",
        "In data science datasets have a series of 'instances' or 'samples'. Each instance is comprised of the values for a set of 'features'. In Pandas each instance is a row in the DataFrame and the features are the columns, much like you would use in a spreadsheet.\n",
        "\n",
        "Like the Numpy module, Pandas has a powerful set of features that can perform most of the common operations necessary for data science. The key to these operations is the labels Pandas uses. Labels for the rows are called indices and labels for the columns are called column labels."
      ]
    },
    {
      "cell_type": "markdown",
      "id": "82473754-e580-4ede-95e1-4539d790abf7",
      "metadata": {
        "deletable": false,
        "editable": false,
        "nbgrader": {
          "cell_type": "markdown",
          "checksum": "77dfa8cbb4b32f10dcaf5185b2d39271",
          "grade": false,
          "grade_id": "cell-dc63f1ae180152a1",
          "locked": true,
          "schema_version": 3,
          "solution": false,
          "task": false
        },
        "id": "82473754-e580-4ede-95e1-4539d790abf7"
      },
      "source": [
        "Run the cell below to use the pandas module in the following exercises"
      ]
    },
    {
      "cell_type": "code",
      "execution_count": null,
      "id": "a31d50c1-6a07-444b-bc1b-32ff6d6d1094",
      "metadata": {
        "id": "a31d50c1-6a07-444b-bc1b-32ff6d6d1094"
      },
      "outputs": [],
      "source": [
        "import pandas as pd"
      ]
    },
    {
      "cell_type": "markdown",
      "id": "39c22f63-1e1c-43eb-9aa7-89342e2fcd4b",
      "metadata": {
        "deletable": false,
        "editable": false,
        "nbgrader": {
          "cell_type": "markdown",
          "checksum": "c4d201a8a5dce37fe0453a1a925efad8",
          "grade": false,
          "grade_id": "cell-3c2a88693cd13436",
          "locked": true,
          "schema_version": 3,
          "solution": false,
          "task": false
        },
        "id": "39c22f63-1e1c-43eb-9aa7-89342e2fcd4b"
      },
      "source": [
        "7.1 (4 pts) Create a Pandas `DataFrame` object using the `DataFrame()` constructor and assign it to a variable called `df`. The columns should be `[ color, shape, quantity ]` and there should be at least 3 rows. You can make up the values. Be sure to state the value of `df`."
      ]
    },
    {
      "cell_type": "code",
      "execution_count": null,
      "id": "0361ce17-14cb-4051-bab4-9b2606177649",
      "metadata": {
        "deletable": false,
        "nbgrader": {
          "cell_type": "code",
          "checksum": "c4cfd9a2a492836e2eed7a22385190c1",
          "grade": true,
          "grade_id": "cell-e11e494c04e1ea5d",
          "locked": false,
          "points": 4,
          "schema_version": 3,
          "solution": true,
          "task": false
        },
        "id": "0361ce17-14cb-4051-bab4-9b2606177649",
        "outputId": "12d7d012-e6e9-494c-895c-15651956f18b"
      },
      "outputs": [
        {
          "data": {
            "text/html": [
              "<div>\n",
              "<style scoped>\n",
              "    .dataframe tbody tr th:only-of-type {\n",
              "        vertical-align: middle;\n",
              "    }\n",
              "\n",
              "    .dataframe tbody tr th {\n",
              "        vertical-align: top;\n",
              "    }\n",
              "\n",
              "    .dataframe thead th {\n",
              "        text-align: right;\n",
              "    }\n",
              "</style>\n",
              "<table border=\"1\" class=\"dataframe\">\n",
              "  <thead>\n",
              "    <tr style=\"text-align: right;\">\n",
              "      <th></th>\n",
              "      <th>color</th>\n",
              "      <th>shape</th>\n",
              "      <th>quantity</th>\n",
              "    </tr>\n",
              "  </thead>\n",
              "  <tbody>\n",
              "    <tr>\n",
              "      <th>0</th>\n",
              "      <td>red</td>\n",
              "      <td>triangle</td>\n",
              "      <td>12</td>\n",
              "    </tr>\n",
              "    <tr>\n",
              "      <th>1</th>\n",
              "      <td>blue</td>\n",
              "      <td>square</td>\n",
              "      <td>5</td>\n",
              "    </tr>\n",
              "    <tr>\n",
              "      <th>2</th>\n",
              "      <td>yellow</td>\n",
              "      <td>circle</td>\n",
              "      <td>115</td>\n",
              "    </tr>\n",
              "  </tbody>\n",
              "</table>\n",
              "</div>"
            ],
            "text/plain": [
              "    color     shape quantity\n",
              "0     red  triangle       12\n",
              "1    blue    square        5\n",
              "2  yellow    circle      115"
            ]
          },
          "execution_count": 70,
          "metadata": {},
          "output_type": "execute_result"
        }
      ],
      "source": [
        "df = pd.DataFrame(\n",
        "    data=[['red', 'triangle', '12'],\n",
        "          ['blue', 'square', '5'],\n",
        "          ['yellow', 'circle', '115']],\n",
        "    columns=['color', 'shape', 'quantity'])\n",
        "\n",
        "df"
      ]
    },
    {
      "cell_type": "markdown",
      "id": "1a0847a2-abca-42bd-8bb8-84d215a62ff1",
      "metadata": {
        "deletable": false,
        "editable": false,
        "nbgrader": {
          "cell_type": "markdown",
          "checksum": "f26bd4b5402f0e0bea99dca9685c6eed",
          "grade": false,
          "grade_id": "cell-17fcaaf77f672bb4",
          "locked": true,
          "schema_version": 3,
          "solution": false,
          "task": false
        },
        "id": "1a0847a2-abca-42bd-8bb8-84d215a62ff1"
      },
      "source": [
        "7.2 (3 pts) Use the `sort_values()` function and choose a column that will change the order of the rows in your dataframe. Be sure to use the `inplace=True` parameter so your dataframe is modified in place (or reassign it to the result of `sort_values()`), then state the vlaue of `df`"
      ]
    },
    {
      "cell_type": "code",
      "execution_count": null,
      "id": "197f8df6-083f-4014-91c4-c3638a54a0d2",
      "metadata": {
        "deletable": false,
        "nbgrader": {
          "cell_type": "code",
          "checksum": "3b4a118a3c5833887f0189cd2a7ff35c",
          "grade": true,
          "grade_id": "cell-50dc663b3ab582f7",
          "locked": false,
          "points": 3,
          "schema_version": 3,
          "solution": true,
          "task": false
        },
        "id": "197f8df6-083f-4014-91c4-c3638a54a0d2",
        "outputId": "be510b6b-30d0-4cc7-baa9-281c6f72b0c8"
      },
      "outputs": [
        {
          "data": {
            "text/html": [
              "<div>\n",
              "<style scoped>\n",
              "    .dataframe tbody tr th:only-of-type {\n",
              "        vertical-align: middle;\n",
              "    }\n",
              "\n",
              "    .dataframe tbody tr th {\n",
              "        vertical-align: top;\n",
              "    }\n",
              "\n",
              "    .dataframe thead th {\n",
              "        text-align: right;\n",
              "    }\n",
              "</style>\n",
              "<table border=\"1\" class=\"dataframe\">\n",
              "  <thead>\n",
              "    <tr style=\"text-align: right;\">\n",
              "      <th></th>\n",
              "      <th>color</th>\n",
              "      <th>shape</th>\n",
              "      <th>quantity</th>\n",
              "    </tr>\n",
              "  </thead>\n",
              "  <tbody>\n",
              "    <tr>\n",
              "      <th>2</th>\n",
              "      <td>yellow</td>\n",
              "      <td>circle</td>\n",
              "      <td>115</td>\n",
              "    </tr>\n",
              "    <tr>\n",
              "      <th>1</th>\n",
              "      <td>blue</td>\n",
              "      <td>square</td>\n",
              "      <td>5</td>\n",
              "    </tr>\n",
              "    <tr>\n",
              "      <th>0</th>\n",
              "      <td>red</td>\n",
              "      <td>triangle</td>\n",
              "      <td>12</td>\n",
              "    </tr>\n",
              "  </tbody>\n",
              "</table>\n",
              "</div>"
            ],
            "text/plain": [
              "    color     shape quantity\n",
              "2  yellow    circle      115\n",
              "1    blue    square        5\n",
              "0     red  triangle       12"
            ]
          },
          "execution_count": 71,
          "metadata": {},
          "output_type": "execute_result"
        }
      ],
      "source": [
        "df.sort_values('shape', inplace=True)\n",
        "df\n"
      ]
    },
    {
      "cell_type": "markdown",
      "id": "afb1617c-9296-41c4-bf16-9c97e4a490a7",
      "metadata": {
        "deletable": false,
        "editable": false,
        "nbgrader": {
          "cell_type": "markdown",
          "checksum": "ac50a00b0c63bf8f2a19c5f8cf6e4ed0",
          "grade": false,
          "grade_id": "cell-440e576b3930f182",
          "locked": true,
          "schema_version": 3,
          "solution": false,
          "task": false
        },
        "id": "afb1617c-9296-41c4-bf16-9c97e4a490a7"
      },
      "source": [
        "7.2.1 (2 pts) Why is the row index now out of order?"
      ]
    },
    {
      "cell_type": "markdown",
      "id": "c17d5eee-5db2-49b7-ab61-29af5972c351",
      "metadata": {
        "deletable": false,
        "nbgrader": {
          "cell_type": "markdown",
          "checksum": "62bf19cabc8f195b73d99580ee970ed2",
          "grade": true,
          "grade_id": "cell-2417a38fe8b60dee",
          "locked": false,
          "points": 2,
          "schema_version": 3,
          "solution": true,
          "task": false
        },
        "id": "c17d5eee-5db2-49b7-ab61-29af5972c351"
      },
      "source": [
        "By default pandas.Dataframe.sort_values will sort numerically or alphabeticlly depending on the data type and the column selected, this default is in ascending order. For example if row 1 (index 1) had the value circle and row 0 (index 2) had the value square for their shape values .sort_values would output index 1, 2, 0."
      ]
    },
    {
      "cell_type": "markdown",
      "id": "25eb36fb-accd-4f05-8827-3c685448ce78",
      "metadata": {
        "deletable": false,
        "editable": false,
        "nbgrader": {
          "cell_type": "markdown",
          "checksum": "3af18eaf5196c87a7b7dd8f4f68b8e73",
          "grade": false,
          "grade_id": "cell-64b5af872b647819",
          "locked": true,
          "schema_version": 3,
          "solution": false,
          "task": false
        },
        "id": "25eb36fb-accd-4f05-8827-3c685448ce78"
      },
      "source": [
        "Like the numpy operators, you can use a dataframe in an expression and Pandas will perform the operation on each element."
      ]
    },
    {
      "cell_type": "markdown",
      "id": "6a0e0167-88c4-4b93-893b-4edfdec062d7",
      "metadata": {
        "deletable": false,
        "editable": false,
        "nbgrader": {
          "cell_type": "markdown",
          "checksum": "b32d3c8fc5fc99f372c7d4c71c574830",
          "grade": false,
          "grade_id": "cell-9bcc1f2954f879ac",
          "locked": true,
          "schema_version": 3,
          "solution": false,
          "task": false
        },
        "id": "6a0e0167-88c4-4b93-893b-4edfdec062d7"
      },
      "source": [
        "7.3 (3 pts) Use an expression to multiply each element in the quantity column by 3 and assign it back to the quantity column. State the value of `df`."
      ]
    },
    {
      "cell_type": "code",
      "execution_count": null,
      "id": "b5872bf2-6aa2-45b7-bb51-7b5c1315cff8",
      "metadata": {
        "deletable": false,
        "nbgrader": {
          "cell_type": "code",
          "checksum": "ab821c9ea06fb679316dc5e8123527ed",
          "grade": true,
          "grade_id": "cell-26b3f5199623cb14",
          "locked": false,
          "points": 3,
          "schema_version": 3,
          "solution": true,
          "task": false
        },
        "id": "b5872bf2-6aa2-45b7-bb51-7b5c1315cff8",
        "outputId": "caab99d9-d36a-4954-892e-5a580a899734"
      },
      "outputs": [
        {
          "data": {
            "text/html": [
              "<div>\n",
              "<style scoped>\n",
              "    .dataframe tbody tr th:only-of-type {\n",
              "        vertical-align: middle;\n",
              "    }\n",
              "\n",
              "    .dataframe tbody tr th {\n",
              "        vertical-align: top;\n",
              "    }\n",
              "\n",
              "    .dataframe thead th {\n",
              "        text-align: right;\n",
              "    }\n",
              "</style>\n",
              "<table border=\"1\" class=\"dataframe\">\n",
              "  <thead>\n",
              "    <tr style=\"text-align: right;\">\n",
              "      <th></th>\n",
              "      <th>color</th>\n",
              "      <th>shape</th>\n",
              "      <th>quantity</th>\n",
              "    </tr>\n",
              "  </thead>\n",
              "  <tbody>\n",
              "    <tr>\n",
              "      <th>2</th>\n",
              "      <td>yellow</td>\n",
              "      <td>circle</td>\n",
              "      <td>345</td>\n",
              "    </tr>\n",
              "    <tr>\n",
              "      <th>1</th>\n",
              "      <td>blue</td>\n",
              "      <td>square</td>\n",
              "      <td>15</td>\n",
              "    </tr>\n",
              "    <tr>\n",
              "      <th>0</th>\n",
              "      <td>red</td>\n",
              "      <td>triangle</td>\n",
              "      <td>36</td>\n",
              "    </tr>\n",
              "  </tbody>\n",
              "</table>\n",
              "</div>"
            ],
            "text/plain": [
              "    color     shape  quantity\n",
              "2  yellow    circle       345\n",
              "1    blue    square        15\n",
              "0     red  triangle        36"
            ]
          },
          "execution_count": 73,
          "metadata": {},
          "output_type": "execute_result"
        }
      ],
      "source": [
        "#OLD CODE it works but uhh not a single 'expression' nor is it very elegant. I had to review pandas inbetween this function and the solution below.\n",
        "#for i in range(len(df.values)):\n",
        "#    print(df.at[i, 'quantity'])\n",
        "#    df.replace(to_replace = df.at[i, 'quantity'], value = (int(df.at[i, 'quantity']) * 3), inplace = True )\n",
        "#    print(df.at[i, 'quantity'])\n",
        "\n",
        "#the real solution because of course its that easy this is what I get for skipping numpy section because I couldn't get .reshape() to work on my 22 element array.\n",
        "\n",
        "df['quantity'] = [int(i) * 3 for i in df['quantity']] #goooo list comprehension :)\n",
        "\n",
        "df"
      ]
    },
    {
      "cell_type": "markdown",
      "id": "f11e328c-b9a6-4f40-bac7-001c093c3b5d",
      "metadata": {
        "deletable": false,
        "editable": false,
        "nbgrader": {
          "cell_type": "markdown",
          "checksum": "50729e469323c50a63e5bec55a5d56e6",
          "grade": false,
          "grade_id": "cell-13af2bc58ee810d8",
          "locked": true,
          "schema_version": 3,
          "solution": false,
          "task": false
        },
        "id": "f11e328c-b9a6-4f40-bac7-001c093c3b5d"
      },
      "source": [
        "7.4 (3 pts) One of the most common ways to work with a dataframe is to select a subset of rows or column based on some condition. To understand how this works, first use a simple expression to select two of the rows in your dataframe (use a condition on the quantity colum that holds true for only two rows, such as `df.quantity < 50` ). Assign the result to a variable called `selection` and state the value."
      ]
    },
    {
      "cell_type": "code",
      "execution_count": null,
      "id": "5c8ecd06-db4e-434b-b6bc-32fcd35932b3",
      "metadata": {
        "deletable": false,
        "nbgrader": {
          "cell_type": "code",
          "checksum": "81db68d903b27d16b86bf1f37cc1166f",
          "grade": true,
          "grade_id": "cell-cb36b4181c8ad83e",
          "locked": false,
          "points": 3,
          "schema_version": 3,
          "solution": true,
          "task": false
        },
        "id": "5c8ecd06-db4e-434b-b6bc-32fcd35932b3",
        "outputId": "bcd65319-2a48-4ae8-bd92-4fd78948f4b8"
      },
      "outputs": [
        {
          "data": {
            "text/plain": [
              "2    False\n",
              "1     True\n",
              "0     True\n",
              "Name: quantity, dtype: bool"
            ]
          },
          "execution_count": 84,
          "metadata": {},
          "output_type": "execute_result"
        }
      ],
      "source": [
        "selection = df['quantity'] < 50\n",
        "selection"
      ]
    },
    {
      "cell_type": "markdown",
      "id": "a2842119-59e0-4f2a-b0ea-a171bc72c39c",
      "metadata": {
        "deletable": false,
        "editable": false,
        "nbgrader": {
          "cell_type": "markdown",
          "checksum": "38881ec78a81a536b5871868f12c9aaa",
          "grade": false,
          "grade_id": "cell-b6c0eafd96915cc3",
          "locked": true,
          "schema_version": 3,
          "solution": false,
          "task": false
        },
        "id": "a2842119-59e0-4f2a-b0ea-a171bc72c39c"
      },
      "source": [
        "7.4.2 (1 pt) What is returned from the expression?"
      ]
    },
    {
      "cell_type": "raw",
      "id": "2c26fbda-a4cd-4b0a-8f30-e603452fec4e",
      "metadata": {
        "deletable": false,
        "nbgrader": {
          "cell_type": "markdown",
          "checksum": "28d65584d9c6c08ed0c9a60aac44e51a",
          "grade": true,
          "grade_id": "cell-afb9c95c8db1a972",
          "locked": false,
          "points": 1,
          "schema_version": 3,
          "solution": true,
          "task": false
        },
        "id": "2c26fbda-a4cd-4b0a-8f30-e603452fec4e"
      },
      "source": [
        "The selection variable looks inside the df dataframe for the values of that column ('quantity') and checks if they are less than 50 then makes a boolean series from those responses (in this case False, True, True) which is just a way for pandas to know which rows to include or exclude."
      ]
    },
    {
      "cell_type": "markdown",
      "id": "c11cf3fd-399f-454a-b470-b7c38aca96a8",
      "metadata": {
        "deletable": false,
        "editable": false,
        "nbgrader": {
          "cell_type": "markdown",
          "checksum": "2fba5b23414f4b4e13e141131dc6ccdd",
          "grade": false,
          "grade_id": "cell-d3aaa7b099c629ac",
          "locked": true,
          "schema_version": 3,
          "solution": false,
          "task": false
        },
        "id": "c11cf3fd-399f-454a-b470-b7c38aca96a8"
      },
      "source": [
        "7.4.3 (3 pts) Use the variable `selection` to index the `df` dataframe (do not assign the result to a variable)"
      ]
    },
    {
      "cell_type": "code",
      "execution_count": null,
      "id": "ffef9646-9c33-402c-8489-e59e4125c65c",
      "metadata": {
        "deletable": false,
        "nbgrader": {
          "cell_type": "code",
          "checksum": "7225e72a28478c488ac6fda01715b3ab",
          "grade": true,
          "grade_id": "cell-c97285c87d7d2176",
          "locked": false,
          "points": 3,
          "schema_version": 3,
          "solution": true,
          "task": false
        },
        "id": "ffef9646-9c33-402c-8489-e59e4125c65c",
        "outputId": "e94f199f-d830-40b7-a6e3-2afbc815f165"
      },
      "outputs": [
        {
          "data": {
            "text/html": [
              "<div>\n",
              "<style scoped>\n",
              "    .dataframe tbody tr th:only-of-type {\n",
              "        vertical-align: middle;\n",
              "    }\n",
              "\n",
              "    .dataframe tbody tr th {\n",
              "        vertical-align: top;\n",
              "    }\n",
              "\n",
              "    .dataframe thead th {\n",
              "        text-align: right;\n",
              "    }\n",
              "</style>\n",
              "<table border=\"1\" class=\"dataframe\">\n",
              "  <thead>\n",
              "    <tr style=\"text-align: right;\">\n",
              "      <th></th>\n",
              "      <th>color</th>\n",
              "      <th>shape</th>\n",
              "      <th>quantity</th>\n",
              "    </tr>\n",
              "  </thead>\n",
              "  <tbody>\n",
              "    <tr>\n",
              "      <th>1</th>\n",
              "      <td>blue</td>\n",
              "      <td>square</td>\n",
              "      <td>15</td>\n",
              "    </tr>\n",
              "    <tr>\n",
              "      <th>0</th>\n",
              "      <td>red</td>\n",
              "      <td>triangle</td>\n",
              "      <td>36</td>\n",
              "    </tr>\n",
              "  </tbody>\n",
              "</table>\n",
              "</div>"
            ],
            "text/plain": [
              "  color     shape  quantity\n",
              "1  blue    square        15\n",
              "0   red  triangle        36"
            ]
          },
          "execution_count": 86,
          "metadata": {},
          "output_type": "execute_result"
        }
      ],
      "source": [
        "df[selection]"
      ]
    },
    {
      "cell_type": "markdown",
      "id": "09d39611-f14b-4da2-9186-bbe0ae0d8dcb",
      "metadata": {
        "deletable": false,
        "editable": false,
        "nbgrader": {
          "cell_type": "markdown",
          "checksum": "3233a942185668d1657b222ee7fbae2c",
          "grade": false,
          "grade_id": "cell-599edc4173302e60",
          "locked": true,
          "schema_version": 3,
          "solution": false,
          "task": false
        },
        "id": "09d39611-f14b-4da2-9186-bbe0ae0d8dcb"
      },
      "source": [
        "7.4.4 (1 pt) Which rows in `df` were selected (relative to `selection`)?"
      ]
    },
    {
      "cell_type": "markdown",
      "id": "6d72a088-2286-45d3-941b-8b90b56be481",
      "metadata": {
        "deletable": false,
        "nbgrader": {
          "cell_type": "markdown",
          "checksum": "7a4db988f45ec1f0da9fd923b19846a1",
          "grade": true,
          "grade_id": "cell-ed2e6342c8957634",
          "locked": false,
          "points": 0,
          "schema_version": 3,
          "solution": true,
          "task": false
        },
        "id": "6d72a088-2286-45d3-941b-8b90b56be481"
      },
      "source": [
        "Only in rows where that index's quantity value was < 50. So index 2 (see above) with a value of 345 was false."
      ]
    },
    {
      "cell_type": "markdown",
      "id": "15f9fa5d-ce64-4c5a-90d9-d082ea994bf5",
      "metadata": {
        "deletable": false,
        "editable": false,
        "nbgrader": {
          "cell_type": "markdown",
          "checksum": "181154cb5ab38a3e15ad00bb7f589a4c",
          "grade": false,
          "grade_id": "cell-eeee9f2ce0359fd5",
          "locked": true,
          "schema_version": 3,
          "solution": false,
          "task": false
        },
        "id": "15f9fa5d-ce64-4c5a-90d9-d082ea994bf5"
      },
      "source": [
        "7.4.5 (1 pt) How do you think the row index was used in the above operation?"
      ]
    },
    {
      "cell_type": "markdown",
      "id": "a35be42f-3246-4025-887d-22f3c6d77d23",
      "metadata": {
        "deletable": false,
        "nbgrader": {
          "cell_type": "markdown",
          "checksum": "067396312c4af2b195b28d3b4b559684",
          "grade": true,
          "grade_id": "cell-ed8f9b762f8e497e",
          "locked": false,
          "points": 0,
          "schema_version": 3,
          "solution": true,
          "task": false
        },
        "id": "a35be42f-3246-4025-887d-22f3c6d77d23"
      },
      "source": [
        "The row index kept our data together, even though we were looking specifically at the quantity and using expressions on that we never lost the data related to color or shape as it was tied to our row index. Essentially all our series did (selection) was to say add this index or that index to the dataframe."
      ]
    },
    {
      "cell_type": "markdown",
      "id": "d9fbb55a-81af-444d-ae07-36f37d0601d0",
      "metadata": {
        "deletable": false,
        "editable": false,
        "nbgrader": {
          "cell_type": "markdown",
          "checksum": "4ec44bc0b61b928a3e2b45bf5bcb6406",
          "grade": false,
          "grade_id": "cell-cd6b4424faec2d28",
          "locked": true,
          "schema_version": 3,
          "solution": false,
          "task": false
        },
        "id": "d9fbb55a-81af-444d-ae07-36f37d0601d0"
      },
      "source": [
        "---"
      ]
    },
    {
      "cell_type": "markdown",
      "id": "ce0c32f6-4bba-451c-8900-991f31dfeb00",
      "metadata": {
        "deletable": false,
        "editable": false,
        "nbgrader": {
          "cell_type": "markdown",
          "checksum": "85090d0e2f8ff5ef54c008826f9f226d",
          "grade": false,
          "grade_id": "cell-602309fb62c6d089",
          "locked": true,
          "schema_version": 3,
          "solution": false,
          "task": false
        },
        "id": "ce0c32f6-4bba-451c-8900-991f31dfeb00"
      },
      "source": [
        "### Submission Instructions"
      ]
    },
    {
      "cell_type": "markdown",
      "id": "4f74e1e1-aa6a-4604-861d-da81f9a9e5bb",
      "metadata": {
        "deletable": false,
        "editable": false,
        "nbgrader": {
          "cell_type": "markdown",
          "checksum": "9d090eb0254b082ef7ef72a5a7431689",
          "grade": false,
          "grade_id": "cell-cbba24b7387b298a",
          "locked": true,
          "schema_version": 3,
          "solution": false,
          "task": false
        },
        "id": "4f74e1e1-aa6a-4604-861d-da81f9a9e5bb"
      },
      "source": [
        "Be sure to ***SAVE YOUR WORK***!  \n",
        "\n",
        "Then submit this notebook (.ipynb) file to Canvas."
      ]
    }
  ],
  "metadata": {
    "kernelspec": {
      "display_name": "Python 3 (ipykernel)",
      "language": "python",
      "name": "python3"
    },
    "language_info": {
      "codemirror_mode": {
        "name": "ipython",
        "version": 3
      },
      "file_extension": ".py",
      "mimetype": "text/x-python",
      "name": "python",
      "nbconvert_exporter": "python",
      "pygments_lexer": "ipython3",
      "version": "3.12.5"
    },
    "colab": {
      "provenance": [],
      "include_colab_link": true
    }
  },
  "nbformat": 4,
  "nbformat_minor": 5
}