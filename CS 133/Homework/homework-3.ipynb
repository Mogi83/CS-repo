{
 "cells": [
  {
   "cell_type": "markdown",
   "id": "50fd10e8-22c3-4da5-ade2-b50da1781fc6",
   "metadata": {
    "deletable": false,
    "editable": false,
    "nbgrader": {
     "cell_type": "markdown",
     "checksum": "86409702eb9dbe873b29f3e97d11fab2",
     "grade": false,
     "grade_id": "cell-25c41159fbc3b698",
     "locked": true,
     "schema_version": 3,
     "solution": false,
     "task": false
    }
   },
   "source": [
    "# Homework 3 - Probability and Distributions\n",
    "CS 133  \n",
    "Spring 2025  \n",
    "v1.0\n",
    "\n",
    "---"
   ]
  },
  {
   "cell_type": "markdown",
   "id": "429fda30-96b4-419e-b7d1-6bc977147e66",
   "metadata": {
    "deletable": false,
    "editable": false,
    "nbgrader": {
     "cell_type": "markdown",
     "checksum": "b9464e804c1b54157e4c923dfb87ebb5",
     "grade": false,
     "grade_id": "cell-0f013668af44397a",
     "locked": true,
     "schema_version": 3,
     "solution": false,
     "task": false
    }
   },
   "source": [
    "**IMPORTANT**: _Use Python to show your calculations for the questions below. For questions that ask for a numerical quantity, assign the name `answer` to your result and also state the variable `answer`._  \n",
    "Example:  \n",
    "```\n",
    "answer = 0.7 + x/1000\n",
    "answer\n",
    "```"
   ]
  },
  {
   "cell_type": "markdown",
   "id": "d7ecbe14-db7a-47d4-84a9-280b2d47e6a9",
   "metadata": {
    "deletable": false,
    "editable": false,
    "nbgrader": {
     "cell_type": "markdown",
     "checksum": "00bb24d79017a82024a057cbad9ce03b",
     "grade": false,
     "grade_id": "cell-7ef0a3d815df5ae0",
     "locked": true,
     "schema_version": 3,
     "solution": false,
     "task": false
    }
   },
   "source": [
    "## 1. Probabilty"
   ]
  },
  {
   "cell_type": "markdown",
   "id": "4d04a3cb-9881-497d-bad6-f12b300278bb",
   "metadata": {
    "deletable": false,
    "editable": false,
    "nbgrader": {
     "cell_type": "markdown",
     "checksum": "2f3c00999220d38c81ec585cd977537b",
     "grade": false,
     "grade_id": "cell-0a3c831f2d00a85c",
     "locked": true,
     "schema_version": 3,
     "solution": false,
     "task": false
    }
   },
   "source": [
    "Mr. Wensleydale goes to a cheese shop to buy some cheese. The probability that the cheese shop is out of his favorite cheese (Gouda) is 25%. The probability the shop will be out of his second and third choices (Parmesan and Cheddar) is 45% and 15%, respectively. Mr. Wensleydale will not eat any other type of cheese. (_Note: Assume the causes of running out of each cheese are independent_).\n",
    "\n",
    "1.1 (2 pts) What is the probability that Mr. Wensleydale will not be having cheese today?"
   ]
  },
  {
   "cell_type": "code",
   "execution_count": null,
   "id": "60249f77-6469-42fb-8a9f-0891b46ec3f6",
   "metadata": {
    "deletable": false,
    "nbgrader": {
     "cell_type": "code",
     "checksum": "348394f99335a94c24434f74bdae8f3f",
     "grade": false,
     "grade_id": "cell-646b8629efc4ec03",
     "locked": false,
     "schema_version": 3,
     "solution": true,
     "task": false
    }
   },
   "outputs": [],
   "source": [
    "NotGouda = 0.75\n"
   ]
  },
  {
   "cell_type": "code",
   "execution_count": null,
   "id": "d3ab0527-5431-41d7-bb46-9fc6fce951c6",
   "metadata": {
    "deletable": false,
    "editable": false,
    "nbgrader": {
     "cell_type": "code",
     "checksum": "3fe51b3817f5b6b92434832f3543c928",
     "grade": true,
     "grade_id": "cell-2c780c76d6c4aa1e",
     "locked": true,
     "points": 2,
     "schema_version": 3,
     "solution": false,
     "task": false
    }
   },
   "outputs": [],
   "source": [
    "# Do not edit or remove this cell"
   ]
  },
  {
   "cell_type": "markdown",
   "id": "d91d3e5b-3642-4d85-b944-ac410f009439",
   "metadata": {
    "deletable": false,
    "editable": false,
    "nbgrader": {
     "cell_type": "markdown",
     "checksum": "c609ea1b64f37a71ae1afc146b3b8868",
     "grade": false,
     "grade_id": "cell-8bc6f56dde24956b",
     "locked": true,
     "schema_version": 3,
     "solution": false,
     "task": false
    }
   },
   "source": [
    "1.2 (2 pts) What is the probability that Mr. Wensleydale will be eating Cheddar cheese?"
   ]
  },
  {
   "cell_type": "code",
   "execution_count": null,
   "id": "489f4d75-7b35-4688-988b-134e87bb16d1",
   "metadata": {
    "deletable": false,
    "nbgrader": {
     "cell_type": "code",
     "checksum": "f98fb5c2c41f46fd13d552b2ceaf7185",
     "grade": false,
     "grade_id": "cell-6e0321788099d0c1",
     "locked": false,
     "schema_version": 3,
     "solution": true,
     "task": false
    }
   },
   "outputs": [],
   "source": [
    "# YOUR CODE HERE\n",
    "raise NotImplementedError()"
   ]
  },
  {
   "cell_type": "code",
   "execution_count": null,
   "id": "76c4da17-5add-4843-8d8c-eb9fa1b002f1",
   "metadata": {
    "deletable": false,
    "editable": false,
    "nbgrader": {
     "cell_type": "code",
     "checksum": "dc7b31d4ec2db90e19935f6d4a537a54",
     "grade": true,
     "grade_id": "cell-78d9b55ec002be51",
     "locked": true,
     "points": 2,
     "schema_version": 3,
     "solution": false,
     "task": false
    }
   },
   "outputs": [],
   "source": [
    "# Do not edit or remove this cell"
   ]
  },
  {
   "cell_type": "markdown",
   "id": "b6b1f016-58f4-415a-b074-eddcc7ff7ba0",
   "metadata": {
    "deletable": false,
    "editable": false,
    "nbgrader": {
     "cell_type": "markdown",
     "checksum": "5804ebb9e0f6c79944d6388c9894fbd4",
     "grade": false,
     "grade_id": "cell-8c443c71fd54ecff",
     "locked": true,
     "schema_version": 3,
     "solution": false,
     "task": false
    }
   },
   "source": [
    "1.3 (2 pts) What is the probability that Mr. Wensleydale will be eating some cheese today?"
   ]
  },
  {
   "cell_type": "code",
   "execution_count": null,
   "id": "5b53c781-8496-4abc-afa9-ec4dee6a821d",
   "metadata": {
    "deletable": false,
    "nbgrader": {
     "cell_type": "code",
     "checksum": "34324b40e92d18944b0e5cd0ef272c3f",
     "grade": false,
     "grade_id": "cell-dc900f421ff82588",
     "locked": false,
     "schema_version": 3,
     "solution": true,
     "task": false
    }
   },
   "outputs": [],
   "source": [
    "# YOUR CODE HERE\n",
    "raise NotImplementedError()"
   ]
  },
  {
   "cell_type": "code",
   "execution_count": null,
   "id": "aea85ce4-17d9-4d37-b5a7-b00667659717",
   "metadata": {
    "deletable": false,
    "editable": false,
    "nbgrader": {
     "cell_type": "code",
     "checksum": "c41da965fcc050af79c63d8a53b47ec0",
     "grade": true,
     "grade_id": "cell-759c19b4a0c3cbd0",
     "locked": true,
     "points": 2,
     "schema_version": 3,
     "solution": false,
     "task": false
    }
   },
   "outputs": [],
   "source": [
    "# Do not edit or remove this cell"
   ]
  },
  {
   "cell_type": "markdown",
   "id": "3d4384ef-50f1-41e6-9316-083b98f7d3d9",
   "metadata": {
    "deletable": false,
    "editable": false,
    "nbgrader": {
     "cell_type": "markdown",
     "checksum": "bb3dccbe651ba5993a7a2d4cce735044",
     "grade": false,
     "grade_id": "cell-e558b4410731974c",
     "locked": true,
     "schema_version": 3,
     "solution": false,
     "task": false
    }
   },
   "source": [
    "1.4 (1 pt) For this problem, what is the size of the sample space (S)?"
   ]
  },
  {
   "cell_type": "code",
   "execution_count": null,
   "id": "1cdbf44b-5f47-40f1-83e8-cc316b4b58a5",
   "metadata": {
    "deletable": false,
    "nbgrader": {
     "cell_type": "code",
     "checksum": "e0165b324567cedaa99092b2cea0c055",
     "grade": false,
     "grade_id": "cell-7cbf029c02730c8e",
     "locked": false,
     "schema_version": 3,
     "solution": true,
     "task": false
    }
   },
   "outputs": [],
   "source": [
    "# YOUR CODE HERE\n",
    "raise NotImplementedError()"
   ]
  },
  {
   "cell_type": "code",
   "execution_count": null,
   "id": "94a74554-03a7-4b0e-ac23-82c8047e3c0a",
   "metadata": {
    "deletable": false,
    "editable": false,
    "nbgrader": {
     "cell_type": "code",
     "checksum": "a0151a18760e1eaae90734cbb28a0f44",
     "grade": true,
     "grade_id": "cell-ac31cb67aae905b3",
     "locked": true,
     "points": 1,
     "schema_version": 3,
     "solution": false,
     "task": false
    }
   },
   "outputs": [],
   "source": [
    "# Do not edit or remove this cell"
   ]
  },
  {
   "cell_type": "markdown",
   "id": "5e9443e8-e71a-4420-a5cb-8d6ef2124ca6",
   "metadata": {
    "deletable": false,
    "editable": false,
    "nbgrader": {
     "cell_type": "markdown",
     "checksum": "f268b12726e0947b34bf55d9d30739af",
     "grade": false,
     "grade_id": "cell-489cf08229d432e5",
     "locked": true,
     "schema_version": 3,
     "solution": false,
     "task": false
    }
   },
   "source": [
    "## 2. Conditional Probability"
   ]
  },
  {
   "cell_type": "markdown",
   "id": "fbfd0dbc-42a4-4ecd-b496-8f35da3a10cc",
   "metadata": {
    "deletable": false,
    "editable": false,
    "nbgrader": {
     "cell_type": "markdown",
     "checksum": "e3bb3d2f01ee69d9a6094ace63bfa879",
     "grade": false,
     "grade_id": "cell-092fc84aad80a560",
     "locked": true,
     "schema_version": 3,
     "solution": false,
     "task": false
    }
   },
   "source": [
    "Punxsutawney Phil claims to predict whether spring will come early or not. Although Phil typically predicts an early spring 65% of the time a study has shown his overall accuracy (for both early springs and long winters) is only 40%. Historical weather data show that spring comes early 25% of the time."
   ]
  },
  {
   "cell_type": "markdown",
   "id": "590eecdf-51fe-4cb8-b42f-0cfc351380bf",
   "metadata": {
    "deletable": false,
    "editable": false,
    "nbgrader": {
     "cell_type": "markdown",
     "checksum": "f1a68e8c2b3879104def0278bd92519a",
     "grade": false,
     "grade_id": "cell-e2ff6376fb1afac7",
     "locked": true,
     "schema_version": 3,
     "solution": false,
     "task": false
    }
   },
   "source": [
    "2.1 (5pts) What is the probability that spring will come early given that Phil predicts it?"
   ]
  },
  {
   "cell_type": "code",
   "execution_count": null,
   "id": "ea0e32d2-0ffa-4428-a72f-c8f672b32c20",
   "metadata": {
    "deletable": false,
    "nbgrader": {
     "cell_type": "code",
     "checksum": "162670f474775dadbe53b140df74620d",
     "grade": false,
     "grade_id": "cell-20ced8b14ead263e",
     "locked": false,
     "schema_version": 3,
     "solution": true,
     "task": false
    }
   },
   "outputs": [],
   "source": [
    "# YOUR CODE HERE\n",
    "raise NotImplementedError()"
   ]
  },
  {
   "cell_type": "code",
   "execution_count": null,
   "id": "c8e2cba2-af31-4def-ab58-b360719663c6",
   "metadata": {
    "deletable": false,
    "editable": false,
    "nbgrader": {
     "cell_type": "code",
     "checksum": "8b17015578decf843979961dd8e6bbc9",
     "grade": true,
     "grade_id": "cell-5726c49715d08882",
     "locked": true,
     "points": 5,
     "schema_version": 3,
     "solution": false,
     "task": false
    }
   },
   "outputs": [],
   "source": [
    "# Do not edit or remove this cell"
   ]
  },
  {
   "cell_type": "markdown",
   "id": "0da884ef-ce99-462a-b44c-4e9230a6cfee",
   "metadata": {
    "deletable": false,
    "editable": false,
    "nbgrader": {
     "cell_type": "markdown",
     "checksum": "51665fc98015e0d8c33a08c163ed61c8",
     "grade": false,
     "grade_id": "cell-a5fb499aa20263f5",
     "locked": true,
     "schema_version": 3,
     "solution": false,
     "task": false
    }
   },
   "source": [
    "Crime statistics for Pottersville show a robbery rate of 2% of houses annually. A sample of the houses that got robbed show that 35% had dogs. In the general population of Pottersville, 60% of the homes have dogs."
   ]
  },
  {
   "cell_type": "markdown",
   "id": "19838f73-c639-4536-9b0b-5b4db2bd1f69",
   "metadata": {
    "deletable": false,
    "editable": false,
    "nbgrader": {
     "cell_type": "markdown",
     "checksum": "050282c08d60bb44f901aa4bef246f53",
     "grade": false,
     "grade_id": "cell-f5315db310dfdc96",
     "locked": true,
     "schema_version": 3,
     "solution": false,
     "task": false
    }
   },
   "source": [
    "2.2 (5pts) What is the probability that a home with a dog will be robbed in Pottersville?"
   ]
  },
  {
   "cell_type": "code",
   "execution_count": null,
   "id": "a0ad8f0f-8bce-4584-8dfb-39d1471aee8e",
   "metadata": {
    "deletable": false,
    "nbgrader": {
     "cell_type": "code",
     "checksum": "5ce478a3dcc689a0b4e93b1b050ac1fd",
     "grade": false,
     "grade_id": "cell-e46837a9ac6b0bb3",
     "locked": false,
     "schema_version": 3,
     "solution": true,
     "task": false
    }
   },
   "outputs": [],
   "source": [
    "# YOUR CODE HERE\n",
    "raise NotImplementedError()"
   ]
  },
  {
   "cell_type": "code",
   "execution_count": null,
   "id": "0beea1d7-f4b1-419a-9032-82dd4ee20366",
   "metadata": {
    "deletable": false,
    "editable": false,
    "nbgrader": {
     "cell_type": "code",
     "checksum": "f5ac5f8c54d4097079f9d0594608d886",
     "grade": true,
     "grade_id": "cell-bc7b4c88a67207ea",
     "locked": true,
     "points": 5,
     "schema_version": 3,
     "solution": false,
     "task": false
    }
   },
   "outputs": [],
   "source": [
    "# Do not edit or remove this cell"
   ]
  },
  {
   "cell_type": "markdown",
   "id": "30bb5ae3-79c5-4a04-9d1c-db07ab7de5e2",
   "metadata": {
    "deletable": false,
    "editable": false,
    "nbgrader": {
     "cell_type": "markdown",
     "checksum": "b695daad269d0fa890948d1a4e2aa686",
     "grade": false,
     "grade_id": "cell-fe70b18a697e73e3",
     "locked": true,
     "schema_version": 3,
     "solution": false,
     "task": false
    }
   },
   "source": [
    "A company hires you to determine if they should renew their ad campaign on a major website. Looking over the statistics you note that of the people surfing the website, 12% purchase the company's product and 40% view the ad. However, of those that purchased the product only 20% have viewed the ad."
   ]
  },
  {
   "cell_type": "markdown",
   "id": "5ac36007-548d-4ecc-82da-94a1618f7056",
   "metadata": {
    "deletable": false,
    "editable": false,
    "nbgrader": {
     "cell_type": "markdown",
     "checksum": "abd87e4cb3a6159f85171378d1539d47",
     "grade": false,
     "grade_id": "cell-6bc0fa1239635acb",
     "locked": true,
     "schema_version": 3,
     "solution": false,
     "task": false
    }
   },
   "source": [
    "2.3 (5pts) What is the probability that a person surfing the website will purchase the product if they view the ad?"
   ]
  },
  {
   "cell_type": "code",
   "execution_count": null,
   "id": "67d8fc8c-72be-4330-9102-aeb6981eeb3e",
   "metadata": {
    "deletable": false,
    "nbgrader": {
     "cell_type": "code",
     "checksum": "c04fbe3bba4f9e3c07242f43fd8e4103",
     "grade": false,
     "grade_id": "cell-3f923b46193a1523",
     "locked": false,
     "schema_version": 3,
     "solution": true,
     "task": false
    }
   },
   "outputs": [],
   "source": [
    "# YOUR CODE HERE\n",
    "raise NotImplementedError()"
   ]
  },
  {
   "cell_type": "code",
   "execution_count": null,
   "id": "5b5b31ec-a820-491e-97c5-590a59910012",
   "metadata": {
    "deletable": false,
    "editable": false,
    "nbgrader": {
     "cell_type": "code",
     "checksum": "fb3871567412eb1da62792a022cc34ad",
     "grade": true,
     "grade_id": "cell-5ae6f99fb91e023f",
     "locked": true,
     "points": 5,
     "schema_version": 3,
     "solution": false,
     "task": false
    }
   },
   "outputs": [],
   "source": [
    "# Do not edit or remove this cell"
   ]
  },
  {
   "cell_type": "markdown",
   "id": "69e8a7d5-74d6-4ac5-b864-0600fe226204",
   "metadata": {
    "deletable": false,
    "editable": false,
    "nbgrader": {
     "cell_type": "markdown",
     "checksum": "f0d0e04ffdc71d76683c925218f44f4b",
     "grade": false,
     "grade_id": "cell-31bd60d2c2142e70",
     "locked": true,
     "schema_version": 3,
     "solution": false,
     "task": false
    }
   },
   "source": [
    "Gandalf the wizard is searching for someone in middle-earth to destroy the one ring. He asks you to do a statistical analysis on the four races of middle-earth: Hobbits, Elves, Dwarves, and Men. He would like to know the conditional probabilities that an indvidual would be corrupted by the ring given they are of a specific race."
   ]
  },
  {
   "cell_type": "markdown",
   "id": "a6054173-9d3f-43d3-b960-6a4e4188e0a2",
   "metadata": {
    "deletable": false,
    "editable": false,
    "nbgrader": {
     "cell_type": "markdown",
     "checksum": "607aa263f609f6b8085f5b138e83643c",
     "grade": false,
     "grade_id": "cell-50396172f5bad8cc",
     "locked": true,
     "schema_version": 3,
     "solution": false,
     "task": false
    }
   },
   "source": [
    "Using the dataset `lotr.csv`, tabulate the yes/no values of the `Corruptible` column by race and answer the questions below. _Hint: The `groupby()` and `size()` methods might be helpful here_"
   ]
  },
  {
   "cell_type": "code",
   "execution_count": null,
   "id": "03e21d51-cd48-42db-97f1-bc4342f70d63",
   "metadata": {
    "deletable": false,
    "nbgrader": {
     "cell_type": "code",
     "checksum": "18f0c5a8586f3880db141c66dfb59303",
     "grade": false,
     "grade_id": "cell-25d4e34dd14b361b",
     "locked": false,
     "schema_version": 3,
     "solution": true,
     "task": false
    }
   },
   "outputs": [],
   "source": [
    "# YOUR CODE HERE\n",
    "raise NotImplementedError()"
   ]
  },
  {
   "cell_type": "markdown",
   "id": "3492ee22-6679-4442-b397-4f767f731260",
   "metadata": {
    "deletable": false,
    "editable": false,
    "nbgrader": {
     "cell_type": "markdown",
     "checksum": "efbdd33bef0e914e655a4189ddc2dee5",
     "grade": false,
     "grade_id": "cell-69e659ea9505eefe",
     "locked": true,
     "schema_version": 3,
     "solution": false,
     "task": false
    }
   },
   "source": [
    "2.4.1 (3pt) What is the probability of being corruptible for _Hobbits_?"
   ]
  },
  {
   "cell_type": "code",
   "execution_count": null,
   "id": "879ec7e5-ad67-4f9f-8a91-16ea550cc9cd",
   "metadata": {
    "deletable": false,
    "nbgrader": {
     "cell_type": "code",
     "checksum": "e6430e83b19e59f29b0f5b0b5f64c0af",
     "grade": false,
     "grade_id": "cell-9d64298018377aaa",
     "locked": false,
     "schema_version": 3,
     "solution": true,
     "task": false
    }
   },
   "outputs": [],
   "source": [
    "# YOUR CODE HERE\n",
    "raise NotImplementedError()"
   ]
  },
  {
   "cell_type": "code",
   "execution_count": null,
   "id": "2fb13a6d-95e2-450c-8478-fe310b12f0fa",
   "metadata": {
    "deletable": false,
    "editable": false,
    "nbgrader": {
     "cell_type": "code",
     "checksum": "4b74ca25b77fd54ea0722747fe899516",
     "grade": true,
     "grade_id": "cell-30f858043092956b",
     "locked": true,
     "points": 3,
     "schema_version": 3,
     "solution": false,
     "task": false
    }
   },
   "outputs": [],
   "source": [
    "# Do not edit or remove this cell"
   ]
  },
  {
   "cell_type": "markdown",
   "id": "daceed93-1699-4805-9a8f-e1a7edbb6ef7",
   "metadata": {
    "deletable": false,
    "editable": false,
    "nbgrader": {
     "cell_type": "markdown",
     "checksum": "b256c7bf187ad9f02404ed05c490bf04",
     "grade": false,
     "grade_id": "cell-295d20b13f4e20f0",
     "locked": true,
     "schema_version": 3,
     "solution": false,
     "task": false
    }
   },
   "source": [
    "2.4.2 (3pt) What is the probability of being corruptible for _Elves_?"
   ]
  },
  {
   "cell_type": "code",
   "execution_count": null,
   "id": "0431742f-74cd-48e3-ac6e-3a22f3a27b21",
   "metadata": {
    "deletable": false,
    "nbgrader": {
     "cell_type": "code",
     "checksum": "388eeb91eacffea001b87b4b07dd5f57",
     "grade": false,
     "grade_id": "cell-d9db4bcbbe1ba833",
     "locked": false,
     "schema_version": 3,
     "solution": true,
     "task": false
    }
   },
   "outputs": [],
   "source": [
    "# YOUR CODE HERE\n",
    "raise NotImplementedError()"
   ]
  },
  {
   "cell_type": "code",
   "execution_count": null,
   "id": "27c51040-3cb3-4ef8-8267-1407a82aefcb",
   "metadata": {
    "deletable": false,
    "editable": false,
    "nbgrader": {
     "cell_type": "code",
     "checksum": "525f0a1d47ce483cf15e175853cd531f",
     "grade": true,
     "grade_id": "cell-f0d142552fc1ebf4",
     "locked": true,
     "points": 2,
     "schema_version": 3,
     "solution": false,
     "task": false
    }
   },
   "outputs": [],
   "source": [
    "# Do not edit or remove this cell"
   ]
  },
  {
   "cell_type": "markdown",
   "id": "2d7256dd-c197-483e-b659-8409e3047bca",
   "metadata": {
    "deletable": false,
    "editable": false,
    "nbgrader": {
     "cell_type": "markdown",
     "checksum": "0e84df618381f56e748299e503bb0503",
     "grade": false,
     "grade_id": "cell-3e0a12c8ffae49e0",
     "locked": true,
     "schema_version": 3,
     "solution": false,
     "task": false
    }
   },
   "source": [
    "2.4.3 (3pt) What is the probability of being corruptible for _Dwarves_?"
   ]
  },
  {
   "cell_type": "code",
   "execution_count": null,
   "id": "16ee23ac-bc55-40a4-a77c-be50e20b12e3",
   "metadata": {
    "deletable": false,
    "nbgrader": {
     "cell_type": "code",
     "checksum": "2581ade9c8ca0b48d38107739b02ff0b",
     "grade": false,
     "grade_id": "cell-dbd06ae691bd15fc",
     "locked": false,
     "schema_version": 3,
     "solution": true,
     "task": false
    }
   },
   "outputs": [],
   "source": [
    "# YOUR CODE HERE\n",
    "raise NotImplementedError()"
   ]
  },
  {
   "cell_type": "code",
   "execution_count": null,
   "id": "a36dc81a-a2ce-4f93-83fa-7b084963234e",
   "metadata": {
    "deletable": false,
    "editable": false,
    "nbgrader": {
     "cell_type": "code",
     "checksum": "cee11b8b70e6d228c84abf62fb9f265b",
     "grade": true,
     "grade_id": "cell-f1e74ced04521550",
     "locked": true,
     "points": 3,
     "schema_version": 3,
     "solution": false,
     "task": false
    }
   },
   "outputs": [],
   "source": [
    "# Do not edit or remove this cell"
   ]
  },
  {
   "cell_type": "markdown",
   "id": "4496445b-0453-4409-872c-c750b4e37dd1",
   "metadata": {
    "deletable": false,
    "editable": false,
    "nbgrader": {
     "cell_type": "markdown",
     "checksum": "9b64ed055a688c40c806623b8c5249a4",
     "grade": false,
     "grade_id": "cell-cbe3781ff15664e4",
     "locked": true,
     "schema_version": 3,
     "solution": false,
     "task": false
    }
   },
   "source": [
    "2.4.4 (3pt) What is the probability of being corruptible for _Men_?"
   ]
  },
  {
   "cell_type": "code",
   "execution_count": null,
   "id": "3f5df9c7-7701-4a6b-8a0d-6a7ef2bdfb9a",
   "metadata": {
    "deletable": false,
    "nbgrader": {
     "cell_type": "code",
     "checksum": "e2a39e6d5b09cd58955168e5b1953fbd",
     "grade": false,
     "grade_id": "cell-ff426cf8c2c5dcca",
     "locked": false,
     "schema_version": 3,
     "solution": true,
     "task": false
    }
   },
   "outputs": [],
   "source": [
    "# YOUR CODE HERE\n",
    "raise NotImplementedError()"
   ]
  },
  {
   "cell_type": "code",
   "execution_count": null,
   "id": "ed7f133d-08a2-4be7-8979-49a9dd88b8f7",
   "metadata": {
    "deletable": false,
    "editable": false,
    "nbgrader": {
     "cell_type": "code",
     "checksum": "9ef12defa210652d9052bf9b3d608482",
     "grade": true,
     "grade_id": "cell-6dc58e2cb9db7858",
     "locked": true,
     "points": 3,
     "schema_version": 3,
     "solution": false,
     "task": false
    }
   },
   "outputs": [],
   "source": [
    "# Do not edit or remove this cell"
   ]
  },
  {
   "cell_type": "markdown",
   "id": "41a1fc95-789a-48cd-85c1-efa8f009404c",
   "metadata": {
    "deletable": false,
    "editable": false,
    "nbgrader": {
     "cell_type": "markdown",
     "checksum": "6a2f56933d414882e258a4e4d4336bb5",
     "grade": false,
     "grade_id": "cell-288584cd18d1f6e3",
     "locked": true,
     "schema_version": 3,
     "solution": false,
     "task": false
    }
   },
   "source": [
    "## 3. Probability Distributions"
   ]
  },
  {
   "cell_type": "markdown",
   "id": "c79564a1-5dbf-4296-81f5-cac85ea7b945",
   "metadata": {
    "deletable": false,
    "editable": false,
    "nbgrader": {
     "cell_type": "markdown",
     "checksum": "d685fa9169dda73d66cedea558d6aa9c",
     "grade": false,
     "grade_id": "cell-d8ee65328c1bee34",
     "locked": true,
     "schema_version": 3,
     "solution": false,
     "task": false
    }
   },
   "source": [
    "Gandalf needs to create a fellowship to help the ring-bearer get to Mordor. He knows he will need some members from the race of Men for protection. He decides he will first choose 20 men randomly from around middle-earth and from these choose two men to joing the fellowship."
   ]
  },
  {
   "cell_type": "markdown",
   "id": "fd6fc655-f71c-430f-bfa8-2bca25f1ac01",
   "metadata": {
    "deletable": false,
    "editable": false,
    "nbgrader": {
     "cell_type": "markdown",
     "checksum": "c3ecc109fcd8a817fda6ce17671099c0",
     "grade": false,
     "grade_id": "cell-136c5ce51307b185",
     "locked": true,
     "schema_version": 3,
     "solution": false,
     "task": false
    }
   },
   "source": [
    "3.1 (3pts) Using the probability you calculated in question 2.4.4 create a graph showing the binomial distribution of corrupbitility for Gandalf's initial selection of 20 men."
   ]
  },
  {
   "cell_type": "code",
   "execution_count": null,
   "id": "1dace68b-f833-40d8-b7fd-9d06c30e868b",
   "metadata": {
    "deletable": false,
    "nbgrader": {
     "cell_type": "code",
     "checksum": "bbf21fcbb36e995dfb771b624d6791d7",
     "grade": true,
     "grade_id": "cell-df4363ee973c5f38",
     "locked": false,
     "points": 3,
     "schema_version": 3,
     "solution": true,
     "task": false
    }
   },
   "outputs": [],
   "source": [
    "# YOUR CODE HERE\n",
    "raise NotImplementedError()"
   ]
  },
  {
   "cell_type": "markdown",
   "id": "077a78fa-da29-4ea0-ac3a-0473a3421715",
   "metadata": {
    "deletable": false,
    "editable": false,
    "nbgrader": {
     "cell_type": "markdown",
     "checksum": "b0e94b89991f1cbb396d2c06342e9e5e",
     "grade": false,
     "grade_id": "cell-7c1d0e8544da2a53",
     "locked": true,
     "schema_version": 3,
     "solution": false,
     "task": false
    }
   },
   "source": [
    "3.2 (2pts) What is the probability of Gandalf choosing 15 or more non-corruptible men?"
   ]
  },
  {
   "cell_type": "code",
   "execution_count": null,
   "id": "6ccd037a-06ce-4c55-889f-32a4883b175d",
   "metadata": {
    "deletable": false,
    "nbgrader": {
     "cell_type": "code",
     "checksum": "6c01de7630c2d49383fe0fa8bed91772",
     "grade": false,
     "grade_id": "cell-112f35bfdc239f8f",
     "locked": false,
     "schema_version": 3,
     "solution": true,
     "task": false
    }
   },
   "outputs": [],
   "source": [
    "# YOUR CODE HERE\n",
    "raise NotImplementedError()"
   ]
  },
  {
   "cell_type": "code",
   "execution_count": null,
   "id": "d40f19b1-0ed0-482f-a2ae-1ad7a8301c7c",
   "metadata": {
    "deletable": false,
    "editable": false,
    "nbgrader": {
     "cell_type": "code",
     "checksum": "15628be813049e61eccdd3ea4480c2a5",
     "grade": true,
     "grade_id": "cell-f6959dd3d7a5f1ec",
     "locked": true,
     "points": 2,
     "schema_version": 3,
     "solution": false,
     "task": false
    }
   },
   "outputs": [],
   "source": [
    "# Do not edit or remove this cell"
   ]
  },
  {
   "cell_type": "markdown",
   "id": "b38cab59-6106-402b-b544-46b0c69f9aff",
   "metadata": {
    "deletable": false,
    "editable": false,
    "nbgrader": {
     "cell_type": "markdown",
     "checksum": "a4efbeb6c5b8cc58a89d6bab90dc66ca",
     "grade": false,
     "grade_id": "cell-4d9700de8c0e5aed",
     "locked": true,
     "schema_version": 3,
     "solution": false,
     "task": false
    }
   },
   "source": [
    "The average time it takes a cat to exit a room when someone sneezes is 800 ms. About 68% of cats can exit a room between 600 and 1000 ms. Studies have shown the speeds which cats exit a room follow a normal distribution."
   ]
  },
  {
   "cell_type": "markdown",
   "id": "24003ed5-e6d0-4eed-b261-6ee0936ef710",
   "metadata": {
    "deletable": false,
    "editable": false,
    "nbgrader": {
     "cell_type": "markdown",
     "checksum": "b23f4241b21e840db817ff5796fddb4b",
     "grade": false,
     "grade_id": "cell-dde31b5dd0646a4d",
     "locked": true,
     "schema_version": 3,
     "solution": false,
     "task": false
    }
   },
   "source": [
    "3.3 (2pts) What is the probability a cat can exit a room in 500 ms or less?"
   ]
  },
  {
   "cell_type": "code",
   "execution_count": null,
   "id": "2a1e838e-cd21-4f48-b844-0cd980795918",
   "metadata": {
    "deletable": false,
    "nbgrader": {
     "cell_type": "code",
     "checksum": "8760c8e9b3809abbb8adbc4b95a23198",
     "grade": false,
     "grade_id": "cell-6270d533bef0fbdb",
     "locked": false,
     "schema_version": 3,
     "solution": true,
     "task": false
    }
   },
   "outputs": [],
   "source": [
    "# YOUR CODE HERE\n",
    "raise NotImplementedError()"
   ]
  },
  {
   "cell_type": "code",
   "execution_count": null,
   "id": "42aa7a39-d414-41ef-88e0-a995a264da64",
   "metadata": {
    "deletable": false,
    "editable": false,
    "nbgrader": {
     "cell_type": "code",
     "checksum": "5482f42eec54410d75edcca8c988f27d",
     "grade": true,
     "grade_id": "cell-0626be735b1d9b4c",
     "locked": true,
     "points": 2,
     "schema_version": 3,
     "solution": false,
     "task": false
    }
   },
   "outputs": [],
   "source": [
    "# Do not edit or remove this cell"
   ]
  },
  {
   "cell_type": "markdown",
   "id": "fab3f1eb-03a3-4d20-a19d-5010e4042e6a",
   "metadata": {
    "deletable": false,
    "editable": false,
    "nbgrader": {
     "cell_type": "markdown",
     "checksum": "6b6d278d2a9f42b22f5b1f58dd1e12e1",
     "grade": false,
     "grade_id": "cell-28816769415acd04",
     "locked": true,
     "schema_version": 3,
     "solution": false,
     "task": false
    }
   },
   "source": [
    "The probability of plugging a USB-A (old style) cable in correctly is determined to be 30%."
   ]
  },
  {
   "cell_type": "markdown",
   "id": "675182fb-15a8-4386-b9f1-f33a163d4044",
   "metadata": {
    "deletable": false,
    "editable": false,
    "nbgrader": {
     "cell_type": "markdown",
     "checksum": "8eb08b16636f74632a8a1feac8c6862a",
     "grade": false,
     "grade_id": "cell-90456a1900435c08",
     "locked": true,
     "schema_version": 3,
     "solution": false,
     "task": false
    }
   },
   "source": [
    "3.4 (2pts) If you make 10 attempts to plug in a USB-A cord, what is the probability that you will have more than 3 successes?"
   ]
  },
  {
   "cell_type": "code",
   "execution_count": null,
   "id": "84929fbb-e1a8-48d5-bc42-1bc7de2d85f8",
   "metadata": {
    "deletable": false,
    "nbgrader": {
     "cell_type": "code",
     "checksum": "e545697e07c340097a0bd60e20dd4926",
     "grade": false,
     "grade_id": "cell-f4f95fe2a7fc1aae",
     "locked": false,
     "schema_version": 3,
     "solution": true,
     "task": false
    }
   },
   "outputs": [],
   "source": [
    "# YOUR CODE HERE\n",
    "raise NotImplementedError()"
   ]
  },
  {
   "cell_type": "code",
   "execution_count": null,
   "id": "782edc15-4136-4072-b460-437e6d9c39a9",
   "metadata": {
    "deletable": false,
    "editable": false,
    "nbgrader": {
     "cell_type": "code",
     "checksum": "68990c0f5b9862145ec6152a69c66aff",
     "grade": true,
     "grade_id": "cell-a59ea69ba9adcbeb",
     "locked": true,
     "points": 2,
     "schema_version": 3,
     "solution": false,
     "task": false
    }
   },
   "outputs": [],
   "source": [
    "# Do not edit or remove this cell"
   ]
  },
  {
   "cell_type": "markdown",
   "id": "bdecf50a-f14d-469c-83fe-bf61c4fa3b86",
   "metadata": {
    "deletable": false,
    "editable": false,
    "nbgrader": {
     "cell_type": "markdown",
     "checksum": "519805fef83721f53ef3ffbc2506bf52",
     "grade": false,
     "grade_id": "cell-69f6d8ebed4ba908",
     "locked": true,
     "schema_version": 3,
     "solution": false,
     "task": false
    }
   },
   "source": [
    "---"
   ]
  },
  {
   "cell_type": "markdown",
   "id": "358f3ed4-97d9-4d03-b481-e9f4a85e429b",
   "metadata": {
    "deletable": false,
    "editable": false,
    "nbgrader": {
     "cell_type": "markdown",
     "checksum": "7414f77b098c5c65e54aa13973e87bc8",
     "grade": false,
     "grade_id": "cell-8bc6d0417687cb84",
     "locked": true,
     "schema_version": 3,
     "solution": false,
     "task": false
    }
   },
   "source": [
    "### Submission Instructions\n",
    "\n",
    "Be sure to ***SAVE YOUR WORK***!  \n",
    "\n",
    "Next, select Kernel -> Restart Kernel and Run All Cells...\n",
    "\n",
    "Make sure there are no errors.\n",
    "\n",
    "Then submit this notebook (.ipynb) file to Canvas."
   ]
  }
 ],
 "metadata": {
  "kernelspec": {
   "display_name": "Python 3 (ipykernel)",
   "language": "python",
   "name": "python3"
  },
  "language_info": {
   "codemirror_mode": {
    "name": "ipython",
    "version": 3
   },
   "file_extension": ".py",
   "mimetype": "text/x-python",
   "name": "python",
   "nbconvert_exporter": "python",
   "pygments_lexer": "ipython3",
   "version": "3.12.5"
  }
 },
 "nbformat": 4,
 "nbformat_minor": 5
}
