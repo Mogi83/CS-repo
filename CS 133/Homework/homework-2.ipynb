{
 "cells": [
  {
   "cell_type": "markdown",
   "id": "60483fc9-c0c6-4929-8bc0-9c7521fc66a5",
   "metadata": {
    "deletable": false,
    "editable": false,
    "nbgrader": {
     "cell_type": "markdown",
     "checksum": "8d5a396bfd7a611f9fc5224ad357e67c",
     "grade": false,
     "grade_id": "cell-75906cbdddfe490e",
     "locked": true,
     "schema_version": 3,
     "solution": false,
     "task": false
    }
   },
   "source": [
    "## Homework 2 - Data Collection and Descriptive Statistics\n",
    "CS 133  \n",
    "Spring 2025  \n",
    "v1.0\n",
    "\n",
    "---"
   ]
  },
  {
   "cell_type": "markdown",
   "id": "d7ecbe14-db7a-47d4-84a9-280b2d47e6a9",
   "metadata": {
    "deletable": false,
    "editable": false,
    "nbgrader": {
     "cell_type": "markdown",
     "checksum": "fd7c67104798949cb423082520b2b2c7",
     "grade": false,
     "grade_id": "cell-44a3a586561d7cdf",
     "locked": true,
     "schema_version": 3,
     "solution": false,
     "task": false
    }
   },
   "source": [
    "## 1. Data Collection"
   ]
  },
  {
   "cell_type": "markdown",
   "id": "4d04a3cb-9881-497d-bad6-f12b300278bb",
   "metadata": {
    "deletable": false,
    "editable": false,
    "nbgrader": {
     "cell_type": "markdown",
     "checksum": "9990d91c5b979b5f3e7914bf612686a3",
     "grade": false,
     "grade_id": "cell-2a6c1115c2d1782d",
     "locked": true,
     "schema_version": 3,
     "solution": false,
     "task": false
    }
   },
   "source": [
    "1.1 (2 pts) Read the `stations.csv` file into a dataframe named `df` and display it by stating `df`."
   ]
  },
  {
   "cell_type": "code",
   "execution_count": null,
   "id": "d3ab0527-5431-41d7-bb46-9fc6fce951c6",
   "metadata": {
    "deletable": false,
    "nbgrader": {
     "cell_type": "code",
     "checksum": "7a34b4d8e146353582d843b89e2640ac",
     "grade": true,
     "grade_id": "cell-69d5f43275b58d3e",
     "locked": false,
     "points": 2,
     "schema_version": 3,
     "solution": true,
     "task": false
    }
   },
   "outputs": [],
   "source": [
    "# YOUR CODE HERE\n",
    "raise NotImplementedError()"
   ]
  },
  {
   "cell_type": "markdown",
   "id": "be89af27-25ce-496b-8705-274a15cba26d",
   "metadata": {
    "deletable": false,
    "editable": false,
    "nbgrader": {
     "cell_type": "markdown",
     "checksum": "dacd7c31343cffe83491e0ec932b4012",
     "grade": false,
     "grade_id": "cell-33116f5e643f6719",
     "locked": true,
     "schema_version": 3,
     "solution": false,
     "task": false
    }
   },
   "source": [
    "1.2 (3pts) Create a new dataframe of 1000 random samples without replacement and call the `info()` method on it.  \n",
    "   _Note: When samplling, be sure to always set your random state._"
   ]
  },
  {
   "cell_type": "code",
   "execution_count": null,
   "id": "87377838-2684-4949-b815-f083e6279d70",
   "metadata": {
    "deletable": false,
    "nbgrader": {
     "cell_type": "code",
     "checksum": "d8cda2fc6ec692cbc4698f271c3a9dff",
     "grade": true,
     "grade_id": "cell-602cfd8579ee8ff1",
     "locked": false,
     "points": 3,
     "schema_version": 3,
     "solution": true,
     "task": false
    }
   },
   "outputs": [],
   "source": [
    "# YOUR CODE HERE\n",
    "raise NotImplementedError()"
   ]
  },
  {
   "cell_type": "markdown",
   "id": "0e776b36-a16f-4fb0-9f52-4bb7e5c08739",
   "metadata": {
    "deletable": false,
    "editable": false,
    "nbgrader": {
     "cell_type": "markdown",
     "checksum": "64b842aeb96e3dea53baaca2f879b1a3",
     "grade": false,
     "grade_id": "cell-4d7b100a3382e750",
     "locked": true,
     "schema_version": 3,
     "solution": false,
     "task": false
    }
   },
   "source": [
    "1.3 (2pts) Use the `groupby` method on the `df` dataframe to group the rows by the column `Station`. Assign the result to a variable called `stations` and show the resulting datatype."
   ]
  },
  {
   "cell_type": "code",
   "execution_count": null,
   "id": "dc26f1dc-ee87-4722-b706-4994aa600889",
   "metadata": {
    "deletable": false,
    "nbgrader": {
     "cell_type": "code",
     "checksum": "a4766df6841fb00d283093f34c4634d4",
     "grade": true,
     "grade_id": "cell-11ea131f2073e1e9",
     "locked": false,
     "points": 2,
     "schema_version": 3,
     "solution": true,
     "task": false
    }
   },
   "outputs": [],
   "source": [
    "# YOUR CODE HERE\n",
    "raise NotImplementedError()"
   ]
  },
  {
   "cell_type": "markdown",
   "id": "f912c247-d1dc-40be-ab38-3b80cf30ab66",
   "metadata": {
    "deletable": false,
    "editable": false,
    "nbgrader": {
     "cell_type": "markdown",
     "checksum": "d7c86b4a3baec88eb45fff6378cd98c8",
     "grade": false,
     "grade_id": "cell-f3baf69e4dfce56c",
     "locked": true,
     "schema_version": 3,
     "solution": false,
     "task": false
    }
   },
   "source": [
    "1.4 (2pts) Use the `Revenue` column of the `stations` object to calculate the average revenue per station."
   ]
  },
  {
   "cell_type": "code",
   "execution_count": null,
   "id": "8e7ba62b-bb15-4dd6-8f92-48177c825692",
   "metadata": {
    "deletable": false,
    "nbgrader": {
     "cell_type": "code",
     "checksum": "5121667eca2ff4d0428652d739f092f0",
     "grade": true,
     "grade_id": "cell-96c6465f31f3bf54",
     "locked": false,
     "points": 2,
     "schema_version": 3,
     "solution": true,
     "task": false
    }
   },
   "outputs": [],
   "source": [
    "# YOUR CODE HERE\n",
    "raise NotImplementedError()"
   ]
  },
  {
   "cell_type": "markdown",
   "id": "4e36ab2e-1658-4534-874d-f1a46ce3eab1",
   "metadata": {
    "deletable": false,
    "editable": false,
    "nbgrader": {
     "cell_type": "markdown",
     "checksum": "c1266e795d1b43c7a85c49ff4bdc8d08",
     "grade": false,
     "grade_id": "cell-0a72f81cc1e1e51b",
     "locked": true,
     "schema_version": 3,
     "solution": false,
     "task": false
    }
   },
   "source": [
    "1.5 (3pts) Without using the `stations` object, use the original `df` to create a new dataframe that randomly samples 1 item from each station. Do not assign it to a variable so it will display."
   ]
  },
  {
   "cell_type": "code",
   "execution_count": null,
   "id": "f88f73fa-3ac6-4f52-b4e7-324d646bb681",
   "metadata": {
    "deletable": false,
    "nbgrader": {
     "cell_type": "code",
     "checksum": "d292ab0f12dddd7dd9144e46dd656c22",
     "grade": true,
     "grade_id": "cell-38d02fa10e60a85b",
     "locked": false,
     "points": 3,
     "schema_version": 3,
     "solution": true,
     "task": false
    }
   },
   "outputs": [],
   "source": [
    "# YOUR CODE HERE\n",
    "raise NotImplementedError()"
   ]
  },
  {
   "cell_type": "markdown",
   "id": "920b68a8-6400-4674-819c-0013fd9ce04d",
   "metadata": {
    "deletable": false,
    "editable": false,
    "nbgrader": {
     "cell_type": "markdown",
     "checksum": "1ffd0aa289e07e4c59097a2bc1d9de5b",
     "grade": false,
     "grade_id": "cell-d28eea9b05c3eca8",
     "locked": true,
     "schema_version": 3,
     "solution": false,
     "task": false
    }
   },
   "source": [
    "1.6 (3pts) Using the original `df`, create a new dataframe named `sample_15` that is 15% as big as `df`. State the length of your new dataframe."
   ]
  },
  {
   "cell_type": "code",
   "execution_count": null,
   "id": "b2802019-3fc1-479e-97e7-462c9b76a0dc",
   "metadata": {
    "deletable": false,
    "nbgrader": {
     "cell_type": "code",
     "checksum": "aa9077c0a45f4cf47a9d21091407276c",
     "grade": true,
     "grade_id": "cell-5c0873cd6048e172",
     "locked": false,
     "points": 3,
     "schema_version": 3,
     "solution": true,
     "task": false
    }
   },
   "outputs": [],
   "source": [
    "# YOUR CODE HERE\n",
    "raise NotImplementedError()"
   ]
  },
  {
   "cell_type": "markdown",
   "id": "fde21112-0064-48ad-ab5d-9920142d9ec0",
   "metadata": {
    "deletable": false,
    "editable": false,
    "nbgrader": {
     "cell_type": "markdown",
     "checksum": "986171f321de86ebb0e59b1cb78ee07b",
     "grade": false,
     "grade_id": "cell-c24516e98145b4a8",
     "locked": true,
     "schema_version": 3,
     "solution": false,
     "task": false
    }
   },
   "source": [
    "1.7 (4pts) Using the original `df`, create a new dataframe that contains row 6 and every 7th row after it. Do not assign it to a variable so it will display."
   ]
  },
  {
   "cell_type": "code",
   "execution_count": null,
   "id": "2c467ffe-76f8-4745-ba0e-4134d96f62dc",
   "metadata": {
    "deletable": false,
    "nbgrader": {
     "cell_type": "code",
     "checksum": "666fceb227100abce21d1755645b30a3",
     "grade": true,
     "grade_id": "cell-e4fcae7184b03597",
     "locked": false,
     "points": 4,
     "schema_version": 3,
     "solution": true,
     "task": false
    }
   },
   "outputs": [],
   "source": [
    "# YOUR CODE HERE\n",
    "raise NotImplementedError()"
   ]
  },
  {
   "cell_type": "markdown",
   "id": "5e9443e8-e71a-4420-a5cb-8d6ef2124ca6",
   "metadata": {
    "deletable": false,
    "editable": false,
    "nbgrader": {
     "cell_type": "markdown",
     "checksum": "698318c0b55fee3c79d3f59209dd29a7",
     "grade": false,
     "grade_id": "cell-319052371a1fc0d6",
     "locked": true,
     "schema_version": 3,
     "solution": false,
     "task": false
    }
   },
   "source": [
    "## 2. Descriptive Statistics"
   ]
  },
  {
   "cell_type": "markdown",
   "id": "590eecdf-51fe-4cb8-b42f-0cfc351380bf",
   "metadata": {
    "deletable": false,
    "editable": false,
    "nbgrader": {
     "cell_type": "markdown",
     "checksum": "f478002fab96fccc1d77bae122c11f51",
     "grade": false,
     "grade_id": "cell-56264b15c6bccf16",
     "locked": true,
     "schema_version": 3,
     "solution": false,
     "task": false
    }
   },
   "source": [
    "2.1 (2pts) Find the mean for the `Revenue` column of `df` and assign a variable named `mean` to the result. State the value of `mean`."
   ]
  },
  {
   "cell_type": "code",
   "execution_count": null,
   "id": "da196074-dc11-4daf-8168-e523338eb3b9",
   "metadata": {
    "deletable": false,
    "nbgrader": {
     "cell_type": "code",
     "checksum": "de4df4fb64b45888d3b3c40cfe96bb54",
     "grade": false,
     "grade_id": "cell-65f1302577aa3e03",
     "locked": false,
     "schema_version": 3,
     "solution": true,
     "task": false
    }
   },
   "outputs": [],
   "source": [
    "# YOUR CODE HERE\n",
    "raise NotImplementedError()"
   ]
  },
  {
   "cell_type": "code",
   "execution_count": null,
   "id": "5727fa64-bf2b-44cc-b340-48f87b887eb9",
   "metadata": {
    "deletable": false,
    "editable": false,
    "nbgrader": {
     "cell_type": "code",
     "checksum": "96577b9af6888bb25579a04d52ad7bb7",
     "grade": true,
     "grade_id": "cell-846b1900da2f587f",
     "locked": true,
     "points": 2,
     "schema_version": 3,
     "solution": false,
     "task": false
    }
   },
   "outputs": [],
   "source": [
    "# Do not edit or remove this cell"
   ]
  },
  {
   "cell_type": "markdown",
   "id": "d356001c-f21c-4138-a00d-52926c87840a",
   "metadata": {
    "deletable": false,
    "editable": false,
    "nbgrader": {
     "cell_type": "markdown",
     "checksum": "5f0555103bdba17ac609f2d63d365bf7",
     "grade": false,
     "grade_id": "cell-f3e85eaed1cefe82",
     "locked": true,
     "schema_version": 3,
     "solution": false,
     "task": false
    }
   },
   "source": [
    "The formula for calculating the _variance_ of a dataset is $ \\sum{ \\frac{ (value - \\mu) ^2}{n} } $ where $ \\mu $ is the mean and $ n $ is the number of individuals in the population. This is the same as finding the average (mean) of $ (value - \\mu)^2 $ for all values in the population.\n",
    "\n",
    "2.2 (3pts) Using the value of `mean` you found above, and the `DataFrame.mean()` method, calculate the value of the _standard deviation_ of the 'Revenue' column of `df`. Do not assign the result to a value so it will display.\n",
    "   _Note: To square a number in Python you can use `** 2` and to take the square root you can use `** 0.5`_"
   ]
  },
  {
   "cell_type": "code",
   "execution_count": null,
   "id": "ab315671-a3c4-4ff8-b417-adc01511c824",
   "metadata": {
    "deletable": false,
    "nbgrader": {
     "cell_type": "code",
     "checksum": "6bf094e1f1da41651a91be1c6da8da1b",
     "grade": true,
     "grade_id": "cell-44797e917b4e871d",
     "locked": false,
     "points": 3,
     "schema_version": 3,
     "solution": true,
     "task": false
    }
   },
   "outputs": [],
   "source": [
    "# YOUR CODE HERE\n",
    "raise NotImplementedError()"
   ]
  },
  {
   "cell_type": "markdown",
   "id": "7a5be4f1-b9c7-4a3e-ba14-3dd90a55d319",
   "metadata": {
    "deletable": false,
    "editable": false,
    "nbgrader": {
     "cell_type": "markdown",
     "checksum": "a11c2cf7060b76b605ca5f38ee7b735a",
     "grade": false,
     "grade_id": "cell-8cfcec9b4f2c7096",
     "locked": true,
     "schema_version": 3,
     "solution": false,
     "task": false
    }
   },
   "source": [
    "The `DataFrame.describe()` method calculates descriptive statistics for each numerical column in a DataFrame.\n",
    "\n",
    "2.3 (1pt) Display the data type returned by the `DataFrame.describe()` method by using it on the `df` object and passing the result to `type()`"
   ]
  },
  {
   "cell_type": "code",
   "execution_count": null,
   "id": "b5e33914-ee87-41c7-a933-8d680a7b149a",
   "metadata": {
    "deletable": false,
    "nbgrader": {
     "cell_type": "code",
     "checksum": "0d4fccae13c292a2571116a279099b2e",
     "grade": true,
     "grade_id": "cell-797ae83be5c26d0d",
     "locked": false,
     "points": 1,
     "schema_version": 3,
     "solution": true,
     "task": false
    }
   },
   "outputs": [],
   "source": [
    "# YOUR CODE HERE\n",
    "raise NotImplementedError()"
   ]
  },
  {
   "cell_type": "markdown",
   "id": "d1212c90-8d87-4be7-be13-b852d416e2e5",
   "metadata": {
    "deletable": false,
    "editable": false,
    "nbgrader": {
     "cell_type": "markdown",
     "checksum": "55c0f9014f6fa64a9877df0948c297f9",
     "grade": false,
     "grade_id": "cell-615933941b2688c7",
     "locked": true,
     "schema_version": 3,
     "solution": false,
     "task": false
    }
   },
   "source": [
    "2.4 (1pt) Call the `describe()` method on the `df` object to show the descriptive statistics."
   ]
  },
  {
   "cell_type": "code",
   "execution_count": null,
   "id": "4d5ef642-2520-4f25-ae24-782e14509545",
   "metadata": {
    "deletable": false,
    "nbgrader": {
     "cell_type": "code",
     "checksum": "4a2fb36f745cc382999d0d3f0c60e737",
     "grade": true,
     "grade_id": "cell-1207ffbba61f3aa8",
     "locked": false,
     "points": 1,
     "schema_version": 3,
     "solution": true,
     "task": false
    }
   },
   "outputs": [],
   "source": [
    "# YOUR CODE HERE\n",
    "raise NotImplementedError()"
   ]
  },
  {
   "cell_type": "markdown",
   "id": "8bbe7baa-e2c6-4f1d-b8f6-ccd2bd54d20f",
   "metadata": {
    "deletable": false,
    "editable": false,
    "nbgrader": {
     "cell_type": "markdown",
     "checksum": "845d5757a88da67a1eb6e58cde15b3df",
     "grade": false,
     "grade_id": "cell-6f7a4ceb8ad1fab1",
     "locked": true,
     "schema_version": 3,
     "solution": false,
     "task": false
    }
   },
   "source": [
    "Compare the **mean** reported in the `describe()` method from the **mean** you calculated above.\n",
    "\n",
    "2.5 (2pts) Why is the mean you calculated above slightly different than what's reported from pandas?"
   ]
  },
  {
   "cell_type": "markdown",
   "id": "5c20280f-e142-4d47-ac0f-cadbace0d801",
   "metadata": {
    "deletable": false,
    "nbgrader": {
     "cell_type": "markdown",
     "checksum": "dc974432be7f911e51d58c701768239c",
     "grade": true,
     "grade_id": "cell-e44d4ea70cf9a7d1",
     "locked": false,
     "points": 2,
     "schema_version": 3,
     "solution": true,
     "task": false
    }
   },
   "source": [
    "YOUR ANSWER HERE"
   ]
  },
  {
   "cell_type": "markdown",
   "id": "d9d8795b-039c-4184-b851-0b945f5624c2",
   "metadata": {
    "deletable": false,
    "editable": false,
    "nbgrader": {
     "cell_type": "markdown",
     "checksum": "1c3dccf65250525aee253b45e5056bb8",
     "grade": false,
     "grade_id": "cell-e573cbcf20344835",
     "locked": true,
     "schema_version": 3,
     "solution": false,
     "task": false
    }
   },
   "source": [
    "2.6 (2pts) Modify your calculation from above so it matches the value in the `describe()` method. Be sure to display the result."
   ]
  },
  {
   "cell_type": "code",
   "execution_count": null,
   "id": "eddaf734-c1c0-42c3-879b-5228ed3d88eb",
   "metadata": {
    "deletable": false,
    "nbgrader": {
     "cell_type": "code",
     "checksum": "3d23ee7e16725112cfb4104f66f282ab",
     "grade": true,
     "grade_id": "cell-03f830272dec3b2a",
     "locked": false,
     "points": 2,
     "schema_version": 3,
     "solution": true,
     "task": false
    }
   },
   "outputs": [],
   "source": [
    "# YOUR CODE HERE\n",
    "raise NotImplementedError()"
   ]
  },
  {
   "cell_type": "markdown",
   "id": "905239a3-7dd3-461d-bf00-83a0990c7cf5",
   "metadata": {
    "deletable": false,
    "editable": false,
    "nbgrader": {
     "cell_type": "markdown",
     "checksum": "133548c2e49e503bb601b6b440bf2bfe",
     "grade": false,
     "grade_id": "cell-fc2e759caf3b33a8",
     "locked": true,
     "schema_version": 3,
     "solution": false,
     "task": false
    }
   },
   "source": [
    "2.7 (1pt) Run the `describe()` method on the `sample_15` dataframe you created above."
   ]
  },
  {
   "cell_type": "code",
   "execution_count": null,
   "id": "43c14076-87f1-4c50-a1bb-680d59b04372",
   "metadata": {
    "deletable": false,
    "nbgrader": {
     "cell_type": "code",
     "checksum": "cc8e0bd1061548840e8dd0696dbafec0",
     "grade": true,
     "grade_id": "cell-7946b2914c0cca25",
     "locked": false,
     "points": 1,
     "schema_version": 3,
     "solution": true,
     "task": false
    }
   },
   "outputs": [],
   "source": [
    "# YOUR CODE HERE\n",
    "raise NotImplementedError()"
   ]
  },
  {
   "cell_type": "markdown",
   "id": "51d0038b-576a-4959-84ad-96507fa77913",
   "metadata": {
    "deletable": false,
    "editable": false,
    "nbgrader": {
     "cell_type": "markdown",
     "checksum": "30a4a13ecd82af3590dcfa2ddf643c08",
     "grade": false,
     "grade_id": "cell-6098c3697efdaf46",
     "locked": true,
     "schema_version": 3,
     "solution": false,
     "task": false
    }
   },
   "source": [
    "2.8 (2pts) Subtract the results of the `describe()` method run on `df` from the results run on `sample_15`. Do not assign a variable to the result so it will display."
   ]
  },
  {
   "cell_type": "code",
   "execution_count": null,
   "id": "9c19b63c-2e7e-4d59-86df-5468d3dbd43b",
   "metadata": {
    "deletable": false,
    "nbgrader": {
     "cell_type": "code",
     "checksum": "f89a2fa60956813f731ae1cd450cbfe2",
     "grade": true,
     "grade_id": "cell-0b550812e42bf8cb",
     "locked": false,
     "points": 2,
     "schema_version": 3,
     "solution": true,
     "task": false
    }
   },
   "outputs": [],
   "source": [
    "# YOUR CODE HERE\n",
    "raise NotImplementedError()"
   ]
  },
  {
   "cell_type": "markdown",
   "id": "7013b8de-1dd9-4d50-a198-1d821c994261",
   "metadata": {
    "deletable": false,
    "editable": false,
    "nbgrader": {
     "cell_type": "markdown",
     "checksum": "556d4a4ea0fe2d3a6b03f085cac8b6a5",
     "grade": false,
     "grade_id": "cell-cade5dfa57209680",
     "locked": true,
     "schema_version": 3,
     "solution": false,
     "task": false
    }
   },
   "source": [
    "2.9 (1pt) How close is the **mean** in `sample_15` to the **mean** of the complete dataset?"
   ]
  },
  {
   "cell_type": "markdown",
   "id": "f5670faa-b44e-42e4-8fc1-3050a16eb3f3",
   "metadata": {
    "deletable": false,
    "nbgrader": {
     "cell_type": "markdown",
     "checksum": "5727aa8c724e1481e12162b31d63f320",
     "grade": true,
     "grade_id": "cell-6416292fc2b5434d",
     "locked": false,
     "points": 1,
     "schema_version": 3,
     "solution": true,
     "task": false
    }
   },
   "source": [
    "YOUR ANSWER HERE"
   ]
  },
  {
   "cell_type": "markdown",
   "id": "633c515f-7f30-4710-9de9-a0373fb124d7",
   "metadata": {
    "deletable": false,
    "editable": false,
    "nbgrader": {
     "cell_type": "markdown",
     "checksum": "21166d721183e33479d94128f800e500",
     "grade": false,
     "grade_id": "cell-d549cc608050469e",
     "locked": true,
     "schema_version": 3,
     "solution": false,
     "task": false
    }
   },
   "source": [
    "2.10 (2pts) Use the `hist()` method on `df` to show the histogram for the column 'Revenue'. Select a sensible number for the `bins` parameter to give a sense of the distribution."
   ]
  },
  {
   "cell_type": "code",
   "execution_count": null,
   "id": "31acd9d5-da46-41b0-ba6b-c0f199fd1782",
   "metadata": {
    "deletable": false,
    "nbgrader": {
     "cell_type": "code",
     "checksum": "d39f15877fd94ed8c6fa5f234a72959c",
     "grade": true,
     "grade_id": "cell-526fbb168abde6bc",
     "locked": false,
     "points": 1,
     "schema_version": 3,
     "solution": true,
     "task": false
    }
   },
   "outputs": [],
   "source": [
    "# YOUR CODE HERE\n",
    "raise NotImplementedError()"
   ]
  },
  {
   "cell_type": "markdown",
   "id": "c17d42e6-db97-460a-8123-ea54b3622329",
   "metadata": {
    "deletable": false,
    "editable": false,
    "nbgrader": {
     "cell_type": "markdown",
     "checksum": "5c7b80a4e0f287ac601ce86666feb50d",
     "grade": false,
     "grade_id": "cell-f72c64232aee84bf",
     "locked": true,
     "schema_version": 3,
     "solution": false,
     "task": false
    }
   },
   "source": [
    "2.11 (1pt) What shape does the `Revenue` distribution have?"
   ]
  },
  {
   "cell_type": "markdown",
   "id": "85339057-a412-4e76-860e-03a6ce11db3e",
   "metadata": {
    "deletable": false,
    "nbgrader": {
     "cell_type": "markdown",
     "checksum": "09fe43d1268c2a2756c6096199dd301e",
     "grade": true,
     "grade_id": "cell-db92eb39a98bba4e",
     "locked": false,
     "points": 1,
     "schema_version": 3,
     "solution": true,
     "task": false
    }
   },
   "source": [
    "YOUR ANSWER HERE"
   ]
  },
  {
   "cell_type": "markdown",
   "id": "199e135c-1fde-49a0-8204-29365d0cf56b",
   "metadata": {
    "deletable": false,
    "editable": false,
    "nbgrader": {
     "cell_type": "markdown",
     "checksum": "42fb40cf8060b6f608bc66fa6939754a",
     "grade": false,
     "grade_id": "cell-8ee795ac84df6e68",
     "locked": true,
     "schema_version": 3,
     "solution": false,
     "task": false
    }
   },
   "source": [
    "2.12 (3pts) Using the descriptive statistics from `describe()` you displayed above, calculate the Interquartile Range (IQR) for the `Revenue` column and display the result."
   ]
  },
  {
   "cell_type": "code",
   "execution_count": null,
   "id": "768b8593-af7b-4e90-84c3-49ede9cf0d53",
   "metadata": {
    "deletable": false,
    "nbgrader": {
     "cell_type": "code",
     "checksum": "6e6bd4aa645549a2812fc8955cd61ece",
     "grade": true,
     "grade_id": "cell-a205ec5ce86887d1",
     "locked": false,
     "points": 3,
     "schema_version": 3,
     "solution": true,
     "task": false
    }
   },
   "outputs": [],
   "source": [
    "# YOUR CODE HERE\n",
    "raise NotImplementedError()"
   ]
  },
  {
   "cell_type": "markdown",
   "id": "0283680e-4aaa-48da-88e1-ad127de11358",
   "metadata": {
    "deletable": false,
    "editable": false,
    "nbgrader": {
     "cell_type": "markdown",
     "checksum": "0e536be5b21eaf737a5d20c203f7f40c",
     "grade": false,
     "grade_id": "cell-f86cb2f942ca9124",
     "locked": true,
     "schema_version": 3,
     "solution": false,
     "task": false
    }
   },
   "source": [
    "2.13 (1pt) What does the IQR for the `Revenue` column mean?"
   ]
  },
  {
   "cell_type": "markdown",
   "id": "79c35135-ba9a-49f6-8957-3d99fb4ba9e8",
   "metadata": {
    "deletable": false,
    "nbgrader": {
     "cell_type": "markdown",
     "checksum": "c878df650eccc2ac2d7aa1f8e5ade577",
     "grade": true,
     "grade_id": "cell-5b89b4b96c21621a",
     "locked": false,
     "points": 1,
     "schema_version": 3,
     "solution": true,
     "task": false
    }
   },
   "source": [
    "YOUR ANSWER HERE"
   ]
  },
  {
   "cell_type": "markdown",
   "id": "c1eebce8-40ac-4825-8203-78453f8b735e",
   "metadata": {
    "deletable": false,
    "editable": false,
    "nbgrader": {
     "cell_type": "markdown",
     "checksum": "6d6c1b8adfb215a77f4f53f6e1bfd2f8",
     "grade": false,
     "grade_id": "cell-2ea2ed551a588341",
     "locked": true,
     "schema_version": 3,
     "solution": false,
     "task": false
    }
   },
   "source": [
    "2.14 (3pts) If the data show that the larger the influx (number of people going through the station) the higher the number of unticketed passengers, would we be correct in concluding that fare jumpers (people who don't pay) prefer larger stations?"
   ]
  },
  {
   "cell_type": "markdown",
   "id": "1a877892-27df-4e85-bd57-86660ab545c3",
   "metadata": {
    "deletable": false,
    "nbgrader": {
     "cell_type": "markdown",
     "checksum": "7e48b93480d5f5b552837e5fc22b5a41",
     "grade": true,
     "grade_id": "cell-9dc0010adb90ac73",
     "locked": false,
     "points": 3,
     "schema_version": 3,
     "solution": true,
     "task": false
    }
   },
   "source": [
    "YOUR ANSWER HERE"
   ]
  },
  {
   "cell_type": "markdown",
   "id": "e6f4b737-d8af-4075-9e1b-f620b61cef71",
   "metadata": {
    "deletable": false,
    "editable": false,
    "nbgrader": {
     "cell_type": "markdown",
     "checksum": "34306493c956a76117e5ed6bc8e12509",
     "grade": false,
     "grade_id": "cell-4b0ad96cf01d880f",
     "locked": true,
     "schema_version": 3,
     "solution": false,
     "task": false
    }
   },
   "source": [
    "---"
   ]
  },
  {
   "cell_type": "markdown",
   "id": "f7293855-989b-4d89-9163-b059d414e02b",
   "metadata": {
    "deletable": false,
    "editable": false,
    "nbgrader": {
     "cell_type": "markdown",
     "checksum": "737d0e71be9840e2f05b8a461ef10b8d",
     "grade": false,
     "grade_id": "cell-6f243cc64e15bba2",
     "locked": true,
     "schema_version": 3,
     "solution": false,
     "task": false
    }
   },
   "source": [
    "### Submission Instructions\n",
    "\n",
    "Be sure to ***SAVE YOUR WORK***!  \n",
    "\n",
    "Next, select Kernel -> Restart Kernel and Run All Cells...\n",
    "\n",
    "Make sure there are no errors.\n",
    "\n",
    "Then submit this notebook (.ipynb) file to Canvas."
   ]
  }
 ],
 "metadata": {
  "kernelspec": {
   "display_name": "Python 3 (ipykernel)",
   "language": "python",
   "name": "python3"
  },
  "language_info": {
   "codemirror_mode": {
    "name": "ipython",
    "version": 3
   },
   "file_extension": ".py",
   "mimetype": "text/x-python",
   "name": "python",
   "nbconvert_exporter": "python",
   "pygments_lexer": "ipython3",
   "version": "3.12.5"
  }
 },
 "nbformat": 4,
 "nbformat_minor": 5
}
