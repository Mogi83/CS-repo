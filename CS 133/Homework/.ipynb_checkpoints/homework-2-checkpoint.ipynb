{
 "cells": [
  {
   "cell_type": "markdown",
   "id": "60483fc9-c0c6-4929-8bc0-9c7521fc66a5",
   "metadata": {
    "deletable": false,
    "editable": false,
    "jp-MarkdownHeadingCollapsed": true,
    "nbgrader": {
     "cell_type": "markdown",
     "checksum": "2e55019e7d92ed297bfd0668e1bbebcb",
     "grade": false,
     "grade_id": "cell-75906cbdddfe490e",
     "locked": true,
     "schema_version": 3,
     "solution": false,
     "task": false
    }
   },
   "source": [
    "## Homework 2 - Data Collection and Descriptive Statistics\n",
    "CS 133  \n",
    "Spring 2025  \n",
    "v1.1\n",
    "\n",
    "---"
   ]
  },
  {
   "cell_type": "markdown",
   "id": "d7ecbe14-db7a-47d4-84a9-280b2d47e6a9",
   "metadata": {
    "deletable": false,
    "editable": false,
    "nbgrader": {
     "cell_type": "markdown",
     "checksum": "fd7c67104798949cb423082520b2b2c7",
     "grade": false,
     "grade_id": "cell-44a3a586561d7cdf",
     "locked": true,
     "schema_version": 3,
     "solution": false,
     "task": false
    }
   },
   "source": [
    "## 1. Data Collection"
   ]
  },
  {
   "cell_type": "markdown",
   "id": "4d04a3cb-9881-497d-bad6-f12b300278bb",
   "metadata": {
    "deletable": false,
    "editable": false,
    "nbgrader": {
     "cell_type": "markdown",
     "checksum": "9990d91c5b979b5f3e7914bf612686a3",
     "grade": false,
     "grade_id": "cell-2a6c1115c2d1782d",
     "locked": true,
     "schema_version": 3,
     "solution": false,
     "task": false
    }
   },
   "source": [
    "1.1 (2 pts) Read the `stations.csv` file into a dataframe named `df` and display it by stating `df`."
   ]
  },
  {
   "cell_type": "code",
   "execution_count": 1,
   "id": "d3ab0527-5431-41d7-bb46-9fc6fce951c6",
   "metadata": {
    "deletable": false,
    "nbgrader": {
     "cell_type": "code",
     "checksum": "7a34b4d8e146353582d843b89e2640ac",
     "grade": true,
     "grade_id": "cell-69d5f43275b58d3e",
     "locked": false,
     "points": 2,
     "schema_version": 3,
     "solution": true,
     "task": false
    }
   },
   "outputs": [
    {
     "data": {
      "text/html": [
       "<div>\n",
       "<style scoped>\n",
       "    .dataframe tbody tr th:only-of-type {\n",
       "        vertical-align: middle;\n",
       "    }\n",
       "\n",
       "    .dataframe tbody tr th {\n",
       "        vertical-align: top;\n",
       "    }\n",
       "\n",
       "    .dataframe thead th {\n",
       "        text-align: right;\n",
       "    }\n",
       "</style>\n",
       "<table border=\"1\" class=\"dataframe\">\n",
       "  <thead>\n",
       "    <tr style=\"text-align: right;\">\n",
       "      <th></th>\n",
       "      <th>Station</th>\n",
       "      <th>Date</th>\n",
       "      <th>Influx</th>\n",
       "      <th>Tickets</th>\n",
       "      <th>Pre-booked</th>\n",
       "      <th>Onspot</th>\n",
       "      <th>Revenue</th>\n",
       "    </tr>\n",
       "  </thead>\n",
       "  <tbody>\n",
       "    <tr>\n",
       "      <th>0</th>\n",
       "      <td>ST01</td>\n",
       "      <td>1/1/2022</td>\n",
       "      <td>8373</td>\n",
       "      <td>2775</td>\n",
       "      <td>2407</td>\n",
       "      <td>368</td>\n",
       "      <td>13875</td>\n",
       "    </tr>\n",
       "    <tr>\n",
       "      <th>1</th>\n",
       "      <td>ST01</td>\n",
       "      <td>1/2/2022</td>\n",
       "      <td>6192</td>\n",
       "      <td>5854</td>\n",
       "      <td>4923</td>\n",
       "      <td>931</td>\n",
       "      <td>29270</td>\n",
       "    </tr>\n",
       "    <tr>\n",
       "      <th>2</th>\n",
       "      <td>ST01</td>\n",
       "      <td>1/3/2022</td>\n",
       "      <td>9111</td>\n",
       "      <td>4956</td>\n",
       "      <td>4366</td>\n",
       "      <td>590</td>\n",
       "      <td>24780</td>\n",
       "    </tr>\n",
       "    <tr>\n",
       "      <th>3</th>\n",
       "      <td>ST01</td>\n",
       "      <td>1/4/2022</td>\n",
       "      <td>4808</td>\n",
       "      <td>982</td>\n",
       "      <td>768</td>\n",
       "      <td>214</td>\n",
       "      <td>4910</td>\n",
       "    </tr>\n",
       "    <tr>\n",
       "      <th>4</th>\n",
       "      <td>ST01</td>\n",
       "      <td>1/5/2022</td>\n",
       "      <td>9646</td>\n",
       "      <td>4988</td>\n",
       "      <td>4421</td>\n",
       "      <td>567</td>\n",
       "      <td>24940</td>\n",
       "    </tr>\n",
       "    <tr>\n",
       "      <th>...</th>\n",
       "      <td>...</td>\n",
       "      <td>...</td>\n",
       "      <td>...</td>\n",
       "      <td>...</td>\n",
       "      <td>...</td>\n",
       "      <td>...</td>\n",
       "      <td>...</td>\n",
       "    </tr>\n",
       "    <tr>\n",
       "      <th>3645</th>\n",
       "      <td>ST10</td>\n",
       "      <td>12/27/2022</td>\n",
       "      <td>9030</td>\n",
       "      <td>5741</td>\n",
       "      <td>4042</td>\n",
       "      <td>1699</td>\n",
       "      <td>28705</td>\n",
       "    </tr>\n",
       "    <tr>\n",
       "      <th>3646</th>\n",
       "      <td>ST10</td>\n",
       "      <td>12/28/2022</td>\n",
       "      <td>5537</td>\n",
       "      <td>3363</td>\n",
       "      <td>3000</td>\n",
       "      <td>363</td>\n",
       "      <td>16815</td>\n",
       "    </tr>\n",
       "    <tr>\n",
       "      <th>3647</th>\n",
       "      <td>ST10</td>\n",
       "      <td>12/29/2022</td>\n",
       "      <td>7556</td>\n",
       "      <td>6545</td>\n",
       "      <td>5525</td>\n",
       "      <td>1020</td>\n",
       "      <td>32725</td>\n",
       "    </tr>\n",
       "    <tr>\n",
       "      <th>3648</th>\n",
       "      <td>ST10</td>\n",
       "      <td>12/30/2022</td>\n",
       "      <td>7636</td>\n",
       "      <td>5813</td>\n",
       "      <td>4726</td>\n",
       "      <td>1087</td>\n",
       "      <td>29065</td>\n",
       "    </tr>\n",
       "    <tr>\n",
       "      <th>3649</th>\n",
       "      <td>ST10</td>\n",
       "      <td>12/31/2022</td>\n",
       "      <td>7163</td>\n",
       "      <td>4926</td>\n",
       "      <td>4250</td>\n",
       "      <td>676</td>\n",
       "      <td>24630</td>\n",
       "    </tr>\n",
       "  </tbody>\n",
       "</table>\n",
       "<p>3650 rows × 7 columns</p>\n",
       "</div>"
      ],
      "text/plain": [
       "     Station        Date  Influx  Tickets  Pre-booked  Onspot  Revenue\n",
       "0       ST01    1/1/2022    8373     2775        2407     368    13875\n",
       "1       ST01    1/2/2022    6192     5854        4923     931    29270\n",
       "2       ST01    1/3/2022    9111     4956        4366     590    24780\n",
       "3       ST01    1/4/2022    4808      982         768     214     4910\n",
       "4       ST01    1/5/2022    9646     4988        4421     567    24940\n",
       "...      ...         ...     ...      ...         ...     ...      ...\n",
       "3645    ST10  12/27/2022    9030     5741        4042    1699    28705\n",
       "3646    ST10  12/28/2022    5537     3363        3000     363    16815\n",
       "3647    ST10  12/29/2022    7556     6545        5525    1020    32725\n",
       "3648    ST10  12/30/2022    7636     5813        4726    1087    29065\n",
       "3649    ST10  12/31/2022    7163     4926        4250     676    24630\n",
       "\n",
       "[3650 rows x 7 columns]"
      ]
     },
     "execution_count": 1,
     "metadata": {},
     "output_type": "execute_result"
    }
   ],
   "source": [
    "import pandas as pd\n",
    "df = pd.read_csv(\"stations.csv\")\n",
    "df"
   ]
  },
  {
   "cell_type": "markdown",
   "id": "be89af27-25ce-496b-8705-274a15cba26d",
   "metadata": {
    "deletable": false,
    "editable": false,
    "nbgrader": {
     "cell_type": "markdown",
     "checksum": "dacd7c31343cffe83491e0ec932b4012",
     "grade": false,
     "grade_id": "cell-33116f5e643f6719",
     "locked": true,
     "schema_version": 3,
     "solution": false,
     "task": false
    }
   },
   "source": [
    "1.2 (3pts) Create a new dataframe of 1000 random samples without replacement and call the `info()` method on it.  \n",
    "   _Note: When samplling, be sure to always set your random state._"
   ]
  },
  {
   "cell_type": "code",
   "execution_count": 2,
   "id": "87377838-2684-4949-b815-f083e6279d70",
   "metadata": {
    "deletable": false,
    "nbgrader": {
     "cell_type": "code",
     "checksum": "d8cda2fc6ec692cbc4698f271c3a9dff",
     "grade": true,
     "grade_id": "cell-602cfd8579ee8ff1",
     "locked": false,
     "points": 3,
     "schema_version": 3,
     "solution": true,
     "task": false
    }
   },
   "outputs": [
    {
     "name": "stdout",
     "output_type": "stream",
     "text": [
      "<class 'pandas.core.frame.DataFrame'>\n",
      "Index: 1000 entries, 696 to 1280\n",
      "Data columns (total 7 columns):\n",
      " #   Column      Non-Null Count  Dtype \n",
      "---  ------      --------------  ----- \n",
      " 0   Station     1000 non-null   object\n",
      " 1   Date        1000 non-null   object\n",
      " 2   Influx      1000 non-null   int64 \n",
      " 3   Tickets     1000 non-null   int64 \n",
      " 4   Pre-booked  1000 non-null   int64 \n",
      " 5   Onspot      1000 non-null   int64 \n",
      " 6   Revenue     1000 non-null   int64 \n",
      "dtypes: int64(5), object(2)\n",
      "memory usage: 62.5+ KB\n"
     ]
    }
   ],
   "source": [
    "sample_1k = df.sample( n=1000, random_state = 45)\n",
    "sample_1k.info()"
   ]
  },
  {
   "cell_type": "markdown",
   "id": "0e776b36-a16f-4fb0-9f52-4bb7e5c08739",
   "metadata": {
    "deletable": false,
    "editable": false,
    "nbgrader": {
     "cell_type": "markdown",
     "checksum": "64b842aeb96e3dea53baaca2f879b1a3",
     "grade": false,
     "grade_id": "cell-4d7b100a3382e750",
     "locked": true,
     "schema_version": 3,
     "solution": false,
     "task": false
    }
   },
   "source": [
    "1.3 (2pts) Use the `groupby` method on the `df` dataframe to group the rows by the column `Station`. Assign the result to a variable called `stations` and show the resulting datatype."
   ]
  },
  {
   "cell_type": "code",
   "execution_count": 3,
   "id": "dc26f1dc-ee87-4722-b706-4994aa600889",
   "metadata": {
    "deletable": false,
    "nbgrader": {
     "cell_type": "code",
     "checksum": "a4766df6841fb00d283093f34c4634d4",
     "grade": true,
     "grade_id": "cell-11ea131f2073e1e9",
     "locked": false,
     "points": 2,
     "schema_version": 3,
     "solution": true,
     "task": false
    }
   },
   "outputs": [
    {
     "data": {
      "text/plain": [
       "pandas.core.groupby.generic.DataFrameGroupBy"
      ]
     },
     "execution_count": 3,
     "metadata": {},
     "output_type": "execute_result"
    }
   ],
   "source": [
    "stations = sample_1k.groupby('Station')\n",
    "type(stations)"
   ]
  },
  {
   "cell_type": "markdown",
   "id": "f912c247-d1dc-40be-ab38-3b80cf30ab66",
   "metadata": {
    "deletable": false,
    "editable": false,
    "nbgrader": {
     "cell_type": "markdown",
     "checksum": "d7c86b4a3baec88eb45fff6378cd98c8",
     "grade": false,
     "grade_id": "cell-f3baf69e4dfce56c",
     "locked": true,
     "schema_version": 3,
     "solution": false,
     "task": false
    }
   },
   "source": [
    "1.4 (2pts) Use the `Revenue` column of the `stations` object to calculate the average revenue per station."
   ]
  },
  {
   "cell_type": "code",
   "execution_count": 4,
   "id": "8e7ba62b-bb15-4dd6-8f92-48177c825692",
   "metadata": {
    "deletable": false,
    "nbgrader": {
     "cell_type": "code",
     "checksum": "5121667eca2ff4d0428652d739f092f0",
     "grade": true,
     "grade_id": "cell-96c6465f31f3bf54",
     "locked": false,
     "points": 2,
     "schema_version": 3,
     "solution": true,
     "task": false
    }
   },
   "outputs": [
    {
     "data": {
      "text/plain": [
       "Station\n",
       "ST01    19212.889908\n",
       "ST02    19996.263736\n",
       "ST03    18072.216981\n",
       "ST04    16620.947368\n",
       "ST05    16805.550000\n",
       "ST06    16494.510870\n",
       "ST07    15689.680851\n",
       "ST08    19198.271028\n",
       "ST09    17325.309278\n",
       "ST10    17955.871560\n",
       "Name: Revenue, dtype: float64"
      ]
     },
     "execution_count": 4,
     "metadata": {},
     "output_type": "execute_result"
    }
   ],
   "source": [
    "stations['Revenue'].mean()"
   ]
  },
  {
   "cell_type": "markdown",
   "id": "4e36ab2e-1658-4534-874d-f1a46ce3eab1",
   "metadata": {
    "deletable": false,
    "editable": false,
    "nbgrader": {
     "cell_type": "markdown",
     "checksum": "c1266e795d1b43c7a85c49ff4bdc8d08",
     "grade": false,
     "grade_id": "cell-0a72f81cc1e1e51b",
     "locked": true,
     "schema_version": 3,
     "solution": false,
     "task": false
    }
   },
   "source": [
    "1.5 (3pts) Without using the `stations` object, use the original `df` to create a new dataframe that randomly samples 1 item from each station. Do not assign it to a variable so it will display."
   ]
  },
  {
   "cell_type": "code",
   "execution_count": 5,
   "id": "f88f73fa-3ac6-4f52-b4e7-324d646bb681",
   "metadata": {
    "deletable": false,
    "nbgrader": {
     "cell_type": "code",
     "checksum": "d292ab0f12dddd7dd9144e46dd656c22",
     "grade": true,
     "grade_id": "cell-38d02fa10e60a85b",
     "locked": false,
     "points": 3,
     "schema_version": 3,
     "solution": true,
     "task": false
    }
   },
   "outputs": [
    {
     "data": {
      "text/html": [
       "<div>\n",
       "<style scoped>\n",
       "    .dataframe tbody tr th:only-of-type {\n",
       "        vertical-align: middle;\n",
       "    }\n",
       "\n",
       "    .dataframe tbody tr th {\n",
       "        vertical-align: top;\n",
       "    }\n",
       "\n",
       "    .dataframe thead th {\n",
       "        text-align: right;\n",
       "    }\n",
       "</style>\n",
       "<table border=\"1\" class=\"dataframe\">\n",
       "  <thead>\n",
       "    <tr style=\"text-align: right;\">\n",
       "      <th></th>\n",
       "      <th>Station</th>\n",
       "      <th>Date</th>\n",
       "      <th>Influx</th>\n",
       "      <th>Tickets</th>\n",
       "      <th>Pre-booked</th>\n",
       "      <th>Onspot</th>\n",
       "      <th>Revenue</th>\n",
       "    </tr>\n",
       "  </thead>\n",
       "  <tbody>\n",
       "    <tr>\n",
       "      <th>157</th>\n",
       "      <td>ST01</td>\n",
       "      <td>6/7/2022</td>\n",
       "      <td>7373</td>\n",
       "      <td>6823</td>\n",
       "      <td>4836</td>\n",
       "      <td>1987</td>\n",
       "      <td>34115</td>\n",
       "    </tr>\n",
       "    <tr>\n",
       "      <th>366</th>\n",
       "      <td>ST02</td>\n",
       "      <td>1/2/2022</td>\n",
       "      <td>5908</td>\n",
       "      <td>4637</td>\n",
       "      <td>3247</td>\n",
       "      <td>1390</td>\n",
       "      <td>23185</td>\n",
       "    </tr>\n",
       "    <tr>\n",
       "      <th>931</th>\n",
       "      <td>ST03</td>\n",
       "      <td>7/21/2022</td>\n",
       "      <td>4153</td>\n",
       "      <td>2570</td>\n",
       "      <td>1914</td>\n",
       "      <td>656</td>\n",
       "      <td>12850</td>\n",
       "    </tr>\n",
       "    <tr>\n",
       "      <th>1430</th>\n",
       "      <td>ST04</td>\n",
       "      <td>12/2/2022</td>\n",
       "      <td>3693</td>\n",
       "      <td>615</td>\n",
       "      <td>438</td>\n",
       "      <td>177</td>\n",
       "      <td>3075</td>\n",
       "    </tr>\n",
       "    <tr>\n",
       "      <th>1515</th>\n",
       "      <td>ST05</td>\n",
       "      <td>2/25/2022</td>\n",
       "      <td>7417</td>\n",
       "      <td>4556</td>\n",
       "      <td>3591</td>\n",
       "      <td>965</td>\n",
       "      <td>22780</td>\n",
       "    </tr>\n",
       "    <tr>\n",
       "      <th>1985</th>\n",
       "      <td>ST06</td>\n",
       "      <td>6/10/2022</td>\n",
       "      <td>7907</td>\n",
       "      <td>7359</td>\n",
       "      <td>5358</td>\n",
       "      <td>2001</td>\n",
       "      <td>36795</td>\n",
       "    </tr>\n",
       "    <tr>\n",
       "      <th>2443</th>\n",
       "      <td>ST07</td>\n",
       "      <td>9/11/2022</td>\n",
       "      <td>6169</td>\n",
       "      <td>3682</td>\n",
       "      <td>2600</td>\n",
       "      <td>1082</td>\n",
       "      <td>18410</td>\n",
       "    </tr>\n",
       "    <tr>\n",
       "      <th>2651</th>\n",
       "      <td>ST08</td>\n",
       "      <td>4/7/2022</td>\n",
       "      <td>7264</td>\n",
       "      <td>4873</td>\n",
       "      <td>4399</td>\n",
       "      <td>474</td>\n",
       "      <td>24365</td>\n",
       "    </tr>\n",
       "    <tr>\n",
       "      <th>3093</th>\n",
       "      <td>ST09</td>\n",
       "      <td>6/23/2022</td>\n",
       "      <td>7814</td>\n",
       "      <td>7388</td>\n",
       "      <td>6455</td>\n",
       "      <td>933</td>\n",
       "      <td>36940</td>\n",
       "    </tr>\n",
       "    <tr>\n",
       "      <th>3354</th>\n",
       "      <td>ST10</td>\n",
       "      <td>3/11/2022</td>\n",
       "      <td>4450</td>\n",
       "      <td>2217</td>\n",
       "      <td>1986</td>\n",
       "      <td>231</td>\n",
       "      <td>11085</td>\n",
       "    </tr>\n",
       "  </tbody>\n",
       "</table>\n",
       "</div>"
      ],
      "text/plain": [
       "     Station       Date  Influx  Tickets  Pre-booked  Onspot  Revenue\n",
       "157     ST01   6/7/2022    7373     6823        4836    1987    34115\n",
       "366     ST02   1/2/2022    5908     4637        3247    1390    23185\n",
       "931     ST03  7/21/2022    4153     2570        1914     656    12850\n",
       "1430    ST04  12/2/2022    3693      615         438     177     3075\n",
       "1515    ST05  2/25/2022    7417     4556        3591     965    22780\n",
       "1985    ST06  6/10/2022    7907     7359        5358    2001    36795\n",
       "2443    ST07  9/11/2022    6169     3682        2600    1082    18410\n",
       "2651    ST08   4/7/2022    7264     4873        4399     474    24365\n",
       "3093    ST09  6/23/2022    7814     7388        6455     933    36940\n",
       "3354    ST10  3/11/2022    4450     2217        1986     231    11085"
      ]
     },
     "execution_count": 5,
     "metadata": {},
     "output_type": "execute_result"
    }
   ],
   "source": [
    "df.groupby('Station').sample(n=1, random_state = 45)"
   ]
  },
  {
   "cell_type": "markdown",
   "id": "920b68a8-6400-4674-819c-0013fd9ce04d",
   "metadata": {
    "deletable": false,
    "editable": false,
    "nbgrader": {
     "cell_type": "markdown",
     "checksum": "1ffd0aa289e07e4c59097a2bc1d9de5b",
     "grade": false,
     "grade_id": "cell-d28eea9b05c3eca8",
     "locked": true,
     "schema_version": 3,
     "solution": false,
     "task": false
    }
   },
   "source": [
    "1.6 (3pts) Using the original `df`, create a new dataframe named `sample_15` that is 15% as big as `df`. State the length of your new dataframe."
   ]
  },
  {
   "cell_type": "code",
   "execution_count": 6,
   "id": "b2802019-3fc1-479e-97e7-462c9b76a0dc",
   "metadata": {
    "deletable": false,
    "nbgrader": {
     "cell_type": "code",
     "checksum": "aa9077c0a45f4cf47a9d21091407276c",
     "grade": true,
     "grade_id": "cell-5c0873cd6048e172",
     "locked": false,
     "points": 3,
     "schema_version": 3,
     "solution": true,
     "task": false
    }
   },
   "outputs": [
    {
     "data": {
      "text/plain": [
       "548"
      ]
     },
     "execution_count": 6,
     "metadata": {},
     "output_type": "execute_result"
    }
   ],
   "source": [
    "sample_15 = df.sample(frac = 0.15, random_state = 45)\n",
    "\n",
    "len(sample_15)"
   ]
  },
  {
   "cell_type": "markdown",
   "id": "fde21112-0064-48ad-ab5d-9920142d9ec0",
   "metadata": {
    "deletable": false,
    "editable": false,
    "nbgrader": {
     "cell_type": "markdown",
     "checksum": "986171f321de86ebb0e59b1cb78ee07b",
     "grade": false,
     "grade_id": "cell-c24516e98145b4a8",
     "locked": true,
     "schema_version": 3,
     "solution": false,
     "task": false
    }
   },
   "source": [
    "1.7 (4pts) Using the original `df`, create a new dataframe that contains row 6 and every 7th row after it. Do not assign it to a variable so it will display."
   ]
  },
  {
   "cell_type": "code",
   "execution_count": 7,
   "id": "2c467ffe-76f8-4745-ba0e-4134d96f62dc",
   "metadata": {
    "deletable": false,
    "nbgrader": {
     "cell_type": "code",
     "checksum": "666fceb227100abce21d1755645b30a3",
     "grade": true,
     "grade_id": "cell-e4fcae7184b03597",
     "locked": false,
     "points": 4,
     "schema_version": 3,
     "solution": true,
     "task": false
    }
   },
   "outputs": [
    {
     "data": {
      "text/html": [
       "<div>\n",
       "<style scoped>\n",
       "    .dataframe tbody tr th:only-of-type {\n",
       "        vertical-align: middle;\n",
       "    }\n",
       "\n",
       "    .dataframe tbody tr th {\n",
       "        vertical-align: top;\n",
       "    }\n",
       "\n",
       "    .dataframe thead th {\n",
       "        text-align: right;\n",
       "    }\n",
       "</style>\n",
       "<table border=\"1\" class=\"dataframe\">\n",
       "  <thead>\n",
       "    <tr style=\"text-align: right;\">\n",
       "      <th></th>\n",
       "      <th>Station</th>\n",
       "      <th>Date</th>\n",
       "      <th>Influx</th>\n",
       "      <th>Tickets</th>\n",
       "      <th>Pre-booked</th>\n",
       "      <th>Onspot</th>\n",
       "      <th>Revenue</th>\n",
       "    </tr>\n",
       "  </thead>\n",
       "  <tbody>\n",
       "    <tr>\n",
       "      <th>6</th>\n",
       "      <td>ST01</td>\n",
       "      <td>1/7/2022</td>\n",
       "      <td>4456</td>\n",
       "      <td>839</td>\n",
       "      <td>708</td>\n",
       "      <td>131</td>\n",
       "      <td>4195</td>\n",
       "    </tr>\n",
       "    <tr>\n",
       "      <th>13</th>\n",
       "      <td>ST01</td>\n",
       "      <td>1/14/2022</td>\n",
       "      <td>3986</td>\n",
       "      <td>2148</td>\n",
       "      <td>1851</td>\n",
       "      <td>297</td>\n",
       "      <td>10740</td>\n",
       "    </tr>\n",
       "    <tr>\n",
       "      <th>20</th>\n",
       "      <td>ST01</td>\n",
       "      <td>1/21/2022</td>\n",
       "      <td>6646</td>\n",
       "      <td>1695</td>\n",
       "      <td>1250</td>\n",
       "      <td>445</td>\n",
       "      <td>8475</td>\n",
       "    </tr>\n",
       "    <tr>\n",
       "      <th>27</th>\n",
       "      <td>ST01</td>\n",
       "      <td>1/28/2022</td>\n",
       "      <td>7295</td>\n",
       "      <td>6714</td>\n",
       "      <td>5214</td>\n",
       "      <td>1500</td>\n",
       "      <td>33570</td>\n",
       "    </tr>\n",
       "    <tr>\n",
       "      <th>34</th>\n",
       "      <td>ST01</td>\n",
       "      <td>2/4/2022</td>\n",
       "      <td>8681</td>\n",
       "      <td>5312</td>\n",
       "      <td>3898</td>\n",
       "      <td>1414</td>\n",
       "      <td>26560</td>\n",
       "    </tr>\n",
       "    <tr>\n",
       "      <th>...</th>\n",
       "      <td>...</td>\n",
       "      <td>...</td>\n",
       "      <td>...</td>\n",
       "      <td>...</td>\n",
       "      <td>...</td>\n",
       "      <td>...</td>\n",
       "      <td>...</td>\n",
       "    </tr>\n",
       "    <tr>\n",
       "      <th>3618</th>\n",
       "      <td>ST10</td>\n",
       "      <td>11/30/2022</td>\n",
       "      <td>4891</td>\n",
       "      <td>3358</td>\n",
       "      <td>2560</td>\n",
       "      <td>798</td>\n",
       "      <td>16790</td>\n",
       "    </tr>\n",
       "    <tr>\n",
       "      <th>3625</th>\n",
       "      <td>ST10</td>\n",
       "      <td>12/7/2022</td>\n",
       "      <td>6645</td>\n",
       "      <td>3011</td>\n",
       "      <td>2620</td>\n",
       "      <td>391</td>\n",
       "      <td>15055</td>\n",
       "    </tr>\n",
       "    <tr>\n",
       "      <th>3632</th>\n",
       "      <td>ST10</td>\n",
       "      <td>12/14/2022</td>\n",
       "      <td>3307</td>\n",
       "      <td>944</td>\n",
       "      <td>807</td>\n",
       "      <td>137</td>\n",
       "      <td>4720</td>\n",
       "    </tr>\n",
       "    <tr>\n",
       "      <th>3639</th>\n",
       "      <td>ST10</td>\n",
       "      <td>12/21/2022</td>\n",
       "      <td>7032</td>\n",
       "      <td>812</td>\n",
       "      <td>661</td>\n",
       "      <td>151</td>\n",
       "      <td>4060</td>\n",
       "    </tr>\n",
       "    <tr>\n",
       "      <th>3646</th>\n",
       "      <td>ST10</td>\n",
       "      <td>12/28/2022</td>\n",
       "      <td>5537</td>\n",
       "      <td>3363</td>\n",
       "      <td>3000</td>\n",
       "      <td>363</td>\n",
       "      <td>16815</td>\n",
       "    </tr>\n",
       "  </tbody>\n",
       "</table>\n",
       "<p>521 rows × 7 columns</p>\n",
       "</div>"
      ],
      "text/plain": [
       "     Station        Date  Influx  Tickets  Pre-booked  Onspot  Revenue\n",
       "6       ST01    1/7/2022    4456      839         708     131     4195\n",
       "13      ST01   1/14/2022    3986     2148        1851     297    10740\n",
       "20      ST01   1/21/2022    6646     1695        1250     445     8475\n",
       "27      ST01   1/28/2022    7295     6714        5214    1500    33570\n",
       "34      ST01    2/4/2022    8681     5312        3898    1414    26560\n",
       "...      ...         ...     ...      ...         ...     ...      ...\n",
       "3618    ST10  11/30/2022    4891     3358        2560     798    16790\n",
       "3625    ST10   12/7/2022    6645     3011        2620     391    15055\n",
       "3632    ST10  12/14/2022    3307      944         807     137     4720\n",
       "3639    ST10  12/21/2022    7032      812         661     151     4060\n",
       "3646    ST10  12/28/2022    5537     3363        3000     363    16815\n",
       "\n",
       "[521 rows x 7 columns]"
      ]
     },
     "execution_count": 7,
     "metadata": {},
     "output_type": "execute_result"
    }
   ],
   "source": [
    "df.iloc[6::7]"
   ]
  },
  {
   "cell_type": "markdown",
   "id": "5e9443e8-e71a-4420-a5cb-8d6ef2124ca6",
   "metadata": {
    "deletable": false,
    "editable": false,
    "nbgrader": {
     "cell_type": "markdown",
     "checksum": "698318c0b55fee3c79d3f59209dd29a7",
     "grade": false,
     "grade_id": "cell-319052371a1fc0d6",
     "locked": true,
     "schema_version": 3,
     "solution": false,
     "task": false
    }
   },
   "source": [
    "## 2. Descriptive Statistics"
   ]
  },
  {
   "cell_type": "markdown",
   "id": "590eecdf-51fe-4cb8-b42f-0cfc351380bf",
   "metadata": {
    "deletable": false,
    "editable": false,
    "nbgrader": {
     "cell_type": "markdown",
     "checksum": "f478002fab96fccc1d77bae122c11f51",
     "grade": false,
     "grade_id": "cell-56264b15c6bccf16",
     "locked": true,
     "schema_version": 3,
     "solution": false,
     "task": false
    }
   },
   "source": [
    "2.1 (2pts) Find the mean for the `Revenue` column of `df` and assign a variable named `mean` to the result. State the value of `mean`."
   ]
  },
  {
   "cell_type": "code",
   "execution_count": 8,
   "id": "da196074-dc11-4daf-8168-e523338eb3b9",
   "metadata": {
    "deletable": false,
    "nbgrader": {
     "cell_type": "code",
     "checksum": "de4df4fb64b45888d3b3c40cfe96bb54",
     "grade": false,
     "grade_id": "cell-65f1302577aa3e03",
     "locked": false,
     "schema_version": 3,
     "solution": true,
     "task": false
    }
   },
   "outputs": [
    {
     "data": {
      "text/plain": [
       "np.float64(17771.56301369863)"
      ]
     },
     "execution_count": 8,
     "metadata": {},
     "output_type": "execute_result"
    }
   ],
   "source": [
    "mean = df['Revenue'].mean()\n",
    "mean\n",
    "#mean returns np.float64(17771.56301369863) I think you wanted the value not object with the value but im not sure, print statement below gives a clean python float not numpy float\n",
    "#print(mean)"
   ]
  },
  {
   "cell_type": "code",
   "execution_count": 9,
   "id": "5727fa64-bf2b-44cc-b340-48f87b887eb9",
   "metadata": {
    "deletable": false,
    "editable": false,
    "nbgrader": {
     "cell_type": "code",
     "checksum": "96577b9af6888bb25579a04d52ad7bb7",
     "grade": true,
     "grade_id": "cell-846b1900da2f587f",
     "locked": true,
     "points": 2,
     "schema_version": 3,
     "solution": false,
     "task": false
    }
   },
   "outputs": [],
   "source": [
    "# Do not edit or remove this cell"
   ]
  },
  {
   "cell_type": "markdown",
   "id": "d356001c-f21c-4138-a00d-52926c87840a",
   "metadata": {
    "deletable": false,
    "editable": false,
    "nbgrader": {
     "cell_type": "markdown",
     "checksum": "5f0555103bdba17ac609f2d63d365bf7",
     "grade": false,
     "grade_id": "cell-f3e85eaed1cefe82",
     "locked": true,
     "schema_version": 3,
     "solution": false,
     "task": false
    }
   },
   "source": [
    "The formula for calculating the _variance_ of a dataset is $ \\sum{ \\frac{ (value - \\mu) ^2}{n} } $ where $ \\mu $ is the mean and $ n $ is the number of individuals in the population. This is the same as finding the average (mean) of $ (value - \\mu)^2 $ for all values in the population.\n",
    "\n",
    "2.2 (3pts) Using the value of `mean` you found above, and the `DataFrame.mean()` method, calculate the value of the _standard deviation_ of the 'Revenue' column of `df`. Do not assign the result to a value so it will display.\n",
    "   _Note: To square a number in Python you can use `** 2` and to take the square root you can use `** 0.5`_"
   ]
  },
  {
   "cell_type": "code",
   "execution_count": 10,
   "id": "ab315671-a3c4-4ff8-b417-adc01511c824",
   "metadata": {
    "deletable": false,
    "nbgrader": {
     "cell_type": "code",
     "checksum": "6bf094e1f1da41651a91be1c6da8da1b",
     "grade": true,
     "grade_id": "cell-44797e917b4e871d",
     "locked": false,
     "points": 3,
     "schema_version": 3,
     "solution": true,
     "task": false
    }
   },
   "outputs": [
    {
     "data": {
      "text/plain": [
       "np.float64(10122.24533686711)"
      ]
     },
     "execution_count": 10,
     "metadata": {},
     "output_type": "execute_result"
    }
   ],
   "source": [
    "#Old code, list comprehension at the bottom\n",
    "#sum_sq_diff = 0\n",
    "#n = len(df['Revenue'])\n",
    "\n",
    "#for i in df['Revenue']:\n",
    "    #sum_sq_diff += (i - mean) ** 2\n",
    "\n",
    "#std_dev_rev = (sum_sq_diff/ (n)) ** 0.5 \n",
    "#print (std_dev_rev)\n",
    "\n",
    "(sum([(i - mean) ** 2 for i in df['Revenue']]) / len(df['Revenue'])) ** 0.5"
   ]
  },
  {
   "cell_type": "markdown",
   "id": "7a5be4f1-b9c7-4a3e-ba14-3dd90a55d319",
   "metadata": {
    "deletable": false,
    "editable": false,
    "nbgrader": {
     "cell_type": "markdown",
     "checksum": "a11c2cf7060b76b605ca5f38ee7b735a",
     "grade": false,
     "grade_id": "cell-8cfcec9b4f2c7096",
     "locked": true,
     "schema_version": 3,
     "solution": false,
     "task": false
    }
   },
   "source": [
    "The `DataFrame.describe()` method calculates descriptive statistics for each numerical column in a DataFrame.\n",
    "\n",
    "2.3 (1pt) Display the data type returned by the `DataFrame.describe()` method by using it on the `df` object and passing the result to `type()`"
   ]
  },
  {
   "cell_type": "code",
   "execution_count": 11,
   "id": "b5e33914-ee87-41c7-a933-8d680a7b149a",
   "metadata": {
    "deletable": false,
    "nbgrader": {
     "cell_type": "code",
     "checksum": "0d4fccae13c292a2571116a279099b2e",
     "grade": true,
     "grade_id": "cell-797ae83be5c26d0d",
     "locked": false,
     "points": 1,
     "schema_version": 3,
     "solution": true,
     "task": false
    }
   },
   "outputs": [
    {
     "data": {
      "text/plain": [
       "pandas.core.frame.DataFrame"
      ]
     },
     "execution_count": 11,
     "metadata": {},
     "output_type": "execute_result"
    }
   ],
   "source": [
    "type(df.describe())"
   ]
  },
  {
   "cell_type": "markdown",
   "id": "d1212c90-8d87-4be7-be13-b852d416e2e5",
   "metadata": {
    "deletable": false,
    "editable": false,
    "nbgrader": {
     "cell_type": "markdown",
     "checksum": "55c0f9014f6fa64a9877df0948c297f9",
     "grade": false,
     "grade_id": "cell-615933941b2688c7",
     "locked": true,
     "schema_version": 3,
     "solution": false,
     "task": false
    }
   },
   "source": [
    "2.4 (1pt) Call the `describe()` method on the `df` object to show the descriptive statistics."
   ]
  },
  {
   "cell_type": "code",
   "execution_count": 12,
   "id": "4d5ef642-2520-4f25-ae24-782e14509545",
   "metadata": {
    "deletable": false,
    "nbgrader": {
     "cell_type": "code",
     "checksum": "4a2fb36f745cc382999d0d3f0c60e737",
     "grade": true,
     "grade_id": "cell-1207ffbba61f3aa8",
     "locked": false,
     "points": 1,
     "schema_version": 3,
     "solution": true,
     "task": false
    }
   },
   "outputs": [
    {
     "data": {
      "text/html": [
       "<div>\n",
       "<style scoped>\n",
       "    .dataframe tbody tr th:only-of-type {\n",
       "        vertical-align: middle;\n",
       "    }\n",
       "\n",
       "    .dataframe tbody tr th {\n",
       "        vertical-align: top;\n",
       "    }\n",
       "\n",
       "    .dataframe thead th {\n",
       "        text-align: right;\n",
       "    }\n",
       "</style>\n",
       "<table border=\"1\" class=\"dataframe\">\n",
       "  <thead>\n",
       "    <tr style=\"text-align: right;\">\n",
       "      <th></th>\n",
       "      <th>Influx</th>\n",
       "      <th>Tickets</th>\n",
       "      <th>Pre-booked</th>\n",
       "      <th>Onspot</th>\n",
       "      <th>Revenue</th>\n",
       "    </tr>\n",
       "  </thead>\n",
       "  <tbody>\n",
       "    <tr>\n",
       "      <th>count</th>\n",
       "      <td>3650.000000</td>\n",
       "      <td>3650.000000</td>\n",
       "      <td>3650.000000</td>\n",
       "      <td>3650.000000</td>\n",
       "      <td>3650.000000</td>\n",
       "    </tr>\n",
       "    <tr>\n",
       "      <th>mean</th>\n",
       "      <td>6501.432877</td>\n",
       "      <td>3554.312603</td>\n",
       "      <td>2885.658082</td>\n",
       "      <td>668.654521</td>\n",
       "      <td>17771.563014</td>\n",
       "    </tr>\n",
       "    <tr>\n",
       "      <th>std</th>\n",
       "      <td>2017.996325</td>\n",
       "      <td>2024.726446</td>\n",
       "      <td>1671.942733</td>\n",
       "      <td>456.107427</td>\n",
       "      <td>10123.632231</td>\n",
       "    </tr>\n",
       "    <tr>\n",
       "      <th>min</th>\n",
       "      <td>3004.000000</td>\n",
       "      <td>369.000000</td>\n",
       "      <td>272.000000</td>\n",
       "      <td>40.000000</td>\n",
       "      <td>1845.000000</td>\n",
       "    </tr>\n",
       "    <tr>\n",
       "      <th>25%</th>\n",
       "      <td>4761.750000</td>\n",
       "      <td>1923.250000</td>\n",
       "      <td>1545.500000</td>\n",
       "      <td>325.250000</td>\n",
       "      <td>9616.250000</td>\n",
       "    </tr>\n",
       "    <tr>\n",
       "      <th>50%</th>\n",
       "      <td>6484.000000</td>\n",
       "      <td>3194.000000</td>\n",
       "      <td>2587.000000</td>\n",
       "      <td>558.500000</td>\n",
       "      <td>15970.000000</td>\n",
       "    </tr>\n",
       "    <tr>\n",
       "      <th>75%</th>\n",
       "      <td>8242.000000</td>\n",
       "      <td>4897.750000</td>\n",
       "      <td>3975.750000</td>\n",
       "      <td>905.750000</td>\n",
       "      <td>24488.750000</td>\n",
       "    </tr>\n",
       "    <tr>\n",
       "      <th>max</th>\n",
       "      <td>9999.000000</td>\n",
       "      <td>9784.000000</td>\n",
       "      <td>8550.000000</td>\n",
       "      <td>2819.000000</td>\n",
       "      <td>48920.000000</td>\n",
       "    </tr>\n",
       "  </tbody>\n",
       "</table>\n",
       "</div>"
      ],
      "text/plain": [
       "            Influx      Tickets   Pre-booked       Onspot       Revenue\n",
       "count  3650.000000  3650.000000  3650.000000  3650.000000   3650.000000\n",
       "mean   6501.432877  3554.312603  2885.658082   668.654521  17771.563014\n",
       "std    2017.996325  2024.726446  1671.942733   456.107427  10123.632231\n",
       "min    3004.000000   369.000000   272.000000    40.000000   1845.000000\n",
       "25%    4761.750000  1923.250000  1545.500000   325.250000   9616.250000\n",
       "50%    6484.000000  3194.000000  2587.000000   558.500000  15970.000000\n",
       "75%    8242.000000  4897.750000  3975.750000   905.750000  24488.750000\n",
       "max    9999.000000  9784.000000  8550.000000  2819.000000  48920.000000"
      ]
     },
     "execution_count": 12,
     "metadata": {},
     "output_type": "execute_result"
    }
   ],
   "source": [
    "df.describe()"
   ]
  },
  {
   "cell_type": "markdown",
   "id": "8bbe7baa-e2c6-4f1d-b8f6-ccd2bd54d20f",
   "metadata": {
    "deletable": false,
    "editable": false,
    "nbgrader": {
     "cell_type": "markdown",
     "checksum": "7f4ab3b416e0aca9296aebab167bba7b",
     "grade": false,
     "grade_id": "cell-6f7a4ceb8ad1fab1",
     "locked": true,
     "schema_version": 3,
     "solution": false,
     "task": false
    }
   },
   "source": [
    "Compare the **std** reported in the `describe()` method from the **standard deviation** you calculated above.\n",
    "\n",
    "2.5 (2pts) Why is the std you calculated above slightly different than what's reported from pandas?"
   ]
  },
  {
   "cell_type": "markdown",
   "id": "5c20280f-e142-4d47-ac0f-cadbace0d801",
   "metadata": {
    "deletable": false,
    "nbgrader": {
     "cell_type": "markdown",
     "checksum": "dc974432be7f911e51d58c701768239c",
     "grade": true,
     "grade_id": "cell-e44d4ea70cf9a7d1",
     "locked": false,
     "points": 2,
     "schema_version": 3,
     "solution": true,
     "task": false
    }
   },
   "source": [
    "\"slightly different\" is a misnomer, its off by exactly 1 because when calcualting variance (and in turn standard deviation) you could divide by the population (***n***) as you showed, however it is standard practice to get the ***population variance*** with respect to our sample as it gives a better estimate as it takes into account the sample size."
   ]
  },
  {
   "cell_type": "markdown",
   "id": "d9d8795b-039c-4184-b851-0b945f5624c2",
   "metadata": {
    "deletable": false,
    "editable": false,
    "nbgrader": {
     "cell_type": "markdown",
     "checksum": "1c3dccf65250525aee253b45e5056bb8",
     "grade": false,
     "grade_id": "cell-e573cbcf20344835",
     "locked": true,
     "schema_version": 3,
     "solution": false,
     "task": false
    }
   },
   "source": [
    "2.6 (2pts) Modify your calculation from above so it matches the value in the `describe()` method. Be sure to display the result."
   ]
  },
  {
   "cell_type": "code",
   "execution_count": 13,
   "id": "eddaf734-c1c0-42c3-879b-5228ed3d88eb",
   "metadata": {
    "deletable": false,
    "nbgrader": {
     "cell_type": "code",
     "checksum": "3d23ee7e16725112cfb4104f66f282ab",
     "grade": true,
     "grade_id": "cell-03f830272dec3b2a",
     "locked": false,
     "points": 2,
     "schema_version": 3,
     "solution": true,
     "task": false
    }
   },
   "outputs": [
    {
     "data": {
      "text/plain": [
       "np.float64(10123.632230802079)"
      ]
     },
     "execution_count": 13,
     "metadata": {},
     "output_type": "execute_result"
    }
   ],
   "source": [
    "(sum([(i - mean) ** 2 for i in df['Revenue']]) / ((len(df['Revenue']) -1) )) ** 0.5\n",
    "\n",
    "#df['Revenue'].std(ddof=0)"
   ]
  },
  {
   "cell_type": "markdown",
   "id": "905239a3-7dd3-461d-bf00-83a0990c7cf5",
   "metadata": {
    "deletable": false,
    "editable": false,
    "nbgrader": {
     "cell_type": "markdown",
     "checksum": "133548c2e49e503bb601b6b440bf2bfe",
     "grade": false,
     "grade_id": "cell-fc2e759caf3b33a8",
     "locked": true,
     "schema_version": 3,
     "solution": false,
     "task": false
    }
   },
   "source": [
    "2.7 (1pt) Run the `describe()` method on the `sample_15` dataframe you created above."
   ]
  },
  {
   "cell_type": "code",
   "execution_count": 14,
   "id": "43c14076-87f1-4c50-a1bb-680d59b04372",
   "metadata": {
    "deletable": false,
    "nbgrader": {
     "cell_type": "code",
     "checksum": "cc8e0bd1061548840e8dd0696dbafec0",
     "grade": true,
     "grade_id": "cell-7946b2914c0cca25",
     "locked": false,
     "points": 1,
     "schema_version": 3,
     "solution": true,
     "task": false
    }
   },
   "outputs": [
    {
     "data": {
      "text/html": [
       "<div>\n",
       "<style scoped>\n",
       "    .dataframe tbody tr th:only-of-type {\n",
       "        vertical-align: middle;\n",
       "    }\n",
       "\n",
       "    .dataframe tbody tr th {\n",
       "        vertical-align: top;\n",
       "    }\n",
       "\n",
       "    .dataframe thead th {\n",
       "        text-align: right;\n",
       "    }\n",
       "</style>\n",
       "<table border=\"1\" class=\"dataframe\">\n",
       "  <thead>\n",
       "    <tr style=\"text-align: right;\">\n",
       "      <th></th>\n",
       "      <th>Influx</th>\n",
       "      <th>Tickets</th>\n",
       "      <th>Pre-booked</th>\n",
       "      <th>Onspot</th>\n",
       "      <th>Revenue</th>\n",
       "    </tr>\n",
       "  </thead>\n",
       "  <tbody>\n",
       "    <tr>\n",
       "      <th>count</th>\n",
       "      <td>548.000000</td>\n",
       "      <td>548.000000</td>\n",
       "      <td>548.000000</td>\n",
       "      <td>548.000000</td>\n",
       "      <td>548.00000</td>\n",
       "    </tr>\n",
       "    <tr>\n",
       "      <th>mean</th>\n",
       "      <td>6606.808394</td>\n",
       "      <td>3558.870438</td>\n",
       "      <td>2887.060219</td>\n",
       "      <td>671.810219</td>\n",
       "      <td>17794.35219</td>\n",
       "    </tr>\n",
       "    <tr>\n",
       "      <th>std</th>\n",
       "      <td>2087.879523</td>\n",
       "      <td>2070.516418</td>\n",
       "      <td>1702.139826</td>\n",
       "      <td>471.443938</td>\n",
       "      <td>10352.58209</td>\n",
       "    </tr>\n",
       "    <tr>\n",
       "      <th>min</th>\n",
       "      <td>3015.000000</td>\n",
       "      <td>374.000000</td>\n",
       "      <td>297.000000</td>\n",
       "      <td>57.000000</td>\n",
       "      <td>1870.00000</td>\n",
       "    </tr>\n",
       "    <tr>\n",
       "      <th>25%</th>\n",
       "      <td>4765.500000</td>\n",
       "      <td>1971.250000</td>\n",
       "      <td>1547.750000</td>\n",
       "      <td>320.750000</td>\n",
       "      <td>9856.25000</td>\n",
       "    </tr>\n",
       "    <tr>\n",
       "      <th>50%</th>\n",
       "      <td>6673.500000</td>\n",
       "      <td>3167.500000</td>\n",
       "      <td>2593.000000</td>\n",
       "      <td>559.000000</td>\n",
       "      <td>15837.50000</td>\n",
       "    </tr>\n",
       "    <tr>\n",
       "      <th>75%</th>\n",
       "      <td>8492.750000</td>\n",
       "      <td>4879.250000</td>\n",
       "      <td>4030.000000</td>\n",
       "      <td>910.500000</td>\n",
       "      <td>24396.25000</td>\n",
       "    </tr>\n",
       "    <tr>\n",
       "      <th>max</th>\n",
       "      <td>9993.000000</td>\n",
       "      <td>9708.000000</td>\n",
       "      <td>8402.000000</td>\n",
       "      <td>2426.000000</td>\n",
       "      <td>48540.00000</td>\n",
       "    </tr>\n",
       "  </tbody>\n",
       "</table>\n",
       "</div>"
      ],
      "text/plain": [
       "            Influx      Tickets   Pre-booked       Onspot      Revenue\n",
       "count   548.000000   548.000000   548.000000   548.000000    548.00000\n",
       "mean   6606.808394  3558.870438  2887.060219   671.810219  17794.35219\n",
       "std    2087.879523  2070.516418  1702.139826   471.443938  10352.58209\n",
       "min    3015.000000   374.000000   297.000000    57.000000   1870.00000\n",
       "25%    4765.500000  1971.250000  1547.750000   320.750000   9856.25000\n",
       "50%    6673.500000  3167.500000  2593.000000   559.000000  15837.50000\n",
       "75%    8492.750000  4879.250000  4030.000000   910.500000  24396.25000\n",
       "max    9993.000000  9708.000000  8402.000000  2426.000000  48540.00000"
      ]
     },
     "execution_count": 14,
     "metadata": {},
     "output_type": "execute_result"
    }
   ],
   "source": [
    "sample_15.describe()"
   ]
  },
  {
   "cell_type": "markdown",
   "id": "51d0038b-576a-4959-84ad-96507fa77913",
   "metadata": {
    "deletable": false,
    "editable": false,
    "nbgrader": {
     "cell_type": "markdown",
     "checksum": "30a4a13ecd82af3590dcfa2ddf643c08",
     "grade": false,
     "grade_id": "cell-6098c3697efdaf46",
     "locked": true,
     "schema_version": 3,
     "solution": false,
     "task": false
    }
   },
   "source": [
    "2.8 (2pts) Subtract the results of the `describe()` method run on `df` from the results run on `sample_15`. Do not assign a variable to the result so it will display."
   ]
  },
  {
   "cell_type": "code",
   "execution_count": 18,
   "id": "9c19b63c-2e7e-4d59-86df-5468d3dbd43b",
   "metadata": {
    "deletable": false,
    "nbgrader": {
     "cell_type": "code",
     "checksum": "f89a2fa60956813f731ae1cd450cbfe2",
     "grade": true,
     "grade_id": "cell-0b550812e42bf8cb",
     "locked": false,
     "points": 2,
     "schema_version": 3,
     "solution": true,
     "task": false
    }
   },
   "outputs": [
    {
     "data": {
      "text/html": [
       "<div>\n",
       "<style scoped>\n",
       "    .dataframe tbody tr th:only-of-type {\n",
       "        vertical-align: middle;\n",
       "    }\n",
       "\n",
       "    .dataframe tbody tr th {\n",
       "        vertical-align: top;\n",
       "    }\n",
       "\n",
       "    .dataframe thead th {\n",
       "        text-align: right;\n",
       "    }\n",
       "</style>\n",
       "<table border=\"1\" class=\"dataframe\">\n",
       "  <thead>\n",
       "    <tr style=\"text-align: right;\">\n",
       "      <th></th>\n",
       "      <th>Influx</th>\n",
       "      <th>Tickets</th>\n",
       "      <th>Pre-booked</th>\n",
       "      <th>Onspot</th>\n",
       "      <th>Revenue</th>\n",
       "    </tr>\n",
       "  </thead>\n",
       "  <tbody>\n",
       "    <tr>\n",
       "      <th>count</th>\n",
       "      <td>-3102.000000</td>\n",
       "      <td>-3102.000000</td>\n",
       "      <td>-3102.000000</td>\n",
       "      <td>-3102.000000</td>\n",
       "      <td>-3102.000000</td>\n",
       "    </tr>\n",
       "    <tr>\n",
       "      <th>mean</th>\n",
       "      <td>105.375517</td>\n",
       "      <td>4.557835</td>\n",
       "      <td>1.402137</td>\n",
       "      <td>3.155698</td>\n",
       "      <td>22.789176</td>\n",
       "    </tr>\n",
       "    <tr>\n",
       "      <th>std</th>\n",
       "      <td>69.883198</td>\n",
       "      <td>45.789972</td>\n",
       "      <td>30.197093</td>\n",
       "      <td>15.336510</td>\n",
       "      <td>228.949859</td>\n",
       "    </tr>\n",
       "    <tr>\n",
       "      <th>min</th>\n",
       "      <td>11.000000</td>\n",
       "      <td>5.000000</td>\n",
       "      <td>25.000000</td>\n",
       "      <td>17.000000</td>\n",
       "      <td>25.000000</td>\n",
       "    </tr>\n",
       "    <tr>\n",
       "      <th>25%</th>\n",
       "      <td>3.750000</td>\n",
       "      <td>48.000000</td>\n",
       "      <td>2.250000</td>\n",
       "      <td>-4.500000</td>\n",
       "      <td>240.000000</td>\n",
       "    </tr>\n",
       "    <tr>\n",
       "      <th>50%</th>\n",
       "      <td>189.500000</td>\n",
       "      <td>-26.500000</td>\n",
       "      <td>6.000000</td>\n",
       "      <td>0.500000</td>\n",
       "      <td>-132.500000</td>\n",
       "    </tr>\n",
       "    <tr>\n",
       "      <th>75%</th>\n",
       "      <td>250.750000</td>\n",
       "      <td>-18.500000</td>\n",
       "      <td>54.250000</td>\n",
       "      <td>4.750000</td>\n",
       "      <td>-92.500000</td>\n",
       "    </tr>\n",
       "    <tr>\n",
       "      <th>max</th>\n",
       "      <td>-6.000000</td>\n",
       "      <td>-76.000000</td>\n",
       "      <td>-148.000000</td>\n",
       "      <td>-393.000000</td>\n",
       "      <td>-380.000000</td>\n",
       "    </tr>\n",
       "  </tbody>\n",
       "</table>\n",
       "</div>"
      ],
      "text/plain": [
       "            Influx      Tickets   Pre-booked       Onspot      Revenue\n",
       "count -3102.000000 -3102.000000 -3102.000000 -3102.000000 -3102.000000\n",
       "mean    105.375517     4.557835     1.402137     3.155698    22.789176\n",
       "std      69.883198    45.789972    30.197093    15.336510   228.949859\n",
       "min      11.000000     5.000000    25.000000    17.000000    25.000000\n",
       "25%       3.750000    48.000000     2.250000    -4.500000   240.000000\n",
       "50%     189.500000   -26.500000     6.000000     0.500000  -132.500000\n",
       "75%     250.750000   -18.500000    54.250000     4.750000   -92.500000\n",
       "max      -6.000000   -76.000000  -148.000000  -393.000000  -380.000000"
      ]
     },
     "execution_count": 18,
     "metadata": {},
     "output_type": "execute_result"
    }
   ],
   "source": [
    "sample_15.describe() - df.describe() "
   ]
  },
  {
   "cell_type": "markdown",
   "id": "7013b8de-1dd9-4d50-a198-1d821c994261",
   "metadata": {
    "deletable": false,
    "editable": false,
    "nbgrader": {
     "cell_type": "markdown",
     "checksum": "556d4a4ea0fe2d3a6b03f085cac8b6a5",
     "grade": false,
     "grade_id": "cell-cade5dfa57209680",
     "locked": true,
     "schema_version": 3,
     "solution": false,
     "task": false
    }
   },
   "source": [
    "2.9 (1pt) How close is the **mean** in `sample_15` to the **mean** of the complete dataset?"
   ]
  },
  {
   "cell_type": "markdown",
   "id": "f5670faa-b44e-42e4-8fc1-3050a16eb3f3",
   "metadata": {
    "deletable": false,
    "nbgrader": {
     "cell_type": "markdown",
     "checksum": "5727aa8c724e1481e12162b31d63f320",
     "grade": true,
     "grade_id": "cell-6416292fc2b5434d",
     "locked": false,
     "points": 1,
     "schema_version": 3,
     "solution": true,
     "task": false
    }
   },
   "source": [
    "The mean of sample_15 differs from the full dataset's mean by varying amounts across different columns, with the largest difference being 105.38 (Influx) and the smallest being 1.40 (Pre-booked). For Revenue, the sample mean is 22.79 higher than the dataset mean. The overall average difference between the means is ~27.46 units. (105.375517 + 4.557835 + 1.402137 + 3.155698 + 22.789176) / 5 "
   ]
  },
  {
   "cell_type": "markdown",
   "id": "633c515f-7f30-4710-9de9-a0373fb124d7",
   "metadata": {
    "deletable": false,
    "editable": false,
    "nbgrader": {
     "cell_type": "markdown",
     "checksum": "21166d721183e33479d94128f800e500",
     "grade": false,
     "grade_id": "cell-d549cc608050469e",
     "locked": true,
     "schema_version": 3,
     "solution": false,
     "task": false
    }
   },
   "source": [
    "2.10 (2pts) Use the `hist()` method on `df` to show the histogram for the column 'Revenue'. Select a sensible number for the `bins` parameter to give a sense of the distribution."
   ]
  },
  {
   "cell_type": "code",
   "execution_count": 16,
   "id": "31acd9d5-da46-41b0-ba6b-c0f199fd1782",
   "metadata": {
    "deletable": false,
    "nbgrader": {
     "cell_type": "code",
     "checksum": "d39f15877fd94ed8c6fa5f234a72959c",
     "grade": true,
     "grade_id": "cell-526fbb168abde6bc",
     "locked": false,
     "points": 1,
     "schema_version": 3,
     "solution": true,
     "task": false
    }
   },
   "outputs": [
    {
     "data": {
      "text/plain": [
       "<Axes: >"
      ]
     },
     "execution_count": 16,
     "metadata": {},
     "output_type": "execute_result"
    },
    {
     "data": {
      "image/png": "[encoded data removed]",
      "text/plain": [
       "<Figure size 640x480 with 1 Axes>"
      ]
     },
     "metadata": {},
     "output_type": "display_data"
    }
   ],
   "source": [
    "df['Revenue'].hist(bins=60) #Did we talk about bins last tuesday (18 Feb) or last thrusday? (20 Feb) Looking at zybooks im not sure this was explained had to check the pandas docs for it."
   ]
  },
  {
   "cell_type": "markdown",
   "id": "c17d42e6-db97-460a-8123-ea54b3622329",
   "metadata": {
    "deletable": false,
    "editable": false,
    "nbgrader": {
     "cell_type": "markdown",
     "checksum": "5c7b80a4e0f287ac601ce86666feb50d",
     "grade": false,
     "grade_id": "cell-f72c64232aee84bf",
     "locked": true,
     "schema_version": 3,
     "solution": false,
     "task": false
    }
   },
   "source": [
    "2.11 (1pt) What shape does the `Revenue` distribution have?"
   ]
  },
  {
   "cell_type": "markdown",
   "id": "85339057-a412-4e76-860e-03a6ce11db3e",
   "metadata": {
    "deletable": false,
    "nbgrader": {
     "cell_type": "markdown",
     "checksum": "09fe43d1268c2a2756c6096199dd301e",
     "grade": true,
     "grade_id": "cell-db92eb39a98bba4e",
     "locked": false,
     "points": 1,
     "schema_version": 3,
     "solution": true,
     "task": false
    }
   },
   "source": [
    "Right Skewed"
   ]
  },
  {
   "cell_type": "markdown",
   "id": "199e135c-1fde-49a0-8204-29365d0cf56b",
   "metadata": {
    "deletable": false,
    "editable": false,
    "nbgrader": {
     "cell_type": "markdown",
     "checksum": "42fb40cf8060b6f608bc66fa6939754a",
     "grade": false,
     "grade_id": "cell-8ee795ac84df6e68",
     "locked": true,
     "schema_version": 3,
     "solution": false,
     "task": false
    }
   },
   "source": [
    "2.12 (3pts) Using the descriptive statistics from `describe()` you displayed above, calculate the Interquartile Range (IQR) for the `Revenue` column and display the result."
   ]
  },
  {
   "cell_type": "code",
   "execution_count": 17,
   "id": "768b8593-af7b-4e90-84c3-49ede9cf0d53",
   "metadata": {
    "deletable": false,
    "nbgrader": {
     "cell_type": "code",
     "checksum": "6e6bd4aa645549a2812fc8955cd61ece",
     "grade": true,
     "grade_id": "cell-a205ec5ce86887d1",
     "locked": false,
     "points": 3,
     "schema_version": 3,
     "solution": true,
     "task": false
    }
   },
   "outputs": [
    {
     "data": {
      "text/plain": [
       "14872.5"
      ]
     },
     "execution_count": 17,
     "metadata": {},
     "output_type": "execute_result"
    }
   ],
   "source": [
    "#print(df['Revenue'].describe())\n",
    "\n",
    "#IQR = Q3 - Q1\n",
    "IQR = 24488.75 - 9616.25\n",
    "IQR"
   ]
  },
  {
   "cell_type": "markdown",
   "id": "0283680e-4aaa-48da-88e1-ad127de11358",
   "metadata": {
    "deletable": false,
    "editable": false,
    "nbgrader": {
     "cell_type": "markdown",
     "checksum": "0e536be5b21eaf737a5d20c203f7f40c",
     "grade": false,
     "grade_id": "cell-f86cb2f942ca9124",
     "locked": true,
     "schema_version": 3,
     "solution": false,
     "task": false
    }
   },
   "source": [
    "2.13 (1pt) What does the IQR for the `Revenue` column mean?"
   ]
  },
  {
   "cell_type": "markdown",
   "id": "79c35135-ba9a-49f6-8957-3d99fb4ba9e8",
   "metadata": {
    "deletable": false,
    "nbgrader": {
     "cell_type": "markdown",
     "checksum": "c878df650eccc2ac2d7aa1f8e5ade577",
     "grade": true,
     "grade_id": "cell-5b89b4b96c21621a",
     "locked": false,
     "points": 1,
     "schema_version": 3,
     "solution": true,
     "task": false
    }
   },
   "source": [
    "The IQR tells us where 50% of the data falls, in our context our high IQR value reveals a wide spead (as seen above aswell) betweenn 9,616.25 and 24,488.75. Our IQR value (14872.5) could be useufll in understandign what a **typical** revenue to expect from our dataset. Howerver as we don't know the methodology for this data's collection we cannot make any correlations or conclusions about the data in good faith."
   ]
  },
  {
   "cell_type": "markdown",
   "id": "c1eebce8-40ac-4825-8203-78453f8b735e",
   "metadata": {
    "deletable": false,
    "editable": false,
    "nbgrader": {
     "cell_type": "markdown",
     "checksum": "6d6c1b8adfb215a77f4f53f6e1bfd2f8",
     "grade": false,
     "grade_id": "cell-2ea2ed551a588341",
     "locked": true,
     "schema_version": 3,
     "solution": false,
     "task": false
    }
   },
   "source": [
    "2.14 (3pts) If the data show that the larger the influx (number of people going through the station) the higher the number of unticketed passengers, would we be correct in concluding that fare jumpers (people who don't pay) prefer larger stations?"
   ]
  },
  {
   "cell_type": "markdown",
   "id": "1a877892-27df-4e85-bd57-86660ab545c3",
   "metadata": {
    "deletable": false,
    "nbgrader": {
     "cell_type": "markdown",
     "checksum": "7e48b93480d5f5b552837e5fc22b5a41",
     "grade": true,
     "grade_id": "cell-9dc0010adb90ac73",
     "locked": false,
     "points": 3,
     "schema_version": 3,
     "solution": true,
     "task": false
    }
   },
   "source": [
    "No, we cannot conclude that fare jumpers prefer larger stations just because the data shows a relationship between station influx and unticketed passengers. Being overtly clear, **Correlation does not imply causation!**, which might as well be a statistics commandment written in stone from the founders of Statistics. In our context the increase in unticketed passengers at high-influx stations could be due to many other factors, maybe law enforcement doesn't patrol a station over another one, a broken ticketing turn style on certain days, or a flaw in the collection of the data itself. While the relationship may exist, determining causality would require deeper investigation, possibly through controlled studies or additional contextual data."
   ]
  },
  {
   "cell_type": "markdown",
   "id": "e6f4b737-d8af-4075-9e1b-f620b61cef71",
   "metadata": {
    "deletable": false,
    "editable": false,
    "nbgrader": {
     "cell_type": "markdown",
     "checksum": "34306493c956a76117e5ed6bc8e12509",
     "grade": false,
     "grade_id": "cell-4b0ad96cf01d880f",
     "locked": true,
     "schema_version": 3,
     "solution": false,
     "task": false
    }
   },
   "source": [
    "---"
   ]
  },
  {
   "cell_type": "markdown",
   "id": "f7293855-989b-4d89-9163-b059d414e02b",
   "metadata": {
    "deletable": false,
    "editable": false,
    "nbgrader": {
     "cell_type": "markdown",
     "checksum": "737d0e71be9840e2f05b8a461ef10b8d",
     "grade": false,
     "grade_id": "cell-6f243cc64e15bba2",
     "locked": true,
     "schema_version": 3,
     "solution": false,
     "task": false
    }
   },
   "source": [
    "### Submission Instructions\n",
    "\n",
    "Be sure to ***SAVE YOUR WORK***!  \n",
    "\n",
    "Next, select Kernel -> Restart Kernel and Run All Cells...\n",
    "\n",
    "Make sure there are no errors.\n",
    "\n",
    "Then submit this notebook (.ipynb) file to Canvas."
   ]
  }
 ],
 "metadata": {
  "kernelspec": {
   "display_name": "Python 3 (ipykernel)",
   "language": "python",
   "name": "python3"
  },
  "language_info": {
   "codemirror_mode": {
    "name": "ipython",
    "version": 3
   },
   "file_extension": ".py",
   "mimetype": "text/x-python",
   "name": "python",
   "nbconvert_exporter": "python",
   "pygments_lexer": "ipython3",
   "version": "3.12.5"
  }
 },
 "nbformat": 4,
 "nbformat_minor": 5
}
