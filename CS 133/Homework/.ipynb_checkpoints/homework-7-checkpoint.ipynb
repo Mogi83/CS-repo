{
 "cells": [
  {
   "cell_type": "markdown",
   "id": "50fd10e8-22c3-4da5-ade2-b50da1781fc6",
   "metadata": {},
   "source": [
    "# Homework 7 - Multiple Regression, K Nearest Neighbors\n",
    "CS 133  \n",
    "Dr. Henderson  \n",
    "Spring 2025  \n",
    "v1\n",
    "\n",
    "---"
   ]
  },
  {
   "cell_type": "code",
   "execution_count": 18,
   "id": "283df58d-832f-465c-819d-d0a50a163177",
   "metadata": {},
   "outputs": [],
   "source": [
    "import pandas as pd\n",
    "import seaborn as sns\n",
    "from sklearn.linear_model import LinearRegression\n",
    "from sklearn.preprocessing import PolynomialFeatures"
   ]
  },
  {
   "cell_type": "markdown",
   "id": "3835432b-3715-4a81-b37b-b168736918aa",
   "metadata": {},
   "source": [
    "## 1. Multiple Regression"
   ]
  },
  {
   "cell_type": "markdown",
   "id": "d7ecbe14-db7a-47d4-84a9-280b2d47e6a9",
   "metadata": {},
   "source": [
    "A climate research team collected data on regional microclimates to understand carbon sequestration rates in forest ecosystems. They measured 20 standardized environmental parameters (all normalized to center around zero). Their target variable was the **carbon sequestration rate** measured in tons per hectare per year, which ranged from -20 (indicating carbon release) to +20 (indicating strong carbon capture), with zero representing carbon neutrality. The researchers aimed to build a model that could predict how these various environmental factors collectively influence whether a forest area acts as a carbon sink or source."
   ]
  },
  {
   "cell_type": "markdown",
   "id": "fe24d968-8daf-45b2-9409-9cde8585402f",
   "metadata": {},
   "source": [
    "1.1 (5pts) Uing the `carbon.csv` dataset, apply multiple regression to create a model that can predict the carbon sequestration rate based on the 20 standardized environmental parameters."
   ]
  },
  {
   "cell_type": "code",
   "execution_count": 24,
   "id": "ae029cb2-199d-42a3-ab40-d0f8305b3ed1",
   "metadata": {},
   "outputs": [
    {
     "name": "stdout",
     "output_type": "stream",
     "text": [
      "<class 'pandas.core.frame.DataFrame'>\n",
      "RangeIndex: 399 entries, 0 to 398\n",
      "Data columns (total 21 columns):\n",
      " #   Column                      Non-Null Count  Dtype  \n",
      "---  ------                      --------------  -----  \n",
      " 0   soil_ph_deviation           399 non-null    float64\n",
      " 1   moisture_content_variation  399 non-null    float64\n",
      " 2   nitrogen_level_fluctuation  399 non-null    float64\n",
      " 3   tree_density_difference     399 non-null    float64\n",
      " 4   understory_diversity_index  399 non-null    float64\n",
      " 5   canopy_coverage_deviation   399 non-null    float64\n",
      " 6   temperature_anomaly         399 non-null    float64\n",
      " 7   precipitation_difference    399 non-null    float64\n",
      " 8   elevation_variation         399 non-null    float64\n",
      " 9   wind_pattern_change         399 non-null    float64\n",
      " 10  sunlight_exposure_shift     399 non-null    float64\n",
      " 11  fungal_colony_presence      399 non-null    float64\n",
      " 12  insect_population_variance  399 non-null    float64\n",
      " 13  water_body_influence        399 non-null    float64\n",
      " 14  forest_edge_proximity       399 non-null    float64\n",
      " 15  human_activity_impact       399 non-null    float64\n",
      " 16  wildfire_history            399 non-null    float64\n",
      " 17  geographic_orientation      399 non-null    float64\n",
      " 18  local_pollution_level       399 non-null    float64\n",
      " 19  adjacent_landscape_effect   399 non-null    float64\n",
      " 20  carbon_sequestration_rate   399 non-null    float64\n",
      "dtypes: float64(21)\n",
      "memory usage: 65.6 KB\n"
     ]
    },
    {
     "data": {
      "text/html": [
       "<div>\n",
       "<style scoped>\n",
       "    .dataframe tbody tr th:only-of-type {\n",
       "        vertical-align: middle;\n",
       "    }\n",
       "\n",
       "    .dataframe tbody tr th {\n",
       "        vertical-align: top;\n",
       "    }\n",
       "\n",
       "    .dataframe thead th {\n",
       "        text-align: right;\n",
       "    }\n",
       "</style>\n",
       "<table border=\"1\" class=\"dataframe\">\n",
       "  <thead>\n",
       "    <tr style=\"text-align: right;\">\n",
       "      <th></th>\n",
       "      <th>soil_ph_deviation</th>\n",
       "      <th>moisture_content_variation</th>\n",
       "      <th>nitrogen_level_fluctuation</th>\n",
       "      <th>tree_density_difference</th>\n",
       "      <th>understory_diversity_index</th>\n",
       "      <th>canopy_coverage_deviation</th>\n",
       "      <th>temperature_anomaly</th>\n",
       "      <th>precipitation_difference</th>\n",
       "      <th>elevation_variation</th>\n",
       "      <th>wind_pattern_change</th>\n",
       "      <th>...</th>\n",
       "      <th>fungal_colony_presence</th>\n",
       "      <th>insect_population_variance</th>\n",
       "      <th>water_body_influence</th>\n",
       "      <th>forest_edge_proximity</th>\n",
       "      <th>human_activity_impact</th>\n",
       "      <th>wildfire_history</th>\n",
       "      <th>geographic_orientation</th>\n",
       "      <th>local_pollution_level</th>\n",
       "      <th>adjacent_landscape_effect</th>\n",
       "      <th>carbon_sequestration_rate</th>\n",
       "    </tr>\n",
       "  </thead>\n",
       "  <tbody>\n",
       "    <tr>\n",
       "      <th>0</th>\n",
       "      <td>-0.005818</td>\n",
       "      <td>-0.006002</td>\n",
       "      <td>-0.007275</td>\n",
       "      <td>-0.006220</td>\n",
       "      <td>0.008112</td>\n",
       "      <td>-0.027816</td>\n",
       "      <td>-0.037692</td>\n",
       "      <td>0.002191</td>\n",
       "      <td>-0.040248</td>\n",
       "      <td>-0.012000</td>\n",
       "      <td>...</td>\n",
       "      <td>0.035238</td>\n",
       "      <td>0.031870</td>\n",
       "      <td>0.007499</td>\n",
       "      <td>-0.025301</td>\n",
       "      <td>0.020776</td>\n",
       "      <td>-0.051908</td>\n",
       "      <td>0.026896</td>\n",
       "      <td>-0.014664</td>\n",
       "      <td>-0.011946</td>\n",
       "      <td>1.334152</td>\n",
       "    </tr>\n",
       "    <tr>\n",
       "      <th>1</th>\n",
       "      <td>-0.004206</td>\n",
       "      <td>-0.004483</td>\n",
       "      <td>-0.003353</td>\n",
       "      <td>-0.001938</td>\n",
       "      <td>-0.025225</td>\n",
       "      <td>-0.003248</td>\n",
       "      <td>-0.003622</td>\n",
       "      <td>0.020648</td>\n",
       "      <td>-0.043638</td>\n",
       "      <td>-0.004623</td>\n",
       "      <td>...</td>\n",
       "      <td>-0.010668</td>\n",
       "      <td>-0.033787</td>\n",
       "      <td>-0.013120</td>\n",
       "      <td>0.002057</td>\n",
       "      <td>0.008023</td>\n",
       "      <td>-0.015728</td>\n",
       "      <td>0.016876</td>\n",
       "      <td>-0.034842</td>\n",
       "      <td>0.039858</td>\n",
       "      <td>2.174149</td>\n",
       "    </tr>\n",
       "    <tr>\n",
       "      <th>2</th>\n",
       "      <td>-0.017320</td>\n",
       "      <td>0.029524</td>\n",
       "      <td>-0.034604</td>\n",
       "      <td>0.008720</td>\n",
       "      <td>-0.003044</td>\n",
       "      <td>-0.006266</td>\n",
       "      <td>0.013242</td>\n",
       "      <td>-0.001315</td>\n",
       "      <td>0.015953</td>\n",
       "      <td>-0.003595</td>\n",
       "      <td>...</td>\n",
       "      <td>0.013845</td>\n",
       "      <td>-0.018368</td>\n",
       "      <td>-0.000995</td>\n",
       "      <td>-0.011459</td>\n",
       "      <td>-0.009702</td>\n",
       "      <td>0.036563</td>\n",
       "      <td>0.008172</td>\n",
       "      <td>-0.012342</td>\n",
       "      <td>0.036234</td>\n",
       "      <td>9.427182</td>\n",
       "    </tr>\n",
       "    <tr>\n",
       "      <th>3</th>\n",
       "      <td>-0.034326</td>\n",
       "      <td>0.035395</td>\n",
       "      <td>-0.007513</td>\n",
       "      <td>-0.010726</td>\n",
       "      <td>0.034265</td>\n",
       "      <td>-0.011407</td>\n",
       "      <td>-0.028913</td>\n",
       "      <td>0.021936</td>\n",
       "      <td>-0.023797</td>\n",
       "      <td>-0.007403</td>\n",
       "      <td>...</td>\n",
       "      <td>0.012387</td>\n",
       "      <td>0.028140</td>\n",
       "      <td>0.009673</td>\n",
       "      <td>0.005057</td>\n",
       "      <td>-0.001007</td>\n",
       "      <td>0.011433</td>\n",
       "      <td>-0.002299</td>\n",
       "      <td>0.012543</td>\n",
       "      <td>-0.012346</td>\n",
       "      <td>11.177850</td>\n",
       "    </tr>\n",
       "    <tr>\n",
       "      <th>4</th>\n",
       "      <td>0.017268</td>\n",
       "      <td>-0.031469</td>\n",
       "      <td>-0.012357</td>\n",
       "      <td>-0.005917</td>\n",
       "      <td>0.000782</td>\n",
       "      <td>-0.019566</td>\n",
       "      <td>0.035803</td>\n",
       "      <td>0.009124</td>\n",
       "      <td>0.037865</td>\n",
       "      <td>0.037545</td>\n",
       "      <td>...</td>\n",
       "      <td>0.019093</td>\n",
       "      <td>-0.003897</td>\n",
       "      <td>0.013784</td>\n",
       "      <td>-0.004139</td>\n",
       "      <td>-0.002013</td>\n",
       "      <td>0.010758</td>\n",
       "      <td>0.011178</td>\n",
       "      <td>0.042860</td>\n",
       "      <td>0.016149</td>\n",
       "      <td>7.595099</td>\n",
       "    </tr>\n",
       "  </tbody>\n",
       "</table>\n",
       "<p>5 rows × 21 columns</p>\n",
       "</div>"
      ],
      "text/plain": [
       "   soil_ph_deviation  moisture_content_variation  nitrogen_level_fluctuation  \\\n",
       "0          -0.005818                   -0.006002                   -0.007275   \n",
       "1          -0.004206                   -0.004483                   -0.003353   \n",
       "2          -0.017320                    0.029524                   -0.034604   \n",
       "3          -0.034326                    0.035395                   -0.007513   \n",
       "4           0.017268                   -0.031469                   -0.012357   \n",
       "\n",
       "   tree_density_difference  understory_diversity_index  \\\n",
       "0                -0.006220                    0.008112   \n",
       "1                -0.001938                   -0.025225   \n",
       "2                 0.008720                   -0.003044   \n",
       "3                -0.010726                    0.034265   \n",
       "4                -0.005917                    0.000782   \n",
       "\n",
       "   canopy_coverage_deviation  temperature_anomaly  precipitation_difference  \\\n",
       "0                  -0.027816            -0.037692                  0.002191   \n",
       "1                  -0.003248            -0.003622                  0.020648   \n",
       "2                  -0.006266             0.013242                 -0.001315   \n",
       "3                  -0.011407            -0.028913                  0.021936   \n",
       "4                  -0.019566             0.035803                  0.009124   \n",
       "\n",
       "   elevation_variation  wind_pattern_change  ...  fungal_colony_presence  \\\n",
       "0            -0.040248            -0.012000  ...                0.035238   \n",
       "1            -0.043638            -0.004623  ...               -0.010668   \n",
       "2             0.015953            -0.003595  ...                0.013845   \n",
       "3            -0.023797            -0.007403  ...                0.012387   \n",
       "4             0.037865             0.037545  ...                0.019093   \n",
       "\n",
       "   insect_population_variance  water_body_influence  forest_edge_proximity  \\\n",
       "0                    0.031870              0.007499              -0.025301   \n",
       "1                   -0.033787             -0.013120               0.002057   \n",
       "2                   -0.018368             -0.000995              -0.011459   \n",
       "3                    0.028140              0.009673               0.005057   \n",
       "4                   -0.003897              0.013784              -0.004139   \n",
       "\n",
       "   human_activity_impact  wildfire_history  geographic_orientation  \\\n",
       "0               0.020776         -0.051908                0.026896   \n",
       "1               0.008023         -0.015728                0.016876   \n",
       "2              -0.009702          0.036563                0.008172   \n",
       "3              -0.001007          0.011433               -0.002299   \n",
       "4              -0.002013          0.010758                0.011178   \n",
       "\n",
       "   local_pollution_level  adjacent_landscape_effect  carbon_sequestration_rate  \n",
       "0              -0.014664                  -0.011946                   1.334152  \n",
       "1              -0.034842                   0.039858                   2.174149  \n",
       "2              -0.012342                   0.036234                   9.427182  \n",
       "3               0.012543                  -0.012346                  11.177850  \n",
       "4               0.042860                   0.016149                   7.595099  \n",
       "\n",
       "[5 rows x 21 columns]"
      ]
     },
     "execution_count": 24,
     "metadata": {},
     "output_type": "execute_result"
    }
   ],
   "source": [
    "carbon = pd.read_csv('carbon.csv')\n",
    "pf2 = PolynomialFeatures(degree=2)\n",
    "carbon.info()\n",
    "carbon.describe()\n",
    "carbon.head()\n",
    "#Need to drop carbon sequestration rate."
   ]
  },
  {
   "cell_type": "markdown",
   "id": "4d04a3cb-9881-497d-bad6-f12b300278bb",
   "metadata": {},
   "source": [
    "1.2 (2 pts) How well does your model explain the data? (Use an appropriate metric and explain what it means)."
   ]
  },
  {
   "cell_type": "code",
   "execution_count": null,
   "id": "da73032d-3572-4d98-8102-a0bd41acb081",
   "metadata": {
    "scrolled": true
   },
   "outputs": [],
   "source": []
  },
  {
   "cell_type": "markdown",
   "id": "8620bda5-7acf-4977-8883-78e693a1e538",
   "metadata": {},
   "source": [
    "(Explain here)"
   ]
  },
  {
   "cell_type": "markdown",
   "id": "b028084b-f590-43f4-8a12-5355742a0dc0",
   "metadata": {},
   "source": [
    "1.3 (2 pts) A new microclimate was measured on the island of Borneo. Use the data from the file `borneo.csv` and your regression model to predict the carbon squestration rate of Borneo. Interpret the results."
   ]
  },
  {
   "cell_type": "code",
   "execution_count": null,
   "id": "40e3f8cd-e53b-4f02-9b07-118ec843b5f6",
   "metadata": {},
   "outputs": [],
   "source": []
  },
  {
   "cell_type": "markdown",
   "id": "bfed4d67-1fba-4c83-85f2-65601d326c79",
   "metadata": {},
   "source": [
    "(Interpret here)"
   ]
  },
  {
   "cell_type": "markdown",
   "id": "5e9443e8-e71a-4420-a5cb-8d6ef2124ca6",
   "metadata": {},
   "source": [
    "## 2. Polynomial Regression"
   ]
  },
  {
   "cell_type": "markdown",
   "id": "314d19ba-d1cc-4d81-b519-e1ee42c4710b",
   "metadata": {},
   "source": [
    "Health experts at Regional Medical Center are studying factors that influence recovery time following total knee replacement surgery. They've collected data from 399 patients to develop a predictive model that could help healthcare providers optimize post-surgical care plans and provide more accurate recovery timelines to patients.\n",
    "\n",
    "For each patient, the researchers measured 12 key health metrics (normalized to a 0-1 scale). The target variable is the post-surgical **recovery time**, measured as the number of days (ranging from 0-25) until the patient achieves independent mobility according to standardized assessments.\n",
    "\n",
    "The orthopedic department wants to develop a reliable model to predict recovery timelines for future patients. This would allow for more personalized care plans, better resource allocation, and improved patient expectations management."
   ]
  },
  {
   "cell_type": "markdown",
   "id": "a979aeae-2b7a-4ab1-adc2-9d34e9903f9d",
   "metadata": {},
   "source": [
    "2.1 (4pts) Uing the `orthopedic_recovery.csv` dataset, apply standard (non-polynomial) multiple regression to create a model that can predict the recovery time based on the 12 input parameters."
   ]
  },
  {
   "cell_type": "code",
   "execution_count": null,
   "id": "8542cd39-7c5f-4059-8967-96ca9eb317ca",
   "metadata": {},
   "outputs": [],
   "source": []
  },
  {
   "cell_type": "markdown",
   "id": "9428354f-7496-401b-90be-af7bc75ab638",
   "metadata": {},
   "source": [
    "2.2 (2pts) What is the accuracy of your model?"
   ]
  },
  {
   "cell_type": "code",
   "execution_count": null,
   "id": "45650569-d312-40f2-8f70-9192be900cf4",
   "metadata": {},
   "outputs": [],
   "source": []
  },
  {
   "cell_type": "markdown",
   "id": "2037243f-302a-41c4-896e-8db37360cdbc",
   "metadata": {},
   "source": [
    "(Explain here)"
   ]
  },
  {
   "cell_type": "markdown",
   "id": "15bdc96b-030c-4235-92cb-ef94734d31b1",
   "metadata": {},
   "source": [
    "2.3 (5pts) Using multiple polynomial regression, build another model of the `orthopedic_recovery.csv` dataset"
   ]
  },
  {
   "cell_type": "code",
   "execution_count": null,
   "id": "36b13732-9728-4bd0-b853-99d293b50456",
   "metadata": {},
   "outputs": [],
   "source": []
  },
  {
   "cell_type": "markdown",
   "id": "6682d30e-b31c-4bb4-a65f-90cb5c653e3d",
   "metadata": {},
   "source": [
    "2.4 (2pts) What is the accuracy of your new model?"
   ]
  },
  {
   "cell_type": "code",
   "execution_count": null,
   "id": "fc85f632-6a05-47c4-a6f9-f4f69f934a44",
   "metadata": {},
   "outputs": [],
   "source": []
  },
  {
   "cell_type": "markdown",
   "id": "5cbeb03b-da23-4d24-a6dd-fcef21278d6d",
   "metadata": {},
   "source": [
    "(Explain here)"
   ]
  },
  {
   "cell_type": "markdown",
   "id": "46db3986-d8ea-4219-bc27-9277cf862e73",
   "metadata": {},
   "source": [
    "2.5 (5pts) Using the data in the `patient.csv` file predict the recovery time for the patient using both models.  \n",
    "_Note: you will need to transform the data before passing it to your polynomial model_"
   ]
  },
  {
   "cell_type": "code",
   "execution_count": null,
   "id": "c705a4ec-98f8-4f08-a1a4-d19d2db5b2b7",
   "metadata": {},
   "outputs": [],
   "source": []
  },
  {
   "cell_type": "markdown",
   "id": "d1a0c2c5-b09a-4598-91ca-5f95248dde7c",
   "metadata": {},
   "source": [
    "2.6 (2pts) Based on these predictions, what would be your estimate and how confident are you?"
   ]
  },
  {
   "cell_type": "markdown",
   "id": "7e2133d0-05e4-4943-9821-290313d45d17",
   "metadata": {},
   "source": [
    "(Answer here)"
   ]
  },
  {
   "cell_type": "markdown",
   "id": "93958190-8893-4225-9c3e-86f1a290d314",
   "metadata": {},
   "source": [
    "### 3. K Nearest Neighbors"
   ]
  },
  {
   "cell_type": "markdown",
   "id": "e751b0b0-3d63-46dc-9619-181edfd0dce1",
   "metadata": {},
   "source": [
    "The kNN algorithm requires a distance metric between samples in the sample space. The most common distance metric used is Euclidean which is defined as:  \n",
    "\n",
    "$$ distance(a,b) = \\sqrt{ (a_{f1} - b_{f1})^2 + (a_{f2} - b_{f2})^2 + ... + (a_{fn} - b_{fn})^2  } $$\n",
    "\n",
    "Where $ a, b $ are two samples in the dataset and $ fn $ is feature $ n $ of the dataset."
   ]
  },
  {
   "cell_type": "markdown",
   "id": "ebdb7537-3eaf-4a56-997d-17d2bba95ed8",
   "metadata": {},
   "source": [
    "3.1 (7pts) Create a Python function to calculate the distance between two Pandas Series. You can assume the series will have the same number of features (although it would be a good idea to check), and that all features are numeric. Try not to use Python `for` loops."
   ]
  },
  {
   "cell_type": "code",
   "execution_count": 15,
   "id": "4adefc92-74c2-40e5-ad3b-43a5d16bccce",
   "metadata": {},
   "outputs": [],
   "source": [
    "def distance(a, b):\n",
    "    #if series1.count() != series2.count():\n",
    "        #pass\n",
    "    #else:\n",
    "        return (((a - b)**2).sum())**0.5 \n",
    "        "
   ]
  },
  {
   "cell_type": "markdown",
   "id": "20247301-6610-407c-b8f1-1406da48946d",
   "metadata": {},
   "source": [
    "3.2 (3pts) Check your function by creating a DataFrame from the list `[[1, 2], [3, 4]]` and calling your function with the two rows."
   ]
  },
  {
   "cell_type": "code",
   "execution_count": 16,
   "id": "782742e0-7796-4b50-bf44-a19b3fb148ef",
   "metadata": {
    "scrolled": true
   },
   "outputs": [
    {
     "data": {
      "text/plain": [
       "np.float64(2.8284271247461903)"
      ]
     },
     "execution_count": 16,
     "metadata": {},
     "output_type": "execute_result"
    }
   ],
   "source": [
    "l = pd.DataFrame([ [1,2],[3,4] ])\n",
    "distance(l.iloc[0],l.iloc[1])"
   ]
  },
  {
   "cell_type": "markdown",
   "id": "8fdb5cad-0cc7-4e40-88d6-813a410d417b",
   "metadata": {},
   "source": [
    "3.3 (14pts) To predict the value of an unlabeled sample, the kNN algorithm finds the $ k $ nearest samples in the dataset using the Euclidean distance. This requires testing the new sample against each row in the dataset and remembering the nearest $ k $ rows.  \n",
    "\n",
    "Create a Python function called `kNN` that takes a parameter $ k $, an unlabeled sample as a Pandas Series, and a dataframe of labeled samples. Your function should return a dataframe of the $ k $ rows that are closest to the unlabeled sample.\n",
    "\n",
    "Suggested pseudocode:\n",
    "```\n",
    "k is the number of neighbors to use\n",
    "u is an unlabeled sample\n",
    "X is the input samples from the labeled dataframe\n",
    "\n",
    "neighbors is a new list of tuples\n",
    "for each row in X\n",
    "  calculate the distance to u\n",
    "  append a tuple of the row index and distance to the neighbors list\n",
    "  sort the neighbors list by distance\n",
    "  truncate the neighbors list to the top k entries\n",
    "select the rows in X from the index values in the neighbors list and return the new dataframe\n",
    "```\n",
    "\n",
    "_Hint: To sort a list of tuples on one of the tuple elements use `list.sort(key=lambda x: x[n])` where `n` is the position of the value to sort on._"
   ]
  },
  {
   "cell_type": "code",
   "execution_count": 17,
   "id": "0dddbf79-d0dd-4ad7-81d0-1cbb89bd6ab7",
   "metadata": {},
   "outputs": [],
   "source": [
    "def kNN(k ,u, x):\n",
    "    #returns a list of rows that are the nearest neighbors based on k.\n",
    "    neighbors = []\n",
    "    for idx, row in X.iterrows():\n",
    "        neighbors.append( (idx, distance(u, row) ) )\n",
    "        neighbors.sort( key=lambda x: x[1] )\n",
    "        neighbors = neighbors [:k]\n",
    "    return X.iloc[ [n[0] for n in neighbors] ]\n",
    "        "
   ]
  },
  {
   "cell_type": "markdown",
   "id": "f39d5f08-aa53-4138-bc3a-dbd291e8749b",
   "metadata": {},
   "source": [
    "3.4 (3pts) Test your function using the unit tests in the cells below."
   ]
  },
  {
   "cell_type": "code",
   "execution_count": null,
   "id": "f33e4b18-479c-4d4c-ace6-0001fb0bd4b5",
   "metadata": {},
   "outputs": [],
   "source": [
    "kNN(1, pd.Series([1,2]), pd.DataFrame([[1,2],[3,4],[10,10]]))"
   ]
  },
  {
   "cell_type": "code",
   "execution_count": null,
   "id": "d146f219-e9a0-45df-8b53-cdabedbc50b6",
   "metadata": {},
   "outputs": [],
   "source": [
    "kNN(2, pd.Series([1,2]), pd.DataFrame([[1,2],[3,4],[10,10]]))"
   ]
  },
  {
   "cell_type": "code",
   "execution_count": null,
   "id": "c21b9672-75fb-43c9-9e97-8bc15f641c78",
   "metadata": {},
   "outputs": [],
   "source": [
    "kNN(1, pd.Series([8,7]), pd.DataFrame([[1,2],[3,4],[10,10]]))"
   ]
  },
  {
   "cell_type": "markdown",
   "id": "e3cee606-a830-4f1b-ba34-ab8038513d61",
   "metadata": {},
   "source": [
    "3.5 (8pts) To predict the class of an unlabeled sample, kNN uses the majority class from $ k $ nearest neighbors.\n",
    "\n",
    "Create a function called `kNN_predict` which takes the same parameters as your function from 3.3 along with the corresponding class labels (e.g. `kNN_predict(k, u, X, y)`. Your function should perform the following:\n",
    "\n",
    "- Calls your kNN function to get the $ k $ samples closest to $ u $\n",
    "- Uses the closest $ k $ samples to return the predicted class (hint: use the mode of the $ k $ samples)\n",
    "\n",
    "Your function should return the value of the predicted class (make sure the return value is not a `Series` or `DataFrame` object)."
   ]
  },
  {
   "cell_type": "code",
   "execution_count": null,
   "id": "485d3bd0-c307-4f0c-8a9f-f2bc93314482",
   "metadata": {},
   "outputs": [],
   "source": []
  },
  {
   "cell_type": "markdown",
   "id": "c1d5888e-52e9-4583-804b-23cf58043894",
   "metadata": {},
   "source": [
    "3.6 (2pts) Test your function on the two unit tests below"
   ]
  },
  {
   "cell_type": "code",
   "execution_count": null,
   "id": "c140f04d-009b-4eb6-b686-507e1a0d9d0c",
   "metadata": {},
   "outputs": [],
   "source": [
    "kNN_predict(1, pd.Series([1,2]), pd.DataFrame([[1,2],[3,4],[10,10]]), pd.Series(['apple','orange', 'orange']))"
   ]
  },
  {
   "cell_type": "code",
   "execution_count": null,
   "id": "74114d24-42c6-4559-8ec2-e805362b2b4b",
   "metadata": {},
   "outputs": [],
   "source": [
    "kNN_predict(3, pd.Series([1,2]), pd.DataFrame([[1,2],[3,4],[10,10]]), pd.Series(['apple','orange', 'orange']))"
   ]
  },
  {
   "cell_type": "markdown",
   "id": "55e610fe-bbe3-48e8-82b7-c9f81626d6d8",
   "metadata": {},
   "source": [
    "Using Seaborn load the `iris` dataset and create a dataframe of samples `X` by dropping the `species` column. Then create the corresponding labels by assigning the name `y` to the `species` column."
   ]
  },
  {
   "cell_type": "code",
   "execution_count": null,
   "id": "83a0bea7-4df6-4fd3-8784-86120b7dc15e",
   "metadata": {},
   "outputs": [],
   "source": []
  },
  {
   "cell_type": "markdown",
   "id": "aad06c37-38b7-49f2-a6e4-65cbd579ae89",
   "metadata": {},
   "source": [
    "Load the `flowers.csv` file from the homework directory into a dataframe named `flowers`."
   ]
  },
  {
   "cell_type": "code",
   "execution_count": null,
   "id": "24b0ecf6-91c8-4d59-a9a1-78f0dd24a619",
   "metadata": {},
   "outputs": [],
   "source": []
  },
  {
   "cell_type": "markdown",
   "id": "e9a036ae-a5b4-4d83-bf1b-0f8387991357",
   "metadata": {},
   "source": [
    "3.7 (4pts) For each row in the `flowers` dataframe, call your `kNN_predict` function with $ k = 3 $ to predict the class."
   ]
  },
  {
   "cell_type": "code",
   "execution_count": null,
   "id": "b95f44bb-e6aa-43b5-bfa2-5cd384d93365",
   "metadata": {},
   "outputs": [],
   "source": []
  },
  {
   "cell_type": "markdown",
   "id": "edd9ff08-94e2-4a4a-82b6-075fdc698a4b",
   "metadata": {},
   "source": [
    "### 4. K Nearest Neighbors in SciKit Learn"
   ]
  },
  {
   "cell_type": "markdown",
   "id": "2c5158a6-39d8-4f90-9086-222ab7bceca4",
   "metadata": {},
   "source": [
    "The Sci-Kit Learn module `neighbors` contains a kNN classifier named `KNeighborsClassifier`. "
   ]
  },
  {
   "cell_type": "markdown",
   "id": "fa53dab3-845a-45ad-9739-255a038baa3a",
   "metadata": {},
   "source": [
    "4.1 (3pts) Use the `KNeighborsClassifier` to fit a model to the `X` and `y` from the `iris` dataset you created above. Use $ k = 3 $ in your model"
   ]
  },
  {
   "cell_type": "code",
   "execution_count": null,
   "id": "833e9eae-2a9d-4681-b0b5-33fcac3bdee5",
   "metadata": {},
   "outputs": [],
   "source": []
  },
  {
   "cell_type": "markdown",
   "id": "ae4f5f9e-557d-4394-94cc-b69d48ddce04",
   "metadata": {},
   "source": [
    "4.2 (2pts) Use your model to predict the class of each flower in the `flowers` dataframe you loaded above."
   ]
  },
  {
   "cell_type": "code",
   "execution_count": null,
   "id": "18d4ae28-30de-4ce7-8f65-a8f0b1ed6b51",
   "metadata": {},
   "outputs": [],
   "source": []
  },
  {
   "cell_type": "markdown",
   "id": "bdecf50a-f14d-469c-83fe-bf61c4fa3b86",
   "metadata": {},
   "source": [
    "---"
   ]
  },
  {
   "cell_type": "markdown",
   "id": "358f3ed4-97d9-4d03-b481-e9f4a85e429b",
   "metadata": {},
   "source": [
    "### Submission Instructions\n",
    "\n",
    "Be sure to ***SAVE YOUR WORK***!  \n",
    "\n",
    "Next, select Kernel -> Restart Kernel and Run All Cells...\n",
    "\n",
    "Make sure there are no errors.\n",
    "\n",
    "Then select File->Save and Export Notebook as->HTML and submit your HTML file to Canvas."
   ]
  }
 ],
 "metadata": {
  "kernelspec": {
   "display_name": "Python 3 (ipykernel)",
   "language": "python",
   "name": "python3"
  },
  "language_info": {
   "codemirror_mode": {
    "name": "ipython",
    "version": 3
   },
   "file_extension": ".py",
   "mimetype": "text/x-python",
   "name": "python",
   "nbconvert_exporter": "python",
   "pygments_lexer": "ipython3",
   "version": "3.12.5"
  }
 },
 "nbformat": 4,
 "nbformat_minor": 5
}
