{
 "cells": [
  {
   "cell_type": "markdown",
   "id": "50fd10e8-22c3-4da5-ade2-b50da1781fc6",
   "metadata": {},
   "source": [
    "# Homework 7 - Multiple Regression, K Nearest Neighbors\n",
    "CS 133  \n",
    "Dr. Henderson  \n",
    "Spring 2025  \n",
    "v1\n",
    "\n",
    "---"
   ]
  },
  {
   "cell_type": "code",
   "execution_count": 1,
   "id": "283df58d-832f-465c-819d-d0a50a163177",
   "metadata": {},
   "outputs": [],
   "source": [
    "# Add your imports here"
   ]
  },
  {
   "cell_type": "markdown",
   "id": "3835432b-3715-4a81-b37b-b168736918aa",
   "metadata": {},
   "source": [
    "## 1. Multiple Regression"
   ]
  },
  {
   "cell_type": "markdown",
   "id": "d7ecbe14-db7a-47d4-84a9-280b2d47e6a9",
   "metadata": {},
   "source": [
    "A climate research team collected data on regional microclimates to understand carbon sequestration rates in forest ecosystems. They measured 20 standardized environmental parameters (all normalized to center around zero). Their target variable was the **carbon sequestration rate** measured in tons per hectare per year, which ranged from -20 (indicating carbon release) to +20 (indicating strong carbon capture), with zero representing carbon neutrality. The researchers aimed to build a model that could predict how these various environmental factors collectively influence whether a forest area acts as a carbon sink or source."
   ]
  },
  {
   "cell_type": "markdown",
   "id": "fe24d968-8daf-45b2-9409-9cde8585402f",
   "metadata": {},
   "source": [
    "1.1 (5pts) Uing the `carbon.csv` dataset, apply multiple regression to create a model that can predict the carbon sequestration rate based on the 20 standardized environmental parameters."
   ]
  },
  {
   "cell_type": "code",
   "execution_count": null,
   "id": "ae029cb2-199d-42a3-ab40-d0f8305b3ed1",
   "metadata": {},
   "outputs": [],
   "source": []
  },
  {
   "cell_type": "markdown",
   "id": "4d04a3cb-9881-497d-bad6-f12b300278bb",
   "metadata": {},
   "source": [
    "1.2 (2 pts) How well does your model explain the data? (Use an appropriate metric and explain what it means)."
   ]
  },
  {
   "cell_type": "code",
   "execution_count": null,
   "id": "da73032d-3572-4d98-8102-a0bd41acb081",
   "metadata": {
    "scrolled": true
   },
   "outputs": [],
   "source": []
  },
  {
   "cell_type": "markdown",
   "id": "8620bda5-7acf-4977-8883-78e693a1e538",
   "metadata": {},
   "source": [
    "(Explain here)"
   ]
  },
  {
   "cell_type": "markdown",
   "id": "b028084b-f590-43f4-8a12-5355742a0dc0",
   "metadata": {},
   "source": [
    "1.3 (2 pts) A new microclimate was measured on the island of Borneo. Use the data from the file `borneo.csv` and your regression model to predict the carbon squestration rate of Borneo. Interpret the results."
   ]
  },
  {
   "cell_type": "code",
   "execution_count": null,
   "id": "40e3f8cd-e53b-4f02-9b07-118ec843b5f6",
   "metadata": {},
   "outputs": [],
   "source": []
  },
  {
   "cell_type": "markdown",
   "id": "bfed4d67-1fba-4c83-85f2-65601d326c79",
   "metadata": {},
   "source": [
    "(Interpret here)"
   ]
  },
  {
   "cell_type": "markdown",
   "id": "5e9443e8-e71a-4420-a5cb-8d6ef2124ca6",
   "metadata": {},
   "source": [
    "## 2. Polynomial Regression"
   ]
  },
  {
   "cell_type": "markdown",
   "id": "314d19ba-d1cc-4d81-b519-e1ee42c4710b",
   "metadata": {},
   "source": [
    "Health experts at Regional Medical Center are studying factors that influence recovery time following total knee replacement surgery. They've collected data from 399 patients to develop a predictive model that could help healthcare providers optimize post-surgical care plans and provide more accurate recovery timelines to patients.\n",
    "\n",
    "For each patient, the researchers measured 12 key health metrics (normalized to a 0-1 scale). The target variable is the post-surgical **recovery time**, measured as the number of days (ranging from 0-25) until the patient achieves independent mobility according to standardized assessments.\n",
    "\n",
    "The orthopedic department wants to develop a reliable model to predict recovery timelines for future patients. This would allow for more personalized care plans, better resource allocation, and improved patient expectations management."
   ]
  },
  {
   "cell_type": "markdown",
   "id": "a979aeae-2b7a-4ab1-adc2-9d34e9903f9d",
   "metadata": {},
   "source": [
    "2.1 (4pts) Uing the `orthopedic_recovery.csv` dataset, apply standard (non-polynomial) multiple regression to create a model that can predict the recovery time based on the 12 input parameters."
   ]
  },
  {
   "cell_type": "code",
   "execution_count": null,
   "id": "8542cd39-7c5f-4059-8967-96ca9eb317ca",
   "metadata": {},
   "outputs": [],
   "source": []
  },
  {
   "cell_type": "markdown",
   "id": "9428354f-7496-401b-90be-af7bc75ab638",
   "metadata": {},
   "source": [
    "2.2 (2pts) What is the accuracy of your model?"
   ]
  },
  {
   "cell_type": "code",
   "execution_count": null,
   "id": "45650569-d312-40f2-8f70-9192be900cf4",
   "metadata": {},
   "outputs": [],
   "source": []
  },
  {
   "cell_type": "markdown",
   "id": "2037243f-302a-41c4-896e-8db37360cdbc",
   "metadata": {},
   "source": [
    "(Explain here)"
   ]
  },
  {
   "cell_type": "markdown",
   "id": "15bdc96b-030c-4235-92cb-ef94734d31b1",
   "metadata": {},
   "source": [
    "2.3 (5pts) Using multiple polynomial regression, build another model of the `orthopedic_recovery.csv` dataset"
   ]
  },
  {
   "cell_type": "code",
   "execution_count": null,
   "id": "36b13732-9728-4bd0-b853-99d293b50456",
   "metadata": {},
   "outputs": [],
   "source": []
  },
  {
   "cell_type": "markdown",
   "id": "6682d30e-b31c-4bb4-a65f-90cb5c653e3d",
   "metadata": {},
   "source": [
    "2.4 (2pts) What is the accuracy of your new model?"
   ]
  },
  {
   "cell_type": "code",
   "execution_count": null,
   "id": "fc85f632-6a05-47c4-a6f9-f4f69f934a44",
   "metadata": {},
   "outputs": [],
   "source": []
  },
  {
   "cell_type": "markdown",
   "id": "5cbeb03b-da23-4d24-a6dd-fcef21278d6d",
   "metadata": {},
   "source": [
    "(Explain here)"
   ]
  },
  {
   "cell_type": "markdown",
   "id": "46db3986-d8ea-4219-bc27-9277cf862e73",
   "metadata": {},
   "source": [
    "2.5 (5pts) Using the data in the `patient.csv` file predict the recovery time for the patient using both models.  \n",
    "_Note: you will need to transform the data before passing it to your polynomial model_"
   ]
  },
  {
   "cell_type": "code",
   "execution_count": null,
   "id": "c705a4ec-98f8-4f08-a1a4-d19d2db5b2b7",
   "metadata": {},
   "outputs": [],
   "source": []
  },
  {
   "cell_type": "markdown",
   "id": "d1a0c2c5-b09a-4598-91ca-5f95248dde7c",
   "metadata": {},
   "source": [
    "2.6 (2pts) Based on these predictions, what would be your estimate and how confident are you?"
   ]
  },
  {
   "cell_type": "markdown",
   "id": "7e2133d0-05e4-4943-9821-290313d45d17",
   "metadata": {},
   "source": [
    "(Answer here)"
   ]
  },
  {
   "cell_type": "markdown",
   "id": "93958190-8893-4225-9c3e-86f1a290d314",
   "metadata": {},
   "source": [
    "### 3. K Nearest Neighbors"
   ]
  },
  {
   "cell_type": "markdown",
   "id": "e751b0b0-3d63-46dc-9619-181edfd0dce1",
   "metadata": {},
   "source": [
    "The kNN algorithm requires a distance metric between samples in the sample space. The most common distance metric used is Euclidean which is defined as:  \n",
    "\n",
    "$$ distance(a,b) = \\sqrt{ (a_{f1} - b_{f1})^2 + (a_{f2} - b_{f2})^2 + ... + (a_{fn} - b_{fn})^2  } $$\n",
    "\n",
    "Where $ a, b $ are two samples in the dataset and $ fn $ is feature $ n $ of the dataset."
   ]
  },
  {
   "cell_type": "markdown",
   "id": "ebdb7537-3eaf-4a56-997d-17d2bba95ed8",
   "metadata": {},
   "source": [
    "3.1 (7pts) Create a Python function to calculate the distance between two Pandas Series. You can assume the series will have the same number of features (although it would be a good idea to check), and that all features are numeric. Try not to use Python `for` loops."
   ]
  },
  {
   "cell_type": "code",
   "execution_count": null,
   "id": "4adefc92-74c2-40e5-ad3b-43a5d16bccce",
   "metadata": {},
   "outputs": [],
   "source": []
  },
  {
   "cell_type": "markdown",
   "id": "20247301-6610-407c-b8f1-1406da48946d",
   "metadata": {},
   "source": [
    "3.2 (3pts) Check your function by creating a DataFrame from the list `[[1, 2], [3, 4]]` and calling your function with the two rows."
   ]
  },
  {
   "cell_type": "code",
   "execution_count": null,
   "id": "782742e0-7796-4b50-bf44-a19b3fb148ef",
   "metadata": {
    "scrolled": true
   },
   "outputs": [],
   "source": []
  },
  {
   "cell_type": "markdown",
   "id": "8fdb5cad-0cc7-4e40-88d6-813a410d417b",
   "metadata": {},
   "source": [
    "3.3 (14pts) To predict the value of an unlabeled sample, the kNN algorithm finds the $ k $ nearest samples in the dataset using the Euclidean distance. This requires testing the new sample against each row in the dataset and remembering the nearest $ k $ rows.  \n",
    "\n",
    "Create a Python function called `kNN` that takes a parameter $ k $, an unlabeled sample as a Pandas Series, and a dataframe of labeled samples. Your function should return a dataframe of the $ k $ rows that are closest to the unlabeled sample.\n",
    "\n",
    "Suggested pseudocode:\n",
    "```\n",
    "k is the number of neighbors to use\n",
    "u is an unlabeled sample\n",
    "X is the input samples from the labeled dataframe\n",
    "\n",
    "neighbors is a new list of tuples\n",
    "for each row in X\n",
    "  calculate the distance to u\n",
    "  append a tuple of the row index and distance to the neighbors list\n",
    "  sort the neighbors list by distance\n",
    "  truncate the neighbors list to the top k entries\n",
    "select the rows in X from the index values in the neighbors list and return the new dataframe\n",
    "```\n",
    "\n",
    "_Hint: To sort a list of tuples on one of the tuple elements use `list.sort(key=lambda x: x[n])` where `n` is the position of the value to sort on._"
   ]
  },
  {
   "cell_type": "code",
   "execution_count": null,
   "id": "0dddbf79-d0dd-4ad7-81d0-1cbb89bd6ab7",
   "metadata": {},
   "outputs": [],
   "source": []
  },
  {
   "cell_type": "markdown",
   "id": "f39d5f08-aa53-4138-bc3a-dbd291e8749b",
   "metadata": {},
   "source": [
    "3.4 (3pts) Test your function using the unit tests in the cells below."
   ]
  },
  {
   "cell_type": "code",
   "execution_count": null,
   "id": "f33e4b18-479c-4d4c-ace6-0001fb0bd4b5",
   "metadata": {},
   "outputs": [],
   "source": [
    "kNN(1, pd.Series([1,2]), pd.DataFrame([[1,2],[3,4],[10,10]]))"
   ]
  },
  {
   "cell_type": "code",
   "execution_count": null,
   "id": "d146f219-e9a0-45df-8b53-cdabedbc50b6",
   "metadata": {},
   "outputs": [],
   "source": [
    "kNN(2, pd.Series([1,2]), pd.DataFrame([[1,2],[3,4],[10,10]]))"
   ]
  },
  {
   "cell_type": "code",
   "execution_count": null,
   "id": "c21b9672-75fb-43c9-9e97-8bc15f641c78",
   "metadata": {},
   "outputs": [],
   "source": [
    "kNN(1, pd.Series([8,7]), pd.DataFrame([[1,2],[3,4],[10,10]]))"
   ]
  },
  {
   "cell_type": "markdown",
   "id": "e3cee606-a830-4f1b-ba34-ab8038513d61",
   "metadata": {},
   "source": [
    "3.5 (8pts) To predict the class of an unlabeled sample, kNN uses the majority class from $ k $ nearest neighbors.\n",
    "\n",
    "Create a function called `kNN_predict` which takes the same parameters as your function from 3.3 along with the corresponding class labels (e.g. `kNN_predict(k, u, X, y)`. Your function should perform the following:\n",
    "\n",
    "- Calls your kNN function to get the $ k $ samples closest to $ u $\n",
    "- Uses the closest $ k $ samples to return the predicted class (hint: use the mode of the $ k $ samples)\n",
    "\n",
    "Your function should return the value of the predicted class (make sure the return value is not a `Series` or `DataFrame` object)."
   ]
  },
  {
   "cell_type": "code",
   "execution_count": null,
   "id": "485d3bd0-c307-4f0c-8a9f-f2bc93314482",
   "metadata": {},
   "outputs": [],
   "source": []
  },
  {
   "cell_type": "markdown",
   "id": "c1d5888e-52e9-4583-804b-23cf58043894",
   "metadata": {},
   "source": [
    "3.6 (2pts) Test your function on the two unit tests below"
   ]
  },
  {
   "cell_type": "code",
   "execution_count": null,
   "id": "c140f04d-009b-4eb6-b686-507e1a0d9d0c",
   "metadata": {},
   "outputs": [],
   "source": [
    "kNN_predict(1, pd.Series([1,2]), pd.DataFrame([[1,2],[3,4],[10,10]]), pd.Series(['apple','orange', 'orange']))"
   ]
  },
  {
   "cell_type": "code",
   "execution_count": null,
   "id": "74114d24-42c6-4559-8ec2-e805362b2b4b",
   "metadata": {},
   "outputs": [],
   "source": [
    "kNN_predict(3, pd.Series([1,2]), pd.DataFrame([[1,2],[3,4],[10,10]]), pd.Series(['apple','orange', 'orange']))"
   ]
  },
  {
   "cell_type": "markdown",
   "id": "55e610fe-bbe3-48e8-82b7-c9f81626d6d8",
   "metadata": {},
   "source": [
    "Using Seaborn load the `iris` dataset and create a dataframe of samples `X` by dropping the `species` column. Then create the corresponding labels by assigning the name `y` to the `species` column."
   ]
  },
  {
   "cell_type": "code",
   "execution_count": null,
   "id": "83a0bea7-4df6-4fd3-8784-86120b7dc15e",
   "metadata": {},
   "outputs": [],
   "source": []
  },
  {
   "cell_type": "markdown",
   "id": "aad06c37-38b7-49f2-a6e4-65cbd579ae89",
   "metadata": {},
   "source": [
    "Load the `flowers.csv` file from the homework directory into a dataframe named `flowers`."
   ]
  },
  {
   "cell_type": "code",
   "execution_count": null,
   "id": "24b0ecf6-91c8-4d59-a9a1-78f0dd24a619",
   "metadata": {},
   "outputs": [],
   "source": []
  },
  {
   "cell_type": "markdown",
   "id": "e9a036ae-a5b4-4d83-bf1b-0f8387991357",
   "metadata": {},
   "source": [
    "3.7 (4pts) For each row in the `flowers` dataframe, call your `kNN_predict` function with $ k = 3 $ to predict the class."
   ]
  },
  {
   "cell_type": "code",
   "execution_count": null,
   "id": "b95f44bb-e6aa-43b5-bfa2-5cd384d93365",
   "metadata": {},
   "outputs": [],
   "source": []
  },
  {
   "cell_type": "markdown",
   "id": "edd9ff08-94e2-4a4a-82b6-075fdc698a4b",
   "metadata": {},
   "source": [
    "### 4. K Nearest Neighbors in SciKit Learn"
   ]
  },
  {
   "cell_type": "markdown",
   "id": "2c5158a6-39d8-4f90-9086-222ab7bceca4",
   "metadata": {},
   "source": [
    "The Sci-Kit Learn module `neighbors` contains a kNN classifier named `KNeighborsClassifier`. "
   ]
  },
  {
   "cell_type": "markdown",
   "id": "fa53dab3-845a-45ad-9739-255a038baa3a",
   "metadata": {},
   "source": [
    "4.1 (3pts) Use the `KNeighborsClassifier` to fit a model to the `X` and `y` from the `iris` dataset you created above. Use $ k = 3 $ in your model"
   ]
  },
  {
   "cell_type": "code",
   "execution_count": null,
   "id": "833e9eae-2a9d-4681-b0b5-33fcac3bdee5",
   "metadata": {},
   "outputs": [],
   "source": []
  },
  {
   "cell_type": "markdown",
   "id": "ae4f5f9e-557d-4394-94cc-b69d48ddce04",
   "metadata": {},
   "source": [
    "4.2 (2pts) Use your model to predict the class of each flower in the `flowers` dataframe you loaded above."
   ]
  },
  {
   "cell_type": "code",
   "execution_count": null,
   "id": "18d4ae28-30de-4ce7-8f65-a8f0b1ed6b51",
   "metadata": {},
   "outputs": [],
   "source": []
  },
  {
   "cell_type": "markdown",
   "id": "bdecf50a-f14d-469c-83fe-bf61c4fa3b86",
   "metadata": {},
   "source": [
    "---"
   ]
  },
  {
   "cell_type": "markdown",
   "id": "358f3ed4-97d9-4d03-b481-e9f4a85e429b",
   "metadata": {},
   "source": [
    "### Submission Instructions\n",
    "\n",
    "Be sure to ***SAVE YOUR WORK***!  \n",
    "\n",
    "Next, select Kernel -> Restart Kernel and Run All Cells...\n",
    "\n",
    "Make sure there are no errors.\n",
    "\n",
    "Then select File->Save and Export Notebook as->HTML and submit your HTML file to Canvas."
   ]
  }
 ],
 "metadata": {
  "kernelspec": {
   "display_name": "Python 3 (ipykernel)",
   "language": "python",
   "name": "python3"
  },
  "language_info": {
   "codemirror_mode": {
    "name": "ipython",
    "version": 3
   },
   "file_extension": ".py",
   "mimetype": "text/x-python",
   "name": "python",
   "nbconvert_exporter": "python",
   "pygments_lexer": "ipython3",
   "version": "3.12.5"
  }
 },
 "nbformat": 4,
 "nbformat_minor": 5
}
