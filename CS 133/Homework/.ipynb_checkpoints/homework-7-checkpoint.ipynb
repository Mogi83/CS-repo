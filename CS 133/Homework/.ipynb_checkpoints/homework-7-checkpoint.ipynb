{
 "cells": [
  {
   "cell_type": "markdown",
   "id": "50fd10e8-22c3-4da5-ade2-b50da1781fc6",
   "metadata": {},
   "source": [
    "# Homework 7 - Multiple Regression, K Nearest Neighbors\n",
    "CS 133  \n",
    "Dr. Henderson  \n",
    "Spring 2025  \n",
    "v1\n",
    "\n",
    "---"
   ]
  },
  {
   "cell_type": "code",
   "execution_count": 1,
   "id": "283df58d-832f-465c-819d-d0a50a163177",
   "metadata": {},
   "outputs": [],
   "source": [
    "import pandas as pd\n",
    "import seaborn as sns\n",
    "from sklearn.linear_model import LinearRegression\n",
    "from sklearn.preprocessing import PolynomialFeatures\n"
   ]
  },
  {
   "cell_type": "markdown",
   "id": "3835432b-3715-4a81-b37b-b168736918aa",
   "metadata": {},
   "source": [
    "## 1. Multiple Regression"
   ]
  },
  {
   "cell_type": "markdown",
   "id": "d7ecbe14-db7a-47d4-84a9-280b2d47e6a9",
   "metadata": {},
   "source": [
    "A climate research team collected data on regional microclimates to understand carbon sequestration rates in forest ecosystems. They measured 20 standardized environmental parameters (all normalized to center around zero). Their target variable was the **carbon sequestration rate** measured in tons per hectare per year, which ranged from -20 (indicating carbon release) to +20 (indicating strong carbon capture), with zero representing carbon neutrality. The researchers aimed to build a model that could predict how these various environmental factors collectively influence whether a forest area acts as a carbon sink or source."
   ]
  },
  {
   "cell_type": "markdown",
   "id": "fe24d968-8daf-45b2-9409-9cde8585402f",
   "metadata": {},
   "source": [
    "1.1 (5pts) Uing the `carbon.csv` dataset, apply multiple regression to create a model that can predict the carbon sequestration rate based on the 20 standardized environmental parameters."
   ]
  },
  {
   "cell_type": "code",
   "execution_count": 2,
   "id": "89c81a35-dc29-49ff-870c-150aaccc314c",
   "metadata": {},
   "outputs": [
    {
     "name": "stdout",
     "output_type": "stream",
     "text": [
      "<class 'pandas.core.frame.DataFrame'>\n",
      "RangeIndex: 399 entries, 0 to 398\n",
      "Data columns (total 21 columns):\n",
      " #   Column                      Non-Null Count  Dtype  \n",
      "---  ------                      --------------  -----  \n",
      " 0   soil_ph_deviation           399 non-null    float64\n",
      " 1   moisture_content_variation  399 non-null    float64\n",
      " 2   nitrogen_level_fluctuation  399 non-null    float64\n",
      " 3   tree_density_difference     399 non-null    float64\n",
      " 4   understory_diversity_index  399 non-null    float64\n",
      " 5   canopy_coverage_deviation   399 non-null    float64\n",
      " 6   temperature_anomaly         399 non-null    float64\n",
      " 7   precipitation_difference    399 non-null    float64\n",
      " 8   elevation_variation         399 non-null    float64\n",
      " 9   wind_pattern_change         399 non-null    float64\n",
      " 10  sunlight_exposure_shift     399 non-null    float64\n",
      " 11  fungal_colony_presence      399 non-null    float64\n",
      " 12  insect_population_variance  399 non-null    float64\n",
      " 13  water_body_influence        399 non-null    float64\n",
      " 14  forest_edge_proximity       399 non-null    float64\n",
      " 15  human_activity_impact       399 non-null    float64\n",
      " 16  wildfire_history            399 non-null    float64\n",
      " 17  geographic_orientation      399 non-null    float64\n",
      " 18  local_pollution_level       399 non-null    float64\n",
      " 19  adjacent_landscape_effect   399 non-null    float64\n",
      " 20  carbon_sequestration_rate   399 non-null    float64\n",
      "dtypes: float64(21)\n",
      "memory usage: 65.6 KB\n"
     ]
    }
   ],
   "source": [
    "carbon = pd.read_csv('carbon.csv')\n",
    "carbon.info()"
   ]
  },
  {
   "cell_type": "code",
   "execution_count": 3,
   "id": "265d5878-c51b-4187-a846-b6b72e5ffeaf",
   "metadata": {},
   "outputs": [
    {
     "data": {
      "text/html": [
       "<div>\n",
       "<style scoped>\n",
       "    .dataframe tbody tr th:only-of-type {\n",
       "        vertical-align: middle;\n",
       "    }\n",
       "\n",
       "    .dataframe tbody tr th {\n",
       "        vertical-align: top;\n",
       "    }\n",
       "\n",
       "    .dataframe thead th {\n",
       "        text-align: right;\n",
       "    }\n",
       "</style>\n",
       "<table border=\"1\" class=\"dataframe\">\n",
       "  <thead>\n",
       "    <tr style=\"text-align: right;\">\n",
       "      <th></th>\n",
       "      <th>soil_ph_deviation</th>\n",
       "      <th>moisture_content_variation</th>\n",
       "      <th>nitrogen_level_fluctuation</th>\n",
       "      <th>tree_density_difference</th>\n",
       "      <th>understory_diversity_index</th>\n",
       "      <th>canopy_coverage_deviation</th>\n",
       "      <th>temperature_anomaly</th>\n",
       "      <th>precipitation_difference</th>\n",
       "      <th>elevation_variation</th>\n",
       "      <th>wind_pattern_change</th>\n",
       "      <th>...</th>\n",
       "      <th>fungal_colony_presence</th>\n",
       "      <th>insect_population_variance</th>\n",
       "      <th>water_body_influence</th>\n",
       "      <th>forest_edge_proximity</th>\n",
       "      <th>human_activity_impact</th>\n",
       "      <th>wildfire_history</th>\n",
       "      <th>geographic_orientation</th>\n",
       "      <th>local_pollution_level</th>\n",
       "      <th>adjacent_landscape_effect</th>\n",
       "      <th>carbon_sequestration_rate</th>\n",
       "    </tr>\n",
       "  </thead>\n",
       "  <tbody>\n",
       "    <tr>\n",
       "      <th>count</th>\n",
       "      <td>399.000000</td>\n",
       "      <td>399.000000</td>\n",
       "      <td>399.000000</td>\n",
       "      <td>399.000000</td>\n",
       "      <td>399.000000</td>\n",
       "      <td>399.000000</td>\n",
       "      <td>399.000000</td>\n",
       "      <td>399.000000</td>\n",
       "      <td>399.000000</td>\n",
       "      <td>399.000000</td>\n",
       "      <td>...</td>\n",
       "      <td>399.000000</td>\n",
       "      <td>399.000000</td>\n",
       "      <td>399.000000</td>\n",
       "      <td>399.000000</td>\n",
       "      <td>399.000000</td>\n",
       "      <td>399.000000</td>\n",
       "      <td>399.000000</td>\n",
       "      <td>399.000000</td>\n",
       "      <td>399.000000</td>\n",
       "      <td>399.000000</td>\n",
       "    </tr>\n",
       "    <tr>\n",
       "      <th>mean</th>\n",
       "      <td>0.000762</td>\n",
       "      <td>-0.000970</td>\n",
       "      <td>-0.000671</td>\n",
       "      <td>0.000211</td>\n",
       "      <td>0.000891</td>\n",
       "      <td>-0.000591</td>\n",
       "      <td>0.001235</td>\n",
       "      <td>0.000970</td>\n",
       "      <td>0.003401</td>\n",
       "      <td>-0.000651</td>\n",
       "      <td>...</td>\n",
       "      <td>0.000706</td>\n",
       "      <td>0.000781</td>\n",
       "      <td>0.000957</td>\n",
       "      <td>-0.000019</td>\n",
       "      <td>0.001173</td>\n",
       "      <td>0.000054</td>\n",
       "      <td>-0.000146</td>\n",
       "      <td>0.001269</td>\n",
       "      <td>-0.000562</td>\n",
       "      <td>3.978000</td>\n",
       "    </tr>\n",
       "    <tr>\n",
       "      <th>std</th>\n",
       "      <td>0.021347</td>\n",
       "      <td>0.019487</td>\n",
       "      <td>0.018902</td>\n",
       "      <td>0.023529</td>\n",
       "      <td>0.018725</td>\n",
       "      <td>0.021032</td>\n",
       "      <td>0.026244</td>\n",
       "      <td>0.017300</td>\n",
       "      <td>0.031237</td>\n",
       "      <td>0.020437</td>\n",
       "      <td>...</td>\n",
       "      <td>0.016885</td>\n",
       "      <td>0.026875</td>\n",
       "      <td>0.025524</td>\n",
       "      <td>0.014658</td>\n",
       "      <td>0.017616</td>\n",
       "      <td>0.029548</td>\n",
       "      <td>0.016448</td>\n",
       "      <td>0.019793</td>\n",
       "      <td>0.017332</td>\n",
       "      <td>4.805962</td>\n",
       "    </tr>\n",
       "    <tr>\n",
       "      <th>min</th>\n",
       "      <td>-0.074428</td>\n",
       "      <td>-0.060506</td>\n",
       "      <td>-0.055731</td>\n",
       "      <td>-0.069984</td>\n",
       "      <td>-0.054483</td>\n",
       "      <td>-0.056021</td>\n",
       "      <td>-0.080363</td>\n",
       "      <td>-0.055249</td>\n",
       "      <td>-0.114506</td>\n",
       "      <td>-0.057120</td>\n",
       "      <td>...</td>\n",
       "      <td>-0.050801</td>\n",
       "      <td>-0.069208</td>\n",
       "      <td>-0.078315</td>\n",
       "      <td>-0.047075</td>\n",
       "      <td>-0.054627</td>\n",
       "      <td>-0.112360</td>\n",
       "      <td>-0.042527</td>\n",
       "      <td>-0.072598</td>\n",
       "      <td>-0.048917</td>\n",
       "      <td>-8.875864</td>\n",
       "    </tr>\n",
       "    <tr>\n",
       "      <th>25%</th>\n",
       "      <td>-0.013134</td>\n",
       "      <td>-0.014073</td>\n",
       "      <td>-0.013039</td>\n",
       "      <td>-0.015014</td>\n",
       "      <td>-0.011400</td>\n",
       "      <td>-0.014336</td>\n",
       "      <td>-0.016061</td>\n",
       "      <td>-0.010388</td>\n",
       "      <td>-0.017598</td>\n",
       "      <td>-0.015086</td>\n",
       "      <td>...</td>\n",
       "      <td>-0.011075</td>\n",
       "      <td>-0.017556</td>\n",
       "      <td>-0.017181</td>\n",
       "      <td>-0.010298</td>\n",
       "      <td>-0.010281</td>\n",
       "      <td>-0.017615</td>\n",
       "      <td>-0.010733</td>\n",
       "      <td>-0.012218</td>\n",
       "      <td>-0.011544</td>\n",
       "      <td>0.985055</td>\n",
       "    </tr>\n",
       "    <tr>\n",
       "      <th>50%</th>\n",
       "      <td>0.000357</td>\n",
       "      <td>-0.001102</td>\n",
       "      <td>-0.001313</td>\n",
       "      <td>-0.001442</td>\n",
       "      <td>0.001640</td>\n",
       "      <td>-0.001780</td>\n",
       "      <td>0.000732</td>\n",
       "      <td>0.000527</td>\n",
       "      <td>0.003897</td>\n",
       "      <td>-0.001449</td>\n",
       "      <td>...</td>\n",
       "      <td>0.000904</td>\n",
       "      <td>0.002779</td>\n",
       "      <td>0.001295</td>\n",
       "      <td>-0.000490</td>\n",
       "      <td>0.000695</td>\n",
       "      <td>-0.000817</td>\n",
       "      <td>-0.000531</td>\n",
       "      <td>0.001803</td>\n",
       "      <td>0.001232</td>\n",
       "      <td>4.153080</td>\n",
       "    </tr>\n",
       "    <tr>\n",
       "      <th>75%</th>\n",
       "      <td>0.015058</td>\n",
       "      <td>0.012499</td>\n",
       "      <td>0.011281</td>\n",
       "      <td>0.015331</td>\n",
       "      <td>0.013454</td>\n",
       "      <td>0.012720</td>\n",
       "      <td>0.018893</td>\n",
       "      <td>0.013074</td>\n",
       "      <td>0.025352</td>\n",
       "      <td>0.012728</td>\n",
       "      <td>...</td>\n",
       "      <td>0.011888</td>\n",
       "      <td>0.018849</td>\n",
       "      <td>0.017831</td>\n",
       "      <td>0.009523</td>\n",
       "      <td>0.012860</td>\n",
       "      <td>0.020410</td>\n",
       "      <td>0.010272</td>\n",
       "      <td>0.013322</td>\n",
       "      <td>0.009947</td>\n",
       "      <td>7.446736</td>\n",
       "    </tr>\n",
       "    <tr>\n",
       "      <th>max</th>\n",
       "      <td>0.069984</td>\n",
       "      <td>0.070939</td>\n",
       "      <td>0.073998</td>\n",
       "      <td>0.064964</td>\n",
       "      <td>0.053492</td>\n",
       "      <td>0.057863</td>\n",
       "      <td>0.071382</td>\n",
       "      <td>0.046579</td>\n",
       "      <td>0.085587</td>\n",
       "      <td>0.067859</td>\n",
       "      <td>...</td>\n",
       "      <td>0.047851</td>\n",
       "      <td>0.093425</td>\n",
       "      <td>0.083585</td>\n",
       "      <td>0.037925</td>\n",
       "      <td>0.053103</td>\n",
       "      <td>0.102136</td>\n",
       "      <td>0.051995</td>\n",
       "      <td>0.058802</td>\n",
       "      <td>0.048410</td>\n",
       "      <td>19.111648</td>\n",
       "    </tr>\n",
       "  </tbody>\n",
       "</table>\n",
       "<p>8 rows × 21 columns</p>\n",
       "</div>"
      ],
      "text/plain": [
       "       soil_ph_deviation  moisture_content_variation  \\\n",
       "count         399.000000                  399.000000   \n",
       "mean            0.000762                   -0.000970   \n",
       "std             0.021347                    0.019487   \n",
       "min            -0.074428                   -0.060506   \n",
       "25%            -0.013134                   -0.014073   \n",
       "50%             0.000357                   -0.001102   \n",
       "75%             0.015058                    0.012499   \n",
       "max             0.069984                    0.070939   \n",
       "\n",
       "       nitrogen_level_fluctuation  tree_density_difference  \\\n",
       "count                  399.000000               399.000000   \n",
       "mean                    -0.000671                 0.000211   \n",
       "std                      0.018902                 0.023529   \n",
       "min                     -0.055731                -0.069984   \n",
       "25%                     -0.013039                -0.015014   \n",
       "50%                     -0.001313                -0.001442   \n",
       "75%                      0.011281                 0.015331   \n",
       "max                      0.073998                 0.064964   \n",
       "\n",
       "       understory_diversity_index  canopy_coverage_deviation  \\\n",
       "count                  399.000000                 399.000000   \n",
       "mean                     0.000891                  -0.000591   \n",
       "std                      0.018725                   0.021032   \n",
       "min                     -0.054483                  -0.056021   \n",
       "25%                     -0.011400                  -0.014336   \n",
       "50%                      0.001640                  -0.001780   \n",
       "75%                      0.013454                   0.012720   \n",
       "max                      0.053492                   0.057863   \n",
       "\n",
       "       temperature_anomaly  precipitation_difference  elevation_variation  \\\n",
       "count           399.000000                399.000000           399.000000   \n",
       "mean              0.001235                  0.000970             0.003401   \n",
       "std               0.026244                  0.017300             0.031237   \n",
       "min              -0.080363                 -0.055249            -0.114506   \n",
       "25%              -0.016061                 -0.010388            -0.017598   \n",
       "50%               0.000732                  0.000527             0.003897   \n",
       "75%               0.018893                  0.013074             0.025352   \n",
       "max               0.071382                  0.046579             0.085587   \n",
       "\n",
       "       wind_pattern_change  ...  fungal_colony_presence  \\\n",
       "count           399.000000  ...              399.000000   \n",
       "mean             -0.000651  ...                0.000706   \n",
       "std               0.020437  ...                0.016885   \n",
       "min              -0.057120  ...               -0.050801   \n",
       "25%              -0.015086  ...               -0.011075   \n",
       "50%              -0.001449  ...                0.000904   \n",
       "75%               0.012728  ...                0.011888   \n",
       "max               0.067859  ...                0.047851   \n",
       "\n",
       "       insect_population_variance  water_body_influence  \\\n",
       "count                  399.000000            399.000000   \n",
       "mean                     0.000781              0.000957   \n",
       "std                      0.026875              0.025524   \n",
       "min                     -0.069208             -0.078315   \n",
       "25%                     -0.017556             -0.017181   \n",
       "50%                      0.002779              0.001295   \n",
       "75%                      0.018849              0.017831   \n",
       "max                      0.093425              0.083585   \n",
       "\n",
       "       forest_edge_proximity  human_activity_impact  wildfire_history  \\\n",
       "count             399.000000             399.000000        399.000000   \n",
       "mean               -0.000019               0.001173          0.000054   \n",
       "std                 0.014658               0.017616          0.029548   \n",
       "min                -0.047075              -0.054627         -0.112360   \n",
       "25%                -0.010298              -0.010281         -0.017615   \n",
       "50%                -0.000490               0.000695         -0.000817   \n",
       "75%                 0.009523               0.012860          0.020410   \n",
       "max                 0.037925               0.053103          0.102136   \n",
       "\n",
       "       geographic_orientation  local_pollution_level  \\\n",
       "count              399.000000             399.000000   \n",
       "mean                -0.000146               0.001269   \n",
       "std                  0.016448               0.019793   \n",
       "min                 -0.042527              -0.072598   \n",
       "25%                 -0.010733              -0.012218   \n",
       "50%                 -0.000531               0.001803   \n",
       "75%                  0.010272               0.013322   \n",
       "max                  0.051995               0.058802   \n",
       "\n",
       "       adjacent_landscape_effect  carbon_sequestration_rate  \n",
       "count                 399.000000                 399.000000  \n",
       "mean                   -0.000562                   3.978000  \n",
       "std                     0.017332                   4.805962  \n",
       "min                    -0.048917                  -8.875864  \n",
       "25%                    -0.011544                   0.985055  \n",
       "50%                     0.001232                   4.153080  \n",
       "75%                     0.009947                   7.446736  \n",
       "max                     0.048410                  19.111648  \n",
       "\n",
       "[8 rows x 21 columns]"
      ]
     },
     "execution_count": 3,
     "metadata": {},
     "output_type": "execute_result"
    }
   ],
   "source": [
    " carbon.describe()"
   ]
  },
  {
   "cell_type": "code",
   "execution_count": 4,
   "id": "419762ef-5579-45f2-9d9e-50f6fcc9c651",
   "metadata": {},
   "outputs": [
    {
     "data": {
      "text/plain": [
       "count    399.000000\n",
       "mean       3.978000\n",
       "std        4.805962\n",
       "min       -8.875864\n",
       "25%        0.985055\n",
       "50%        4.153080\n",
       "75%        7.446736\n",
       "max       19.111648\n",
       "Name: carbon_sequestration_rate, dtype: float64"
      ]
     },
     "execution_count": 4,
     "metadata": {},
     "output_type": "execute_result"
    }
   ],
   "source": [
    " carbon.carbon_sequestration_rate.describe()"
   ]
  },
  {
   "cell_type": "code",
   "execution_count": 5,
   "id": "ae029cb2-199d-42a3-ab40-d0f8305b3ed1",
   "metadata": {},
   "outputs": [
    {
     "data": {
      "text/plain": [
       "0.9229098290591125"
      ]
     },
     "execution_count": 5,
     "metadata": {},
     "output_type": "execute_result"
    }
   ],
   "source": [
    "pf2 = PolynomialFeatures(degree=2)\n",
    "lr = LinearRegression()\n",
    "\n",
    "X = carbon.drop(columns=[\"carbon_sequestration_rate\"])\n",
    "y = carbon.carbon_sequestration_rate\n",
    "\n",
    "X2 = pf2.fit_transform(X)\n",
    "\n",
    "lr.fit(X2,y)\n",
    "\n",
    "lr.score(X2, y)"
   ]
  },
  {
   "cell_type": "markdown",
   "id": "4d04a3cb-9881-497d-bad6-f12b300278bb",
   "metadata": {},
   "source": [
    "1.2 (2 pts) How well does your model explain the data? (Use an appropriate metric and explain what it means)."
   ]
  },
  {
   "cell_type": "code",
   "execution_count": 6,
   "id": "da73032d-3572-4d98-8102-a0bd41acb081",
   "metadata": {},
   "outputs": [
    {
     "data": {
      "text/plain": [
       "Text(0.0, -15.0, 'R² = 0.923, r = 0.961')"
      ]
     },
     "execution_count": 6,
     "metadata": {},
     "output_type": "execute_result"
    },
    {
     "data": {
      "image/png": "[encoded data removed]",
      "text/plain": [
       "<Figure size 640x480 with 1 Axes>"
      ]
     },
     "metadata": {},
     "output_type": "display_data"
    }
   ],
   "source": [
    "y_hat = lr.predict(X2)\n",
    "R2 = lr.score(X2, y)\n",
    "r1 = R2 ** 0.5\n",
    "ax = sns.regplot(x=y, y=y_hat, ci=False,  line_kws={'color': 'red'},scatter_kws={'color': 'blue', 's': 10, 'alpha':0.5})\n",
    "ax.set_title('Training Data: Actual vs Predicted Carbon Sequestration Rate (t/ha/yr)')\n",
    "ax.set_xlabel('Actual Carbon Sequestration Rate (t/ha/yr)')\n",
    "ax.set_ylabel('Predicted Carbon Sequestration Rate (t/ha/yr)')\n",
    "ax.text(x=0.0, y = -15.0, s = f\"R² = {round(R2,3)}, r = {round(r1,3)}\")"
   ]
  },
  {
   "cell_type": "markdown",
   "id": "8620bda5-7acf-4977-8883-78e693a1e538",
   "metadata": {},
   "source": [
    "The model seems to explain our data well based on our score of 0.923 (R²), this means that the model captures 92.3% of the variance (or noise) in our prediction of carbon sequestration rate based on our actual values for the  carbon sequestration rate. I wouldn't find a high R² suprising as we are comparing the model’s predictions to the same dataset on which it was trained.\n",
    "\n",
    "I added r, or the correlation coefficent to show the correlation between our actual and predicited values. The r value of 0.961 shows that our model predictctions are closely aligned with the actual values, making a strong linear positive correlation."
   ]
  },
  {
   "cell_type": "markdown",
   "id": "b028084b-f590-43f4-8a12-5355742a0dc0",
   "metadata": {},
   "source": [
    "1.3 (2 pts) A new microclimate was measured on the island of Borneo. Use the data from the file `borneo.csv` and your regression model to predict the carbon squestration rate of Borneo. Interpret the results."
   ]
  },
  {
   "cell_type": "code",
   "execution_count": 7,
   "id": "40e3f8cd-e53b-4f02-9b07-118ec843b5f6",
   "metadata": {},
   "outputs": [
    {
     "name": "stdout",
     "output_type": "stream",
     "text": [
      "<class 'pandas.core.frame.DataFrame'>\n",
      "RangeIndex: 1 entries, 0 to 0\n",
      "Data columns (total 20 columns):\n",
      " #   Column                      Non-Null Count  Dtype  \n",
      "---  ------                      --------------  -----  \n",
      " 0   soil_ph_deviation           1 non-null      float64\n",
      " 1   moisture_content_variation  1 non-null      float64\n",
      " 2   nitrogen_level_fluctuation  1 non-null      float64\n",
      " 3   tree_density_difference     1 non-null      float64\n",
      " 4   understory_diversity_index  1 non-null      float64\n",
      " 5   canopy_coverage_deviation   1 non-null      float64\n",
      " 6   temperature_anomaly         1 non-null      float64\n",
      " 7   precipitation_difference    1 non-null      float64\n",
      " 8   elevation_variation         1 non-null      float64\n",
      " 9   wind_pattern_change         1 non-null      float64\n",
      " 10  sunlight_exposure_shift     1 non-null      float64\n",
      " 11  fungal_colony_presence      1 non-null      float64\n",
      " 12  insect_population_variance  1 non-null      float64\n",
      " 13  water_body_influence        1 non-null      float64\n",
      " 14  forest_edge_proximity       1 non-null      float64\n",
      " 15  human_activity_impact       1 non-null      float64\n",
      " 16  wildfire_history            1 non-null      float64\n",
      " 17  geographic_orientation      1 non-null      float64\n",
      " 18  local_pollution_level       1 non-null      float64\n",
      " 19  adjacent_landscape_effect   1 non-null      float64\n",
      "dtypes: float64(20)\n",
      "memory usage: 292.0 bytes\n"
     ]
    },
    {
     "data": {
      "text/plain": [
       "np.float64(14.37184612708898)"
      ]
     },
     "execution_count": 7,
     "metadata": {},
     "output_type": "execute_result"
    }
   ],
   "source": [
    "borneo = pd.read_csv(\"borneo.csv\")\n",
    "borneo.info() # was this meant to be one row?\n",
    "\n",
    "Xt = borneo\n",
    "X2t = pf2.fit_transform(Xt)\n",
    "yt_hat = lr.predict(X2t)\n",
    "\n",
    "yt_hat[0]"
   ]
  },
  {
   "cell_type": "markdown",
   "id": "bfed4d67-1fba-4c83-85f2-65601d326c79",
   "metadata": {},
   "source": [
    "Based on our model we would predict the carbon sequestration rate to be 14.372 tons per hectare per year which suggests the island is stongly capturing carbon. This result seems resonable given natural environment of the island, specifically its dense rainforests."
   ]
  },
  {
   "cell_type": "markdown",
   "id": "5e9443e8-e71a-4420-a5cb-8d6ef2124ca6",
   "metadata": {},
   "source": [
    "## 2. Polynomial Regression"
   ]
  },
  {
   "cell_type": "markdown",
   "id": "314d19ba-d1cc-4d81-b519-e1ee42c4710b",
   "metadata": {},
   "source": [
    "Health experts at Regional Medical Center are studying factors that influence recovery time following total knee replacement surgery. They've collected data from 399 patients to develop a predictive model that could help healthcare providers optimize post-surgical care plans and provide more accurate recovery timelines to patients.\n",
    "\n",
    "For each patient, the researchers measured 12 key health metrics (normalized to a 0-1 scale). The target variable is the post-surgical **recovery time**, measured as the number of days (ranging from 0-25) until the patient achieves independent mobility according to standardized assessments.\n",
    "\n",
    "The orthopedic department wants to develop a reliable model to predict recovery timelines for future patients. This would allow for more personalized care plans, better resource allocation, and improved patient expectations management."
   ]
  },
  {
   "cell_type": "markdown",
   "id": "a979aeae-2b7a-4ab1-adc2-9d34e9903f9d",
   "metadata": {},
   "source": [
    "2.1 (4pts) Uing the `orthopedic_recovery.csv` dataset, apply standard (non-polynomial) multiple regression to create a model that can predict the recovery time based on the 12 input parameters."
   ]
  },
  {
   "cell_type": "code",
   "execution_count": 8,
   "id": "8542cd39-7c5f-4059-8967-96ca9eb317ca",
   "metadata": {},
   "outputs": [
    {
     "name": "stdout",
     "output_type": "stream",
     "text": [
      "<class 'pandas.core.frame.DataFrame'>\n",
      "RangeIndex: 399 entries, 0 to 398\n",
      "Data columns (total 13 columns):\n",
      " #   Column                       Non-Null Count  Dtype  \n",
      "---  ------                       --------------  -----  \n",
      " 0   age_normalized               399 non-null    float64\n",
      " 1   bmi_normalized               399 non-null    float64\n",
      " 2   pre_surgery_mobility         399 non-null    float64\n",
      " 3   resting_heart_rate           399 non-null    float64\n",
      " 4   systolic_bp                  399 non-null    float64\n",
      " 5   hemoglobin_level             399 non-null    float64\n",
      " 6   pain_tolerance               399 non-null    float64\n",
      " 7   preexisting_conditions       399 non-null    float64\n",
      " 8   physical_therapy_compliance  399 non-null    float64\n",
      " 9   nutritional_status           399 non-null    float64\n",
      " 10  sleep_quality                399 non-null    float64\n",
      " 11  medication_adherence         399 non-null    float64\n",
      " 12  recovery_time                399 non-null    float64\n",
      "dtypes: float64(13)\n",
      "memory usage: 40.7 KB\n"
     ]
    },
    {
     "data": {
      "text/html": [
       "<div>\n",
       "<style scoped>\n",
       "    .dataframe tbody tr th:only-of-type {\n",
       "        vertical-align: middle;\n",
       "    }\n",
       "\n",
       "    .dataframe tbody tr th {\n",
       "        vertical-align: top;\n",
       "    }\n",
       "\n",
       "    .dataframe thead th {\n",
       "        text-align: right;\n",
       "    }\n",
       "</style>\n",
       "<table border=\"1\" class=\"dataframe\">\n",
       "  <thead>\n",
       "    <tr style=\"text-align: right;\">\n",
       "      <th></th>\n",
       "      <th>age_normalized</th>\n",
       "      <th>bmi_normalized</th>\n",
       "      <th>pre_surgery_mobility</th>\n",
       "      <th>resting_heart_rate</th>\n",
       "      <th>systolic_bp</th>\n",
       "      <th>hemoglobin_level</th>\n",
       "      <th>pain_tolerance</th>\n",
       "      <th>preexisting_conditions</th>\n",
       "      <th>physical_therapy_compliance</th>\n",
       "      <th>nutritional_status</th>\n",
       "      <th>sleep_quality</th>\n",
       "      <th>medication_adherence</th>\n",
       "      <th>recovery_time</th>\n",
       "    </tr>\n",
       "  </thead>\n",
       "  <tbody>\n",
       "    <tr>\n",
       "      <th>count</th>\n",
       "      <td>399.000000</td>\n",
       "      <td>399.000000</td>\n",
       "      <td>399.000000</td>\n",
       "      <td>399.000000</td>\n",
       "      <td>399.000000</td>\n",
       "      <td>399.000000</td>\n",
       "      <td>399.000000</td>\n",
       "      <td>399.000000</td>\n",
       "      <td>399.000000</td>\n",
       "      <td>399.000000</td>\n",
       "      <td>399.000000</td>\n",
       "      <td>399.000000</td>\n",
       "      <td>399.000000</td>\n",
       "    </tr>\n",
       "    <tr>\n",
       "      <th>mean</th>\n",
       "      <td>0.492884</td>\n",
       "      <td>0.502805</td>\n",
       "      <td>0.519426</td>\n",
       "      <td>0.490922</td>\n",
       "      <td>0.493530</td>\n",
       "      <td>0.499931</td>\n",
       "      <td>0.497722</td>\n",
       "      <td>0.528764</td>\n",
       "      <td>0.497120</td>\n",
       "      <td>0.502757</td>\n",
       "      <td>0.502659</td>\n",
       "      <td>0.502252</td>\n",
       "      <td>14.329788</td>\n",
       "    </tr>\n",
       "    <tr>\n",
       "      <th>std</th>\n",
       "      <td>0.276372</td>\n",
       "      <td>0.271419</td>\n",
       "      <td>0.292073</td>\n",
       "      <td>0.298067</td>\n",
       "      <td>0.292801</td>\n",
       "      <td>0.287085</td>\n",
       "      <td>0.279120</td>\n",
       "      <td>0.287131</td>\n",
       "      <td>0.288656</td>\n",
       "      <td>0.288021</td>\n",
       "      <td>0.279669</td>\n",
       "      <td>0.270802</td>\n",
       "      <td>5.245102</td>\n",
       "    </tr>\n",
       "    <tr>\n",
       "      <th>min</th>\n",
       "      <td>0.000559</td>\n",
       "      <td>0.001030</td>\n",
       "      <td>0.001528</td>\n",
       "      <td>0.002001</td>\n",
       "      <td>0.003163</td>\n",
       "      <td>0.004809</td>\n",
       "      <td>0.002569</td>\n",
       "      <td>0.000398</td>\n",
       "      <td>0.000527</td>\n",
       "      <td>0.000165</td>\n",
       "      <td>0.001752</td>\n",
       "      <td>0.000292</td>\n",
       "      <td>-0.698792</td>\n",
       "    </tr>\n",
       "    <tr>\n",
       "      <th>25%</th>\n",
       "      <td>0.255980</td>\n",
       "      <td>0.282613</td>\n",
       "      <td>0.271411</td>\n",
       "      <td>0.215431</td>\n",
       "      <td>0.247981</td>\n",
       "      <td>0.267842</td>\n",
       "      <td>0.263482</td>\n",
       "      <td>0.290314</td>\n",
       "      <td>0.253125</td>\n",
       "      <td>0.263864</td>\n",
       "      <td>0.292030</td>\n",
       "      <td>0.262146</td>\n",
       "      <td>10.955590</td>\n",
       "    </tr>\n",
       "    <tr>\n",
       "      <th>50%</th>\n",
       "      <td>0.496650</td>\n",
       "      <td>0.494740</td>\n",
       "      <td>0.548335</td>\n",
       "      <td>0.475691</td>\n",
       "      <td>0.479194</td>\n",
       "      <td>0.499140</td>\n",
       "      <td>0.490687</td>\n",
       "      <td>0.553558</td>\n",
       "      <td>0.482532</td>\n",
       "      <td>0.507843</td>\n",
       "      <td>0.510954</td>\n",
       "      <td>0.501207</td>\n",
       "      <td>14.160059</td>\n",
       "    </tr>\n",
       "    <tr>\n",
       "      <th>75%</th>\n",
       "      <td>0.735414</td>\n",
       "      <td>0.743709</td>\n",
       "      <td>0.768285</td>\n",
       "      <td>0.745268</td>\n",
       "      <td>0.761276</td>\n",
       "      <td>0.737595</td>\n",
       "      <td>0.736970</td>\n",
       "      <td>0.772021</td>\n",
       "      <td>0.747153</td>\n",
       "      <td>0.734216</td>\n",
       "      <td>0.716590</td>\n",
       "      <td>0.732659</td>\n",
       "      <td>17.868557</td>\n",
       "    </tr>\n",
       "    <tr>\n",
       "      <th>max</th>\n",
       "      <td>0.997862</td>\n",
       "      <td>0.998536</td>\n",
       "      <td>0.999509</td>\n",
       "      <td>0.998853</td>\n",
       "      <td>0.999333</td>\n",
       "      <td>0.993886</td>\n",
       "      <td>0.994978</td>\n",
       "      <td>0.997373</td>\n",
       "      <td>0.995915</td>\n",
       "      <td>0.999503</td>\n",
       "      <td>0.999109</td>\n",
       "      <td>0.985867</td>\n",
       "      <td>29.224539</td>\n",
       "    </tr>\n",
       "  </tbody>\n",
       "</table>\n",
       "</div>"
      ],
      "text/plain": [
       "       age_normalized  bmi_normalized  pre_surgery_mobility  \\\n",
       "count      399.000000      399.000000            399.000000   \n",
       "mean         0.492884        0.502805              0.519426   \n",
       "std          0.276372        0.271419              0.292073   \n",
       "min          0.000559        0.001030              0.001528   \n",
       "25%          0.255980        0.282613              0.271411   \n",
       "50%          0.496650        0.494740              0.548335   \n",
       "75%          0.735414        0.743709              0.768285   \n",
       "max          0.997862        0.998536              0.999509   \n",
       "\n",
       "       resting_heart_rate  systolic_bp  hemoglobin_level  pain_tolerance  \\\n",
       "count          399.000000   399.000000        399.000000      399.000000   \n",
       "mean             0.490922     0.493530          0.499931        0.497722   \n",
       "std              0.298067     0.292801          0.287085        0.279120   \n",
       "min              0.002001     0.003163          0.004809        0.002569   \n",
       "25%              0.215431     0.247981          0.267842        0.263482   \n",
       "50%              0.475691     0.479194          0.499140        0.490687   \n",
       "75%              0.745268     0.761276          0.737595        0.736970   \n",
       "max              0.998853     0.999333          0.993886        0.994978   \n",
       "\n",
       "       preexisting_conditions  physical_therapy_compliance  \\\n",
       "count              399.000000                   399.000000   \n",
       "mean                 0.528764                     0.497120   \n",
       "std                  0.287131                     0.288656   \n",
       "min                  0.000398                     0.000527   \n",
       "25%                  0.290314                     0.253125   \n",
       "50%                  0.553558                     0.482532   \n",
       "75%                  0.772021                     0.747153   \n",
       "max                  0.997373                     0.995915   \n",
       "\n",
       "       nutritional_status  sleep_quality  medication_adherence  recovery_time  \n",
       "count          399.000000     399.000000            399.000000     399.000000  \n",
       "mean             0.502757       0.502659              0.502252      14.329788  \n",
       "std              0.288021       0.279669              0.270802       5.245102  \n",
       "min              0.000165       0.001752              0.000292      -0.698792  \n",
       "25%              0.263864       0.292030              0.262146      10.955590  \n",
       "50%              0.507843       0.510954              0.501207      14.160059  \n",
       "75%              0.734216       0.716590              0.732659      17.868557  \n",
       "max              0.999503       0.999109              0.985867      29.224539  "
      ]
     },
     "execution_count": 8,
     "metadata": {},
     "output_type": "execute_result"
    }
   ],
   "source": [
    "ortho = pd.read_csv('orthopedic_recovery.csv')\n",
    "ortho.info()\n",
    "ortho.describe()"
   ]
  },
  {
   "cell_type": "markdown",
   "id": "306ca5ca-3914-42df-8304-fd1e2789078d",
   "metadata": {},
   "source": [
    "Thats unexpected how did the minimum recovery time be negative for a patient? Did their knee get better before they went under went surgery (Schrodingers patient)? In general it takes 14 or so days for this sample of patients and at most takes 29.22 days not the suggested 0-25."
   ]
  },
  {
   "cell_type": "code",
   "execution_count": 9,
   "id": "35a3f13d-e911-4801-96fd-99154b58f35b",
   "metadata": {},
   "outputs": [
    {
     "data": {
      "text/html": [
       "<div>\n",
       "<style scoped>\n",
       "    .dataframe tbody tr th:only-of-type {\n",
       "        vertical-align: middle;\n",
       "    }\n",
       "\n",
       "    .dataframe tbody tr th {\n",
       "        vertical-align: top;\n",
       "    }\n",
       "\n",
       "    .dataframe thead th {\n",
       "        text-align: right;\n",
       "    }\n",
       "</style>\n",
       "<table border=\"1\" class=\"dataframe\">\n",
       "  <thead>\n",
       "    <tr style=\"text-align: right;\">\n",
       "      <th></th>\n",
       "      <th>age_normalized</th>\n",
       "      <th>bmi_normalized</th>\n",
       "      <th>pre_surgery_mobility</th>\n",
       "      <th>resting_heart_rate</th>\n",
       "      <th>systolic_bp</th>\n",
       "      <th>hemoglobin_level</th>\n",
       "      <th>pain_tolerance</th>\n",
       "      <th>preexisting_conditions</th>\n",
       "      <th>physical_therapy_compliance</th>\n",
       "      <th>nutritional_status</th>\n",
       "      <th>sleep_quality</th>\n",
       "      <th>medication_adherence</th>\n",
       "      <th>recovery_time</th>\n",
       "    </tr>\n",
       "  </thead>\n",
       "  <tbody>\n",
       "    <tr>\n",
       "      <th>398</th>\n",
       "      <td>0.571152</td>\n",
       "      <td>0.010227</td>\n",
       "      <td>0.447774</td>\n",
       "      <td>0.119937</td>\n",
       "      <td>0.050326</td>\n",
       "      <td>0.324591</td>\n",
       "      <td>0.297682</td>\n",
       "      <td>0.889513</td>\n",
       "      <td>0.705601</td>\n",
       "      <td>0.8889</td>\n",
       "      <td>0.930235</td>\n",
       "      <td>0.438313</td>\n",
       "      <td>-0.698792</td>\n",
       "    </tr>\n",
       "  </tbody>\n",
       "</table>\n",
       "</div>"
      ],
      "text/plain": [
       "     age_normalized  bmi_normalized  pre_surgery_mobility  resting_heart_rate  \\\n",
       "398        0.571152        0.010227              0.447774            0.119937   \n",
       "\n",
       "     systolic_bp  hemoglobin_level  pain_tolerance  preexisting_conditions  \\\n",
       "398     0.050326          0.324591        0.297682                0.889513   \n",
       "\n",
       "     physical_therapy_compliance  nutritional_status  sleep_quality  \\\n",
       "398                     0.705601              0.8889       0.930235   \n",
       "\n",
       "     medication_adherence  recovery_time  \n",
       "398              0.438313      -0.698792  "
      ]
     },
     "execution_count": 9,
     "metadata": {},
     "output_type": "execute_result"
    }
   ],
   "source": [
    "ortho[ortho[\"recovery_time\"] <= 0] #turns out it was one entry. Whoever row 398 is might be a time traveller of some sort, either way lets drop them."
   ]
  },
  {
   "cell_type": "code",
   "execution_count": 10,
   "id": "1ae7eeac-6b81-4ea0-8fb0-f941a0d1fa7d",
   "metadata": {},
   "outputs": [
    {
     "data": {
      "text/html": [
       "<div>\n",
       "<style scoped>\n",
       "    .dataframe tbody tr th:only-of-type {\n",
       "        vertical-align: middle;\n",
       "    }\n",
       "\n",
       "    .dataframe tbody tr th {\n",
       "        vertical-align: top;\n",
       "    }\n",
       "\n",
       "    .dataframe thead th {\n",
       "        text-align: right;\n",
       "    }\n",
       "</style>\n",
       "<table border=\"1\" class=\"dataframe\">\n",
       "  <thead>\n",
       "    <tr style=\"text-align: right;\">\n",
       "      <th></th>\n",
       "      <th>age_normalized</th>\n",
       "      <th>bmi_normalized</th>\n",
       "      <th>pre_surgery_mobility</th>\n",
       "      <th>resting_heart_rate</th>\n",
       "      <th>systolic_bp</th>\n",
       "      <th>hemoglobin_level</th>\n",
       "      <th>pain_tolerance</th>\n",
       "      <th>preexisting_conditions</th>\n",
       "      <th>physical_therapy_compliance</th>\n",
       "      <th>nutritional_status</th>\n",
       "      <th>sleep_quality</th>\n",
       "      <th>medication_adherence</th>\n",
       "      <th>recovery_time</th>\n",
       "    </tr>\n",
       "  </thead>\n",
       "  <tbody>\n",
       "    <tr>\n",
       "      <th>count</th>\n",
       "      <td>398.000000</td>\n",
       "      <td>398.000000</td>\n",
       "      <td>398.000000</td>\n",
       "      <td>398.000000</td>\n",
       "      <td>398.000000</td>\n",
       "      <td>398.000000</td>\n",
       "      <td>398.000000</td>\n",
       "      <td>398.000000</td>\n",
       "      <td>398.000000</td>\n",
       "      <td>398.000000</td>\n",
       "      <td>398.000000</td>\n",
       "      <td>398.000000</td>\n",
       "      <td>398.000000</td>\n",
       "    </tr>\n",
       "    <tr>\n",
       "      <th>mean</th>\n",
       "      <td>0.492688</td>\n",
       "      <td>0.504043</td>\n",
       "      <td>0.519606</td>\n",
       "      <td>0.491855</td>\n",
       "      <td>0.494644</td>\n",
       "      <td>0.500372</td>\n",
       "      <td>0.498224</td>\n",
       "      <td>0.527858</td>\n",
       "      <td>0.496596</td>\n",
       "      <td>0.501787</td>\n",
       "      <td>0.501585</td>\n",
       "      <td>0.502413</td>\n",
       "      <td>14.367548</td>\n",
       "    </tr>\n",
       "    <tr>\n",
       "      <th>std</th>\n",
       "      <td>0.276692</td>\n",
       "      <td>0.270631</td>\n",
       "      <td>0.292418</td>\n",
       "      <td>0.297859</td>\n",
       "      <td>0.292322</td>\n",
       "      <td>0.287311</td>\n",
       "      <td>0.279290</td>\n",
       "      <td>0.286920</td>\n",
       "      <td>0.288829</td>\n",
       "      <td>0.287730</td>\n",
       "      <td>0.279195</td>\n",
       "      <td>0.271124</td>\n",
       "      <td>5.197119</td>\n",
       "    </tr>\n",
       "    <tr>\n",
       "      <th>min</th>\n",
       "      <td>0.000559</td>\n",
       "      <td>0.001030</td>\n",
       "      <td>0.001528</td>\n",
       "      <td>0.002001</td>\n",
       "      <td>0.003163</td>\n",
       "      <td>0.004809</td>\n",
       "      <td>0.002569</td>\n",
       "      <td>0.000398</td>\n",
       "      <td>0.000527</td>\n",
       "      <td>0.000165</td>\n",
       "      <td>0.001752</td>\n",
       "      <td>0.000292</td>\n",
       "      <td>1.307076</td>\n",
       "    </tr>\n",
       "    <tr>\n",
       "      <th>25%</th>\n",
       "      <td>0.254765</td>\n",
       "      <td>0.283970</td>\n",
       "      <td>0.271276</td>\n",
       "      <td>0.216671</td>\n",
       "      <td>0.249894</td>\n",
       "      <td>0.267286</td>\n",
       "      <td>0.263092</td>\n",
       "      <td>0.290192</td>\n",
       "      <td>0.252889</td>\n",
       "      <td>0.262781</td>\n",
       "      <td>0.291832</td>\n",
       "      <td>0.261849</td>\n",
       "      <td>10.981922</td>\n",
       "    </tr>\n",
       "    <tr>\n",
       "      <th>50%</th>\n",
       "      <td>0.495716</td>\n",
       "      <td>0.494791</td>\n",
       "      <td>0.548438</td>\n",
       "      <td>0.476974</td>\n",
       "      <td>0.481411</td>\n",
       "      <td>0.499746</td>\n",
       "      <td>0.491693</td>\n",
       "      <td>0.551495</td>\n",
       "      <td>0.480657</td>\n",
       "      <td>0.505878</td>\n",
       "      <td>0.510165</td>\n",
       "      <td>0.503100</td>\n",
       "      <td>14.190662</td>\n",
       "    </tr>\n",
       "    <tr>\n",
       "      <th>75%</th>\n",
       "      <td>0.735727</td>\n",
       "      <td>0.744609</td>\n",
       "      <td>0.768711</td>\n",
       "      <td>0.746417</td>\n",
       "      <td>0.761784</td>\n",
       "      <td>0.737766</td>\n",
       "      <td>0.737568</td>\n",
       "      <td>0.767227</td>\n",
       "      <td>0.747779</td>\n",
       "      <td>0.732461</td>\n",
       "      <td>0.715915</td>\n",
       "      <td>0.733600</td>\n",
       "      <td>17.892808</td>\n",
       "    </tr>\n",
       "    <tr>\n",
       "      <th>max</th>\n",
       "      <td>0.997862</td>\n",
       "      <td>0.998536</td>\n",
       "      <td>0.999509</td>\n",
       "      <td>0.998853</td>\n",
       "      <td>0.999333</td>\n",
       "      <td>0.993886</td>\n",
       "      <td>0.994978</td>\n",
       "      <td>0.997373</td>\n",
       "      <td>0.995915</td>\n",
       "      <td>0.999503</td>\n",
       "      <td>0.999109</td>\n",
       "      <td>0.985867</td>\n",
       "      <td>29.224539</td>\n",
       "    </tr>\n",
       "  </tbody>\n",
       "</table>\n",
       "</div>"
      ],
      "text/plain": [
       "       age_normalized  bmi_normalized  pre_surgery_mobility  \\\n",
       "count      398.000000      398.000000            398.000000   \n",
       "mean         0.492688        0.504043              0.519606   \n",
       "std          0.276692        0.270631              0.292418   \n",
       "min          0.000559        0.001030              0.001528   \n",
       "25%          0.254765        0.283970              0.271276   \n",
       "50%          0.495716        0.494791              0.548438   \n",
       "75%          0.735727        0.744609              0.768711   \n",
       "max          0.997862        0.998536              0.999509   \n",
       "\n",
       "       resting_heart_rate  systolic_bp  hemoglobin_level  pain_tolerance  \\\n",
       "count          398.000000   398.000000        398.000000      398.000000   \n",
       "mean             0.491855     0.494644          0.500372        0.498224   \n",
       "std              0.297859     0.292322          0.287311        0.279290   \n",
       "min              0.002001     0.003163          0.004809        0.002569   \n",
       "25%              0.216671     0.249894          0.267286        0.263092   \n",
       "50%              0.476974     0.481411          0.499746        0.491693   \n",
       "75%              0.746417     0.761784          0.737766        0.737568   \n",
       "max              0.998853     0.999333          0.993886        0.994978   \n",
       "\n",
       "       preexisting_conditions  physical_therapy_compliance  \\\n",
       "count              398.000000                   398.000000   \n",
       "mean                 0.527858                     0.496596   \n",
       "std                  0.286920                     0.288829   \n",
       "min                  0.000398                     0.000527   \n",
       "25%                  0.290192                     0.252889   \n",
       "50%                  0.551495                     0.480657   \n",
       "75%                  0.767227                     0.747779   \n",
       "max                  0.997373                     0.995915   \n",
       "\n",
       "       nutritional_status  sleep_quality  medication_adherence  recovery_time  \n",
       "count          398.000000     398.000000            398.000000     398.000000  \n",
       "mean             0.501787       0.501585              0.502413      14.367548  \n",
       "std              0.287730       0.279195              0.271124       5.197119  \n",
       "min              0.000165       0.001752              0.000292       1.307076  \n",
       "25%              0.262781       0.291832              0.261849      10.981922  \n",
       "50%              0.505878       0.510165              0.503100      14.190662  \n",
       "75%              0.732461       0.715915              0.733600      17.892808  \n",
       "max              0.999503       0.999109              0.985867      29.224539  "
      ]
     },
     "execution_count": 10,
     "metadata": {},
     "output_type": "execute_result"
    }
   ],
   "source": [
    "ortho_c = ortho[ortho[\"recovery_time\"] > 0] #_c for cleaned\n",
    "ortho_c.describe() #that makes sense now :)"
   ]
  },
  {
   "cell_type": "code",
   "execution_count": 11,
   "id": "07467a34-0706-4664-abe9-2b8107a7e18e",
   "metadata": {},
   "outputs": [
    {
     "data": {
      "text/plain": [
       "0.6827353841647372"
      ]
     },
     "execution_count": 11,
     "metadata": {},
     "output_type": "execute_result"
    }
   ],
   "source": [
    "lr_ortho = LinearRegression()\n",
    "X = ortho_c.drop(columns=[\"recovery_time\"])\n",
    "y = ortho_c.recovery_time\n",
    "\n",
    "lr_ortho.fit(X,y)\n",
    "lr_ortho.score(X,y)"
   ]
  },
  {
   "cell_type": "code",
   "execution_count": 12,
   "id": "528beeb0-acad-4a5e-a0e9-4faec3c844c6",
   "metadata": {},
   "outputs": [],
   "source": [
    "y_hat = lr_ortho.predict(X)\n",
    "R2 = lr_ortho.score(X, y)\n",
    "r1 = R2 ** 0.5"
   ]
  },
  {
   "cell_type": "markdown",
   "id": "9428354f-7496-401b-90be-af7bc75ab638",
   "metadata": {},
   "source": [
    "2.2 (2pts) What is the accuracy of your model?"
   ]
  },
  {
   "cell_type": "code",
   "execution_count": 13,
   "id": "45650569-d312-40f2-8f70-9192be900cf4",
   "metadata": {},
   "outputs": [
    {
     "data": {
      "text/plain": [
       "Text(10.0, -3.5, 'R² = 0.683, r = 0.826')"
      ]
     },
     "execution_count": 13,
     "metadata": {},
     "output_type": "execute_result"
    },
    {
     "data": {
      "image/png": "[encoded data removed]",
      "text/plain": [
       "<Figure size 640x480 with 1 Axes>"
      ]
     },
     "metadata": {},
     "output_type": "display_data"
    }
   ],
   "source": [
    "ax = sns.regplot(x=y, y=y_hat, ci=False,  line_kws={'color': 'red'},scatter_kws={'color': 'blue', 's': 10, 'alpha':0.5})\n",
    "ax.set_title('Training Data: Actual vs Predicted Recovery Time (days) \\n Linear Model')\n",
    "ax.set_xlabel('Actual Recovery Time (days)')\n",
    "ax.set_ylabel('Predicted Recovery Time (days)')\n",
    "ax.text(x=10.0, y = -3.5, s = f\"R² = {round(R2,3)}, r = {round(r1,3)}\")"
   ]
  },
  {
   "cell_type": "code",
   "execution_count": 14,
   "id": "80ffb589-5cef-44a7-8369-46a2d4a8d0cc",
   "metadata": {},
   "outputs": [
    {
     "data": {
      "image/png": "[encoded data removed]",
      "text/plain": [
       "<Figure size 640x480 with 1 Axes>"
      ]
     },
     "metadata": {},
     "output_type": "display_data"
    }
   ],
   "source": [
    "ax = sns.regplot(x=y_hat, y=y_hat - y, ci=False, line_kws={'alpha':0.5, 'color':'r'}).set(xlabel='Predicted Recovery Time (days)', ylabel='Residual (Predicted − Actual)', title='Residual of Linear Model' )"
   ]
  },
  {
   "cell_type": "markdown",
   "id": "2037243f-302a-41c4-896e-8db37360cdbc",
   "metadata": {},
   "source": [
    "The model does just \"okay\" in my opinion with our R² (score) of 0.683, we have captured 68.3% of the variance in the recovery time predictions based on the actual recovery time values with this model. While 68.3% isnt terrible we are missing out on nearly a third of variance and suggest a signficant unexplained part of our traget variable we might want to try different a differnt model (like polynomial below) to make better predictions.\n",
    "\n",
    "Our correlation coefficient of 0.826 supports a strong positive linear correlation between our predicted values and actual values, which is reasonable. We would expect this given that the model uses key health metrics, which are likely to have a strong relationship with recovery time."
   ]
  },
  {
   "cell_type": "markdown",
   "id": "15bdc96b-030c-4235-92cb-ef94734d31b1",
   "metadata": {},
   "source": [
    "2.3 (5pts) Using multiple polynomial regression, build another model of the `orthopedic_recovery.csv` dataset"
   ]
  },
  {
   "cell_type": "code",
   "execution_count": 15,
   "id": "36b13732-9728-4bd0-b853-99d293b50456",
   "metadata": {},
   "outputs": [
    {
     "name": "stdout",
     "output_type": "stream",
     "text": [
      "0.8557130618674313\n"
     ]
    }
   ],
   "source": [
    "ortho_pf2 = PolynomialFeatures(degree=2)\n",
    "lr_ortho2 = LinearRegression()\n",
    "\n",
    "X = ortho_c.drop(columns=[\"recovery_time\"])\n",
    "y = ortho_c.recovery_time\n",
    "\n",
    "X2 = ortho_pf2.fit_transform(X)\n",
    "\n",
    "lr_ortho2.fit(X2,y)\n",
    "\n",
    "print(lr_ortho2.score(X2, y))\n",
    "\n",
    "y_hat2 = lr_ortho2.predict(X2)\n",
    "R2_X2 = lr_ortho2.score(X2, y)\n",
    "r1_X2 = R2 ** 0.5"
   ]
  },
  {
   "cell_type": "markdown",
   "id": "6682d30e-b31c-4bb4-a65f-90cb5c653e3d",
   "metadata": {},
   "source": [
    "2.4 (2pts) What is the accuracy of your new model?"
   ]
  },
  {
   "cell_type": "code",
   "execution_count": 16,
   "id": "fc85f632-6a05-47c4-a6f9-f4f69f934a44",
   "metadata": {},
   "outputs": [
    {
     "data": {
      "text/plain": [
       "Text(10.0, -3.5, 'R² = 0.856, r = 0.826')"
      ]
     },
     "execution_count": 16,
     "metadata": {},
     "output_type": "execute_result"
    },
    {
     "data": {
      "image/png": "[encoded data removed]",
      "text/plain": [
       "<Figure size 640x480 with 1 Axes>"
      ]
     },
     "metadata": {},
     "output_type": "display_data"
    }
   ],
   "source": [
    "ax = sns.regplot(x=y, y=y_hat2, ci=False,  line_kws={'color': 'red'},scatter_kws={'color': 'blue', 's': 10, 'alpha':0.5})\n",
    "ax.set_title('Training Data: Actual vs Predicted Recovery Time (days) \\n Polynomial Model')\n",
    "ax.set_xlabel('Actual Recovery Time (days)')\n",
    "ax.set_ylabel('Predicted Recovery Time (days)')\n",
    "ax.text(x=10.0, y = -3.5, s = f\"R² = {round(R2_X2,3)}, r = {round(r1_X2,3)}\")"
   ]
  },
  {
   "cell_type": "code",
   "execution_count": 17,
   "id": "2efc72ac-b1e0-41a3-8ee6-afacb2c75f0e",
   "metadata": {},
   "outputs": [
    {
     "data": {
      "image/png": "[encoded data removed]",
      "text/plain": [
       "<Figure size 640x480 with 1 Axes>"
      ]
     },
     "metadata": {},
     "output_type": "display_data"
    }
   ],
   "source": [
    "ax = sns.regplot(x=y_hat2, y=y_hat2 - y, ci=False, line_kws={'alpha':0.5, 'color':'r'}).set(xlabel='Predicted Recovery Time (days)', ylabel='Residual (Predicted − Actual)', title='Residual of Polynomial(2) Model' )"
   ]
  },
  {
   "cell_type": "markdown",
   "id": "5cbeb03b-da23-4d24-a6dd-fcef21278d6d",
   "metadata": {},
   "source": [
    "Our polynomial (degree = 2) model does much better predicting recovery times with a R² (score) of 0.856 meaning this model captured 85.6% of the variance in the recovery time. A much better score however we will want to see how this model and our linear model preforms against unseen data (as done below) to make sure we aren't overfitting.\n",
    "\n",
    "I did want to note with this model you can see our points generally got closer to the regression as if we had squished the points diagonally. Our correlation did not change and remains a strong and positive linear relationship."
   ]
  },
  {
   "cell_type": "markdown",
   "id": "46db3986-d8ea-4219-bc27-9277cf862e73",
   "metadata": {},
   "source": [
    "2.5 (5pts) Using the data in the `patient.csv` file predict the recovery time for the patient using both models.  \n",
    "_Note: you will need to transform the data before passing it to your polynomial model_"
   ]
  },
  {
   "cell_type": "code",
   "execution_count": 18,
   "id": "2a3a1eb9-7e3c-4464-a8cc-02a63eddfe29",
   "metadata": {},
   "outputs": [
    {
     "name": "stdout",
     "output_type": "stream",
     "text": [
      "<class 'pandas.core.frame.DataFrame'>\n",
      "RangeIndex: 1 entries, 0 to 0\n",
      "Data columns (total 12 columns):\n",
      " #   Column                       Non-Null Count  Dtype  \n",
      "---  ------                       --------------  -----  \n",
      " 0   age_normalized               1 non-null      float64\n",
      " 1   bmi_normalized               1 non-null      float64\n",
      " 2   pre_surgery_mobility         1 non-null      float64\n",
      " 3   resting_heart_rate           1 non-null      float64\n",
      " 4   systolic_bp                  1 non-null      float64\n",
      " 5   hemoglobin_level             1 non-null      float64\n",
      " 6   pain_tolerance               1 non-null      float64\n",
      " 7   preexisting_conditions       1 non-null      float64\n",
      " 8   physical_therapy_compliance  1 non-null      float64\n",
      " 9   nutritional_status           1 non-null      float64\n",
      " 10  sleep_quality                1 non-null      float64\n",
      " 11  medication_adherence         1 non-null      float64\n",
      "dtypes: float64(12)\n",
      "memory usage: 228.0 bytes\n"
     ]
    }
   ],
   "source": [
    "patient = pd.read_csv(\"patient.csv\")\n",
    "patient.info()"
   ]
  },
  {
   "cell_type": "code",
   "execution_count": 19,
   "id": "c705a4ec-98f8-4f08-a1a4-d19d2db5b2b7",
   "metadata": {},
   "outputs": [
    {
     "name": "stdout",
     "output_type": "stream",
     "text": [
      "Linear Regression Prediction: 13.585\n",
      "Polynomial Regression Prediction: 14.491\n"
     ]
    }
   ],
   "source": [
    "patient_data = pd.read_csv(\"patient.csv\")\n",
    "Xt_patient = patient_data\n",
    "X2_patient = ortho_pf2.transform(Xt_patient)\n",
    "\n",
    "yt_lr = lr_ortho.predict(Xt_patient)\n",
    "yt_lr_X2 = lr_ortho2.predict(X2_patient)\n",
    "\n",
    "print(f\"Linear Regression Prediction: {round(yt_lr[0], 3)}\")\n",
    "print(f\"Polynomial Regression Prediction: {round(yt_lr_X2[0],3)}\")"
   ]
  },
  {
   "cell_type": "markdown",
   "id": "d1a0c2c5-b09a-4598-91ca-5f95248dde7c",
   "metadata": {},
   "source": [
    "2.6 (2pts) Based on these predictions, what would be your estimate and how confident are you?"
   ]
  },
  {
   "cell_type": "markdown",
   "id": "7e2133d0-05e4-4943-9821-290313d45d17",
   "metadata": {},
   "source": [
    "I would estimate that it should take about 14 days for someone to recover from total knee replacement surgery. Lets find out how confident I can be:"
   ]
  },
  {
   "cell_type": "code",
   "execution_count": 20,
   "id": "fc8b654e-75af-4ed2-ba24-988c5dd15655",
   "metadata": {},
   "outputs": [
    {
     "name": "stdout",
     "output_type": "stream",
     "text": [
      "95% confidence interval of recovery time (linear model):\n",
      "[7.85, 19.32] days \n",
      "± 5.74 days\n",
      "95% confidence interval of recovery time (linear model):\n",
      "[10.62, 18.36] days \n",
      "± 3.87 days\n"
     ]
    }
   ],
   "source": [
    "import numpy as np\n",
    "from scipy.stats import norm\n",
    "\n",
    "#Linear CI\n",
    "residuals = y - y_hat\n",
    "sigma = np.std(residuals, ddof=1)\n",
    "z = norm.ppf(0.975)\n",
    "ME= z * sigma\n",
    "predicted = yt_lr[0]\n",
    "lowerlr = predicted - z * sigma\n",
    "upperlr = predicted + z * sigma\n",
    "\n",
    "print(f\"95% confidence interval of recovery time (linear model):\\n[{round(lowerlr,2)}, {round(upperlr,2)}] days \\n± {round(ME,2)} days\")\n",
    "\n",
    "#Polynomial Deg 2 CI\n",
    "residuals = y - y_hat2\n",
    "sigma = np.std(residuals, ddof=1)\n",
    "z = norm.ppf(0.975)\n",
    "ME2= z * sigma\n",
    "predicted = yt_lr_X2[0]\n",
    "lowerlr2 = predicted - ME2\n",
    "upperlr2 = predicted + ME2\n",
    "\n",
    "print(f\"95% confidence interval of recovery time (linear model):\\n[{round(lowerlr2,2)}, {round(upperlr2,2)}] days \\n± {round(ME2,2)} days\")\n",
    "\n"
   ]
  },
  {
   "cell_type": "markdown",
   "id": "69eddef0-5b6e-4fdf-883c-d7c2fb5235f0",
   "metadata": {},
   "source": [
    "I stand behind my polynomial degree 2 model and am 95% confident that an individual patient's recovery time would fall between 11 to 18 days."
   ]
  },
  {
   "cell_type": "markdown",
   "id": "93958190-8893-4225-9c3e-86f1a290d314",
   "metadata": {},
   "source": [
    "### 3. K Nearest Neighbors"
   ]
  },
  {
   "cell_type": "markdown",
   "id": "e751b0b0-3d63-46dc-9619-181edfd0dce1",
   "metadata": {},
   "source": [
    "The kNN algorithm requires a distance metric between samples in the sample space. The most common distance metric used is Euclidean which is defined as:  \n",
    "\n",
    "$$ distance(a,b) = \\sqrt{ (a_{f1} - b_{f1})^2 + (a_{f2} - b_{f2})^2 + ... + (a_{fn} - b_{fn})^2  } $$\n",
    "\n",
    "Where $ a, b $ are two samples in the dataset and $ fn $ is feature $ n $ of the dataset."
   ]
  },
  {
   "cell_type": "markdown",
   "id": "ebdb7537-3eaf-4a56-997d-17d2bba95ed8",
   "metadata": {},
   "source": [
    "3.1 (7pts) Create a Python function to calculate the distance between two Pandas Series. You can assume the series will have the same number of features (although it would be a good idea to check), and that all features are numeric. Try not to use Python `for` loops."
   ]
  },
  {
   "cell_type": "code",
   "execution_count": 21,
   "id": "4adefc92-74c2-40e5-ad3b-43a5d16bccce",
   "metadata": {},
   "outputs": [],
   "source": [
    "def distance(a, b):\n",
    "    return (((a - b)**2).sum())**0.5 "
   ]
  },
  {
   "cell_type": "markdown",
   "id": "20247301-6610-407c-b8f1-1406da48946d",
   "metadata": {},
   "source": [
    "3.2 (3pts) Check your function by creating a DataFrame from the list `[[1, 2], [3, 4]]` and calling your function with the two rows."
   ]
  },
  {
   "cell_type": "code",
   "execution_count": 22,
   "id": "782742e0-7796-4b50-bf44-a19b3fb148ef",
   "metadata": {
    "scrolled": true
   },
   "outputs": [
    {
     "data": {
      "text/plain": [
       "np.float64(2.8284271247461903)"
      ]
     },
     "execution_count": 22,
     "metadata": {},
     "output_type": "execute_result"
    }
   ],
   "source": [
    "l = pd.DataFrame([ [1,2],[3,4] ])\n",
    "distance(l.iloc[0],l.iloc[1])"
   ]
  },
  {
   "cell_type": "markdown",
   "id": "8fdb5cad-0cc7-4e40-88d6-813a410d417b",
   "metadata": {},
   "source": [
    "3.3 (14pts) To predict the value of an unlabeled sample, the kNN algorithm finds the $ k $ nearest samples in the dataset using the Euclidean distance. This requires testing the new sample against each row in the dataset and remembering the nearest $ k $ rows.  \n",
    "\n",
    "Create a Python function called `kNN` that takes a parameter $ k $, an unlabeled sample as a Pandas Series, and a dataframe of labeled samples. Your function should return a dataframe of the $ k $ rows that are closest to the unlabeled sample.\n",
    "\n",
    "Suggested pseudocode:\n",
    "```\n",
    "k is the number of neighbors to use\n",
    "u is an unlabeled sample\n",
    "X is the input samples from the labeled dataframe\n",
    "\n",
    "neighbors is a new list of tuples\n",
    "for each row in X\n",
    "  calculate the distance to u\n",
    "  append a tuple of the row index and distance to the neighbors list\n",
    "  sort the neighbors list by distance\n",
    "  truncate the neighbors list to the top k entries\n",
    "select the rows in X from the index values in the neighbors list and return the new dataframe\n",
    "```\n",
    "\n",
    "_Hint: To sort a list of tuples on one of the tuple elements use `list.sort(key=lambda x: x[n])` where `n` is the position of the value to sort on._"
   ]
  },
  {
   "cell_type": "code",
   "execution_count": 23,
   "id": "0dddbf79-d0dd-4ad7-81d0-1cbb89bd6ab7",
   "metadata": {},
   "outputs": [],
   "source": [
    "def kNN(k ,u, x):\n",
    "    #returns a list of rows that are the nearest neighbors based on k.\n",
    "    neighbors = []\n",
    "    for idx, row in x.iterrows():\n",
    "        neighbors.append( (idx, distance(u, row) ) )\n",
    "        neighbors.sort( key=lambda x: x[1] )\n",
    "        neighbors = neighbors [:k]\n",
    "    return x.iloc[ [n[0] for n in neighbors] ]\n",
    "        "
   ]
  },
  {
   "cell_type": "markdown",
   "id": "f39d5f08-aa53-4138-bc3a-dbd291e8749b",
   "metadata": {},
   "source": [
    "3.4 (3pts) Test your function using the unit tests in the cells below."
   ]
  },
  {
   "cell_type": "code",
   "execution_count": 24,
   "id": "f33e4b18-479c-4d4c-ace6-0001fb0bd4b5",
   "metadata": {},
   "outputs": [
    {
     "data": {
      "text/html": [
       "<div>\n",
       "<style scoped>\n",
       "    .dataframe tbody tr th:only-of-type {\n",
       "        vertical-align: middle;\n",
       "    }\n",
       "\n",
       "    .dataframe tbody tr th {\n",
       "        vertical-align: top;\n",
       "    }\n",
       "\n",
       "    .dataframe thead th {\n",
       "        text-align: right;\n",
       "    }\n",
       "</style>\n",
       "<table border=\"1\" class=\"dataframe\">\n",
       "  <thead>\n",
       "    <tr style=\"text-align: right;\">\n",
       "      <th></th>\n",
       "      <th>0</th>\n",
       "      <th>1</th>\n",
       "    </tr>\n",
       "  </thead>\n",
       "  <tbody>\n",
       "    <tr>\n",
       "      <th>0</th>\n",
       "      <td>1</td>\n",
       "      <td>2</td>\n",
       "    </tr>\n",
       "  </tbody>\n",
       "</table>\n",
       "</div>"
      ],
      "text/plain": [
       "   0  1\n",
       "0  1  2"
      ]
     },
     "execution_count": 24,
     "metadata": {},
     "output_type": "execute_result"
    }
   ],
   "source": [
    "kNN(1, pd.Series([1,2]), pd.DataFrame([[1,2],[3,4],[10,10]]))"
   ]
  },
  {
   "cell_type": "code",
   "execution_count": 25,
   "id": "d146f219-e9a0-45df-8b53-cdabedbc50b6",
   "metadata": {},
   "outputs": [
    {
     "data": {
      "text/html": [
       "<div>\n",
       "<style scoped>\n",
       "    .dataframe tbody tr th:only-of-type {\n",
       "        vertical-align: middle;\n",
       "    }\n",
       "\n",
       "    .dataframe tbody tr th {\n",
       "        vertical-align: top;\n",
       "    }\n",
       "\n",
       "    .dataframe thead th {\n",
       "        text-align: right;\n",
       "    }\n",
       "</style>\n",
       "<table border=\"1\" class=\"dataframe\">\n",
       "  <thead>\n",
       "    <tr style=\"text-align: right;\">\n",
       "      <th></th>\n",
       "      <th>0</th>\n",
       "      <th>1</th>\n",
       "    </tr>\n",
       "  </thead>\n",
       "  <tbody>\n",
       "    <tr>\n",
       "      <th>0</th>\n",
       "      <td>1</td>\n",
       "      <td>2</td>\n",
       "    </tr>\n",
       "    <tr>\n",
       "      <th>1</th>\n",
       "      <td>3</td>\n",
       "      <td>4</td>\n",
       "    </tr>\n",
       "  </tbody>\n",
       "</table>\n",
       "</div>"
      ],
      "text/plain": [
       "   0  1\n",
       "0  1  2\n",
       "1  3  4"
      ]
     },
     "execution_count": 25,
     "metadata": {},
     "output_type": "execute_result"
    }
   ],
   "source": [
    "kNN(2, pd.Series([1,2]), pd.DataFrame([[1,2],[3,4],[10,10]]))"
   ]
  },
  {
   "cell_type": "code",
   "execution_count": 26,
   "id": "c21b9672-75fb-43c9-9e97-8bc15f641c78",
   "metadata": {},
   "outputs": [
    {
     "data": {
      "text/html": [
       "<div>\n",
       "<style scoped>\n",
       "    .dataframe tbody tr th:only-of-type {\n",
       "        vertical-align: middle;\n",
       "    }\n",
       "\n",
       "    .dataframe tbody tr th {\n",
       "        vertical-align: top;\n",
       "    }\n",
       "\n",
       "    .dataframe thead th {\n",
       "        text-align: right;\n",
       "    }\n",
       "</style>\n",
       "<table border=\"1\" class=\"dataframe\">\n",
       "  <thead>\n",
       "    <tr style=\"text-align: right;\">\n",
       "      <th></th>\n",
       "      <th>0</th>\n",
       "      <th>1</th>\n",
       "    </tr>\n",
       "  </thead>\n",
       "  <tbody>\n",
       "    <tr>\n",
       "      <th>2</th>\n",
       "      <td>10</td>\n",
       "      <td>10</td>\n",
       "    </tr>\n",
       "  </tbody>\n",
       "</table>\n",
       "</div>"
      ],
      "text/plain": [
       "    0   1\n",
       "2  10  10"
      ]
     },
     "execution_count": 26,
     "metadata": {},
     "output_type": "execute_result"
    }
   ],
   "source": [
    "kNN(1, pd.Series([8,7]), pd.DataFrame([[1,2],[3,4],[10,10]]))"
   ]
  },
  {
   "cell_type": "markdown",
   "id": "e3cee606-a830-4f1b-ba34-ab8038513d61",
   "metadata": {},
   "source": [
    "3.5 (8pts) To predict the class of an unlabeled sample, kNN uses the majority class from $ k $ nearest neighbors.\n",
    "\n",
    "Create a function called `kNN_predict` which takes the same parameters as your function from 3.3 along with the corresponding class labels (e.g. `kNN_predict(k, u, X, y)`. Your function should perform the following:\n",
    "\n",
    "- Calls your kNN function to get the $ k $ samples closest to $ u $\n",
    "- Uses the closest $ k $ samples to return the predicted class (hint: use the mode of the $ k $ samples)\n",
    "\n",
    "Your function should return the value of the predicted class (make sure the return value is not a `Series` or `DataFrame` object)."
   ]
  },
  {
   "cell_type": "code",
   "execution_count": 27,
   "id": "485d3bd0-c307-4f0c-8a9f-f2bc93314482",
   "metadata": {},
   "outputs": [],
   "source": [
    "def kNN_predict(k, u, x, y):\n",
    "    neighbors = kNN(k, u, x)\n",
    "    prediction_types = y.loc[neighbors.index]\n",
    "    predicted_class = prediction_types.value_counts().idxmax()\n",
    "    return predicted_class\n",
    "    "
   ]
  },
  {
   "cell_type": "markdown",
   "id": "c1d5888e-52e9-4583-804b-23cf58043894",
   "metadata": {},
   "source": [
    "3.6 (2pts) Test your function on the two unit tests below"
   ]
  },
  {
   "cell_type": "code",
   "execution_count": 28,
   "id": "c140f04d-009b-4eb6-b686-507e1a0d9d0c",
   "metadata": {},
   "outputs": [
    {
     "data": {
      "text/plain": [
       "'apple'"
      ]
     },
     "execution_count": 28,
     "metadata": {},
     "output_type": "execute_result"
    }
   ],
   "source": [
    "kNN_predict(1, pd.Series([1,2]), pd.DataFrame([[1,2],[3,4],[10,10]]), pd.Series(['apple','orange', 'orange']))"
   ]
  },
  {
   "cell_type": "code",
   "execution_count": 29,
   "id": "74114d24-42c6-4559-8ec2-e805362b2b4b",
   "metadata": {},
   "outputs": [
    {
     "data": {
      "text/plain": [
       "'orange'"
      ]
     },
     "execution_count": 29,
     "metadata": {},
     "output_type": "execute_result"
    }
   ],
   "source": [
    "kNN_predict(3, pd.Series([1,2]), pd.DataFrame([[1,2],[3,4],[10,10]]), pd.Series(['apple','orange', 'orange']))"
   ]
  },
  {
   "cell_type": "markdown",
   "id": "55e610fe-bbe3-48e8-82b7-c9f81626d6d8",
   "metadata": {},
   "source": [
    "Using Seaborn load the `iris` dataset and create a dataframe of samples `X` by dropping the `species` column. Then create the corresponding labels by assigning the name `y` to the `species` column."
   ]
  },
  {
   "cell_type": "code",
   "execution_count": 30,
   "id": "83a0bea7-4df6-4fd3-8784-86120b7dc15e",
   "metadata": {},
   "outputs": [
    {
     "name": "stdout",
     "output_type": "stream",
     "text": [
      "<class 'pandas.core.frame.DataFrame'>\n",
      "RangeIndex: 150 entries, 0 to 149\n",
      "Data columns (total 5 columns):\n",
      " #   Column        Non-Null Count  Dtype  \n",
      "---  ------        --------------  -----  \n",
      " 0   sepal_length  150 non-null    float64\n",
      " 1   sepal_width   150 non-null    float64\n",
      " 2   petal_length  150 non-null    float64\n",
      " 3   petal_width   150 non-null    float64\n",
      " 4   species       150 non-null    object \n",
      "dtypes: float64(4), object(1)\n",
      "memory usage: 6.0+ KB\n"
     ]
    }
   ],
   "source": [
    "iris = sns.load_dataset('iris')\n",
    "iris.info()\n",
    "\n",
    "X = iris.drop(columns=['species'])\n",
    "y = iris.species"
   ]
  },
  {
   "cell_type": "markdown",
   "id": "aad06c37-38b7-49f2-a6e4-65cbd579ae89",
   "metadata": {},
   "source": [
    "Load the `flowers.csv` file from the homework directory into a dataframe named `flowers`."
   ]
  },
  {
   "cell_type": "code",
   "execution_count": 31,
   "id": "24b0ecf6-91c8-4d59-a9a1-78f0dd24a619",
   "metadata": {},
   "outputs": [
    {
     "name": "stdout",
     "output_type": "stream",
     "text": [
      "<class 'pandas.core.frame.DataFrame'>\n",
      "RangeIndex: 3 entries, 0 to 2\n",
      "Data columns (total 4 columns):\n",
      " #   Column        Non-Null Count  Dtype  \n",
      "---  ------        --------------  -----  \n",
      " 0   sepal_length  3 non-null      float64\n",
      " 1   sepal_width   3 non-null      float64\n",
      " 2   petal_length  3 non-null      float64\n",
      " 3   petal_width   3 non-null      float64\n",
      "dtypes: float64(4)\n",
      "memory usage: 228.0 bytes\n"
     ]
    }
   ],
   "source": [
    "flowers = pd.read_csv('flowers.csv')\n",
    "flowers.info()"
   ]
  },
  {
   "cell_type": "markdown",
   "id": "e9a036ae-a5b4-4d83-bf1b-0f8387991357",
   "metadata": {},
   "source": [
    "3.7 (4pts) For each row in the `flowers` dataframe, call your `kNN_predict` function with $ k = 3 $ to predict the class."
   ]
  },
  {
   "cell_type": "code",
   "execution_count": 32,
   "id": "b95f44bb-e6aa-43b5-bfa2-5cd384d93365",
   "metadata": {},
   "outputs": [
    {
     "data": {
      "text/plain": [
       "['versicolor', 'virginica', 'setosa']"
      ]
     },
     "execution_count": 32,
     "metadata": {},
     "output_type": "execute_result"
    }
   ],
   "source": [
    "predict = []\n",
    "for idx, row in flowers.iterrows():\n",
    "    pred = kNN_predict(3, row, X, y)\n",
    "    predict.append(pred)\n",
    "predict"
   ]
  },
  {
   "cell_type": "markdown",
   "id": "edd9ff08-94e2-4a4a-82b6-075fdc698a4b",
   "metadata": {},
   "source": [
    "### 4. K Nearest Neighbors in SciKit Learn"
   ]
  },
  {
   "cell_type": "markdown",
   "id": "2c5158a6-39d8-4f90-9086-222ab7bceca4",
   "metadata": {},
   "source": [
    "The Sci-Kit Learn module `neighbors` contains a kNN classifier named `KNeighborsClassifier`. "
   ]
  },
  {
   "cell_type": "markdown",
   "id": "fa53dab3-845a-45ad-9739-255a038baa3a",
   "metadata": {},
   "source": [
    "4.1 (3pts) Use the `KNeighborsClassifier` to fit a model to the `X` and `y` from the `iris` dataset you created above. Use $ k = 3 $ in your model"
   ]
  },
  {
   "cell_type": "code",
   "execution_count": 33,
   "id": "833e9eae-2a9d-4681-b0b5-33fcac3bdee5",
   "metadata": {},
   "outputs": [
    {
     "data": {
      "text/html": [
       "<style>#sk-container-id-1 {\n",
       "  /* Definition of color scheme common for light and dark mode */\n",
       "  --sklearn-color-text: #000;\n",
       "  --sklearn-color-text-muted: #666;\n",
       "  --sklearn-color-line: gray;\n",
       "  /* Definition of color scheme for unfitted estimators */\n",
       "  --sklearn-color-unfitted-level-0: #fff5e6;\n",
       "  --sklearn-color-unfitted-level-1: #f6e4d2;\n",
       "  --sklearn-color-unfitted-level-2: #ffe0b3;\n",
       "  --sklearn-color-unfitted-level-3: chocolate;\n",
       "  /* Definition of color scheme for fitted estimators */\n",
       "  --sklearn-color-fitted-level-0: #f0f8ff;\n",
       "  --sklearn-color-fitted-level-1: #d4ebff;\n",
       "  --sklearn-color-fitted-level-2: #b3dbfd;\n",
       "  --sklearn-color-fitted-level-3: cornflowerblue;\n",
       "\n",
       "  /* Specific color for light theme */\n",
       "  --sklearn-color-text-on-default-background: var(--sg-text-color, var(--theme-code-foreground, var(--jp-content-font-color1, black)));\n",
       "  --sklearn-color-background: var(--sg-background-color, var(--theme-background, var(--jp-layout-color0, white)));\n",
       "  --sklearn-color-border-box: var(--sg-text-color, var(--theme-code-foreground, var(--jp-content-font-color1, black)));\n",
       "  --sklearn-color-icon: #696969;\n",
       "\n",
       "  @media (prefers-color-scheme: dark) {\n",
       "    /* Redefinition of color scheme for dark theme */\n",
       "    --sklearn-color-text-on-default-background: var(--sg-text-color, var(--theme-code-foreground, var(--jp-content-font-color1, white)));\n",
       "    --sklearn-color-background: var(--sg-background-color, var(--theme-background, var(--jp-layout-color0, #111)));\n",
       "    --sklearn-color-border-box: var(--sg-text-color, var(--theme-code-foreground, var(--jp-content-font-color1, white)));\n",
       "    --sklearn-color-icon: #878787;\n",
       "  }\n",
       "}\n",
       "\n",
       "#sk-container-id-1 {\n",
       "  color: var(--sklearn-color-text);\n",
       "}\n",
       "\n",
       "#sk-container-id-1 pre {\n",
       "  padding: 0;\n",
       "}\n",
       "\n",
       "#sk-container-id-1 input.sk-hidden--visually {\n",
       "  border: 0;\n",
       "  clip: rect(1px 1px 1px 1px);\n",
       "  clip: rect(1px, 1px, 1px, 1px);\n",
       "  height: 1px;\n",
       "  margin: -1px;\n",
       "  overflow: hidden;\n",
       "  padding: 0;\n",
       "  position: absolute;\n",
       "  width: 1px;\n",
       "}\n",
       "\n",
       "#sk-container-id-1 div.sk-dashed-wrapped {\n",
       "  border: 1px dashed var(--sklearn-color-line);\n",
       "  margin: 0 0.4em 0.5em 0.4em;\n",
       "  box-sizing: border-box;\n",
       "  padding-bottom: 0.4em;\n",
       "  background-color: var(--sklearn-color-background);\n",
       "}\n",
       "\n",
       "#sk-container-id-1 div.sk-container {\n",
       "  /* jupyter's `normalize.less` sets `[hidden] { display: none; }`\n",
       "     but bootstrap.min.css set `[hidden] { display: none !important; }`\n",
       "     so we also need the `!important` here to be able to override the\n",
       "     default hidden behavior on the sphinx rendered scikit-learn.org.\n",
       "     See: https://github.com/scikit-learn/scikit-learn/issues/21755 */\n",
       "  display: inline-block !important;\n",
       "  position: relative;\n",
       "}\n",
       "\n",
       "#sk-container-id-1 div.sk-text-repr-fallback {\n",
       "  display: none;\n",
       "}\n",
       "\n",
       "div.sk-parallel-item,\n",
       "div.sk-serial,\n",
       "div.sk-item {\n",
       "  /* draw centered vertical line to link estimators */\n",
       "  background-image: linear-gradient(var(--sklearn-color-text-on-default-background), var(--sklearn-color-text-on-default-background));\n",
       "  background-size: 2px 100%;\n",
       "  background-repeat: no-repeat;\n",
       "  background-position: center center;\n",
       "}\n",
       "\n",
       "/* Parallel-specific style estimator block */\n",
       "\n",
       "#sk-container-id-1 div.sk-parallel-item::after {\n",
       "  content: \"\";\n",
       "  width: 100%;\n",
       "  border-bottom: 2px solid var(--sklearn-color-text-on-default-background);\n",
       "  flex-grow: 1;\n",
       "}\n",
       "\n",
       "#sk-container-id-1 div.sk-parallel {\n",
       "  display: flex;\n",
       "  align-items: stretch;\n",
       "  justify-content: center;\n",
       "  background-color: var(--sklearn-color-background);\n",
       "  position: relative;\n",
       "}\n",
       "\n",
       "#sk-container-id-1 div.sk-parallel-item {\n",
       "  display: flex;\n",
       "  flex-direction: column;\n",
       "}\n",
       "\n",
       "#sk-container-id-1 div.sk-parallel-item:first-child::after {\n",
       "  align-self: flex-end;\n",
       "  width: 50%;\n",
       "}\n",
       "\n",
       "#sk-container-id-1 div.sk-parallel-item:last-child::after {\n",
       "  align-self: flex-start;\n",
       "  width: 50%;\n",
       "}\n",
       "\n",
       "#sk-container-id-1 div.sk-parallel-item:only-child::after {\n",
       "  width: 0;\n",
       "}\n",
       "\n",
       "/* Serial-specific style estimator block */\n",
       "\n",
       "#sk-container-id-1 div.sk-serial {\n",
       "  display: flex;\n",
       "  flex-direction: column;\n",
       "  align-items: center;\n",
       "  background-color: var(--sklearn-color-background);\n",
       "  padding-right: 1em;\n",
       "  padding-left: 1em;\n",
       "}\n",
       "\n",
       "\n",
       "/* Toggleable style: style used for estimator/Pipeline/ColumnTransformer box that is\n",
       "clickable and can be expanded/collapsed.\n",
       "- Pipeline and ColumnTransformer use this feature and define the default style\n",
       "- Estimators will overwrite some part of the style using the `sk-estimator` class\n",
       "*/\n",
       "\n",
       "/* Pipeline and ColumnTransformer style (default) */\n",
       "\n",
       "#sk-container-id-1 div.sk-toggleable {\n",
       "  /* Default theme specific background. It is overwritten whether we have a\n",
       "  specific estimator or a Pipeline/ColumnTransformer */\n",
       "  background-color: var(--sklearn-color-background);\n",
       "}\n",
       "\n",
       "/* Toggleable label */\n",
       "#sk-container-id-1 label.sk-toggleable__label {\n",
       "  cursor: pointer;\n",
       "  display: flex;\n",
       "  width: 100%;\n",
       "  margin-bottom: 0;\n",
       "  padding: 0.5em;\n",
       "  box-sizing: border-box;\n",
       "  text-align: center;\n",
       "  align-items: start;\n",
       "  justify-content: space-between;\n",
       "  gap: 0.5em;\n",
       "}\n",
       "\n",
       "#sk-container-id-1 label.sk-toggleable__label .caption {\n",
       "  font-size: 0.6rem;\n",
       "  font-weight: lighter;\n",
       "  color: var(--sklearn-color-text-muted);\n",
       "}\n",
       "\n",
       "#sk-container-id-1 label.sk-toggleable__label-arrow:before {\n",
       "  /* Arrow on the left of the label */\n",
       "  content: \"▸\";\n",
       "  float: left;\n",
       "  margin-right: 0.25em;\n",
       "  color: var(--sklearn-color-icon);\n",
       "}\n",
       "\n",
       "#sk-container-id-1 label.sk-toggleable__label-arrow:hover:before {\n",
       "  color: var(--sklearn-color-text);\n",
       "}\n",
       "\n",
       "/* Toggleable content - dropdown */\n",
       "\n",
       "#sk-container-id-1 div.sk-toggleable__content {\n",
       "  max-height: 0;\n",
       "  max-width: 0;\n",
       "  overflow: hidden;\n",
       "  text-align: left;\n",
       "  /* unfitted */\n",
       "  background-color: var(--sklearn-color-unfitted-level-0);\n",
       "}\n",
       "\n",
       "#sk-container-id-1 div.sk-toggleable__content.fitted {\n",
       "  /* fitted */\n",
       "  background-color: var(--sklearn-color-fitted-level-0);\n",
       "}\n",
       "\n",
       "#sk-container-id-1 div.sk-toggleable__content pre {\n",
       "  margin: 0.2em;\n",
       "  border-radius: 0.25em;\n",
       "  color: var(--sklearn-color-text);\n",
       "  /* unfitted */\n",
       "  background-color: var(--sklearn-color-unfitted-level-0);\n",
       "}\n",
       "\n",
       "#sk-container-id-1 div.sk-toggleable__content.fitted pre {\n",
       "  /* unfitted */\n",
       "  background-color: var(--sklearn-color-fitted-level-0);\n",
       "}\n",
       "\n",
       "#sk-container-id-1 input.sk-toggleable__control:checked~div.sk-toggleable__content {\n",
       "  /* Expand drop-down */\n",
       "  max-height: 200px;\n",
       "  max-width: 100%;\n",
       "  overflow: auto;\n",
       "}\n",
       "\n",
       "#sk-container-id-1 input.sk-toggleable__control:checked~label.sk-toggleable__label-arrow:before {\n",
       "  content: \"▾\";\n",
       "}\n",
       "\n",
       "/* Pipeline/ColumnTransformer-specific style */\n",
       "\n",
       "#sk-container-id-1 div.sk-label input.sk-toggleable__control:checked~label.sk-toggleable__label {\n",
       "  color: var(--sklearn-color-text);\n",
       "  background-color: var(--sklearn-color-unfitted-level-2);\n",
       "}\n",
       "\n",
       "#sk-container-id-1 div.sk-label.fitted input.sk-toggleable__control:checked~label.sk-toggleable__label {\n",
       "  background-color: var(--sklearn-color-fitted-level-2);\n",
       "}\n",
       "\n",
       "/* Estimator-specific style */\n",
       "\n",
       "/* Colorize estimator box */\n",
       "#sk-container-id-1 div.sk-estimator input.sk-toggleable__control:checked~label.sk-toggleable__label {\n",
       "  /* unfitted */\n",
       "  background-color: var(--sklearn-color-unfitted-level-2);\n",
       "}\n",
       "\n",
       "#sk-container-id-1 div.sk-estimator.fitted input.sk-toggleable__control:checked~label.sk-toggleable__label {\n",
       "  /* fitted */\n",
       "  background-color: var(--sklearn-color-fitted-level-2);\n",
       "}\n",
       "\n",
       "#sk-container-id-1 div.sk-label label.sk-toggleable__label,\n",
       "#sk-container-id-1 div.sk-label label {\n",
       "  /* The background is the default theme color */\n",
       "  color: var(--sklearn-color-text-on-default-background);\n",
       "}\n",
       "\n",
       "/* On hover, darken the color of the background */\n",
       "#sk-container-id-1 div.sk-label:hover label.sk-toggleable__label {\n",
       "  color: var(--sklearn-color-text);\n",
       "  background-color: var(--sklearn-color-unfitted-level-2);\n",
       "}\n",
       "\n",
       "/* Label box, darken color on hover, fitted */\n",
       "#sk-container-id-1 div.sk-label.fitted:hover label.sk-toggleable__label.fitted {\n",
       "  color: var(--sklearn-color-text);\n",
       "  background-color: var(--sklearn-color-fitted-level-2);\n",
       "}\n",
       "\n",
       "/* Estimator label */\n",
       "\n",
       "#sk-container-id-1 div.sk-label label {\n",
       "  font-family: monospace;\n",
       "  font-weight: bold;\n",
       "  display: inline-block;\n",
       "  line-height: 1.2em;\n",
       "}\n",
       "\n",
       "#sk-container-id-1 div.sk-label-container {\n",
       "  text-align: center;\n",
       "}\n",
       "\n",
       "/* Estimator-specific */\n",
       "#sk-container-id-1 div.sk-estimator {\n",
       "  font-family: monospace;\n",
       "  border: 1px dotted var(--sklearn-color-border-box);\n",
       "  border-radius: 0.25em;\n",
       "  box-sizing: border-box;\n",
       "  margin-bottom: 0.5em;\n",
       "  /* unfitted */\n",
       "  background-color: var(--sklearn-color-unfitted-level-0);\n",
       "}\n",
       "\n",
       "#sk-container-id-1 div.sk-estimator.fitted {\n",
       "  /* fitted */\n",
       "  background-color: var(--sklearn-color-fitted-level-0);\n",
       "}\n",
       "\n",
       "/* on hover */\n",
       "#sk-container-id-1 div.sk-estimator:hover {\n",
       "  /* unfitted */\n",
       "  background-color: var(--sklearn-color-unfitted-level-2);\n",
       "}\n",
       "\n",
       "#sk-container-id-1 div.sk-estimator.fitted:hover {\n",
       "  /* fitted */\n",
       "  background-color: var(--sklearn-color-fitted-level-2);\n",
       "}\n",
       "\n",
       "/* Specification for estimator info (e.g. \"i\" and \"?\") */\n",
       "\n",
       "/* Common style for \"i\" and \"?\" */\n",
       "\n",
       ".sk-estimator-doc-link,\n",
       "a:link.sk-estimator-doc-link,\n",
       "a:visited.sk-estimator-doc-link {\n",
       "  float: right;\n",
       "  font-size: smaller;\n",
       "  line-height: 1em;\n",
       "  font-family: monospace;\n",
       "  background-color: var(--sklearn-color-background);\n",
       "  border-radius: 1em;\n",
       "  height: 1em;\n",
       "  width: 1em;\n",
       "  text-decoration: none !important;\n",
       "  margin-left: 0.5em;\n",
       "  text-align: center;\n",
       "  /* unfitted */\n",
       "  border: var(--sklearn-color-unfitted-level-1) 1pt solid;\n",
       "  color: var(--sklearn-color-unfitted-level-1);\n",
       "}\n",
       "\n",
       ".sk-estimator-doc-link.fitted,\n",
       "a:link.sk-estimator-doc-link.fitted,\n",
       "a:visited.sk-estimator-doc-link.fitted {\n",
       "  /* fitted */\n",
       "  border: var(--sklearn-color-fitted-level-1) 1pt solid;\n",
       "  color: var(--sklearn-color-fitted-level-1);\n",
       "}\n",
       "\n",
       "/* On hover */\n",
       "div.sk-estimator:hover .sk-estimator-doc-link:hover,\n",
       ".sk-estimator-doc-link:hover,\n",
       "div.sk-label-container:hover .sk-estimator-doc-link:hover,\n",
       ".sk-estimator-doc-link:hover {\n",
       "  /* unfitted */\n",
       "  background-color: var(--sklearn-color-unfitted-level-3);\n",
       "  color: var(--sklearn-color-background);\n",
       "  text-decoration: none;\n",
       "}\n",
       "\n",
       "div.sk-estimator.fitted:hover .sk-estimator-doc-link.fitted:hover,\n",
       ".sk-estimator-doc-link.fitted:hover,\n",
       "div.sk-label-container:hover .sk-estimator-doc-link.fitted:hover,\n",
       ".sk-estimator-doc-link.fitted:hover {\n",
       "  /* fitted */\n",
       "  background-color: var(--sklearn-color-fitted-level-3);\n",
       "  color: var(--sklearn-color-background);\n",
       "  text-decoration: none;\n",
       "}\n",
       "\n",
       "/* Span, style for the box shown on hovering the info icon */\n",
       ".sk-estimator-doc-link span {\n",
       "  display: none;\n",
       "  z-index: 9999;\n",
       "  position: relative;\n",
       "  font-weight: normal;\n",
       "  right: .2ex;\n",
       "  padding: .5ex;\n",
       "  margin: .5ex;\n",
       "  width: min-content;\n",
       "  min-width: 20ex;\n",
       "  max-width: 50ex;\n",
       "  color: var(--sklearn-color-text);\n",
       "  box-shadow: 2pt 2pt 4pt #999;\n",
       "  /* unfitted */\n",
       "  background: var(--sklearn-color-unfitted-level-0);\n",
       "  border: .5pt solid var(--sklearn-color-unfitted-level-3);\n",
       "}\n",
       "\n",
       ".sk-estimator-doc-link.fitted span {\n",
       "  /* fitted */\n",
       "  background: var(--sklearn-color-fitted-level-0);\n",
       "  border: var(--sklearn-color-fitted-level-3);\n",
       "}\n",
       "\n",
       ".sk-estimator-doc-link:hover span {\n",
       "  display: block;\n",
       "}\n",
       "\n",
       "/* \"?\"-specific style due to the `<a>` HTML tag */\n",
       "\n",
       "#sk-container-id-1 a.estimator_doc_link {\n",
       "  float: right;\n",
       "  font-size: 1rem;\n",
       "  line-height: 1em;\n",
       "  font-family: monospace;\n",
       "  background-color: var(--sklearn-color-background);\n",
       "  border-radius: 1rem;\n",
       "  height: 1rem;\n",
       "  width: 1rem;\n",
       "  text-decoration: none;\n",
       "  /* unfitted */\n",
       "  color: var(--sklearn-color-unfitted-level-1);\n",
       "  border: var(--sklearn-color-unfitted-level-1) 1pt solid;\n",
       "}\n",
       "\n",
       "#sk-container-id-1 a.estimator_doc_link.fitted {\n",
       "  /* fitted */\n",
       "  border: var(--sklearn-color-fitted-level-1) 1pt solid;\n",
       "  color: var(--sklearn-color-fitted-level-1);\n",
       "}\n",
       "\n",
       "/* On hover */\n",
       "#sk-container-id-1 a.estimator_doc_link:hover {\n",
       "  /* unfitted */\n",
       "  background-color: var(--sklearn-color-unfitted-level-3);\n",
       "  color: var(--sklearn-color-background);\n",
       "  text-decoration: none;\n",
       "}\n",
       "\n",
       "#sk-container-id-1 a.estimator_doc_link.fitted:hover {\n",
       "  /* fitted */\n",
       "  background-color: var(--sklearn-color-fitted-level-3);\n",
       "}\n",
       "</style><div id=\"sk-container-id-1\" class=\"sk-top-container\"><div class=\"sk-text-repr-fallback\"><pre>KNeighborsClassifier(n_neighbors=3)</pre><b>In a Jupyter environment, please rerun this cell to show the HTML representation or trust the notebook. <br />On GitHub, the HTML representation is unable to render, please try loading this page with nbviewer.org.</b></div><div class=\"sk-container\" hidden><div class=\"sk-item\"><div class=\"sk-estimator fitted sk-toggleable\"><input class=\"sk-toggleable__control sk-hidden--visually\" id=\"sk-estimator-id-1\" type=\"checkbox\" checked><label for=\"sk-estimator-id-1\" class=\"sk-toggleable__label fitted sk-toggleable__label-arrow\"><div><div>KNeighborsClassifier</div></div><div><a class=\"sk-estimator-doc-link fitted\" rel=\"noreferrer\" target=\"_blank\" href=\"https://scikit-learn.org/1.6/modules/generated/sklearn.neighbors.KNeighborsClassifier.html\">?<span>Documentation for KNeighborsClassifier</span></a><span class=\"sk-estimator-doc-link fitted\">i<span>Fitted</span></span></div></label><div class=\"sk-toggleable__content fitted\"><pre>KNeighborsClassifier(n_neighbors=3)</pre></div> </div></div></div></div>"
      ],
      "text/plain": [
       "KNeighborsClassifier(n_neighbors=3)"
      ]
     },
     "execution_count": 33,
     "metadata": {},
     "output_type": "execute_result"
    }
   ],
   "source": [
    "from sklearn.neighbors import KNeighborsClassifier\n",
    "classy_kNN = KNeighborsClassifier(3)\n",
    "classy_kNN.fit(X,y)"
   ]
  },
  {
   "cell_type": "markdown",
   "id": "ae4f5f9e-557d-4394-94cc-b69d48ddce04",
   "metadata": {},
   "source": [
    "4.2 (2pts) Use your model to predict the class of each flower in the `flowers` dataframe you loaded above."
   ]
  },
  {
   "cell_type": "code",
   "execution_count": 34,
   "id": "18d4ae28-30de-4ce7-8f65-a8f0b1ed6b51",
   "metadata": {},
   "outputs": [
    {
     "data": {
      "text/plain": [
       "array(['versicolor', 'virginica', 'setosa'], dtype=object)"
      ]
     },
     "execution_count": 34,
     "metadata": {},
     "output_type": "execute_result"
    }
   ],
   "source": [
    "predict_species = classy_kNN.predict(flowers)\n",
    "predict_species"
   ]
  },
  {
   "cell_type": "markdown",
   "id": "bdecf50a-f14d-469c-83fe-bf61c4fa3b86",
   "metadata": {},
   "source": [
    "---"
   ]
  },
  {
   "cell_type": "markdown",
   "id": "358f3ed4-97d9-4d03-b481-e9f4a85e429b",
   "metadata": {},
   "source": [
    "### Submission Instructions\n",
    "\n",
    "Be sure to ***SAVE YOUR WORK***!  \n",
    "\n",
    "Next, select Kernel -> Restart Kernel and Run All Cells...\n",
    "\n",
    "Make sure there are no errors.\n",
    "\n",
    "Then select File->Save and Export Notebook as->HTML and submit your HTML file to Canvas."
   ]
  }
 ],
 "metadata": {
  "kernelspec": {
   "display_name": "Python 3 (ipykernel)",
   "language": "python",
   "name": "python3"
  },
  "language_info": {
   "codemirror_mode": {
    "name": "ipython",
    "version": 3
   },
   "file_extension": ".py",
   "mimetype": "text/x-python",
   "name": "python",
   "nbconvert_exporter": "python",
   "pygments_lexer": "ipython3",
   "version": "3.12.5"
  }
 },
 "nbformat": 4,
 "nbformat_minor": 5
}
