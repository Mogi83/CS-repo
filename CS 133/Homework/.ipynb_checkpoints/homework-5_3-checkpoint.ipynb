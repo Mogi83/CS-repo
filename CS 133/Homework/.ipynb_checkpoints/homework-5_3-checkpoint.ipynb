{
 "cells": [
  {
   "cell_type": "markdown",
   "id": "50fd10e8-22c3-4da5-ade2-b50da1781fc6",
   "metadata": {},
   "source": [
    "# Homework 5 - Visualization, Analysis, and Outliers\n",
    "CS 133  \n",
    "Spring 2025  \n",
    "v1.1\n",
    "\n",
    "---"
   ]
  },
  {
   "cell_type": "markdown",
   "id": "3835432b-3715-4a81-b37b-b168736918aa",
   "metadata": {},
   "source": [
    "## 1. Visualization Best Practices"
   ]
  },
  {
   "cell_type": "markdown",
   "id": "d7ecbe14-db7a-47d4-84a9-280b2d47e6a9",
   "metadata": {},
   "source": [
    "1.1 (10pts) We have looked at many of the best practices for creating visualizations of data. Search the web for an example of a visualization (e.g. chart, graph, etc.) that breaks one or more of the rules we discussed. Copy the chart into your notebook in the cell below. (Usually you can use copy/paste but if that doesn't work use the markdown syntax `![title](filename)`)"
   ]
  },
  {
   "attachments": {},
   "cell_type": "markdown",
   "id": "4ad314ba-9389-41b7-8442-0e05e333e51e",
   "metadata": {},
   "source": []
  },
  {
   "cell_type": "markdown",
   "id": "4d04a3cb-9881-497d-bad6-f12b300278bb",
   "metadata": {},
   "source": [
    "1.1 (5 pts) What story is the chart attempting to tell?"
   ]
  },
  {
   "cell_type": "markdown",
   "id": "51d48a8b-a7ca-4132-b37e-e64f9fca9956",
   "metadata": {
    "scrolled": true
   },
   "source": []
  },
  {
   "cell_type": "markdown",
   "id": "b028084b-f590-43f4-8a12-5355742a0dc0",
   "metadata": {},
   "source": [
    "1.2 (10 pts) Analyze the chart for best practices (both good and bad) and explain how it might have been improved"
   ]
  },
  {
   "cell_type": "markdown",
   "id": "bfed4d67-1fba-4c83-85f2-65601d326c79",
   "metadata": {},
   "source": []
  },
  {
   "cell_type": "markdown",
   "id": "5e9443e8-e71a-4420-a5cb-8d6ef2124ca6",
   "metadata": {},
   "source": [
    "## 2. Exploratory Analysis"
   ]
  },
  {
   "cell_type": "markdown",
   "id": "314d19ba-d1cc-4d81-b519-e1ee42c4710b",
   "metadata": {},
   "source": [
    "Using the provided dataset, demonstrate how to perform exploratory analysis for each of the three steps given in the prompts below. You may add as many code and text cells as needed."
   ]
  },
  {
   "cell_type": "markdown",
   "id": "590eecdf-51fe-4cb8-b42f-0cfc351380bf",
   "metadata": {},
   "source": [
    "2.1 (5pts) Understand the dataset"
   ]
  },
  {
   "cell_type": "code",
   "execution_count": null,
   "id": "8542cd39-7c5f-4059-8967-96ca9eb317ca",
   "metadata": {},
   "outputs": [],
   "source": []
  },
  {
   "cell_type": "markdown",
   "id": "ebdb7537-3eaf-4a56-997d-17d2bba95ed8",
   "metadata": {},
   "source": [
    "2.2 (5pts) Identify relationships between features"
   ]
  },
  {
   "cell_type": "code",
   "execution_count": null,
   "id": "4adefc92-74c2-40e5-ad3b-43a5d16bccce",
   "metadata": {},
   "outputs": [],
   "source": []
  },
  {
   "cell_type": "markdown",
   "id": "46baa1e8-e0d0-49d0-92cf-94d3a58e8a9d",
   "metadata": {},
   "source": [
    "2.3 (5pts) Describe the shape of the data "
   ]
  },
  {
   "cell_type": "code",
   "execution_count": null,
   "id": "6ad554ed-e873-4fe3-ac54-7e28df0b502c",
   "metadata": {},
   "outputs": [],
   "source": []
  },
  {
   "cell_type": "markdown",
   "id": "133bd8b1-60bd-4613-887a-3d1407c8a91c",
   "metadata": {},
   "source": [
    "### 3. Outlier Detection and Missing Data"
   ]
  },
  {
   "cell_type": "markdown",
   "id": "2a7d6208-e451-4149-9b04-c117b6e26033",
   "metadata": {},
   "source": [
    "3.1 (5pts) Calculate the Z-scores for one of the food columns. List all the rows that have a Z-score greater than 3."
   ]
  },
  {
   "cell_type": "code",
   "execution_count": null,
   "id": "18df5c5a-f6a7-495a-beb9-67920958fefd",
   "metadata": {},
   "outputs": [],
   "source": []
  },
  {
   "cell_type": "markdown",
   "id": "488dbce4-b7a4-4af1-9f1e-2f409c26a79c",
   "metadata": {},
   "source": [
    "3.2 (5pts) Calculate the Tukey Fence for one of the food columns and use it to list all the rows that fall outside it."
   ]
  },
  {
   "cell_type": "code",
   "execution_count": null,
   "id": "3fb1b077-faee-4d7c-9483-5cef4460859d",
   "metadata": {},
   "outputs": [],
   "source": []
  },
  {
   "cell_type": "markdown",
   "id": "e78232a2-7de5-45ba-948c-558499fc1ab3",
   "metadata": {},
   "source": [
    "3.3 (2pts) What type of errors do you think caused the outliers? Explain your answer."
   ]
  },
  {
   "cell_type": "markdown",
   "id": "ddedf20e-644c-41e2-94eb-ba335f3fd56a",
   "metadata": {},
   "source": []
  },
  {
   "cell_type": "markdown",
   "id": "bdecf50a-f14d-469c-83fe-bf61c4fa3b86",
   "metadata": {},
   "source": [
    "---"
   ]
  },
  {
   "cell_type": "markdown",
   "id": "358f3ed4-97d9-4d03-b481-e9f4a85e429b",
   "metadata": {},
   "source": [
    "### Submission Instructions\n",
    "\n",
    "Be sure to ***SAVE YOUR WORK***!  \n",
    "\n",
    "Next, select Kernel -> Restart Kernel and Run All Cells...\n",
    "\n",
    "Make sure there are no errors.\n",
    "\n",
    "Then select File->Save and Export Notebook as->HTML and submit your HTML file to Canvas."
   ]
  }
 ],
 "metadata": {
  "kernelspec": {
   "display_name": "Python 3 (ipykernel)",
   "language": "python",
   "name": "python3"
  },
  "language_info": {
   "codemirror_mode": {
    "name": "ipython",
    "version": 3
   },
   "file_extension": ".py",
   "mimetype": "text/x-python",
   "name": "python",
   "nbconvert_exporter": "python",
   "pygments_lexer": "ipython3",
   "version": "3.12.5"
  }
 },
 "nbformat": 4,
 "nbformat_minor": 5
}
