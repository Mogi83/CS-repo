{
 "cells": [
  {
   "cell_type": "markdown",
   "id": "50fd10e8-22c3-4da5-ade2-b50da1781fc6",
   "metadata": {},
   "source": [
    "# Homework 6 - Simple Linear Regression\n",
    "CS 133  \n",
    "Dr. Henderson  \n",
    "Spring 2025  \n",
    "v1\n",
    "\n",
    "---"
   ]
  },
  {
   "cell_type": "markdown",
   "id": "5cddf2e4-ab4c-44ff-91db-cef26eca04f4",
   "metadata": {},
   "source": [
    "Add your imports here. You will need Pandas and Seaborn"
   ]
  },
  {
   "cell_type": "code",
   "execution_count": 1,
   "id": "283df58d-832f-465c-819d-d0a50a163177",
   "metadata": {},
   "outputs": [],
   "source": [
    "import pandas as pd\n",
    "import seaborn as sns"
   ]
  },
  {
   "cell_type": "markdown",
   "id": "3835432b-3715-4a81-b37b-b168736918aa",
   "metadata": {},
   "source": [
    "## 1. Estimating Correlation"
   ]
  },
  {
   "cell_type": "markdown",
   "id": "d7ecbe14-db7a-47d4-84a9-280b2d47e6a9",
   "metadata": {},
   "source": [
    "1.1 (1pts) Using Seaborn, load the `anscombe` dataset assign it a variable name. Use the Pandas `info()` method to get familiar with the data."
   ]
  },
  {
   "cell_type": "code",
   "execution_count": 2,
   "id": "ae029cb2-199d-42a3-ab40-d0f8305b3ed1",
   "metadata": {},
   "outputs": [
    {
     "name": "stdout",
     "output_type": "stream",
     "text": [
      "<class 'pandas.core.frame.DataFrame'>\n",
      "RangeIndex: 44 entries, 0 to 43\n",
      "Data columns (total 3 columns):\n",
      " #   Column   Non-Null Count  Dtype  \n",
      "---  ------   --------------  -----  \n",
      " 0   dataset  44 non-null     object \n",
      " 1   x        44 non-null     float64\n",
      " 2   y        44 non-null     float64\n",
      "dtypes: float64(2), object(1)\n",
      "memory usage: 1.2+ KB\n"
     ]
    },
    {
     "data": {
      "text/html": [
       "<div>\n",
       "<style scoped>\n",
       "    .dataframe tbody tr th:only-of-type {\n",
       "        vertical-align: middle;\n",
       "    }\n",
       "\n",
       "    .dataframe tbody tr th {\n",
       "        vertical-align: top;\n",
       "    }\n",
       "\n",
       "    .dataframe thead th {\n",
       "        text-align: right;\n",
       "    }\n",
       "</style>\n",
       "<table border=\"1\" class=\"dataframe\">\n",
       "  <thead>\n",
       "    <tr style=\"text-align: right;\">\n",
       "      <th></th>\n",
       "      <th>x</th>\n",
       "      <th>y</th>\n",
       "    </tr>\n",
       "  </thead>\n",
       "  <tbody>\n",
       "    <tr>\n",
       "      <th>count</th>\n",
       "      <td>44.000000</td>\n",
       "      <td>44.000000</td>\n",
       "    </tr>\n",
       "    <tr>\n",
       "      <th>mean</th>\n",
       "      <td>9.000000</td>\n",
       "      <td>7.500682</td>\n",
       "    </tr>\n",
       "    <tr>\n",
       "      <th>std</th>\n",
       "      <td>3.198837</td>\n",
       "      <td>1.958925</td>\n",
       "    </tr>\n",
       "    <tr>\n",
       "      <th>min</th>\n",
       "      <td>4.000000</td>\n",
       "      <td>3.100000</td>\n",
       "    </tr>\n",
       "    <tr>\n",
       "      <th>25%</th>\n",
       "      <td>7.000000</td>\n",
       "      <td>6.117500</td>\n",
       "    </tr>\n",
       "    <tr>\n",
       "      <th>50%</th>\n",
       "      <td>8.000000</td>\n",
       "      <td>7.520000</td>\n",
       "    </tr>\n",
       "    <tr>\n",
       "      <th>75%</th>\n",
       "      <td>11.000000</td>\n",
       "      <td>8.747500</td>\n",
       "    </tr>\n",
       "    <tr>\n",
       "      <th>max</th>\n",
       "      <td>19.000000</td>\n",
       "      <td>12.740000</td>\n",
       "    </tr>\n",
       "  </tbody>\n",
       "</table>\n",
       "</div>"
      ],
      "text/plain": [
       "               x          y\n",
       "count  44.000000  44.000000\n",
       "mean    9.000000   7.500682\n",
       "std     3.198837   1.958925\n",
       "min     4.000000   3.100000\n",
       "25%     7.000000   6.117500\n",
       "50%     8.000000   7.520000\n",
       "75%    11.000000   8.747500\n",
       "max    19.000000  12.740000"
      ]
     },
     "execution_count": 2,
     "metadata": {},
     "output_type": "execute_result"
    }
   ],
   "source": [
    "df = sns.load_dataset('anscombe')\n",
    "df.info()\n",
    "df.describe()"
   ]
  },
  {
   "cell_type": "markdown",
   "id": "4d04a3cb-9881-497d-bad6-f12b300278bb",
   "metadata": {},
   "source": [
    "1.2 (2 pts) Use the Seaborn `pairplot()` method to observe the scatterplot of the x and y variables."
   ]
  },
  {
   "cell_type": "code",
   "execution_count": 3,
   "id": "da73032d-3572-4d98-8102-a0bd41acb081",
   "metadata": {},
   "outputs": [
    {
     "data": {
      "text/plain": [
       "<seaborn.axisgrid.PairGrid at 0x19787f46ba0>"
      ]
     },
     "execution_count": 3,
     "metadata": {},
     "output_type": "execute_result"
    },
    {
     "data": {
      "image/png": "[encoded data removed]",
      "text/plain": [
       "<Figure size 500x500 with 6 Axes>"
      ]
     },
     "metadata": {},
     "output_type": "display_data"
    }
   ],
   "source": [
    "sns.pairplot(df)"
   ]
  },
  {
   "cell_type": "markdown",
   "id": "b028084b-f590-43f4-8a12-5355742a0dc0",
   "metadata": {},
   "source": [
    "1.3 (3 pts) Estimate (do not calculate) the value of the correlation coefficient and classify the type of the correlation."
   ]
  },
  {
   "cell_type": "markdown",
   "id": "bfed4d67-1fba-4c83-85f2-65601d326c79",
   "metadata": {},
   "source": [
    "Observing the scatterplot of $\\mathcal{x}$ and $\\mathcal{y}$ I see a strong positive linear correlation that I would estimate the value of $\\mathcal{r}$ to be:\n",
    "\n",
    "$$\\approx [ 0.75 \\leq {r} \\leq 0.85 ] $$\n",
    "\n",
    "Due to how tighly packed together our points are and a slight amount of variability between the data points."
   ]
  },
  {
   "cell_type": "markdown",
   "id": "72cb3d25-fadd-4153-a884-68dce4ad2439",
   "metadata": {},
   "source": [
    "## 2. Calculating Correlation"
   ]
  },
  {
   "cell_type": "markdown",
   "id": "e79636b2-7763-4295-b651-e509da9d4cde",
   "metadata": {},
   "source": [
    "The correlation coefficient $ r $ can be calculated using the formula:\n",
    "\n",
    "$$ r = \\frac{1}{n - 1} \\sum_n{ \\frac{(x_n - \\bar{x})}{ \\sigma_x } \\frac{ (y_n - \\bar{y}) }{ \\sigma_y } } $$\n",
    "\n",
    "where:\n",
    "\n",
    "$ n $ = number of samples in the dataset  \n",
    "$ \\bar{x} $ = mean of feature $ x $  \n",
    "$ \\sigma_x $ = standard deviation of feature $ x $  \n"
   ]
  },
  {
   "cell_type": "markdown",
   "id": "590eecdf-51fe-4cb8-b42f-0cfc351380bf",
   "metadata": {},
   "source": [
    "2.1 (8pts) Create a Python function that takes two Pandas series and returns the correlation coefficient. Try to avoid using Python `for` loops and use the intrinsic Pandas iteration instead."
   ]
  },
  {
   "cell_type": "code",
   "execution_count": 4,
   "id": "8542cd39-7c5f-4059-8967-96ca9eb317ca",
   "metadata": {},
   "outputs": [],
   "source": [
    "def Coef_Calc(series1: pd.Series, series2: pd.Series):\n",
    "    \n",
    "    n = series1.count()\n",
    "    \n",
    "    xbar1 = series1.mean()\n",
    "    xbar2 = series2.mean()\n",
    "    \n",
    "    sigma1 = series1.std()\n",
    "    sigma2 = series2.std()\n",
    "\n",
    "    z1 = ((series1 - xbar1) / sigma1)\n",
    "    z2 = ((series2 - xbar2) / sigma2)\n",
    "\n",
    "    r = ((z1 * z2).sum() / (n - 1) )\n",
    "    \n",
    "    return r"
   ]
  },
  {
   "cell_type": "markdown",
   "id": "9428354f-7496-401b-90be-af7bc75ab638",
   "metadata": {},
   "source": [
    "2.2 (2pts) Call your function with the features `x` and `y` from the dataset you loaded above."
   ]
  },
  {
   "cell_type": "code",
   "execution_count": 5,
   "id": "45650569-d312-40f2-8f70-9192be900cf4",
   "metadata": {},
   "outputs": [
    {
     "data": {
      "text/plain": [
       "np.float64(0.81636624276147)"
      ]
     },
     "execution_count": 5,
     "metadata": {},
     "output_type": "execute_result"
    }
   ],
   "source": [
    "x = df.x\n",
    "y = df.y\n",
    "Coef_Calc(x, y)"
   ]
  },
  {
   "cell_type": "markdown",
   "id": "15bdc96b-030c-4235-92cb-ef94734d31b1",
   "metadata": {},
   "source": [
    "2.3 (3pts) Use the Pandas `corr()` method to calculate correlation coefficient of `x` and `y` and verify your value matches "
   ]
  },
  {
   "cell_type": "code",
   "execution_count": 6,
   "id": "36b13732-9728-4bd0-b853-99d293b50456",
   "metadata": {},
   "outputs": [
    {
     "data": {
      "text/plain": [
       "np.float64(0.81636624276147)"
      ]
     },
     "execution_count": 6,
     "metadata": {},
     "output_type": "execute_result"
    }
   ],
   "source": [
    "x.corr(y)"
   ]
  },
  {
   "cell_type": "markdown",
   "id": "6682d30e-b31c-4bb4-a65f-90cb5c653e3d",
   "metadata": {},
   "source": [
    "2.4 (1pts) Compare the calculated value with your estimate in 1.2. How would you classify the type of correlation now?"
   ]
  },
  {
   "cell_type": "markdown",
   "id": "46db3986-d8ea-4219-bc27-9277cf862e73",
   "metadata": {},
   "source": [
    "I would classify it hte same, still a strong positive linear correlation between x and y."
   ]
  },
  {
   "cell_type": "markdown",
   "id": "93958190-8893-4225-9c3e-86f1a290d314",
   "metadata": {},
   "source": [
    "### 3. Proportion of Variation Explained"
   ]
  },
  {
   "cell_type": "markdown",
   "id": "e751b0b0-3d63-46dc-9619-181edfd0dce1",
   "metadata": {},
   "source": [
    "The PVE quantifies the improvement in accuracy of a linear model over the baseline (a model that always returns the mean). The PVE is calculated using the following equation:\n",
    "\n",
    "$$ PVE = \\frac{ SSE(\\bar{y}) - SSE(model) }{SSE(\\bar{y})} $$\n",
    "\n",
    "Where $ SSE $ is the sum of the squared errors produced by a model"
   ]
  },
  {
   "cell_type": "markdown",
   "id": "561a36b3-fe09-46ef-91a1-0faf38d6b9a8",
   "metadata": {},
   "source": [
    "3.1 (7pts) Create a Python function to calculate the sum of squared errors given a Pandas series $ x $ of the input feature, $ y $ of the output, and the linear model parameters $ m $ and $ b $ in the equation $ y = mx + b $."
   ]
  },
  {
   "cell_type": "code",
   "execution_count": 7,
   "id": "4adefc92-74c2-40e5-ad3b-43a5d16bccce",
   "metadata": {},
   "outputs": [],
   "source": [
    "def SSE (x_input, y_output, model_slope, model_yint):\n",
    "    \n",
    "    y_hat = model_slope * x_input + model_yint\n",
    "    \n",
    "    sqerror = (y_output - y_hat) ** 2\n",
    "\n",
    "    sse = sqerror.sum()\n",
    "\n",
    "    return sse"
   ]
  },
  {
   "cell_type": "markdown",
   "id": "20247301-6610-407c-b8f1-1406da48946d",
   "metadata": {},
   "source": [
    "3.2 (3pts) Use your function to calculate the SSE of the baseline $ \\bar{y} $ of the anscombe dataset by setting $ m = 0 $ and $ b = \\bar{y} $"
   ]
  },
  {
   "cell_type": "code",
   "execution_count": 8,
   "id": "782742e0-7796-4b50-bf44-a19b3fb148ef",
   "metadata": {
    "scrolled": true
   },
   "outputs": [
    {
     "data": {
      "text/plain": [
       "np.float64(165.00767954545455)"
      ]
     },
     "execution_count": 8,
     "metadata": {},
     "output_type": "execute_result"
    }
   ],
   "source": [
    "y_bar = y.mean()\n",
    "SSE(x, y, 0, y_bar)"
   ]
  },
  {
   "cell_type": "markdown",
   "id": "8fdb5cad-0cc7-4e40-88d6-813a410d417b",
   "metadata": {},
   "source": [
    "3.3 (2pts) Based on your experiments of the correlation between $ x $ and $ y $ above, make a guess for $ m $ and $ b $ and call your function to calculate the SSE. Adjust your guesses until they have a lower SSE than the baseline you calculated above. (Include all your iterations in your notebook cell)"
   ]
  },
  {
   "cell_type": "code",
   "execution_count": 9,
   "id": "0dddbf79-d0dd-4ad7-81d0-1cbb89bd6ab7",
   "metadata": {},
   "outputs": [
    {
     "name": "stdout",
     "output_type": "stream",
     "text": [
      "165.00767954545455\n",
      "7.500681818181818 \n",
      "\n",
      "3729.067679545454\n",
      "15301.127679545452\n",
      "34881.18767954545\n",
      "62469.24767954546 \n",
      "\n",
      "165.00767954545455\n",
      "946.0376795454542\n",
      "3729.067679545454 \n",
      "\n",
      "209.00767954545464\n",
      "594.0376795454544\n",
      "2981.067679545454 \n",
      "\n",
      "330.03767954545447\n",
      "154.03767954545444\n",
      "66.03767954545452\n",
      "66.03767954545458 \n",
      "\n",
      "57.78767954545454\n",
      "55.037679545454544\n",
      "57.787679545454566\n"
     ]
    }
   ],
   "source": [
    "#baseline SSE 165.01 for slope of 0 and ybar as intercept, making as small as possible\n",
    "print(SSE(x, y, 0, y_bar))\n",
    "print(y_bar, \"\\n\")\n",
    "\n",
    "#trying 1,2,3,4\n",
    "print(SSE(x, y, 1, y_bar))\n",
    "print(SSE(x, y, 2, y_bar))\n",
    "print(SSE(x, y, 3, y_bar))\n",
    "print(SSE(x, y, 4, y_bar), \"\\n\")\n",
    "#alright a bigger slope than 1 is terrible turns out trying .5 inrcements\n",
    "print(SSE(x, y, 0, y_bar)) #baseline\n",
    "print(SSE(x, y, 0.5, y_bar))\n",
    "print(SSE(x, y, 1, y_bar), \"\\n\")\n",
    "#that was worse changing y_bar\n",
    "print(SSE(x, y, 0, y_bar-1))\n",
    "print(SSE(x, y, 0.5, y_bar-1))\n",
    "print(SSE(x, y, 1, y_bar-1), \"\\n\")\n",
    "#even worse guessing is not a functional way of doing this, 0.5, y_bar - 1 was a step in the right direction trying y_bar - 2,3,4 5\n",
    "print(SSE(x, y, 0.5, y_bar-2))\n",
    "print(SSE(x, y, 0.5, y_bar-3)) # new lowest\n",
    "print(SSE(x, y, 0.5, y_bar-4)) # even better\n",
    "print(SSE(x, y, 0.5, y_bar-5), \"\\n\") #the same nearly\n",
    "#interesting, -4 and -5 are the super similar so maybe 4.5 is optimal?\n",
    "print(SSE(x, y, 0.5, y_bar-4.25))\n",
    "print(SSE(x, y, 0.5, y_bar-4.5))\n",
    "print(SSE(x, y, 0.5, y_bar-4.75))\n",
    "#yep ~0.5, 3 is lowest"
   ]
  },
  {
   "cell_type": "markdown",
   "id": "f39d5f08-aa53-4138-bc3a-dbd291e8749b",
   "metadata": {},
   "source": [
    "3.4 (2pts) Calculate the PVE of your best guessed model"
   ]
  },
  {
   "cell_type": "code",
   "execution_count": 10,
   "id": "f33e4b18-479c-4d4c-ace6-0001fb0bd4b5",
   "metadata": {},
   "outputs": [
    {
     "name": "stdout",
     "output_type": "stream",
     "text": [
      "0.6664444579116418\n"
     ]
    }
   ],
   "source": [
    "PVE = (165.01 - 55.04)/(165.01)\n",
    "print(PVE)"
   ]
  },
  {
   "cell_type": "markdown",
   "id": "cfcab430-9d03-49ac-a853-444735ab8715",
   "metadata": {},
   "source": [
    "### 4. Calculating the best model (least squares regression)"
   ]
  },
  {
   "cell_type": "markdown",
   "id": "55325fbf-3d9c-4cfb-b2e5-ea1a89a1e0fe",
   "metadata": {},
   "source": [
    "The correlation coefficient $ r $ can be used to calculate the optimal values for $ m $ and $ b $ directly using:\n",
    "\n",
    "$$ m = r \\frac{ \\sigma_y }{ \\sigma_x } $$\n",
    "$$ b = \\bar{y} - m \\bar{x} $$"
   ]
  },
  {
   "cell_type": "markdown",
   "id": "47957e24-4cdb-427c-a052-753ecb8c81e5",
   "metadata": {},
   "source": [
    "4.1 (4pts) Use the value of $ r $ you found in 2.2 above for the anscombe dataset to calculate the optimal values of $ m $ and $ b $. Be sure to state the values after you calculate them."
   ]
  },
  {
   "cell_type": "code",
   "execution_count": 11,
   "id": "9569892d-0065-4fee-9787-11108fde1d90",
   "metadata": {},
   "outputs": [
    {
     "name": "stdout",
     "output_type": "stream",
     "text": [
      "0.4999318181818181\n",
      "3.0012954545454544\n"
     ]
    }
   ],
   "source": [
    "r = 0.81636624276147\n",
    "m = r * (y.std()/x.std())\n",
    "print(m)\n",
    "b = y_bar - m * (x.mean())\n",
    "print(b)"
   ]
  },
  {
   "cell_type": "markdown",
   "id": "46baa1e8-e0d0-49d0-92cf-94d3a58e8a9d",
   "metadata": {},
   "source": [
    "4.2 (1pts) Calculate the SSE of the model with the values for $ m $ and $ b $ that you calculated above using your SSE function from 3.1."
   ]
  },
  {
   "cell_type": "code",
   "execution_count": 12,
   "id": "0e496089-5ed1-4413-8440-e7a3afc0178a",
   "metadata": {},
   "outputs": [
    {
     "name": "stdout",
     "output_type": "stream",
     "text": [
      "55.037677500000015\n",
      "0.6664383181818181\n"
     ]
    }
   ],
   "source": [
    "u = SSE(x, y, 0.4999318181818181, 3.0012954545454544)\n",
    "print(u)\n",
    "PVE = (165 - u)/165 \n",
    "print(PVE) #Guessed well :)"
   ]
  },
  {
   "cell_type": "markdown",
   "id": "0da7ee25-aedb-467a-8bd9-51cc2bc06639",
   "metadata": {},
   "source": [
    "### 5. Linear regression in SciKit Learn"
   ]
  },
  {
   "cell_type": "markdown",
   "id": "342dbc75-9a6b-4b76-9055-70e335f51db6",
   "metadata": {},
   "source": [
    "The Machine Learning library `scikit-learn` makes linear regression simple. If you have not yet installed the library open a **Terminal** (do not do this in your notebook) and type the following:  \n",
    "\n",
    "`pip install scikit-learn`  \n",
    "\n",
    "Scikit Learn is referenced in your code as the module `sklearn`. It contains many submodules of ML algorithms. The `LinearRegression` class is used for linear regression and is available from the `linear_model` submodule of `sklearn`.\n",
    "\n",
    "```from sklearn.linear_model import LinearRegression```"
   ]
  },
  {
   "cell_type": "markdown",
   "id": "eff77bb8-c17b-4ddc-9397-04bfb4c13699",
   "metadata": {},
   "source": [
    "5.1 (1pts) Import the LinearRegression class and create an instance with an assigned variable name"
   ]
  },
  {
   "cell_type": "code",
   "execution_count": 13,
   "id": "6ad554ed-e873-4fe3-ac54-7e28df0b502c",
   "metadata": {},
   "outputs": [],
   "source": [
    "from sklearn.linear_model import LinearRegression\n",
    "lr = LinearRegression()"
   ]
  },
  {
   "cell_type": "markdown",
   "id": "cbef7d24-da0f-4e6e-9848-65327c2e89d1",
   "metadata": {},
   "source": [
    "5.2 (3pts) The `sklearn` ML algorithms work with Pandas dataframes for their sample vector parameter (typically denoted as capital `X`). This means you cannot pass a Pandas Series object as the first parameter (although a Series is fine for the values parameter (typically denoted `y`).  \n",
    "\n",
    "Create a samples vector for the anscombe dataset by using the Pandas `drop()` method to drop the `y` and `dataset` feature columns. Assign the variable name `X` to the result."
   ]
  },
  {
   "cell_type": "code",
   "execution_count": 15,
   "id": "5d636650-b81c-453f-9cd6-ccb0d114096a",
   "metadata": {},
   "outputs": [],
   "source": [
    "X = df.drop([\"y\", \"dataset\"], axis =1)\n",
    "y = df.y"
   ]
  },
  {
   "cell_type": "markdown",
   "id": "c9119430-1872-4fec-beb7-6b0e7641b468",
   "metadata": {},
   "source": [
    "5.3 (3pts) The `fit()` method is used to perform the least squares regression on your `LinearRegression()` instance (from 5.1). Call the `fit()` method on your instance and pass the `X` dataframe you created above as the first argument and the `y` column of the you anscombe dataframe as the second argument."
   ]
  },
  {
   "cell_type": "code",
   "execution_count": 19,
   "id": "20709c0a-5f64-41af-a95b-4ec6e8a3e48f",
   "metadata": {},
   "outputs": [
    {
     "data": {
      "text/html": [
       "<style>#sk-container-id-2 {\n",
       "  /* Definition of color scheme common for light and dark mode */\n",
       "  --sklearn-color-text: #000;\n",
       "  --sklearn-color-text-muted: #666;\n",
       "  --sklearn-color-line: gray;\n",
       "  /* Definition of color scheme for unfitted estimators */\n",
       "  --sklearn-color-unfitted-level-0: #fff5e6;\n",
       "  --sklearn-color-unfitted-level-1: #f6e4d2;\n",
       "  --sklearn-color-unfitted-level-2: #ffe0b3;\n",
       "  --sklearn-color-unfitted-level-3: chocolate;\n",
       "  /* Definition of color scheme for fitted estimators */\n",
       "  --sklearn-color-fitted-level-0: #f0f8ff;\n",
       "  --sklearn-color-fitted-level-1: #d4ebff;\n",
       "  --sklearn-color-fitted-level-2: #b3dbfd;\n",
       "  --sklearn-color-fitted-level-3: cornflowerblue;\n",
       "\n",
       "  /* Specific color for light theme */\n",
       "  --sklearn-color-text-on-default-background: var(--sg-text-color, var(--theme-code-foreground, var(--jp-content-font-color1, black)));\n",
       "  --sklearn-color-background: var(--sg-background-color, var(--theme-background, var(--jp-layout-color0, white)));\n",
       "  --sklearn-color-border-box: var(--sg-text-color, var(--theme-code-foreground, var(--jp-content-font-color1, black)));\n",
       "  --sklearn-color-icon: #696969;\n",
       "\n",
       "  @media (prefers-color-scheme: dark) {\n",
       "    /* Redefinition of color scheme for dark theme */\n",
       "    --sklearn-color-text-on-default-background: var(--sg-text-color, var(--theme-code-foreground, var(--jp-content-font-color1, white)));\n",
       "    --sklearn-color-background: var(--sg-background-color, var(--theme-background, var(--jp-layout-color0, #111)));\n",
       "    --sklearn-color-border-box: var(--sg-text-color, var(--theme-code-foreground, var(--jp-content-font-color1, white)));\n",
       "    --sklearn-color-icon: #878787;\n",
       "  }\n",
       "}\n",
       "\n",
       "#sk-container-id-2 {\n",
       "  color: var(--sklearn-color-text);\n",
       "}\n",
       "\n",
       "#sk-container-id-2 pre {\n",
       "  padding: 0;\n",
       "}\n",
       "\n",
       "#sk-container-id-2 input.sk-hidden--visually {\n",
       "  border: 0;\n",
       "  clip: rect(1px 1px 1px 1px);\n",
       "  clip: rect(1px, 1px, 1px, 1px);\n",
       "  height: 1px;\n",
       "  margin: -1px;\n",
       "  overflow: hidden;\n",
       "  padding: 0;\n",
       "  position: absolute;\n",
       "  width: 1px;\n",
       "}\n",
       "\n",
       "#sk-container-id-2 div.sk-dashed-wrapped {\n",
       "  border: 1px dashed var(--sklearn-color-line);\n",
       "  margin: 0 0.4em 0.5em 0.4em;\n",
       "  box-sizing: border-box;\n",
       "  padding-bottom: 0.4em;\n",
       "  background-color: var(--sklearn-color-background);\n",
       "}\n",
       "\n",
       "#sk-container-id-2 div.sk-container {\n",
       "  /* jupyter's `normalize.less` sets `[hidden] { display: none; }`\n",
       "     but bootstrap.min.css set `[hidden] { display: none !important; }`\n",
       "     so we also need the `!important` here to be able to override the\n",
       "     default hidden behavior on the sphinx rendered scikit-learn.org.\n",
       "     See: https://github.com/scikit-learn/scikit-learn/issues/21755 */\n",
       "  display: inline-block !important;\n",
       "  position: relative;\n",
       "}\n",
       "\n",
       "#sk-container-id-2 div.sk-text-repr-fallback {\n",
       "  display: none;\n",
       "}\n",
       "\n",
       "div.sk-parallel-item,\n",
       "div.sk-serial,\n",
       "div.sk-item {\n",
       "  /* draw centered vertical line to link estimators */\n",
       "  background-image: linear-gradient(var(--sklearn-color-text-on-default-background), var(--sklearn-color-text-on-default-background));\n",
       "  background-size: 2px 100%;\n",
       "  background-repeat: no-repeat;\n",
       "  background-position: center center;\n",
       "}\n",
       "\n",
       "/* Parallel-specific style estimator block */\n",
       "\n",
       "#sk-container-id-2 div.sk-parallel-item::after {\n",
       "  content: \"\";\n",
       "  width: 100%;\n",
       "  border-bottom: 2px solid var(--sklearn-color-text-on-default-background);\n",
       "  flex-grow: 1;\n",
       "}\n",
       "\n",
       "#sk-container-id-2 div.sk-parallel {\n",
       "  display: flex;\n",
       "  align-items: stretch;\n",
       "  justify-content: center;\n",
       "  background-color: var(--sklearn-color-background);\n",
       "  position: relative;\n",
       "}\n",
       "\n",
       "#sk-container-id-2 div.sk-parallel-item {\n",
       "  display: flex;\n",
       "  flex-direction: column;\n",
       "}\n",
       "\n",
       "#sk-container-id-2 div.sk-parallel-item:first-child::after {\n",
       "  align-self: flex-end;\n",
       "  width: 50%;\n",
       "}\n",
       "\n",
       "#sk-container-id-2 div.sk-parallel-item:last-child::after {\n",
       "  align-self: flex-start;\n",
       "  width: 50%;\n",
       "}\n",
       "\n",
       "#sk-container-id-2 div.sk-parallel-item:only-child::after {\n",
       "  width: 0;\n",
       "}\n",
       "\n",
       "/* Serial-specific style estimator block */\n",
       "\n",
       "#sk-container-id-2 div.sk-serial {\n",
       "  display: flex;\n",
       "  flex-direction: column;\n",
       "  align-items: center;\n",
       "  background-color: var(--sklearn-color-background);\n",
       "  padding-right: 1em;\n",
       "  padding-left: 1em;\n",
       "}\n",
       "\n",
       "\n",
       "/* Toggleable style: style used for estimator/Pipeline/ColumnTransformer box that is\n",
       "clickable and can be expanded/collapsed.\n",
       "- Pipeline and ColumnTransformer use this feature and define the default style\n",
       "- Estimators will overwrite some part of the style using the `sk-estimator` class\n",
       "*/\n",
       "\n",
       "/* Pipeline and ColumnTransformer style (default) */\n",
       "\n",
       "#sk-container-id-2 div.sk-toggleable {\n",
       "  /* Default theme specific background. It is overwritten whether we have a\n",
       "  specific estimator or a Pipeline/ColumnTransformer */\n",
       "  background-color: var(--sklearn-color-background);\n",
       "}\n",
       "\n",
       "/* Toggleable label */\n",
       "#sk-container-id-2 label.sk-toggleable__label {\n",
       "  cursor: pointer;\n",
       "  display: flex;\n",
       "  width: 100%;\n",
       "  margin-bottom: 0;\n",
       "  padding: 0.5em;\n",
       "  box-sizing: border-box;\n",
       "  text-align: center;\n",
       "  align-items: start;\n",
       "  justify-content: space-between;\n",
       "  gap: 0.5em;\n",
       "}\n",
       "\n",
       "#sk-container-id-2 label.sk-toggleable__label .caption {\n",
       "  font-size: 0.6rem;\n",
       "  font-weight: lighter;\n",
       "  color: var(--sklearn-color-text-muted);\n",
       "}\n",
       "\n",
       "#sk-container-id-2 label.sk-toggleable__label-arrow:before {\n",
       "  /* Arrow on the left of the label */\n",
       "  content: \"▸\";\n",
       "  float: left;\n",
       "  margin-right: 0.25em;\n",
       "  color: var(--sklearn-color-icon);\n",
       "}\n",
       "\n",
       "#sk-container-id-2 label.sk-toggleable__label-arrow:hover:before {\n",
       "  color: var(--sklearn-color-text);\n",
       "}\n",
       "\n",
       "/* Toggleable content - dropdown */\n",
       "\n",
       "#sk-container-id-2 div.sk-toggleable__content {\n",
       "  max-height: 0;\n",
       "  max-width: 0;\n",
       "  overflow: hidden;\n",
       "  text-align: left;\n",
       "  /* unfitted */\n",
       "  background-color: var(--sklearn-color-unfitted-level-0);\n",
       "}\n",
       "\n",
       "#sk-container-id-2 div.sk-toggleable__content.fitted {\n",
       "  /* fitted */\n",
       "  background-color: var(--sklearn-color-fitted-level-0);\n",
       "}\n",
       "\n",
       "#sk-container-id-2 div.sk-toggleable__content pre {\n",
       "  margin: 0.2em;\n",
       "  border-radius: 0.25em;\n",
       "  color: var(--sklearn-color-text);\n",
       "  /* unfitted */\n",
       "  background-color: var(--sklearn-color-unfitted-level-0);\n",
       "}\n",
       "\n",
       "#sk-container-id-2 div.sk-toggleable__content.fitted pre {\n",
       "  /* unfitted */\n",
       "  background-color: var(--sklearn-color-fitted-level-0);\n",
       "}\n",
       "\n",
       "#sk-container-id-2 input.sk-toggleable__control:checked~div.sk-toggleable__content {\n",
       "  /* Expand drop-down */\n",
       "  max-height: 200px;\n",
       "  max-width: 100%;\n",
       "  overflow: auto;\n",
       "}\n",
       "\n",
       "#sk-container-id-2 input.sk-toggleable__control:checked~label.sk-toggleable__label-arrow:before {\n",
       "  content: \"▾\";\n",
       "}\n",
       "\n",
       "/* Pipeline/ColumnTransformer-specific style */\n",
       "\n",
       "#sk-container-id-2 div.sk-label input.sk-toggleable__control:checked~label.sk-toggleable__label {\n",
       "  color: var(--sklearn-color-text);\n",
       "  background-color: var(--sklearn-color-unfitted-level-2);\n",
       "}\n",
       "\n",
       "#sk-container-id-2 div.sk-label.fitted input.sk-toggleable__control:checked~label.sk-toggleable__label {\n",
       "  background-color: var(--sklearn-color-fitted-level-2);\n",
       "}\n",
       "\n",
       "/* Estimator-specific style */\n",
       "\n",
       "/* Colorize estimator box */\n",
       "#sk-container-id-2 div.sk-estimator input.sk-toggleable__control:checked~label.sk-toggleable__label {\n",
       "  /* unfitted */\n",
       "  background-color: var(--sklearn-color-unfitted-level-2);\n",
       "}\n",
       "\n",
       "#sk-container-id-2 div.sk-estimator.fitted input.sk-toggleable__control:checked~label.sk-toggleable__label {\n",
       "  /* fitted */\n",
       "  background-color: var(--sklearn-color-fitted-level-2);\n",
       "}\n",
       "\n",
       "#sk-container-id-2 div.sk-label label.sk-toggleable__label,\n",
       "#sk-container-id-2 div.sk-label label {\n",
       "  /* The background is the default theme color */\n",
       "  color: var(--sklearn-color-text-on-default-background);\n",
       "}\n",
       "\n",
       "/* On hover, darken the color of the background */\n",
       "#sk-container-id-2 div.sk-label:hover label.sk-toggleable__label {\n",
       "  color: var(--sklearn-color-text);\n",
       "  background-color: var(--sklearn-color-unfitted-level-2);\n",
       "}\n",
       "\n",
       "/* Label box, darken color on hover, fitted */\n",
       "#sk-container-id-2 div.sk-label.fitted:hover label.sk-toggleable__label.fitted {\n",
       "  color: var(--sklearn-color-text);\n",
       "  background-color: var(--sklearn-color-fitted-level-2);\n",
       "}\n",
       "\n",
       "/* Estimator label */\n",
       "\n",
       "#sk-container-id-2 div.sk-label label {\n",
       "  font-family: monospace;\n",
       "  font-weight: bold;\n",
       "  display: inline-block;\n",
       "  line-height: 1.2em;\n",
       "}\n",
       "\n",
       "#sk-container-id-2 div.sk-label-container {\n",
       "  text-align: center;\n",
       "}\n",
       "\n",
       "/* Estimator-specific */\n",
       "#sk-container-id-2 div.sk-estimator {\n",
       "  font-family: monospace;\n",
       "  border: 1px dotted var(--sklearn-color-border-box);\n",
       "  border-radius: 0.25em;\n",
       "  box-sizing: border-box;\n",
       "  margin-bottom: 0.5em;\n",
       "  /* unfitted */\n",
       "  background-color: var(--sklearn-color-unfitted-level-0);\n",
       "}\n",
       "\n",
       "#sk-container-id-2 div.sk-estimator.fitted {\n",
       "  /* fitted */\n",
       "  background-color: var(--sklearn-color-fitted-level-0);\n",
       "}\n",
       "\n",
       "/* on hover */\n",
       "#sk-container-id-2 div.sk-estimator:hover {\n",
       "  /* unfitted */\n",
       "  background-color: var(--sklearn-color-unfitted-level-2);\n",
       "}\n",
       "\n",
       "#sk-container-id-2 div.sk-estimator.fitted:hover {\n",
       "  /* fitted */\n",
       "  background-color: var(--sklearn-color-fitted-level-2);\n",
       "}\n",
       "\n",
       "/* Specification for estimator info (e.g. \"i\" and \"?\") */\n",
       "\n",
       "/* Common style for \"i\" and \"?\" */\n",
       "\n",
       ".sk-estimator-doc-link,\n",
       "a:link.sk-estimator-doc-link,\n",
       "a:visited.sk-estimator-doc-link {\n",
       "  float: right;\n",
       "  font-size: smaller;\n",
       "  line-height: 1em;\n",
       "  font-family: monospace;\n",
       "  background-color: var(--sklearn-color-background);\n",
       "  border-radius: 1em;\n",
       "  height: 1em;\n",
       "  width: 1em;\n",
       "  text-decoration: none !important;\n",
       "  margin-left: 0.5em;\n",
       "  text-align: center;\n",
       "  /* unfitted */\n",
       "  border: var(--sklearn-color-unfitted-level-1) 1pt solid;\n",
       "  color: var(--sklearn-color-unfitted-level-1);\n",
       "}\n",
       "\n",
       ".sk-estimator-doc-link.fitted,\n",
       "a:link.sk-estimator-doc-link.fitted,\n",
       "a:visited.sk-estimator-doc-link.fitted {\n",
       "  /* fitted */\n",
       "  border: var(--sklearn-color-fitted-level-1) 1pt solid;\n",
       "  color: var(--sklearn-color-fitted-level-1);\n",
       "}\n",
       "\n",
       "/* On hover */\n",
       "div.sk-estimator:hover .sk-estimator-doc-link:hover,\n",
       ".sk-estimator-doc-link:hover,\n",
       "div.sk-label-container:hover .sk-estimator-doc-link:hover,\n",
       ".sk-estimator-doc-link:hover {\n",
       "  /* unfitted */\n",
       "  background-color: var(--sklearn-color-unfitted-level-3);\n",
       "  color: var(--sklearn-color-background);\n",
       "  text-decoration: none;\n",
       "}\n",
       "\n",
       "div.sk-estimator.fitted:hover .sk-estimator-doc-link.fitted:hover,\n",
       ".sk-estimator-doc-link.fitted:hover,\n",
       "div.sk-label-container:hover .sk-estimator-doc-link.fitted:hover,\n",
       ".sk-estimator-doc-link.fitted:hover {\n",
       "  /* fitted */\n",
       "  background-color: var(--sklearn-color-fitted-level-3);\n",
       "  color: var(--sklearn-color-background);\n",
       "  text-decoration: none;\n",
       "}\n",
       "\n",
       "/* Span, style for the box shown on hovering the info icon */\n",
       ".sk-estimator-doc-link span {\n",
       "  display: none;\n",
       "  z-index: 9999;\n",
       "  position: relative;\n",
       "  font-weight: normal;\n",
       "  right: .2ex;\n",
       "  padding: .5ex;\n",
       "  margin: .5ex;\n",
       "  width: min-content;\n",
       "  min-width: 20ex;\n",
       "  max-width: 50ex;\n",
       "  color: var(--sklearn-color-text);\n",
       "  box-shadow: 2pt 2pt 4pt #999;\n",
       "  /* unfitted */\n",
       "  background: var(--sklearn-color-unfitted-level-0);\n",
       "  border: .5pt solid var(--sklearn-color-unfitted-level-3);\n",
       "}\n",
       "\n",
       ".sk-estimator-doc-link.fitted span {\n",
       "  /* fitted */\n",
       "  background: var(--sklearn-color-fitted-level-0);\n",
       "  border: var(--sklearn-color-fitted-level-3);\n",
       "}\n",
       "\n",
       ".sk-estimator-doc-link:hover span {\n",
       "  display: block;\n",
       "}\n",
       "\n",
       "/* \"?\"-specific style due to the `<a>` HTML tag */\n",
       "\n",
       "#sk-container-id-2 a.estimator_doc_link {\n",
       "  float: right;\n",
       "  font-size: 1rem;\n",
       "  line-height: 1em;\n",
       "  font-family: monospace;\n",
       "  background-color: var(--sklearn-color-background);\n",
       "  border-radius: 1rem;\n",
       "  height: 1rem;\n",
       "  width: 1rem;\n",
       "  text-decoration: none;\n",
       "  /* unfitted */\n",
       "  color: var(--sklearn-color-unfitted-level-1);\n",
       "  border: var(--sklearn-color-unfitted-level-1) 1pt solid;\n",
       "}\n",
       "\n",
       "#sk-container-id-2 a.estimator_doc_link.fitted {\n",
       "  /* fitted */\n",
       "  border: var(--sklearn-color-fitted-level-1) 1pt solid;\n",
       "  color: var(--sklearn-color-fitted-level-1);\n",
       "}\n",
       "\n",
       "/* On hover */\n",
       "#sk-container-id-2 a.estimator_doc_link:hover {\n",
       "  /* unfitted */\n",
       "  background-color: var(--sklearn-color-unfitted-level-3);\n",
       "  color: var(--sklearn-color-background);\n",
       "  text-decoration: none;\n",
       "}\n",
       "\n",
       "#sk-container-id-2 a.estimator_doc_link.fitted:hover {\n",
       "  /* fitted */\n",
       "  background-color: var(--sklearn-color-fitted-level-3);\n",
       "}\n",
       "</style><div id=\"sk-container-id-2\" class=\"sk-top-container\"><div class=\"sk-text-repr-fallback\"><pre>LinearRegression()</pre><b>In a Jupyter environment, please rerun this cell to show the HTML representation or trust the notebook. <br />On GitHub, the HTML representation is unable to render, please try loading this page with nbviewer.org.</b></div><div class=\"sk-container\" hidden><div class=\"sk-item\"><div class=\"sk-estimator fitted sk-toggleable\"><input class=\"sk-toggleable__control sk-hidden--visually\" id=\"sk-estimator-id-2\" type=\"checkbox\" checked><label for=\"sk-estimator-id-2\" class=\"sk-toggleable__label fitted sk-toggleable__label-arrow\"><div><div>LinearRegression</div></div><div><a class=\"sk-estimator-doc-link fitted\" rel=\"noreferrer\" target=\"_blank\" href=\"https://scikit-learn.org/1.6/modules/generated/sklearn.linear_model.LinearRegression.html\">?<span>Documentation for LinearRegression</span></a><span class=\"sk-estimator-doc-link fitted\">i<span>Fitted</span></span></div></label><div class=\"sk-toggleable__content fitted\"><pre>LinearRegression()</pre></div> </div></div></div></div>"
      ],
      "text/plain": [
       "LinearRegression()"
      ]
     },
     "execution_count": 19,
     "metadata": {},
     "output_type": "execute_result"
    }
   ],
   "source": [
    "lr.fit(X,y)"
   ]
  },
  {
   "cell_type": "markdown",
   "id": "174bcbe3-70ef-45cc-a17b-72adce529906",
   "metadata": {},
   "source": [
    "5.4 (2pts) The `coef_` member of your `LinearRegression()` instance is **not** the correlation coefficient $ r $, but rather the linear parameter $ m $. Show the difference between the `coeff_` member of your fitted instance and the value for $ m $ you calculated in 4.1. Round your answer to the nearest thousandth using the `round()` Python function.\n",
    "\n",
    "_Note: The `coef_` member of `LinearRegression()` is actually a list of weights (in case there are multiple terms in the linear equation). In our case there will only be one but you must index it from the list_"
   ]
  },
  {
   "cell_type": "code",
   "execution_count": 31,
   "id": "16d098cd-7565-4d30-a9d1-3c25d3949d9d",
   "metadata": {},
   "outputs": [
    {
     "name": "stdout",
     "output_type": "stream",
     "text": [
      "slope: 0.5\n",
      "correlation: 0.816\n"
     ]
    }
   ],
   "source": [
    "slope = round(lr.coef_[0], 3) # can be anything\n",
    "print(\"slope:\", slope)\n",
    "\n",
    "r = round(X[\"x\"].corr(y),3) # has to be between -1 and 1\n",
    "print(\"correlation:\", r)"
   ]
  },
  {
   "cell_type": "markdown",
   "id": "2a7d6208-e451-4149-9b04-c117b6e26033",
   "metadata": {},
   "source": [
    "5.5 (2pts) The correlation coefficient $ r $ can be calculated from the result of the `LinearRegression.score()` method, which returns the value $ r^2 $. Use the same arguments as you did for 5.3 above to find $ r $. This should match the value you found in 2.2."
   ]
  },
  {
   "cell_type": "code",
   "execution_count": 21,
   "id": "18df5c5a-f6a7-495a-beb9-67920958fefd",
   "metadata": {},
   "outputs": [
    {
     "data": {
      "text/plain": [
       "0.81636624276147"
      ]
     },
     "execution_count": 21,
     "metadata": {},
     "output_type": "execute_result"
    }
   ],
   "source": [
    "lr.score(X, df.y)**.5"
   ]
  },
  {
   "cell_type": "markdown",
   "id": "bdecf50a-f14d-469c-83fe-bf61c4fa3b86",
   "metadata": {},
   "source": [
    "---"
   ]
  },
  {
   "cell_type": "markdown",
   "id": "358f3ed4-97d9-4d03-b481-e9f4a85e429b",
   "metadata": {},
   "source": [
    "### Submission Instructions\n",
    "\n",
    "Be sure to ***SAVE YOUR WORK***!  \n",
    "\n",
    "Next, select Kernel -> Restart Kernel and Run All Cells...\n",
    "\n",
    "Make sure there are no errors.\n",
    "\n",
    "Then select File->Save and Export Notebook as->HTML and submit your HTML file to Canvas."
   ]
  }
 ],
 "metadata": {
  "kernelspec": {
   "display_name": "Python 3 (ipykernel)",
   "language": "python",
   "name": "python3"
  },
  "language_info": {
   "codemirror_mode": {
    "name": "ipython",
    "version": 3
   },
   "file_extension": ".py",
   "mimetype": "text/x-python",
   "name": "python",
   "nbconvert_exporter": "python",
   "pygments_lexer": "ipython3",
   "version": "3.12.5"
  }
 },
 "nbformat": 4,
 "nbformat_minor": 5
}
