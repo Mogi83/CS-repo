{
 "cells": [
  {
   "cell_type": "markdown",
   "id": "50fd10e8-22c3-4da5-ade2-b50da1781fc6",
   "metadata": {
    "deletable": false,
    "editable": false,
    "nbgrader": {
     "cell_type": "markdown",
     "checksum": "8da96783fed09ec87b6d45aa5f75f002",
     "grade": false,
     "grade_id": "cell-15da5ab259eb4424",
     "locked": true,
     "schema_version": 3,
     "solution": false,
     "task": false
    }
   },
   "source": [
    "# Homework 4 - Visualizing Data with Multiple Features\n",
    "CS 133  \n",
    "Spring 2025  \n",
    "v1.1\n",
    "\n",
    "---"
   ]
  },
  {
   "cell_type": "markdown",
   "id": "d7ecbe14-db7a-47d4-84a9-280b2d47e6a9",
   "metadata": {
    "deletable": false,
    "editable": false,
    "nbgrader": {
     "cell_type": "markdown",
     "checksum": "7c63d50dc40df7c9195d67a6e9db9170",
     "grade": false,
     "grade_id": "cell-a68767838e8579c2",
     "locked": true,
     "schema_version": 3,
     "solution": false,
     "task": false
    }
   },
   "source": [
    "## 1. Violin plot of categorical feature"
   ]
  },
  {
   "cell_type": "markdown",
   "id": "4d04a3cb-9881-497d-bad6-f12b300278bb",
   "metadata": {
    "deletable": false,
    "editable": false,
    "nbgrader": {
     "cell_type": "markdown",
     "checksum": "2e65ac8c62feb86316785d0ee900ada4",
     "grade": false,
     "grade_id": "cell-8f27c7b784250f46",
     "locked": true,
     "schema_version": 3,
     "solution": false,
     "task": false
    }
   },
   "source": [
    "1.1 (15 pts) Using the Seaborn module, load the `seaice` dataset. Create a new column called `month` that contains the name of the month for each row according to the `Date` column. (Note you can use the Pandas syntax `df.Date.dt.month_name()` to get the month name). Display a violin plot showing the distribution of seaice per month."
   ]
  },
  {
   "cell_type": "code",
   "execution_count": null,
   "id": "d3ab0527-5431-41d7-bb46-9fc6fce951c6",
   "metadata": {
    "deletable": false,
    "nbgrader": {
     "cell_type": "code",
     "checksum": "4107686f28a96cf619a754ff19696c8a",
     "grade": true,
     "grade_id": "cell-b5e4d17cf257d871",
     "locked": false,
     "points": 15,
     "schema_version": 3,
     "solution": true,
     "task": false
    }
   },
   "outputs": [],
   "source": [
    "import pandas as pd\n",
    "import seaborn as sns\n",
    "\n",
    "seaice = sns.load_dataset(\"seaice\")\n",
    "seaice.insert(0, \"month\", None)\n",
    "seaice['month'] = [ seaice.Date.dt.month_name() for i in seaice['Date']]\n",
    "seaice.head\n"
   ]
  },
  {
   "cell_type": "markdown",
   "id": "f4539344-df9d-4ba3-a3ff-acc51bfe716e",
   "metadata": {
    "deletable": false,
    "editable": false,
    "nbgrader": {
     "cell_type": "markdown",
     "checksum": "8347e64a168c9391eb2210919146a814",
     "grade": false,
     "grade_id": "cell-affea7aeff4a98e3",
     "locked": true,
     "schema_version": 3,
     "solution": false,
     "task": false
    }
   },
   "source": [
    "1.2 (1 pt) Which month appears to have the most variance in the extent of sea ice?"
   ]
  },
  {
   "cell_type": "markdown",
   "id": "e8399036-be2f-4125-b3a6-03c1936784dc",
   "metadata": {
    "deletable": false,
    "nbgrader": {
     "cell_type": "markdown",
     "checksum": "bffc50deb01c6da0366cbed97ddafc83",
     "grade": true,
     "grade_id": "cell-a961a5004caa1fdd",
     "locked": false,
     "points": 1,
     "schema_version": 3,
     "solution": true,
     "task": false
    }
   },
   "source": [
    "YOUR ANSWER HERE"
   ]
  },
  {
   "cell_type": "markdown",
   "id": "5e9443e8-e71a-4420-a5cb-8d6ef2124ca6",
   "metadata": {
    "deletable": false,
    "editable": false,
    "nbgrader": {
     "cell_type": "markdown",
     "checksum": "aa9c094a5e1302d8857f4264f088092a",
     "grade": false,
     "grade_id": "cell-9b32b83a5871c856",
     "locked": true,
     "schema_version": 3,
     "solution": false,
     "task": false
    }
   },
   "source": [
    "## 2. Scatterplot with multiple features"
   ]
  },
  {
   "cell_type": "markdown",
   "id": "590eecdf-51fe-4cb8-b42f-0cfc351380bf",
   "metadata": {},
   "source": [
    "2.1 (15pts) Using the Seaborn module load the `car_crashes` dataset. Display a scatterplot showing the relation between insurance premiums and insurance losses. Set the size of each data point from the total number of crashes and label the five largest data points with their state abbreviations.\n",
    "\n",
    "_Note: You can label a point using the Seaborn `axis.at()` method, where `axis` is returned from the plot function. Pandas has a `DataFrame.nlargest()` method that might also be helpful._\n"
   ]
  },
  {
   "cell_type": "code",
   "execution_count": null,
   "id": "f439238f-579c-49c3-9342-7657f6ff8941",
   "metadata": {
    "deletable": false,
    "nbgrader": {
     "cell_type": "code",
     "checksum": "bc707caeef1fe35b9c71e59306fac1ab",
     "grade": true,
     "grade_id": "cell-993761dc09e7fe12",
     "locked": false,
     "points": 15,
     "schema_version": 3,
     "solution": true,
     "task": false
    }
   },
   "outputs": [],
   "source": [
    "# YOUR CODE HERE\n",
    "raise NotImplementedError()"
   ]
  },
  {
   "cell_type": "markdown",
   "id": "88f9933f-fa49-4110-8aa1-9c2383886fe2",
   "metadata": {
    "deletable": false,
    "editable": false,
    "nbgrader": {
     "cell_type": "markdown",
     "checksum": "b19e1d6c32cbecb2ce4becb769a345ff",
     "grade": false,
     "grade_id": "cell-7f406c63f82dd931",
     "locked": true,
     "schema_version": 3,
     "solution": false,
     "task": false
    }
   },
   "source": [
    "2.2 (2pts) Which of the five states with the largest number of crashes appears to have the most profitable insurance industry? Explain your answer."
   ]
  },
  {
   "cell_type": "markdown",
   "id": "eb847015-0eb8-4c48-891a-01fc00280ba9",
   "metadata": {
    "deletable": false,
    "nbgrader": {
     "cell_type": "markdown",
     "checksum": "94f36f806bb2868137fef54e0e0d7deb",
     "grade": true,
     "grade_id": "cell-3fbffa6d00036340",
     "locked": false,
     "points": 2,
     "schema_version": 3,
     "solution": true,
     "task": false
    }
   },
   "source": [
    "YOUR ANSWER HERE"
   ]
  },
  {
   "cell_type": "markdown",
   "id": "cbaa8818-c241-47f2-a087-a13c384ac3ab",
   "metadata": {
    "deletable": false,
    "editable": false,
    "nbgrader": {
     "cell_type": "markdown",
     "checksum": "440851ebdeec11b26af83e98500cb307",
     "grade": false,
     "grade_id": "cell-c6a2274ac1c16787",
     "locked": true,
     "schema_version": 3,
     "solution": false,
     "task": false
    }
   },
   "source": [
    "## 3. Density plot of multiple features"
   ]
  },
  {
   "cell_type": "markdown",
   "id": "10bc0acf-f3e5-4096-b251-30c1b316bc6f",
   "metadata": {
    "deletable": false,
    "editable": false,
    "nbgrader": {
     "cell_type": "markdown",
     "checksum": "e491338be54c26c48c00aa6252825630",
     "grade": false,
     "grade_id": "cell-cf4cd5cb38dfff57",
     "locked": true,
     "schema_version": 3,
     "solution": false,
     "task": false
    }
   },
   "source": [
    "3.1 (10 pts) Using the same dataset from question 2, create a density plot showing distributions for crashes related to speeding, alcohol, and crashes not involving distracted drivers. The distributions should be overlapping each with a different color and transparent enough to see all distributions"
   ]
  },
  {
   "cell_type": "code",
   "execution_count": null,
   "id": "2c8b78e5-60f9-4d0c-b43c-8918a835d2ed",
   "metadata": {
    "deletable": false,
    "nbgrader": {
     "cell_type": "code",
     "checksum": "f385f032ce88a70f4266bb5794e017f7",
     "grade": true,
     "grade_id": "cell-367cad2d3b72d5e5",
     "locked": false,
     "points": 10,
     "schema_version": 3,
     "solution": true,
     "task": false
    }
   },
   "outputs": [],
   "source": [
    "# YOUR CODE HERE\n",
    "raise NotImplementedError()"
   ]
  },
  {
   "cell_type": "markdown",
   "id": "08ed3154-50ab-4c97-8917-516237578c1c",
   "metadata": {
    "deletable": false,
    "editable": false,
    "nbgrader": {
     "cell_type": "markdown",
     "checksum": "a190efeabd0eb067cced9001cfd28232",
     "grade": false,
     "grade_id": "cell-55ef5e259f2a77bf",
     "locked": true,
     "schema_version": 3,
     "solution": false,
     "task": false
    }
   },
   "source": [
    "3.2 (2pts) Briefly interpret the graph, i.e. what does it say about the nature of crashes across all 50 states?"
   ]
  },
  {
   "cell_type": "markdown",
   "id": "34a7070d-864d-4a49-a26b-21869d2187f6",
   "metadata": {
    "deletable": false,
    "nbgrader": {
     "cell_type": "markdown",
     "checksum": "6cfea20ac9e1593873e7fcdc6307d0b8",
     "grade": true,
     "grade_id": "cell-cd736ef21ea6ea1c",
     "locked": false,
     "points": 2,
     "schema_version": 3,
     "solution": true,
     "task": false
    }
   },
   "source": [
    "YOUR ANSWER HERE"
   ]
  },
  {
   "cell_type": "markdown",
   "id": "4e8e7e96-1280-42f0-9083-34fd769dcca9",
   "metadata": {
    "deletable": false,
    "editable": false,
    "nbgrader": {
     "cell_type": "markdown",
     "checksum": "09fd7072897877c9a4be678789a4ebb4",
     "grade": false,
     "grade_id": "cell-ef769ed52a1c41d7",
     "locked": true,
     "schema_version": 3,
     "solution": false,
     "task": false
    }
   },
   "source": [
    "## 4. Box and whiskers plot of multiple variables"
   ]
  },
  {
   "cell_type": "markdown",
   "id": "3ef7a4bd-94b2-46f6-b979-326cfe395b9f",
   "metadata": {},
   "source": [
    "4.1 (10pts) Using the Seaborn module load the `exercise` dataset. Create a box and whiskers plot summarizing the pulse rate distributions for the three kinds of exercises in the dataset (rest, walking, and running). For each exercise group the distributions by no fat vs. low fat making each a separate color."
   ]
  },
  {
   "cell_type": "code",
   "execution_count": null,
   "id": "25a26ead-f39f-4265-86d6-226c11b9ac1c",
   "metadata": {
    "deletable": false,
    "nbgrader": {
     "cell_type": "code",
     "checksum": "4b20223174cd76f253dd9ac426f539f8",
     "grade": true,
     "grade_id": "cell-8873573fcef4e5be",
     "locked": false,
     "points": 10,
     "schema_version": 3,
     "solution": true,
     "task": false
    }
   },
   "outputs": [],
   "source": [
    "# YOUR CODE HERE\n",
    "raise NotImplementedError()"
   ]
  },
  {
   "cell_type": "markdown",
   "id": "d1b8067f-65cc-48b7-b915-20a2dfb10160",
   "metadata": {
    "deletable": false,
    "editable": false,
    "nbgrader": {
     "cell_type": "markdown",
     "checksum": "6786a0a7844184702fd6995198d6e232",
     "grade": false,
     "grade_id": "cell-1910d5693cb818ec",
     "locked": true,
     "schema_version": 3,
     "solution": false,
     "task": false
    }
   },
   "source": [
    "4.2 (2pts) Does there appear to be a correlation between pulse rate per exercise and diet? Explain your answer."
   ]
  },
  {
   "cell_type": "markdown",
   "id": "647e84f8-d046-4376-80e6-8729c954b4b1",
   "metadata": {
    "deletable": false,
    "nbgrader": {
     "cell_type": "markdown",
     "checksum": "24177db0b8b2cc68bc329182056bffb2",
     "grade": true,
     "grade_id": "cell-1e642ca8fca599a0",
     "locked": false,
     "points": 2,
     "schema_version": 3,
     "solution": true,
     "task": false
    }
   },
   "source": [
    "YOUR ANSWER HERE"
   ]
  },
  {
   "cell_type": "markdown",
   "id": "f2fa9433-de2b-45ef-bfed-5a965d8b8729",
   "metadata": {
    "deletable": false,
    "editable": false,
    "nbgrader": {
     "cell_type": "markdown",
     "checksum": "28b9bf51ea1a65fd8ff7055f8472f34b",
     "grade": false,
     "grade_id": "cell-9c4918cda609d67e",
     "locked": true,
     "schema_version": 3,
     "solution": false,
     "task": false
    }
   },
   "source": [
    "## 5. Plotting with multiple categorical and numerical features"
   ]
  },
  {
   "cell_type": "markdown",
   "id": "a2f7ad3e-328c-4731-9e92-4495df39ea31",
   "metadata": {},
   "source": [
    "5.1 (15pts) Using the Seaborn module load the `diamonds` dataset. Sample 200 diamonds with a price greater than $5,000. Create a graph to show how the price of the diamonds varies with the carat and include information on the graph indicating the color, depth, and cut of each diamond."
   ]
  },
  {
   "cell_type": "code",
   "execution_count": null,
   "id": "cdf1b0e1-ae82-48ed-a770-94f7dd9c2090",
   "metadata": {
    "deletable": false,
    "nbgrader": {
     "cell_type": "code",
     "checksum": "75086a3dfa8aa7e337f19848755a7168",
     "grade": true,
     "grade_id": "cell-427964b2e0e426c2",
     "locked": false,
     "points": 15,
     "schema_version": 3,
     "solution": true,
     "task": false
    }
   },
   "outputs": [],
   "source": [
    "# YOUR CODE HERE\n",
    "raise NotImplementedError()"
   ]
  },
  {
   "cell_type": "markdown",
   "id": "bc97285d-b284-4f3d-a110-d5c2d05f0ecc",
   "metadata": {
    "deletable": false,
    "editable": false,
    "nbgrader": {
     "cell_type": "markdown",
     "checksum": "117cdcba488bd259f20304197983ae86",
     "grade": false,
     "grade_id": "cell-1a366defcc84ecbc",
     "locked": true,
     "schema_version": 3,
     "solution": false,
     "task": false
    }
   },
   "source": [
    "5.1 (3pts) If you inherit ten diamonds that range in carats what one other attribute would you want to maximize (and why)? Is this clear from your graph?"
   ]
  },
  {
   "cell_type": "markdown",
   "id": "ddadd633-8ecd-44c2-a63b-ad08dce2d321",
   "metadata": {
    "deletable": false,
    "nbgrader": {
     "cell_type": "markdown",
     "checksum": "d5cab1be7f339def42632fa4d69cc7cb",
     "grade": true,
     "grade_id": "cell-11ba8e81c3505aa6",
     "locked": false,
     "points": 3,
     "schema_version": 3,
     "solution": true,
     "task": false
    }
   },
   "source": [
    "YOUR ANSWER HERE"
   ]
  },
  {
   "cell_type": "markdown",
   "id": "bdecf50a-f14d-469c-83fe-bf61c4fa3b86",
   "metadata": {
    "deletable": false,
    "editable": false,
    "nbgrader": {
     "cell_type": "markdown",
     "checksum": "eba4f2818bb41ffe4e3d02c8f4e4965a",
     "grade": false,
     "grade_id": "cell-d946572b375917cd",
     "locked": true,
     "schema_version": 3,
     "solution": false,
     "task": false
    }
   },
   "source": [
    "---"
   ]
  },
  {
   "cell_type": "markdown",
   "id": "358f3ed4-97d9-4d03-b481-e9f4a85e429b",
   "metadata": {
    "deletable": false,
    "editable": false,
    "nbgrader": {
     "cell_type": "markdown",
     "checksum": "71ef425d264112ef51fc153675e7017d",
     "grade": false,
     "grade_id": "cell-85f6b83bf6ada816",
     "locked": true,
     "schema_version": 3,
     "solution": false,
     "task": false
    }
   },
   "source": [
    "### Submission Instructions\n",
    "\n",
    "Be sure to ***SAVE YOUR WORK***!  \n",
    "\n",
    "Next, select Kernel -> Restart Kernel and Run All Cells...\n",
    "\n",
    "Make sure there are no errors.\n",
    "\n",
    "Then select File->Save and Export Notebook as->HTML and submit your HTML file to Canvas."
   ]
  }
 ],
 "metadata": {
  "kernelspec": {
   "display_name": "Python 3 (ipykernel)",
   "language": "python",
   "name": "python3"
  },
  "language_info": {
   "codemirror_mode": {
    "name": "ipython",
    "version": 3
   },
   "file_extension": ".py",
   "mimetype": "text/x-python",
   "name": "python",
   "nbconvert_exporter": "python",
   "pygments_lexer": "ipython3",
   "version": "3.12.5"
  }
 },
 "nbformat": 4,
 "nbformat_minor": 5
}
