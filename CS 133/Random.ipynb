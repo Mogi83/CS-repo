{
 "cells": [
  {
   "cell_type": "code",
   "execution_count": 6,
   "id": "92d55509-061c-4748-9343-201ffbf2d90a",
   "metadata": {},
   "outputs": [
    {
     "name": "stdout",
     "output_type": "stream",
     "text": [
      " 10.3\n",
      " 19.700000000000003\n",
      " 28.300000000000004\n",
      " 36.2\n",
      " 43.400000000000006\n",
      " 50.00000000000001\n",
      " 56.10000000000001\n",
      " 61.70000000000001\n",
      " 66.80000000000001\n",
      "16.7\n"
     ]
    }
   ],
   "source": [
    "l = [10.3,9.4,8.6,7.9,7.2,6.6,6.1,5.6,5.1]\n",
    "T = []\n",
    "summation =0\n",
    "for i in range(len(l)):\n",
    "    summation += l[i] \n",
    "    T.append(l[i]*0.25)\n",
    "    print(\" \" +str(summation))\n",
    "print(sum(T))"
   ]
  },
  {
   "cell_type": "code",
   "execution_count": null,
   "id": "00334978-41a8-495e-8527-14e83e819f2c",
   "metadata": {},
   "outputs": [],
   "source": []
  }
 ],
 "metadata": {
  "kernelspec": {
   "display_name": "Python 3 (ipykernel)",
   "language": "python",
   "name": "python3"
  },
  "language_info": {
   "codemirror_mode": {
    "name": "ipython",
    "version": 3
   },
   "file_extension": ".py",
   "mimetype": "text/x-python",
   "name": "python",
   "nbconvert_exporter": "python",
   "pygments_lexer": "ipython3",
   "version": "3.12.5"
  }
 },
 "nbformat": 4,
 "nbformat_minor": 5
}
