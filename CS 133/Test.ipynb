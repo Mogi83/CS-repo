{
 "cells": [
  {
   "cell_type": "code",
   "execution_count": 3,
   "id": "3a755211-84de-4710-87c7-60aec0cd8642",
   "metadata": {},
   "outputs": [
    {
     "data": {
      "text/plain": [
       "count    18.000000\n",
       "mean      8.055556\n",
       "std       3.333823\n",
       "min       2.000000\n",
       "25%       7.000000\n",
       "50%       8.000000\n",
       "75%      10.000000\n",
       "max      13.000000\n",
       "dtype: float64"
      ]
     },
     "execution_count": 3,
     "metadata": {},
     "output_type": "execute_result"
    }
   ],
   "source": [
    "import pandas as pd\n",
    "l = [2, 2, 3, 6, 7 , 7, 7, 8, 8, 8, 9, 9, 10, 10, 11, 12, 13, 13]\n",
    "s = pd.Series(l)\n",
    "s.describe()"
   ]
  },
  {
   "cell_type": "code",
   "execution_count": null,
   "id": "97b142a7-a912-4c94-8d44-5d2d95da8b85",
   "metadata": {},
   "outputs": [],
   "source": []
  }
 ],
 "metadata": {
  "kernelspec": {
   "display_name": "Python 3 (ipykernel)",
   "language": "python",
   "name": "python3"
  },
  "language_info": {
   "codemirror_mode": {
    "name": "ipython",
    "version": 3
   },
   "file_extension": ".py",
   "mimetype": "text/x-python",
   "name": "python",
   "nbconvert_exporter": "python",
   "pygments_lexer": "ipython3",
   "version": "3.12.5"
  }
 },
 "nbformat": 4,
 "nbformat_minor": 5
}
