{
 "cells": [
  {
   "cell_type": "markdown",
   "id": "ad7c1805-3abe-4289-b204-c26d738308e7",
   "metadata": {},
   "source": [
    "## XP Points Challenge 2\n",
    "CS 133  \n",
    "Spring 2025  \n",
    "v1.0\n",
    "\n",
    "A message has been encoded in the dataset. Your taks is to complete the operations on the dataset to discover the hidden message."
   ]
  },
  {
   "cell_type": "markdown",
   "id": "4f278720-54df-4720-9f6a-d934dca95aa5",
   "metadata": {},
   "source": [
    "1. Load the datset `xp-2.csv` into a dataframe and inspect it."
   ]
  },
  {
   "cell_type": "code",
   "execution_count": 8,
   "id": "b385e3d9-1bc0-4774-85a5-3dafb574a164",
   "metadata": {},
   "outputs": [],
   "source": []
  },
  {
   "cell_type": "markdown",
   "id": "e785ce2e-9c6b-4895-bc06-cdd1760fbaba",
   "metadata": {},
   "source": [
    "There are some features of Pandas that we haven't gone over that could be useful for this problem and you may want to look them up:\n",
    "1. The `DataFrame.where()` method\n",
    "2. The `sum()` method\n",
    "3. The `apply()` method\n",
    "4. Converting a Numpy array into a string using `.str.cat()`"
   ]
  },
  {
   "cell_type": "markdown",
   "id": "fca17c18-28d1-4a3e-90ed-0dedd0aac617",
   "metadata": {},
   "source": [
    "2. Create a new feature named `model` based on the age of the individual and the number of minutes spent online. If the individual is older than 50 and spends more than 100 minutes online assign them the value of `boomer`, otherwise they should be classified as `gamer`.\n",
    "   "
   ]
  },
  {
   "cell_type": "code",
   "execution_count": 9,
   "id": "1ccc9ede-4398-4a25-993c-4f359454406b",
   "metadata": {},
   "outputs": [],
   "source": []
  },
  {
   "cell_type": "markdown",
   "id": "77aa14f1-8393-4afb-8d1d-3c764d6233e3",
   "metadata": {},
   "source": [
    "3. To receive credit for this assignment you must create a single statement that performs all of the operations described below to uncover the hidden message. You may want to try doing the operations separately until you solve it but you must figure out a way to do it as a single statement.\n",
    "\n",
    "   1. Group the dataframe by  `model` then `gender` then `country`\n",
    "   2. Find the sum of the `online` column in each group\n",
    "   3. Find the modulus of the sum and 123 in each group\n",
    "   4. For each value use the Python `chr()` function to convert it to a printable character\n",
    "   5. Convert the first 71 characters into a string and display it"
   ]
  },
  {
   "cell_type": "code",
   "execution_count": null,
   "id": "e16fd942-0602-47f8-885c-75ccea0b10c1",
   "metadata": {},
   "outputs": [],
   "source": []
  }
 ],
 "metadata": {
  "kernelspec": {
   "display_name": "Python 3 (ipykernel)",
   "language": "python",
   "name": "python3"
  },
  "language_info": {
   "codemirror_mode": {
    "name": "ipython",
    "version": 3
   },
   "file_extension": ".py",
   "mimetype": "text/x-python",
   "name": "python",
   "nbconvert_exporter": "python",
   "pygments_lexer": "ipython3",
   "version": "3.12.5"
  }
 },
 "nbformat": 4,
 "nbformat_minor": 5
}
