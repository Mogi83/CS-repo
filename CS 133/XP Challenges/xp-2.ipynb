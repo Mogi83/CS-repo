{
 "cells": [
  {
   "cell_type": "markdown",
   "id": "ad7c1805-3abe-4289-b204-c26d738308e7",
   "metadata": {},
   "source": [
    "## XP Points Challenge 2\n",
    "CS 133  \n",
    "Spring 2025  \n",
    "v1.0\n",
    "\n",
    "A message has been encoded in the dataset. Your taks is to complete the operations on the dataset to discover the hidden message."
   ]
  },
  {
   "cell_type": "markdown",
   "id": "4f278720-54df-4720-9f6a-d934dca95aa5",
   "metadata": {},
   "source": [
    "1. Load the datset `xp-2.csv` into a dataframe and inspect it."
   ]
  },
  {
   "cell_type": "code",
   "execution_count": 40,
   "id": "b385e3d9-1bc0-4774-85a5-3dafb574a164",
   "metadata": {},
   "outputs": [
    {
     "name": "stdout",
     "output_type": "stream",
     "text": [
      "Empty DataFrame\n",
      "Columns: [Unnamed: 0, id, username, gender, age, country, ip, online, model]\n",
      "Index: []\n"
     ]
    }
   ],
   "source": [
    "import pandas as pd\n",
    "df = pd.read_csv(\"xp-2.csv\")\n",
    "df_mismatch = df[\n",
    "    ((df[\"age\"] > 50) & (df[\"online\"] > 100) & (df[\"model\"] != \"boomer\")) |\n",
    "    ((df[\"age\"] <= 50) | (df[\"online\"] <= 100)) & (df[\"model\"] != \"gamer\")\n",
    "]\n",
    "print(df_mismatch)"
   ]
  },
  {
   "cell_type": "markdown",
   "id": "e785ce2e-9c6b-4895-bc06-cdd1760fbaba",
   "metadata": {},
   "source": [
    "There are some features of Pandas that we haven't gone over that could be useful for this problem and you may want to look them up:\n",
    "1. The `DataFrame.where()` method\n",
    "2. The `sum()` method\n",
    "3. The `apply()` method\n",
    "4. Converting a Numpy array into a string using `.str.cat()`"
   ]
  },
  {
   "cell_type": "markdown",
   "id": "fca17c18-28d1-4a3e-90ed-0dedd0aac617",
   "metadata": {},
   "source": [
    "2. Create a new feature named `model` based on the age of the individual and the number of minutes spent online. If the individual is older than 50 and spends more than 100 minutes online assign them the value of `boomer`, otherwise they should be classified as `gamer`.\n",
    "   "
   ]
  },
  {
   "cell_type": "code",
   "execution_count": 29,
   "id": "1ccc9ede-4398-4a25-993c-4f359454406b",
   "metadata": {},
   "outputs": [
    {
     "data": {
      "text/html": [
       "<div>\n",
       "<style scoped>\n",
       "    .dataframe tbody tr th:only-of-type {\n",
       "        vertical-align: middle;\n",
       "    }\n",
       "\n",
       "    .dataframe tbody tr th {\n",
       "        vertical-align: top;\n",
       "    }\n",
       "\n",
       "    .dataframe thead th {\n",
       "        text-align: right;\n",
       "    }\n",
       "</style>\n",
       "<table border=\"1\" class=\"dataframe\">\n",
       "  <thead>\n",
       "    <tr style=\"text-align: right;\">\n",
       "      <th></th>\n",
       "      <th>Unnamed: 0</th>\n",
       "      <th>id</th>\n",
       "      <th>username</th>\n",
       "      <th>gender</th>\n",
       "      <th>age</th>\n",
       "      <th>country</th>\n",
       "      <th>ip</th>\n",
       "      <th>online</th>\n",
       "      <th>model</th>\n",
       "    </tr>\n",
       "  </thead>\n",
       "  <tbody>\n",
       "    <tr>\n",
       "      <th>0</th>\n",
       "      <td>0</td>\n",
       "      <td>01JMTV0RD07H2C0SYJEHCF0EEG</td>\n",
       "      <td>Lotlux</td>\n",
       "      <td>M</td>\n",
       "      <td>40</td>\n",
       "      <td>China</td>\n",
       "      <td>246.220.74.249</td>\n",
       "      <td>188</td>\n",
       "      <td>gamer</td>\n",
       "    </tr>\n",
       "    <tr>\n",
       "      <th>1</th>\n",
       "      <td>1</td>\n",
       "      <td>01JMTV0RD1KT7R9ED50SPYYJ9F</td>\n",
       "      <td>Solarbreeze</td>\n",
       "      <td>F</td>\n",
       "      <td>96</td>\n",
       "      <td>Oman</td>\n",
       "      <td>206.39.45.156</td>\n",
       "      <td>893</td>\n",
       "      <td>boomer</td>\n",
       "    </tr>\n",
       "    <tr>\n",
       "      <th>2</th>\n",
       "      <td>2</td>\n",
       "      <td>01JMTV0RD22T0A497N6JW1WA2P</td>\n",
       "      <td>Flexidy</td>\n",
       "      <td>M</td>\n",
       "      <td>80</td>\n",
       "      <td>Qatar</td>\n",
       "      <td>252.181.153.6</td>\n",
       "      <td>979</td>\n",
       "      <td>boomer</td>\n",
       "    </tr>\n",
       "    <tr>\n",
       "      <th>3</th>\n",
       "      <td>3</td>\n",
       "      <td>01JMTV0RD2J6NZQW6QZG5TZA4A</td>\n",
       "      <td>Voltsillam</td>\n",
       "      <td>M</td>\n",
       "      <td>108</td>\n",
       "      <td>Portugal</td>\n",
       "      <td>210.230.146.108</td>\n",
       "      <td>199</td>\n",
       "      <td>boomer</td>\n",
       "    </tr>\n",
       "    <tr>\n",
       "      <th>4</th>\n",
       "      <td>4</td>\n",
       "      <td>01JMTV0RD3P25R4YKK8AGE8WJM</td>\n",
       "      <td>Vagram</td>\n",
       "      <td>F</td>\n",
       "      <td>90</td>\n",
       "      <td>Argentina</td>\n",
       "      <td>94.160.4.110</td>\n",
       "      <td>812</td>\n",
       "      <td>boomer</td>\n",
       "    </tr>\n",
       "    <tr>\n",
       "      <th>...</th>\n",
       "      <td>...</td>\n",
       "      <td>...</td>\n",
       "      <td>...</td>\n",
       "      <td>...</td>\n",
       "      <td>...</td>\n",
       "      <td>...</td>\n",
       "      <td>...</td>\n",
       "      <td>...</td>\n",
       "      <td>...</td>\n",
       "    </tr>\n",
       "    <tr>\n",
       "      <th>995</th>\n",
       "      <td>995</td>\n",
       "      <td>01JMTV0S31PKMA5NAGMJ0M37A5</td>\n",
       "      <td>Stronghold</td>\n",
       "      <td>M</td>\n",
       "      <td>84</td>\n",
       "      <td>Indonesia</td>\n",
       "      <td>251.29.79.115</td>\n",
       "      <td>875</td>\n",
       "      <td>boomer</td>\n",
       "    </tr>\n",
       "    <tr>\n",
       "      <th>996</th>\n",
       "      <td>996</td>\n",
       "      <td>01JMTV0S32P8J391FHCWZMJFNF</td>\n",
       "      <td>Prodder</td>\n",
       "      <td>F</td>\n",
       "      <td>47</td>\n",
       "      <td>Philippines</td>\n",
       "      <td>236.88.247.159</td>\n",
       "      <td>456</td>\n",
       "      <td>gamer</td>\n",
       "    </tr>\n",
       "    <tr>\n",
       "      <th>997</th>\n",
       "      <td>997</td>\n",
       "      <td>01JMTV0S32QVX88ADFF42ECK2Q</td>\n",
       "      <td>Sonsing</td>\n",
       "      <td>M</td>\n",
       "      <td>72</td>\n",
       "      <td>China</td>\n",
       "      <td>218.76.5.199</td>\n",
       "      <td>334</td>\n",
       "      <td>boomer</td>\n",
       "    </tr>\n",
       "    <tr>\n",
       "      <th>998</th>\n",
       "      <td>998</td>\n",
       "      <td>01JMTV0S3377B457TBTWSVB8GH</td>\n",
       "      <td>Bytecard</td>\n",
       "      <td>F</td>\n",
       "      <td>88</td>\n",
       "      <td>Afghanistan</td>\n",
       "      <td>210.107.44.142</td>\n",
       "      <td>433</td>\n",
       "      <td>boomer</td>\n",
       "    </tr>\n",
       "    <tr>\n",
       "      <th>999</th>\n",
       "      <td>999</td>\n",
       "      <td>01JMTV0S34YSJXJ7B34RQKG6NH</td>\n",
       "      <td>Prodder</td>\n",
       "      <td>F</td>\n",
       "      <td>15</td>\n",
       "      <td>Bangladesh</td>\n",
       "      <td>169.41.21.53</td>\n",
       "      <td>488</td>\n",
       "      <td>gamer</td>\n",
       "    </tr>\n",
       "  </tbody>\n",
       "</table>\n",
       "<p>1000 rows × 9 columns</p>\n",
       "</div>"
      ],
      "text/plain": [
       "     Unnamed: 0                          id     username gender  age  \\\n",
       "0             0  01JMTV0RD07H2C0SYJEHCF0EEG       Lotlux      M   40   \n",
       "1             1  01JMTV0RD1KT7R9ED50SPYYJ9F  Solarbreeze      F   96   \n",
       "2             2  01JMTV0RD22T0A497N6JW1WA2P      Flexidy      M   80   \n",
       "3             3  01JMTV0RD2J6NZQW6QZG5TZA4A   Voltsillam      M  108   \n",
       "4             4  01JMTV0RD3P25R4YKK8AGE8WJM       Vagram      F   90   \n",
       "..          ...                         ...          ...    ...  ...   \n",
       "995         995  01JMTV0S31PKMA5NAGMJ0M37A5   Stronghold      M   84   \n",
       "996         996  01JMTV0S32P8J391FHCWZMJFNF      Prodder      F   47   \n",
       "997         997  01JMTV0S32QVX88ADFF42ECK2Q      Sonsing      M   72   \n",
       "998         998  01JMTV0S3377B457TBTWSVB8GH     Bytecard      F   88   \n",
       "999         999  01JMTV0S34YSJXJ7B34RQKG6NH      Prodder      F   15   \n",
       "\n",
       "         country               ip  online   model  \n",
       "0          China   246.220.74.249     188   gamer  \n",
       "1           Oman    206.39.45.156     893  boomer  \n",
       "2          Qatar    252.181.153.6     979  boomer  \n",
       "3       Portugal  210.230.146.108     199  boomer  \n",
       "4      Argentina     94.160.4.110     812  boomer  \n",
       "..           ...              ...     ...     ...  \n",
       "995    Indonesia    251.29.79.115     875  boomer  \n",
       "996  Philippines   236.88.247.159     456   gamer  \n",
       "997        China     218.76.5.199     334  boomer  \n",
       "998  Afghanistan   210.107.44.142     433  boomer  \n",
       "999   Bangladesh     169.41.21.53     488   gamer  \n",
       "\n",
       "[1000 rows x 9 columns]"
      ]
     },
     "execution_count": 29,
     "metadata": {},
     "output_type": "execute_result"
    }
   ],
   "source": [
    "def BorG(dataframe):\n",
    "    if dataframe[\"age\"] >50 and dataframe[\"online\"] > 100:\n",
    "        return \"boomer\"\n",
    "    else:\n",
    "        return \"gamer\"\n",
    "\n",
    "#df[\"model\"] = df.apply(BorG, axis = 1)\n",
    "#df"
   ]
  },
  {
   "cell_type": "markdown",
   "id": "77aa14f1-8393-4afb-8d1d-3c764d6233e3",
   "metadata": {},
   "source": [
    "3. To receive credit for this assignment you must create a single statement that performs all of the operations described below to uncover the hidden message. You may want to try doing the operations separately until you solve it but you must figure out a way to do it as a single statement.\n",
    "\n",
    "   1. Group the dataframe by  `model` then `gender` then `country`\n",
    "   2. Find the sum of the `online` column in each group\n",
    "   3. Find the modulus of the sum and 123 in each group\n",
    "   4. For each value use the Python `chr()` function to convert it to a printable character\n",
    "   5. Convert the first 71 characters into a string and display it"
   ]
  },
  {
   "cell_type": "code",
   "execution_count": 49,
   "id": "e16fd942-0602-47f8-885c-75ccea0b10c1",
   "metadata": {},
   "outputs": [
    {
     "data": {
      "text/plain": [
       "1000"
      ]
     },
     "execution_count": 49,
     "metadata": {},
     "output_type": "execute_result"
    }
   ],
   "source": [
    "len(df)"
   ]
  },
  {
   "cell_type": "code",
   "execution_count": null,
   "id": "5fd1ffe8-0bb9-4c0c-b52f-d0691a7c0415",
   "metadata": {},
   "outputs": [],
   "source": []
  }
 ],
 "metadata": {
  "kernelspec": {
   "display_name": "Python 3 (ipykernel)",
   "language": "python",
   "name": "python3"
  },
  "language_info": {
   "codemirror_mode": {
    "name": "ipython",
    "version": 3
   },
   "file_extension": ".py",
   "mimetype": "text/x-python",
   "name": "python",
   "nbconvert_exporter": "python",
   "pygments_lexer": "ipython3",
   "version": "3.12.5"
  }
 },
 "nbformat": 4,
 "nbformat_minor": 5
}
