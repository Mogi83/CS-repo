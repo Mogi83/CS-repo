{
 "cells": [
  {
   "cell_type": "markdown",
   "id": "a7fed3a1",
   "metadata": {},
   "source": [
    "# CS233 Homework 1 (total points: 100)\n",
    "\n",
    "- Run all code cells so that every block shows its output before exporting.\n",
    "- Export as HTML (.html) and submit that file.\n",
    "- To get all points for each question, you need to include the output of your code AND your explanation."
   ]
  },
  {
   "cell_type": "markdown",
   "id": "c42ef483",
   "metadata": {},
   "source": [
    "## Question 1 (output 5 points, explanation 5 points, 10 points in total): \n",
    "\n",
    "Create a 1D NumPy array containing the integers from 0 to 9 (inclusive). Print the array and its `dtype`."
   ]
  },
  {
   "cell_type": "code",
   "execution_count": 15,
   "id": "9c59325c",
   "metadata": {},
   "outputs": [
    {
     "name": "stdout",
     "output_type": "stream",
     "text": [
      "[0 1 2 3 4 5 6 7 8 9] int64\n"
     ]
    }
   ],
   "source": [
    "import numpy as np\n",
    "\n",
    "numbers = np.array(range(10))\n",
    "\n",
    "print(numbers, numbers.dtype)"
   ]
  },
  {
   "cell_type": "markdown",
   "id": "d4d46aa9",
   "metadata": {},
   "source": [
    "Your explanation:\n",
    "First we assign the variable numbers using numpy's array class and give it a range of 10 as to include the numbers between 0 and 9.\n",
    "\n",
    "This array is a one dimensional (flat) array given that we have no second row.\n",
    "\n",
    "Numpy by default will try to assign a default dtype which in this case are 64 bit integers.\n",
    "\n",
    "Finally we print both the array itself and its dtype by calling it's ndarray object property."
   ]
  },
  {
   "cell_type": "markdown",
   "id": "314f24a9",
   "metadata": {},
   "source": [
    "## Question 2 (output 5 points, explanation 5 points, 10 points in total): \n",
    "\n",
    "Given a 1D array `a = np.array([3, 6, 9, 12, 15])`, compute (a) the elementwise square of `a` and (b) the sum of all elements. Show both results. Noted that you must sove the problem of using array-oriented programming (no for loop allowed)."
   ]
  },
  {
   "cell_type": "code",
   "execution_count": 26,
   "id": "99b2fc87",
   "metadata": {},
   "outputs": [
    {
     "name": "stdout",
     "output_type": "stream",
     "text": [
      "squared : [  9  36  81 144 225]\n",
      "sum : 45\n"
     ]
    }
   ],
   "source": [
    "import numpy as np\n",
    "\n",
    "a = np.array([3, 6, 9, 12, 15])\n",
    "squared = np.square(a)\n",
    "total = np.sum(a)\n",
    "\n",
    "\n",
    "\n",
    "print(f\"squared : {squared}\\nsum : {total}\")\n",
    "# TODO: compute the elementwise square and the total sum\n",
    "# squared = ???\n",
    "# total = ???\n",
    "# print(\"squared:\", squared)\n",
    "# print(\"sum:\", total)"
   ]
  },
  {
   "cell_type": "markdown",
   "id": "8cf921ca",
   "metadata": {},
   "source": [
    "Your explanation:\n",
    "\n",
    "We define two variables `squared` and `total` then using numpy functions `numpy.square` and `numpy.sum()` we find the elementwise square of a and the sum of a.\n",
    "\n",
    "The output is using an f-string to print both variables.\n"
   ]
  },
  {
   "cell_type": "markdown",
   "id": "1c03a2fc",
   "metadata": {},
   "source": [
    "## Question 3 (output 5 points, explanation 5 points, 10 points in total): \n",
    "\n",
    "Construct a 2x3 array filled with zeros and then replace the last column with ones using slicing (without loops). Display the final array."
   ]
  },
  {
   "cell_type": "code",
   "execution_count": 37,
   "id": "dba3dff1",
   "metadata": {},
   "outputs": [
    {
     "name": "stdout",
     "output_type": "stream",
     "text": [
      "[[0. 0. 0. 0. 0. 0. 1.]\n",
      " [0. 0. 0. 0. 0. 0. 1.]\n",
      " [0. 0. 0. 0. 0. 0. 1.]\n",
      " [0. 0. 0. 0. 0. 0. 1.]\n",
      " [0. 0. 0. 0. 0. 0. 1.]]\n"
     ]
    }
   ],
   "source": [
    "import numpy as np\n",
    "\n",
    "matrix = np.zeros((2, 3))\n",
    "\n",
    "#test cases:\n",
    "#matrix = np.zeros((4, 4))\n",
    "#matrix = np.zeros((5, 7))\n",
    "\n",
    "matrix[: , -1:] = 1\n",
    "\n",
    "print(matrix)"
   ]
  },
  {
   "cell_type": "markdown",
   "id": "d70b1dc2",
   "metadata": {},
   "source": [
    "Your explanation:\n",
    "\n",
    "We first specify that we want to modify every row of the matrix by using ` : `, then we use ` -1: ` to indicate that we want to modify the last element of each row. We then assign that value as 1. Something to note is that this solution allows the matrix to be any size.\n"
   ]
  },
  {
   "cell_type": "markdown",
   "id": "174d6e7e",
   "metadata": {},
   "source": [
    "## Question 4 (output 5 points, explanation 5 points, 10 points in total): \n",
    "\n",
    "Let `b = np.arange(12).reshape(3, 4)`.\n",
    "\n",
    "1.\tExtract the second row of b.\n",
    "\n",
    "2.\tExtract the fourth column of b.\n",
    "\n",
    "3.\tCompute the mean of all elements in b."
   ]
  },
  {
   "cell_type": "code",
   "execution_count": 51,
   "id": "da790327",
   "metadata": {},
   "outputs": [
    {
     "name": "stdout",
     "output_type": "stream",
     "text": [
      "[[ 0  1  2  3]\n",
      " [ 4  5  6  7]\n",
      " [ 8  9 10 11]]\n",
      "Second row: [4 5 6 7]\n",
      "Fourth column: [[ 3]\n",
      " [ 7]\n",
      " [11]]\n",
      "Mean of all elements: 5.5\n"
     ]
    }
   ],
   "source": [
    "import numpy as np\n",
    "\n",
    "b = np.arange(12).reshape(3, 4)\n",
    "\n",
    "print(b) #for refrence\n",
    "\n",
    "# second row\n",
    "row2 = b[1]\n",
    "\n",
    "# fourth column\n",
    "col4 = b[:, 3:]\n",
    "\n",
    "# mean of all elements\n",
    "mean_val = b.mean()\n",
    "\n",
    "print(\"Second row:\", row2)\n",
    "print(\"Fourth column:\", col4)\n",
    "print(\"Mean of all elements:\", mean_val)"
   ]
  },
  {
   "cell_type": "markdown",
   "id": "a5d4030d",
   "metadata": {},
   "source": [
    "Your explanation:\n",
    "\n",
    "Selecting row 2 uses a slice value of 1 because python counts with a zero index meaning that our first element `[0, 1, 2, 3]` in python's eyes is zero and our second element `[4, 5, 6, 7]` is refrenced as the first. This is like the difference between the first floor in the US versus Europe we call the ground floor the first floor while Europeans would call it zero (or just ground floor).\n",
    "\n",
    "As for getting the fourth column similar methods seen in question 3 are used. An important distinction is that we are not selecting only the last element like done previously as if the shape of b was differnt the value of the last column and fourth column would not always be the same value.\n",
    "\n",
    "nparray has a built in function to calculate the mean."
   ]
  },
  {
   "cell_type": "markdown",
   "id": "4fe8db58",
   "metadata": {},
   "source": [
    "## Question 5 (output 5 points, explanation 5 points, 10 points in total): \n",
    "\n",
    "Given a 4x4 array of consecutive integers starting at 10. Use boolean masking to set all elements greater than 20 to zero and print the modified array."
   ]
  },
  {
   "cell_type": "code",
   "execution_count": null,
   "id": "47c1d389",
   "metadata": {},
   "outputs": [],
   "source": [
    "import numpy as np\n",
    "\n",
    "array_4_4 = np.arange(10, 26).reshape(4, 4)\n",
    "# TODO: build the boolean mask and apply it\n",
    "print(array_4_4)"
   ]
  },
  {
   "cell_type": "markdown",
   "id": "21ae0d93",
   "metadata": {},
   "source": [
    "Your explanation:\n"
   ]
  },
  {
   "cell_type": "markdown",
   "id": "19b70e32",
   "metadata": {},
   "source": [
    "## Question 6 (output 5 points, explanation 5 points, 10 points in total): \n",
    "\n",
    "You are given a 2D NumPy.\n",
    "\n",
    "1.Compute the cumulative sum down the columns. Show the output and explain how the numbers are calculated column by column.\n",
    "    \n",
    "2.Compute the cumulative sum across each row. Show the output and explain how the numbers are calculated row by row."
   ]
  },
  {
   "cell_type": "code",
   "execution_count": null,
   "id": "eb34c58c",
   "metadata": {},
   "outputs": [],
   "source": [
    "import numpy as np\n",
    "\n",
    "arr = np.array([[0, 1, 2],\n",
    "                [3, 4, 5],\n",
    "                [6, 7, 8]])\n",
    "\n",
    "print(\"Cumulative sum down columns:\")\n",
    "# YOU CODE HERE; PRINT YOUR RESULTS\n",
    "\n",
    "print(\"\\nCumulative sum across rows:\")\n",
    "# YOUR CODE HERE; PRINT YOUR RESULTS"
   ]
  },
  {
   "cell_type": "markdown",
   "id": "11edc1d1",
   "metadata": {},
   "source": [
    "Your explanation:\n"
   ]
  },
  {
   "cell_type": "markdown",
   "id": "2d1594b7",
   "metadata": {},
   "source": [
    "## Question 7 (output 5 points, explanation 5 points, 10 points in total): \n",
    "\n",
    "You are given a 5×5 array of random integers between -5 and 5.\n",
    "\n",
    "1.\tReplace even numbers with 1 and odd numbers with -1.\n",
    "\n",
    "2.\tShow the final array.\n"
   ]
  },
  {
   "cell_type": "code",
   "execution_count": null,
   "id": "38abc846",
   "metadata": {},
   "outputs": [],
   "source": [
    "import numpy as np\n",
    "\n",
    "# Create array of random integers from -5 to 5\n",
    "rng = np.random.default_rng(seed=42)\n",
    "arr = rng.integers(-5, 6, size=(5, 5))\n",
    "print(\"Original array:\")\n",
    "print(arr)\n",
    "\n",
    "# hint 1: First find even numbers (boolean mask)\n",
    "\n",
    "# hint 2: Replace even numbers with 1, odd numbers with -1, by using np.where\n",
    "\n",
    "print(\"Transformed array:\")\n",
    "print(new_arr)"
   ]
  },
  {
   "cell_type": "markdown",
   "id": "734e42a7",
   "metadata": {},
   "source": [
    "Your explanation:\n"
   ]
  },
  {
   "cell_type": "markdown",
   "id": "26e4d31e",
   "metadata": {},
   "source": [
    "## Question 8 (output 5 points, explanation 5 points, 10 points in total): \n",
    "\n",
    "Create a 2D NumPy array (4×5) with random numbers generated from a standard normal distribution, then sort it along columns and rows separately."
   ]
  },
  {
   "cell_type": "code",
   "execution_count": null,
   "id": "ba4a4809",
   "metadata": {},
   "outputs": [],
   "source": [
    "import numpy as np\n",
    "\n",
    "# Your code\n",
    "# print the array sorted by columns\n",
    "# print the array sorted by rows"
   ]
  },
  {
   "cell_type": "markdown",
   "id": "41b53988",
   "metadata": {},
   "source": [
    "Your explanation:"
   ]
  },
  {
   "cell_type": "markdown",
   "id": "80aabf9a",
   "metadata": {},
   "source": [
    "## Question 9 (20 points in total)\n",
    "\n",
    "Hint: Read Chapter 4.7 (https://wesmckinney.com/book/numpy-basics#example_random_walks) and understand the random walk problem and complete the following question\n"
   ]
  },
  {
   "cell_type": "markdown",
   "id": "b0fa5208",
   "metadata": {},
   "source": [
    "a) (5 points) Pure Python Way: Simulate one random walk of 800 steps where each step is either +2 or -2 with equal probability. Plot the walk by using the provided code."
   ]
  },
  {
   "cell_type": "code",
   "execution_count": null,
   "id": "7245f8d8",
   "metadata": {},
   "outputs": [],
   "source": [
    "import numpy as np\n",
    "import matplotlib.pyplot as plt # pip install matplotlib, if you don't have it installed\n",
    "import random\n",
    "position = 0\n",
    "walk = [position]\n",
    "# implement the random walk here using a for loop\n",
    "\n",
    "plt.plot(walk[:])"
   ]
  },
  {
   "cell_type": "markdown",
   "id": "aa1f7737",
   "metadata": {},
   "source": [
    "b) (5 points) Numpy Way: Solve question a) using numpy way, so for-loop is not allowed."
   ]
  },
  {
   "cell_type": "code",
   "execution_count": null,
   "id": "e2b44abe",
   "metadata": {},
   "outputs": [],
   "source": [
    "# your numpy style code here\n",
    "plt.plot(walk[:])"
   ]
  },
  {
   "cell_type": "markdown",
   "id": "50ff95b4",
   "metadata": {},
   "source": [
    "c) (10 points = 6 points coding + 4 points explanation) use numpy coding style\n",
    "\n",
    "Simulate one walk 1000 steps each with two different setups:\n",
    "- Steps of ±1 (equal probability).\n",
    "- Steps drawn from [-2, -1, 1, 3] with equal probability.\n",
    "\n",
    "For each case:\n",
    "- Print both results and explain which case tends to wander farther, and why."
   ]
  },
  {
   "cell_type": "code",
   "execution_count": null,
   "id": "564eb84b",
   "metadata": {},
   "outputs": [],
   "source": [
    "import matplotlib.pyplot as plt\n",
    "\n",
    "plt.figure(figsize=(10,4))\n",
    "\n",
    "# Example walk with steps ±1\n",
    "# your code here\n",
    "# walk1 = #\n",
    "plt.plot(walk1, label=\"±1 walk\")\n",
    "\n",
    "# Example walk with steps from [-2,-1,1,3]\n",
    "# your code here\n",
    "# walk2 = #\n",
    "plt.plot(walk2, label=\"[-2,-1,1,3] walk\")\n",
    "\n",
    "plt.legend()\n",
    "plt.title(\"Example random walks\")\n",
    "plt.xlabel(\"Step\")\n",
    "plt.ylabel(\"Position\")\n",
    "plt.show()"
   ]
  },
  {
   "cell_type": "markdown",
   "id": "387f2789",
   "metadata": {},
   "source": [
    "Your explanation:\n",
    "- How does your code work?\n",
    "\n",
    "- In 2 cases above, which case tends to wander farther, and why?"
   ]
  }
 ],
 "metadata": {
  "kernelspec": {
   "display_name": "Python 3 (ipykernel)",
   "language": "python",
   "name": "python3"
  },
  "language_info": {
   "codemirror_mode": {
    "name": "ipython",
    "version": 3
   },
   "file_extension": ".py",
   "mimetype": "text/x-python",
   "name": "python",
   "nbconvert_exporter": "python",
   "pygments_lexer": "ipython3",
   "version": "3.12.5"
  }
 },
 "nbformat": 4,
 "nbformat_minor": 5
}
