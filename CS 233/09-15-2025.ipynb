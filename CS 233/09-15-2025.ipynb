{
 "cells": [
  {
   "cell_type": "code",
   "execution_count": 1,
   "id": "77637fe3-0df0-4ef5-b3f4-76a9d3b23a4e",
   "metadata": {},
   "outputs": [],
   "source": [
    "import numpy as np\n",
    "import pandas as pd\n"
   ]
  },
  {
   "cell_type": "code",
   "execution_count": 14,
   "id": "285ac89d-ccca-424b-a384-30509c74fca4",
   "metadata": {},
   "outputs": [
    {
     "name": "stdout",
     "output_type": "stream",
     "text": [
      "idx\n",
      "1     97\n",
      "2     44\n",
      "3      5\n",
      "4      3\n",
      "5     72\n",
      "6     78\n",
      "7     50\n",
      "8     98\n",
      "9     10\n",
      "10    25\n",
      "Name: Random Numbers, dtype: int64\n"
     ]
    }
   ],
   "source": [
    "rng = np.random.default_rng()\n",
    "rand_list = rng.integers(low = 1, high = 99, size=10)\n",
    "#other methods of random generation\n",
    "#rand_list = random.randint()\n",
    "#rand_list = [random.randint(100) for _ in range (10)]\n",
    "obj = pd.Series(rand_list, index=range(1,11))\n",
    "obj.name = \"Random Numbers\"\n",
    "obj.index.name = \"idx\"\n",
    "\n",
    "print(obj)"
   ]
  },
  {
   "cell_type": "code",
   "execution_count": null,
   "id": "b5015ef6-0dfc-4eec-a569-0a86928e659a",
   "metadata": {},
   "outputs": [],
   "source": []
  }
 ],
 "metadata": {
  "kernelspec": {
   "display_name": "Python 3 (ipykernel)",
   "language": "python",
   "name": "python3"
  },
  "language_info": {
   "codemirror_mode": {
    "name": "ipython",
    "version": 3
   },
   "file_extension": ".py",
   "mimetype": "text/x-python",
   "name": "python",
   "nbconvert_exporter": "python",
   "pygments_lexer": "ipython3",
   "version": "3.12.5"
  }
 },
 "nbformat": 4,
 "nbformat_minor": 5
}
