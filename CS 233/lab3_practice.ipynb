{
 "cells": [
  {
   "cell_type": "markdown",
   "id": "b765b3a2",
   "metadata": {},
   "source": [
    "## Lab 3: Data Wrangling (5 points)\n",
    "\n",
    "### save all outputs in a .html file. Submit that .html file to Canvas."
   ]
  },
  {
   "cell_type": "markdown",
   "id": "04f4fc66",
   "metadata": {},
   "source": [
    "### 1. Merging (1 pt)"
   ]
  },
  {
   "cell_type": "code",
   "execution_count": null,
   "id": "e2973828",
   "metadata": {},
   "outputs": [],
   "source": [
    "import pandas as pd\n",
    "\n",
    "df3 = pd.DataFrame({\n",
    "    \"lkey\": [\"b\", \"b\", \"a\", \"c\", \"a\", \"a\", \"b\"],\n",
    "    \"data1\": pd.Series(range(7), dtype=\"Int64\")\n",
    "})\n",
    "\n",
    "df4 = pd.DataFrame({\n",
    "    \"rkey\": [\"a\", \"b\", \"d\"],\n",
    "    \"data2\": pd.Series(range(3), dtype=\"Int64\")\n",
    "})\n",
    "display(df3)\n",
    "display(df4)"
   ]
  },
  {
   "cell_type": "markdown",
   "id": "5474226b",
   "metadata": {},
   "source": [
    "a) Merge df3 and df4 by showing only the rows with matching keys."
   ]
  },
  {
   "cell_type": "code",
   "execution_count": null,
   "id": "96640516",
   "metadata": {},
   "outputs": [],
   "source": [
    "# your code"
   ]
  },
  {
   "cell_type": "markdown",
   "id": "74240c83",
   "metadata": {},
   "source": [
    "Question: Which keys appear in the result? Why?\n",
    "\n",
    "Answer:"
   ]
  },
  {
   "cell_type": "markdown",
   "id": "5bdb9f1b",
   "metadata": {},
   "source": [
    "b) Merge but keep all rows from both DataFrames."
   ]
  },
  {
   "cell_type": "code",
   "execution_count": null,
   "id": "a351e277",
   "metadata": {},
   "outputs": [],
   "source": [
    "# your code"
   ]
  },
  {
   "cell_type": "markdown",
   "id": "ed4c7bee",
   "metadata": {},
   "source": [
    "Question:\n",
    "What does NaN/<NA> mean in the output?\n",
    "\n",
    "Answer: "
   ]
  },
  {
   "cell_type": "markdown",
   "id": "a9ec59cc",
   "metadata": {},
   "source": [
    "### 2. Concatenation (1 pt)"
   ]
  },
  {
   "cell_type": "code",
   "execution_count": null,
   "id": "eb0ab8f3",
   "metadata": {},
   "outputs": [],
   "source": [
    "import pandas as pd\n",
    "\n",
    "s1 = pd.Series([0, 1], index=[\"a\", \"b\"], dtype=\"Int64\")\n",
    "s2 = pd.Series([2, 3, 4], index=[\"b\", \"c\", \"d\"], dtype=\"Int64\")\n",
    "display(s1); display(s2)"
   ]
  },
  {
   "cell_type": "markdown",
   "id": "df7688cb",
   "metadata": {},
   "source": [
    "a) Concatenate along rows."
   ]
  },
  {
   "cell_type": "code",
   "execution_count": null,
   "id": "1de84d02",
   "metadata": {},
   "outputs": [],
   "source": [
    "# your code"
   ]
  },
  {
   "cell_type": "markdown",
   "id": "e144a08b",
   "metadata": {},
   "source": [
    "Question:\n",
    "\t1.\tWhat happens to the indices?\n",
    "\t2.\tAre there duplicate index labels? Why?\n",
    "\n",
    "Answer:\n"
   ]
  },
  {
   "cell_type": "markdown",
   "id": "6c6ecdd4",
   "metadata": {},
   "source": [
    "b) Concatenate along columns"
   ]
  },
  {
   "cell_type": "code",
   "execution_count": null,
   "id": "c8d258e4",
   "metadata": {},
   "outputs": [],
   "source": [
    "# your code"
   ]
  },
  {
   "cell_type": "markdown",
   "id": "ae691416",
   "metadata": {},
   "source": [
    "c) Concatenate along columns, but don't include rows with NAs in the result"
   ]
  },
  {
   "cell_type": "code",
   "execution_count": null,
   "id": "53c90a11",
   "metadata": {},
   "outputs": [],
   "source": [
    "# your code"
   ]
  },
  {
   "cell_type": "markdown",
   "id": "269b13da",
   "metadata": {},
   "source": [
    "### 3. combine_first (3 points)"
   ]
  },
  {
   "cell_type": "code",
   "execution_count": null,
   "id": "8298e2a8",
   "metadata": {},
   "outputs": [],
   "source": [
    "import pandas as pd\n",
    "import numpy as np\n",
    "\n",
    "df1 = pd.DataFrame({\n",
    "    \"a\": [1., np.nan, 5., np.nan],\n",
    "    \"b\": [np.nan, 2., np.nan, 6.],\n",
    "    \"c\": range(2, 18, 4)\n",
    "})\n",
    "\n",
    "df2 = pd.DataFrame({\n",
    "    \"a\": [5., 4., np.nan, 3., 7.],\n",
    "    \"b\": [np.nan, 3., 4., 6., 8.]\n",
    "})\n",
    "display(df1); display(df2)"
   ]
  },
  {
   "cell_type": "markdown",
   "id": "d9b478b0",
   "metadata": {},
   "source": [
    "a) \n",
    "When executing:\n",
    "\n",
    "df1.combine_first(df2)\n",
    "\n",
    "What happens when both DataFrames have overlapping rows (exactly the same indices)?\n",
    "- a) Rows from df2 replace those from df1.\n",
    "- b) Missing values in df1 are filled from df2 (aligned by index).\n",
    "- c) Missing values in df2 are filled from df1.\n",
    "- d) Both DataFrames are stacked vertically.\n",
    "\n",
    "Your answer and explanation:"
   ]
  },
  {
   "cell_type": "markdown",
   "id": "f4d9283b",
   "metadata": {},
   "source": [
    "b) \n",
    "When executing:\n",
    "\n",
    "df1.combine_first(df2)\n",
    "\n",
    "What will be the number of rows in the resulting DataFrame?\n",
    "- a) 4\n",
    "- b) 5\n",
    "- c) 9\n",
    "- d) Depends on the how parameter\n",
    "\n",
    "(Hint: df1 has indices [0,1,2,3] and df2 has [0,1,2,3,4].)\n",
    "\n",
    "Your answer and explanation:"
   ]
  },
  {
   "cell_type": "markdown",
   "id": "5a100a66",
   "metadata": {},
   "source": [
    "c) \n",
    "When executing:\n",
    "\n",
    "df1.combine_first(df2)\n",
    "\n",
    "Which columns appear in the result?\n",
    "- a) Only columns shared by both (a, b)\n",
    "- b) Only columns from df1\n",
    "- c) All columns from both (a, b, c)\n",
    "- d) Columns from df2 overwrite df1\n",
    "\n",
    "\n",
    "Your answer and explanation:"
   ]
  },
  {
   "cell_type": "markdown",
   "id": "28186034",
   "metadata": {},
   "source": []
  }
 ],
 "metadata": {
  "kernelspec": {
   "display_name": "cs233",
   "language": "python",
   "name": "python3"
  },
  "language_info": {
   "codemirror_mode": {
    "name": "ipython",
    "version": 3
   },
   "file_extension": ".py",
   "mimetype": "text/x-python",
   "name": "python",
   "nbconvert_exporter": "python",
   "pygments_lexer": "ipython3",
   "version": "3.13.5"
  }
 },
 "nbformat": 4,
 "nbformat_minor": 5
}
