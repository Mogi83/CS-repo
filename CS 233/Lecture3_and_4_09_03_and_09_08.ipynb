{
  "cells": [
    {
      "cell_type": "code",
      "execution_count": null,
      "metadata": {
        "id": "6f1I48MFRU-z"
      },
      "outputs": [],
      "source": []
    },
    {
      "cell_type": "code",
      "execution_count": null,
      "metadata": {
        "id": "2dsHpCQ9RU-0"
      },
      "outputs": [],
      "source": [
        "tup = (4, 5, 6)"
      ]
    },
    {
      "cell_type": "code",
      "execution_count": null,
      "metadata": {
        "id": "mgdL5iE2RU-2"
      },
      "outputs": [],
      "source": [
        "tup = 4, 5, 6\n",
        "tup"
      ]
    },
    {
      "cell_type": "code",
      "source": [
        "print(type(tup))\n",
        "print(isinstance(tup, tuple))"
      ],
      "metadata": {
        "id": "QU1TboUdOUWd"
      },
      "execution_count": null,
      "outputs": []
    },
    {
      "cell_type": "markdown",
      "source": [
        "You can convert any sequence or iterator to a tuple by invoking tuple."
      ],
      "metadata": {
        "id": "_QTaHnauOsMd"
      }
    },
    {
      "cell_type": "code",
      "execution_count": null,
      "metadata": {
        "id": "9Ll8QPO8RU-2"
      },
      "outputs": [],
      "source": [
        "print(tuple([4, 0, 2]))\n",
        "tup = tuple('string')\n",
        "tup"
      ]
    },
    {
      "cell_type": "code",
      "execution_count": null,
      "metadata": {
        "id": "dx0cZ5kIRU-2"
      },
      "outputs": [],
      "source": [
        "tup[0]"
      ]
    },
    {
      "cell_type": "markdown",
      "source": [
        "Nested tuples."
      ],
      "metadata": {
        "id": "Mht4BC25P7dY"
      }
    },
    {
      "cell_type": "code",
      "execution_count": null,
      "metadata": {
        "id": "NuwqrccLRU-3"
      },
      "outputs": [],
      "source": [
        "nested_tup = (4, 5, 6), (7, 8)\n",
        "print(nested_tup)\n",
        "#nested_tup[0]\n",
        "nested_tup[1]"
      ]
    },
    {
      "cell_type": "code",
      "execution_count": null,
      "metadata": {
        "id": "AizvvIOERU-3"
      },
      "outputs": [],
      "source": [
        "tup = tuple(['foo', [1, 2], True])\n",
        "tup[1].append(5)\n",
        "print(tup[1])\n",
        "#tup[2] = False\n",
        "print(tup)"
      ]
    },
    {
      "cell_type": "code",
      "execution_count": null,
      "metadata": {
        "id": "OZ0XgXdsRU-3"
      },
      "outputs": [],
      "source": [
        "tup[1].append(3)\n",
        "tup"
      ]
    },
    {
      "cell_type": "markdown",
      "source": [
        "You can concatenate tuples using the + operator to produce longer tuples."
      ],
      "metadata": {
        "id": "iLKID0UcQCBL"
      }
    },
    {
      "cell_type": "code",
      "execution_count": null,
      "metadata": {
        "id": "6iAzq7hoRU-3"
      },
      "outputs": [],
      "source": [
        "(4, None, 'foo') + (6, 0) + ('bar',)"
      ]
    },
    {
      "cell_type": "code",
      "execution_count": null,
      "metadata": {
        "id": "5wH9S2qeRU-4"
      },
      "outputs": [],
      "source": [
        "('foo', 'bar') * 4"
      ]
    },
    {
      "cell_type": "markdown",
      "source": [
        "Unpacking tuples"
      ],
      "metadata": {
        "id": "L5bMTU5bQhJZ"
      }
    },
    {
      "cell_type": "code",
      "execution_count": null,
      "metadata": {
        "id": "p3glXHB2RU-4"
      },
      "outputs": [],
      "source": [
        "tup = (4, 5, 6)\n",
        "a, b, c = tup\n",
        "b"
      ]
    },
    {
      "cell_type": "code",
      "execution_count": null,
      "metadata": {
        "id": "LxenZaXyRU-4"
      },
      "outputs": [],
      "source": [
        "tup = 4, 5, (6, 7)\n",
        "#a, b, (c, d) = tup\n",
        "a, b, c = tup\n",
        "print(c)"
      ]
    },
    {
      "cell_type": "markdown",
      "source": [
        "Using this functionality you can easily swap variable names, a task that in many languages might look like:"
      ],
      "metadata": {
        "id": "xGGaGb94QpQd"
      }
    },
    {
      "cell_type": "code",
      "source": [
        "tmp = a\n",
        "a = b\n",
        "b = tmp"
      ],
      "metadata": {
        "id": "DWeijEdGQqxC"
      },
      "execution_count": null,
      "outputs": []
    },
    {
      "cell_type": "code",
      "execution_count": null,
      "metadata": {
        "id": "txj2OdGKRU-4"
      },
      "outputs": [],
      "source": [
        "a, b = 1, 2\n",
        "a\n",
        "b\n",
        "b, a = a, b\n",
        "a\n",
        "b"
      ]
    },
    {
      "cell_type": "markdown",
      "source": [
        "A common use of variable unpacking is iterating over sequences of tuples or lists:"
      ],
      "metadata": {
        "id": "5HtXO8zeQ58D"
      }
    },
    {
      "cell_type": "code",
      "execution_count": null,
      "metadata": {
        "id": "qGF8amDcRU-4"
      },
      "outputs": [],
      "source": [
        "seq = [(1, 2, 3), (4, 5, 6), (7, 8, 9)]\n",
        "for a, b, c in seq:\n",
        "    print(f'a={a}, b={b}, c={c}')"
      ]
    },
    {
      "cell_type": "code",
      "execution_count": null,
      "metadata": {
        "id": "bHGrUm2TRU-4"
      },
      "outputs": [],
      "source": [
        "values = 1, 2, 3, 4, 5\n",
        "a, b, *rest = values\n",
        "rest"
      ]
    },
    {
      "cell_type": "code",
      "execution_count": null,
      "metadata": {
        "id": "-wjG84bURU-4"
      },
      "outputs": [],
      "source": [
        "a, b, *_ = values"
      ]
    },
    {
      "cell_type": "code",
      "execution_count": null,
      "metadata": {
        "id": "03ar9Zm5RU-4"
      },
      "outputs": [],
      "source": [
        "a = (1, 2, 2, 2, 3, 4, 2)\n",
        "a.count(2)"
      ]
    },
    {
      "cell_type": "markdown",
      "source": [
        "List: lists are mutable"
      ],
      "metadata": {
        "id": "ZxRMr8FjTrME"
      }
    },
    {
      "cell_type": "code",
      "execution_count": null,
      "metadata": {
        "id": "8X7mBk6KRU-5"
      },
      "outputs": [],
      "source": [
        "a_list = [2, 3, 7, None]\n",
        "\n",
        "tup = (\"foo\", \"bar\", \"baz\")\n",
        "b_list = list(tup)\n",
        "b_list\n",
        "b_list[1] = \"peekaboo\"\n",
        "b_list"
      ]
    },
    {
      "cell_type": "code",
      "execution_count": null,
      "metadata": {
        "id": "Tn0lWCaCRU-5"
      },
      "outputs": [],
      "source": [
        "gen = range(10)\n",
        "gen\n",
        "list(gen)"
      ]
    },
    {
      "cell_type": "code",
      "execution_count": null,
      "metadata": {
        "id": "-b-worjtRU-5"
      },
      "outputs": [],
      "source": [
        "b_list.append(\"dwarf\")\n",
        "b_list"
      ]
    },
    {
      "cell_type": "code",
      "execution_count": null,
      "metadata": {
        "id": "xwlIsvzHRU-5"
      },
      "outputs": [],
      "source": [
        "b_list.insert(1, \"red\")\n",
        "b_list"
      ]
    },
    {
      "cell_type": "code",
      "execution_count": null,
      "metadata": {
        "id": "_un4zsZARU-5"
      },
      "outputs": [],
      "source": [
        "b_list.pop(2)\n",
        "b_list"
      ]
    },
    {
      "cell_type": "code",
      "execution_count": null,
      "metadata": {
        "id": "ofMwKub-RU-5"
      },
      "outputs": [],
      "source": [
        "b_list.append(\"foo\")\n",
        "b_list\n",
        "b_list.remove(\"foo\")\n",
        "b_list"
      ]
    },
    {
      "cell_type": "code",
      "execution_count": null,
      "metadata": {
        "id": "mFSiqviZRU-5"
      },
      "outputs": [],
      "source": [
        "\"dwarf\" in b_list"
      ]
    },
    {
      "cell_type": "code",
      "execution_count": null,
      "metadata": {
        "id": "_fyMJNkNRU-5"
      },
      "outputs": [],
      "source": [
        "\"dwarf\" not in b_list"
      ]
    },
    {
      "cell_type": "code",
      "execution_count": null,
      "metadata": {
        "id": "oT1JBgxkRU-5"
      },
      "outputs": [],
      "source": [
        "[4, None, \"foo\"] + [7, 8, (2, 3)]"
      ]
    },
    {
      "cell_type": "code",
      "execution_count": null,
      "metadata": {
        "id": "qYh5g3t8RU-5"
      },
      "outputs": [],
      "source": [
        "x = [4, None, \"foo\"]\n",
        "x.extend([7, 8, (2, 3)])\n",
        "x"
      ]
    },
    {
      "cell_type": "code",
      "execution_count": null,
      "metadata": {
        "id": "y8sgimqHRU-5"
      },
      "outputs": [],
      "source": [
        "a = [7, 2, 5, 1, 3]\n",
        "a.sort()\n",
        "a"
      ]
    },
    {
      "cell_type": "markdown",
      "source": [
        "sort has a few options that will occasionally come in handy. One is the ability to pass a secondary sort key—that is, a function that produces a value to use to sort the objects. For example, we could sort a collection of strings by their lengths:"
      ],
      "metadata": {
        "id": "CbIh97wYUVP1"
      }
    },
    {
      "cell_type": "code",
      "execution_count": null,
      "metadata": {
        "id": "sYK5GbbSRU-5"
      },
      "outputs": [],
      "source": [
        "b = [\"saw\", \"small\", \"He\", \"foxes\", \"six\"]\n",
        "b.sort(key=len)\n",
        "b"
      ]
    },
    {
      "cell_type": "code",
      "execution_count": null,
      "metadata": {
        "id": "AKorzubwRU-5"
      },
      "outputs": [],
      "source": [
        "seq = [7, 2, 3, 7, 5, 6, 0, 1]\n",
        "seq[1:5]"
      ]
    },
    {
      "cell_type": "code",
      "execution_count": null,
      "metadata": {
        "id": "JuiUpTdMRU-5"
      },
      "outputs": [],
      "source": [
        "seq[3:5] = [6, 3]\n",
        "seq"
      ]
    },
    {
      "cell_type": "code",
      "execution_count": null,
      "metadata": {
        "id": "hgfp0ydoRU-5"
      },
      "outputs": [],
      "source": [
        "seq[:5]\n",
        "seq[3:]"
      ]
    },
    {
      "cell_type": "code",
      "source": [
        "seq"
      ],
      "metadata": {
        "id": "AU2n_A2wU2bb"
      },
      "execution_count": null,
      "outputs": []
    },
    {
      "cell_type": "code",
      "execution_count": null,
      "metadata": {
        "id": "QN3Wve_aRU-5"
      },
      "outputs": [],
      "source": [
        "seq[-4:]\n",
        "#seq[-6:-2]"
      ]
    },
    {
      "cell_type": "code",
      "execution_count": null,
      "metadata": {
        "id": "66elQUzoRU-6"
      },
      "outputs": [],
      "source": [
        "seq[::2]"
      ]
    },
    {
      "cell_type": "code",
      "execution_count": null,
      "metadata": {
        "id": "uZbpMUBURU-6"
      },
      "outputs": [],
      "source": [
        "seq[::-1]"
      ]
    },
    {
      "cell_type": "markdown",
      "source": [
        " A dictionary stores a collection of key-value pairs, where key and value are Python objects."
      ],
      "metadata": {
        "id": "GNBjL1uVVtsi"
      }
    },
    {
      "cell_type": "markdown",
      "source": [
        "a hashmap is a data structure that stores data as key-value pairs and allows efficient retrieval of values using their associated keys."
      ],
      "metadata": {
        "id": "oiUzhwKZFwfg"
      }
    },
    {
      "cell_type": "code",
      "execution_count": null,
      "metadata": {
        "id": "gdKZhcZdRU-6",
        "colab": {
          "base_uri": "https://localhost:8080/"
        },
        "outputId": "0018bfee-77e9-49d6-c6c2-d4a51d0d768a"
      },
      "outputs": [
        {
          "output_type": "execute_result",
          "data": {
            "text/plain": [
              "{'a': 'some value', 'b': [1, 2, 3, 4]}"
            ]
          },
          "metadata": {},
          "execution_count": 71
        }
      ],
      "source": [
        "empty_dict = {}\n",
        "d1 = {\"a\": \"some value\", \"b\": [1, 2, 3, 4]}\n",
        "d1"
      ]
    },
    {
      "cell_type": "code",
      "execution_count": null,
      "metadata": {
        "id": "qpG2oNvKRU-6",
        "colab": {
          "base_uri": "https://localhost:8080/"
        },
        "outputId": "33de1ccc-f34e-4bd1-81bc-931bb7b26b98"
      },
      "outputs": [
        {
          "output_type": "execute_result",
          "data": {
            "text/plain": [
              "{'a': 'some value', 'b': [1, 2, 3, 4], 7: 'an integer'}"
            ]
          },
          "metadata": {},
          "execution_count": 62
        }
      ],
      "source": [
        "d1[7] = \"an integer\"\n",
        "d1\n",
        "# d1[0] # don't do this."
      ]
    },
    {
      "cell_type": "code",
      "execution_count": null,
      "metadata": {
        "id": "oQ00NR-pRU-6",
        "colab": {
          "base_uri": "https://localhost:8080/"
        },
        "outputId": "3a462eb9-ca07-48fe-db18-d69a2a30087e"
      },
      "outputs": [
        {
          "output_type": "execute_result",
          "data": {
            "text/plain": [
              "True"
            ]
          },
          "metadata": {},
          "execution_count": 67
        }
      ],
      "source": [
        "# \"b\" in d1\n",
        "\"some value\" in d1.values() # we can use this to check if something is in the values."
      ]
    },
    {
      "cell_type": "markdown",
      "source": [
        "Can we delete the key-value pair by its value?"
      ],
      "metadata": {
        "id": "deQBZQh1PdG1"
      }
    },
    {
      "cell_type": "code",
      "source": [
        "d1"
      ],
      "metadata": {
        "colab": {
          "base_uri": "https://localhost:8080/"
        },
        "id": "l2fyaLIMNdsF",
        "outputId": "7ae21a7e-fdfd-49a3-e133-7c66d97c5894"
      },
      "execution_count": null,
      "outputs": [
        {
          "output_type": "execute_result",
          "data": {
            "text/plain": [
              "{'a': 'some value', 'b': [1, 2, 3, 4]}"
            ]
          },
          "metadata": {},
          "execution_count": 72
        }
      ]
    },
    {
      "cell_type": "code",
      "execution_count": null,
      "metadata": {
        "id": "aX2B_nGERU-6"
      },
      "outputs": [],
      "source": [
        "# d1[5] = \"some value\"\n",
        "# d1\n",
        "# d1[\"dummy\"] = \"another value\"\n",
        "# d1\n",
        "del d1[5]\n",
        "# d1\n",
        "# ret = d1.pop(\"dummy\")\n",
        "# print(ret)\n",
        "# d1"
      ]
    },
    {
      "cell_type": "code",
      "source": [
        "d1"
      ],
      "metadata": {
        "colab": {
          "base_uri": "https://localhost:8080/"
        },
        "id": "sOWNOQwRM46B",
        "outputId": "923a037f-c3de-4f7e-c8f1-d6a337d544dc"
      },
      "execution_count": null,
      "outputs": [
        {
          "output_type": "execute_result",
          "data": {
            "text/plain": [
              "{'a': 'some value', 'b': [1, 2, 3, 4], 'dummy': 'another value'}"
            ]
          },
          "metadata": {},
          "execution_count": 76
        }
      ]
    },
    {
      "cell_type": "code",
      "execution_count": null,
      "metadata": {
        "id": "sjMcO3gwRU--",
        "colab": {
          "base_uri": "https://localhost:8080/"
        },
        "outputId": "b0a88c8b-3e6c-41e9-e03d-20ea2a79f82e"
      },
      "outputs": [
        {
          "output_type": "execute_result",
          "data": {
            "text/plain": [
              "['some value', [1, 2, 3, 4], 'another value']"
            ]
          },
          "metadata": {},
          "execution_count": 79
        }
      ],
      "source": [
        "list(d1.keys())\n",
        "list(d1.values())"
      ]
    },
    {
      "cell_type": "code",
      "execution_count": null,
      "metadata": {
        "id": "Ri4JivONRU--",
        "colab": {
          "base_uri": "https://localhost:8080/"
        },
        "outputId": "47c3e4e7-7cd1-4cbb-c4f1-b3ff3b317f8f"
      },
      "outputs": [
        {
          "output_type": "execute_result",
          "data": {
            "text/plain": [
              "[('a', 'some value'), ('b', [1, 2, 3, 4]), ('dummy', 'another value')]"
            ]
          },
          "metadata": {},
          "execution_count": 80
        }
      ],
      "source": [
        "list(d1.items())"
      ]
    },
    {
      "cell_type": "markdown",
      "source": [
        "You can merge one dictionary into another using the update method. The update method changes dictionaries in place, so any existing keys in the data passed to update will have their old values discarded."
      ],
      "metadata": {
        "id": "hUWZDbACV1Jg"
      }
    },
    {
      "cell_type": "code",
      "execution_count": null,
      "metadata": {
        "id": "RTonaM0qRU--",
        "colab": {
          "base_uri": "https://localhost:8080/"
        },
        "outputId": "7d829b8d-96c4-4ce4-ffef-b1cfd4eca371"
      },
      "outputs": [
        {
          "output_type": "execute_result",
          "data": {
            "text/plain": [
              "{'a': 'some value', 'b': 'foo', 'dummy': 'another value', 'c': 12}"
            ]
          },
          "metadata": {},
          "execution_count": 81
        }
      ],
      "source": [
        "d1.update({\"b\": \"foo\", \"c\": 12})\n",
        "d1"
      ]
    },
    {
      "cell_type": "markdown",
      "source": [
        "reversed(range(5)): 4,3,2,1,0\n",
        "\n",
        "for this case, you have to use the same number of elements for both ranges."
      ],
      "metadata": {
        "id": "LKmVeSjXTl13"
      }
    },
    {
      "cell_type": "code",
      "execution_count": null,
      "metadata": {
        "id": "KfAOjrcFRU--",
        "colab": {
          "base_uri": "https://localhost:8080/"
        },
        "outputId": "59e768fc-aaab-4f86-b3ff-529e7f2530d9"
      },
      "outputs": [
        {
          "output_type": "execute_result",
          "data": {
            "text/plain": [
              "{0: 4, 1: 3, 2: 2, 3: 1, 4: 0}"
            ]
          },
          "metadata": {},
          "execution_count": 85
        }
      ],
      "source": [
        "tuples = zip(range(5), reversed(range(5)))\n",
        "tuples\n",
        "mapping = dict(tuples)\n",
        "mapping"
      ]
    },
    {
      "cell_type": "markdown",
      "source": [
        "Suppose you want to group words by their first letter.\n",
        "You need to check if the letter already exists in the dictionary:"
      ],
      "metadata": {
        "id": "NpzzNdsQawVD"
      }
    },
    {
      "cell_type": "code",
      "execution_count": null,
      "metadata": {
        "id": "dLHkMay8RU--",
        "colab": {
          "base_uri": "https://localhost:8080/"
        },
        "outputId": "d2c24ce2-277a-407d-f097-76c4a17b57ff"
      },
      "outputs": [
        {
          "output_type": "execute_result",
          "data": {
            "text/plain": [
              "{'a': ['apple', 'atom'], 'b': ['bat', 'bar', 'book']}"
            ]
          },
          "metadata": {},
          "execution_count": 86
        }
      ],
      "source": [
        "words = [\"apple\", \"bat\", \"bar\", \"atom\", \"book\"]\n",
        "by_letter = {}\n",
        "\n",
        "for word in words:\n",
        "    letter = word[0]\n",
        "    if letter not in by_letter:\n",
        "        by_letter[letter] = [word]\n",
        "    else:\n",
        "        by_letter[letter].append(word)\n",
        "\n",
        "by_letter"
      ]
    },
    {
      "cell_type": "markdown",
      "source": [
        "Instead of writing the if/else, setdefault handles the “create key if missing” step.\n",
        "What happens:\n",
        "\n",
        "\t•\tIf letter is not in the dict → insert letter: [], then append.  \n",
        "\t•\tIf letter already exists → just append.\n",
        "\n",
        "Same result, shorter code:"
      ],
      "metadata": {
        "id": "_DVYK9-Sa2b5"
      }
    },
    {
      "cell_type": "code",
      "execution_count": null,
      "metadata": {
        "id": "qLofxuhlRU--"
      },
      "outputs": [],
      "source": [
        "by_letter = {}\n",
        "for word in words:\n",
        "    letter = word[0]\n",
        "    by_letter.setdefault(letter, []).append(word)\n",
        "by_letter"
      ]
    },
    {
      "cell_type": "markdown",
      "source": [
        " The best tool: defaultdict\n",
        "\n",
        "Even cleaner is collections.defaultdict.\n",
        "Here, defaultdict(list) means:\n",
        "if a key doesn’t exist, automatically create it with an empty list [].\n",
        "\n",
        "Result is the same, but the code is shortest and most Pythonic:"
      ],
      "metadata": {
        "id": "wXOWsw7AbVRx"
      }
    },
    {
      "cell_type": "code",
      "execution_count": null,
      "metadata": {
        "id": "8KCyLZvSRU--",
        "colab": {
          "base_uri": "https://localhost:8080/"
        },
        "outputId": "f6d3c060-30f7-41b3-f4b4-fc7c8b8d1bb8"
      },
      "outputs": [
        {
          "output_type": "execute_result",
          "data": {
            "text/plain": [
              "defaultdict(list, {'a': ['apple', 'atom'], 'b': ['bat', 'bar', 'book']})"
            ]
          },
          "metadata": {},
          "execution_count": 87
        }
      ],
      "source": [
        "from collections import defaultdict\n",
        "by_letter = defaultdict(list)\n",
        "for word in words:\n",
        "    by_letter[word[0]].append(word)\n",
        "\n",
        "by_letter"
      ]
    },
    {
      "cell_type": "markdown",
      "source": [
        "Valid dictionary key types:\n",
        "\n",
        "the keys generally have to\n",
        "be immutable objects like scalar types (int, float, string) or tuples (all the objects in\n",
        "the tuple need to be immutable, too)"
      ],
      "metadata": {
        "id": "0tSyfyzFbsOX"
      }
    },
    {
      "cell_type": "code",
      "execution_count": null,
      "metadata": {
        "id": "wQcM6H9HRU--",
        "colab": {
          "base_uri": "https://localhost:8080/",
          "height": 176
        },
        "outputId": "9df32891-aed5-4ac8-eae2-059f9147b9fe"
      },
      "outputs": [
        {
          "output_type": "error",
          "ename": "TypeError",
          "evalue": "unhashable type: 'list'",
          "traceback": [
            "\u001b[0;31m---------------------------------------------------------------------------\u001b[0m",
            "\u001b[0;31mTypeError\u001b[0m                                 Traceback (most recent call last)",
            "\u001b[0;32m/tmp/ipython-input-2176169825.py\u001b[0m in \u001b[0;36m<cell line: 0>\u001b[0;34m()\u001b[0m\n\u001b[1;32m      1\u001b[0m \u001b[0mhash\u001b[0m\u001b[0;34m(\u001b[0m\u001b[0;34m\"string\"\u001b[0m\u001b[0;34m)\u001b[0m\u001b[0;34m\u001b[0m\u001b[0;34m\u001b[0m\u001b[0m\n\u001b[1;32m      2\u001b[0m \u001b[0mhash\u001b[0m\u001b[0;34m(\u001b[0m\u001b[0;34m(\u001b[0m\u001b[0;36m1\u001b[0m\u001b[0;34m,\u001b[0m \u001b[0;36m2\u001b[0m\u001b[0;34m,\u001b[0m \u001b[0;34m(\u001b[0m\u001b[0;36m2\u001b[0m\u001b[0;34m,\u001b[0m \u001b[0;36m3\u001b[0m\u001b[0;34m)\u001b[0m\u001b[0;34m)\u001b[0m\u001b[0;34m)\u001b[0m\u001b[0;34m\u001b[0m\u001b[0;34m\u001b[0m\u001b[0m\n\u001b[0;32m----> 3\u001b[0;31m \u001b[0mhash\u001b[0m\u001b[0;34m(\u001b[0m\u001b[0;34m(\u001b[0m\u001b[0;36m1\u001b[0m\u001b[0;34m,\u001b[0m \u001b[0;36m2\u001b[0m\u001b[0;34m,\u001b[0m \u001b[0;34m[\u001b[0m\u001b[0;36m2\u001b[0m\u001b[0;34m,\u001b[0m \u001b[0;36m3\u001b[0m\u001b[0;34m]\u001b[0m\u001b[0;34m)\u001b[0m\u001b[0;34m)\u001b[0m\u001b[0;34m\u001b[0m\u001b[0;34m\u001b[0m\u001b[0m\n\u001b[0m",
            "\u001b[0;31mTypeError\u001b[0m: unhashable type: 'list'"
          ]
        }
      ],
      "source": [
        "hash(\"string\")\n",
        "hash((1, 2, (2, 3)))\n",
        "hash((1, 2, [2, 3]))"
      ]
    },
    {
      "cell_type": "code",
      "execution_count": null,
      "metadata": {
        "id": "qZIrmc2tRU-_",
        "colab": {
          "base_uri": "https://localhost:8080/"
        },
        "outputId": "38c50a45-886a-4188-ede2-142fb43ff37b"
      },
      "outputs": [
        {
          "output_type": "execute_result",
          "data": {
            "text/plain": [
              "{(1, 2, 3): 5}"
            ]
          },
          "metadata": {},
          "execution_count": 92
        }
      ],
      "source": [
        "d = {}\n",
        "d[tuple([1, 2, 3])] = 5\n",
        "d"
      ]
    },
    {
      "cell_type": "markdown",
      "source": [
        "A set is an unordered collection of unique elements. A set can be created in two ways: via the set function or via a set literal with curly braces:"
      ],
      "metadata": {
        "id": "9dNSQ38ZWT4p"
      }
    },
    {
      "cell_type": "code",
      "execution_count": null,
      "metadata": {
        "id": "F83vlMpaRU-_"
      },
      "outputs": [],
      "source": [
        "set([2, 2, 2, 1, 3, 3])\n",
        "aset = {2, 3, 3, 2, 2, 2, 1, 3, 3}\n",
        "print(aset)"
      ]
    },
    {
      "cell_type": "code",
      "execution_count": null,
      "metadata": {
        "id": "7GQ2tzf5RU-_"
      },
      "outputs": [],
      "source": [
        "a = {1, 2, 3, 4, 5}\n",
        "b = {3, 4, 5, 6, 7, 8}"
      ]
    },
    {
      "cell_type": "markdown",
      "source": [
        "The union of these two sets is the set of distinct elements occurring in either set. This can be computed with either the union method or the | binary operator:"
      ],
      "metadata": {
        "id": "Q73HU0f2WsAi"
      }
    },
    {
      "cell_type": "code",
      "execution_count": null,
      "metadata": {
        "id": "uIcKGgK8RU-_"
      },
      "outputs": [],
      "source": [
        "a.union(b)\n",
        "a | b"
      ]
    },
    {
      "cell_type": "markdown",
      "source": [
        "The intersection contains the elements occurring in both sets. The & operator or the intersection method can be used:"
      ],
      "metadata": {
        "id": "jrCPBh6hWuh_"
      }
    },
    {
      "cell_type": "code",
      "execution_count": null,
      "metadata": {
        "id": "b9WA5pRwRU-_"
      },
      "outputs": [],
      "source": [
        "a.intersection(b)\n",
        "a & b"
      ]
    },
    {
      "cell_type": "code",
      "execution_count": null,
      "metadata": {
        "id": "g26WHC5JRU-_"
      },
      "outputs": [],
      "source": [
        "c = a.copy()\n",
        "c |= b\n",
        "c\n",
        "d = a.copy()\n",
        "d &= b\n",
        "d"
      ]
    },
    {
      "cell_type": "code",
      "execution_count": null,
      "metadata": {
        "id": "RwbqBBZSRU-_"
      },
      "outputs": [],
      "source": [
        "my_data = [1, 2, 3, 4]\n",
        "my_set = {tuple(my_data)}\n",
        "my_set"
      ]
    },
    {
      "cell_type": "code",
      "execution_count": null,
      "metadata": {
        "id": "Qoi9P1vVRU-_"
      },
      "outputs": [],
      "source": [
        "a_set = {1, 2, 3, 4, 5}\n",
        "{1, 2, 3}.issubset(a_set)\n",
        "a_set.issuperset({1, 2, 3})"
      ]
    },
    {
      "cell_type": "code",
      "execution_count": null,
      "metadata": {
        "id": "S02fY5BgRU-_"
      },
      "outputs": [],
      "source": [
        "{1, 2, 3} == {3, 2, 1}"
      ]
    },
    {
      "cell_type": "code",
      "execution_count": null,
      "metadata": {
        "id": "WYTaqzumRU-_"
      },
      "outputs": [],
      "source": [
        "sorted([7, 1, 2, 6, 0, 3, 2])\n",
        "sorted(\"horse race\")"
      ]
    },
    {
      "cell_type": "code",
      "execution_count": null,
      "metadata": {
        "id": "kUecQtW0RU-_"
      },
      "outputs": [],
      "source": [
        "seq1 = [\"foo\", \"bar\", \"baz\"]\n",
        "seq2 = [\"one\", \"two\", \"three\"]\n",
        "zipped = zip(seq1, seq2)\n",
        "list(zipped)"
      ]
    },
    {
      "cell_type": "code",
      "execution_count": null,
      "metadata": {
        "id": "OyMg09U5RU-_"
      },
      "outputs": [],
      "source": [
        "seq3 = [False, True]\n",
        "list(zip(seq1, seq2, seq3))"
      ]
    },
    {
      "cell_type": "code",
      "execution_count": null,
      "metadata": {
        "id": "vtQtcsReRU-_"
      },
      "outputs": [],
      "source": [
        "for index, (a, b) in enumerate(zip(seq1, seq2)):\n",
        "    print(f\"{index}: {a}, {b}\")\n"
      ]
    },
    {
      "cell_type": "code",
      "execution_count": null,
      "metadata": {
        "id": "ipBkDn-JRU-_"
      },
      "outputs": [],
      "source": [
        "list(reversed(range(10)))"
      ]
    },
    {
      "cell_type": "code",
      "execution_count": null,
      "metadata": {
        "id": "opc7mUJ8RU-_"
      },
      "outputs": [],
      "source": [
        "strings = [\"a\", \"as\", \"bat\", \"car\", \"dove\", \"python\"]\n",
        "[x.upper() for x in strings if len(x) > 2]"
      ]
    },
    {
      "cell_type": "code",
      "execution_count": null,
      "metadata": {
        "id": "jpUNTn8FRU-_"
      },
      "outputs": [],
      "source": [
        "unique_lengths = {len(x) for x in strings}\n",
        "unique_lengths"
      ]
    },
    {
      "cell_type": "code",
      "execution_count": null,
      "metadata": {
        "id": "bUhMr33mRU-_"
      },
      "outputs": [],
      "source": [
        "set(map(len, strings))"
      ]
    },
    {
      "cell_type": "code",
      "execution_count": null,
      "metadata": {
        "id": "lA8CcbopRU-_"
      },
      "outputs": [],
      "source": [
        "loc_mapping = {value: index for index, value in enumerate(strings)}\n",
        "loc_mapping"
      ]
    },
    {
      "cell_type": "code",
      "execution_count": null,
      "metadata": {
        "id": "e_wXKNmlRU_A"
      },
      "outputs": [],
      "source": [
        "all_data = [[\"John\", \"Emily\", \"Michael\", \"Mary\", \"Steven\"],\n",
        "            [\"Maria\", \"Juan\", \"Javier\", \"Natalia\", \"Pilar\"]]"
      ]
    },
    {
      "cell_type": "code",
      "execution_count": null,
      "metadata": {
        "id": "Etx2Ao_ORU_A"
      },
      "outputs": [],
      "source": [
        "names_of_interest = []\n",
        "for names in all_data:\n",
        "    enough_as = [name for name in names if name.count(\"a\") >= 2]\n",
        "    names_of_interest.extend(enough_as)\n",
        "names_of_interest"
      ]
    },
    {
      "cell_type": "code",
      "execution_count": null,
      "metadata": {
        "id": "odiaAoVuRU_A"
      },
      "outputs": [],
      "source": [
        "result = [name for names in all_data for name in names\n",
        "          if name.count(\"a\") >= 2]\n",
        "result"
      ]
    },
    {
      "cell_type": "code",
      "execution_count": null,
      "metadata": {
        "id": "2me_xiI4RU_A"
      },
      "outputs": [],
      "source": [
        "some_tuples = [(1, 2, 3), (4, 5, 6), (7, 8, 9)]\n",
        "flattened = [x for tup in some_tuples for x in tup]\n",
        "flattened"
      ]
    },
    {
      "cell_type": "code",
      "execution_count": null,
      "metadata": {
        "id": "kwJTn5c6RU_A"
      },
      "outputs": [],
      "source": [
        "flattened = []\n",
        "\n",
        "for tup in some_tuples:\n",
        "    for x in tup:\n",
        "        flattened.append(x)"
      ]
    },
    {
      "cell_type": "code",
      "execution_count": null,
      "metadata": {
        "id": "cocBwMV_RU_A"
      },
      "outputs": [],
      "source": [
        "[[x for x in tup] for tup in some_tuples]"
      ]
    },
    {
      "cell_type": "markdown",
      "source": [
        "Functions"
      ],
      "metadata": {
        "id": "Gy-sSwypXvtb"
      }
    },
    {
      "cell_type": "code",
      "execution_count": null,
      "metadata": {
        "id": "cNFYNxEtRU_A"
      },
      "outputs": [],
      "source": [
        "def my_function(x, y):\n",
        "    return x + y"
      ]
    },
    {
      "cell_type": "code",
      "execution_count": null,
      "metadata": {
        "id": "o0boRWzmRU_A",
        "colab": {
          "base_uri": "https://localhost:8080/"
        },
        "outputId": "096d8b31-1d73-438c-ccaa-668a95d12e14"
      },
      "outputs": [
        {
          "output_type": "execute_result",
          "data": {
            "text/plain": [
              "3"
            ]
          },
          "metadata": {},
          "execution_count": 95
        }
      ],
      "source": [
        "my_function(1, 2)\n",
        "result = my_function(1, 2)\n",
        "result"
      ]
    },
    {
      "cell_type": "code",
      "execution_count": null,
      "metadata": {
        "id": "8ZeSmgENRU_A",
        "colab": {
          "base_uri": "https://localhost:8080/"
        },
        "outputId": "a88415dd-7704-466a-daac-2547a47abdb7"
      },
      "outputs": [
        {
          "output_type": "stream",
          "name": "stdout",
          "text": [
            "hello!\n"
          ]
        }
      ],
      "source": [
        "def function_without_return(x):\n",
        "    print(x)\n",
        "\n",
        "function_without_return(\"hello!\")"
      ]
    },
    {
      "cell_type": "markdown",
      "source": [
        "Functions, default value"
      ],
      "metadata": {
        "id": "_wCoyFx8Xy1G"
      }
    },
    {
      "cell_type": "code",
      "execution_count": null,
      "metadata": {
        "id": "i_17FX8nRU_A"
      },
      "outputs": [],
      "source": [
        "def my_function2(x, y, z=1.5):\n",
        "    if z > 1:\n",
        "        return z * (x + y)\n",
        "    else:\n",
        "        return z / (x + y)"
      ]
    },
    {
      "cell_type": "markdown",
      "source": [
        "The main restriction on function arguments is that the keyword arguments must follow the positional arguments (if any). You can specify keyword arguments in any order. This frees you from having to remember the order in which the function arguments were specified. You need to remember only what their names are."
      ],
      "metadata": {
        "id": "2JP-lL5vYZDI"
      }
    },
    {
      "cell_type": "code",
      "execution_count": null,
      "metadata": {
        "id": "AAwPgUNCRU_A",
        "colab": {
          "base_uri": "https://localhost:8080/"
        },
        "outputId": "59696c1d-f56c-45de-8add-40d0fd8e9203"
      },
      "outputs": [
        {
          "output_type": "execute_result",
          "data": {
            "text/plain": [
              "46.480000000000004"
            ]
          },
          "metadata": {},
          "execution_count": 103
        }
      ],
      "source": [
        "#my_function2(5, 6, z=0.7)\n",
        "my_function2(y=3.14, z=7, x=3.5)\n",
        "#my_function2(10)"
      ]
    },
    {
      "cell_type": "markdown",
      "source": [
        "Namespaces, Scope, and Local Functions\n",
        "\n",
        " Any variables that are assigned within a function by default are assigned to the local namespace."
      ],
      "metadata": {
        "id": "GR4JmLCKZwU5"
      }
    },
    {
      "cell_type": "code",
      "execution_count": null,
      "metadata": {
        "id": "RgcPKc4YRU_A"
      },
      "outputs": [],
      "source": [
        "a = []\n",
        "def func():\n",
        "    for i in range(5):\n",
        "        a.append(i)"
      ]
    },
    {
      "cell_type": "code",
      "execution_count": null,
      "metadata": {
        "id": "T7vUKYPORU_A",
        "colab": {
          "base_uri": "https://localhost:8080/"
        },
        "outputId": "5e069b12-36d5-4ab1-f6bd-0c3b99dde0b4"
      },
      "outputs": [
        {
          "output_type": "execute_result",
          "data": {
            "text/plain": [
              "[0,\n",
              " 1,\n",
              " 2,\n",
              " 3,\n",
              " 4,\n",
              " 0,\n",
              " 1,\n",
              " 2,\n",
              " 3,\n",
              " 4,\n",
              " 0,\n",
              " 1,\n",
              " 2,\n",
              " 3,\n",
              " 4,\n",
              " 0,\n",
              " 1,\n",
              " 2,\n",
              " 3,\n",
              " 4,\n",
              " 0,\n",
              " 1,\n",
              " 2,\n",
              " 3,\n",
              " 4,\n",
              " 0,\n",
              " 1,\n",
              " 2,\n",
              " 3,\n",
              " 4]"
            ]
          },
          "metadata": {},
          "execution_count": 107
        }
      ],
      "source": [
        "func()\n",
        "a\n",
        "func()\n",
        "a"
      ]
    },
    {
      "cell_type": "markdown",
      "source": [
        "I generally discourage use of the global keyword. Typically, global variables are used to store some kind of state in a system. If you find yourself using a lot of them, it may indicate a need for object-oriented programming (using classes)."
      ],
      "metadata": {
        "id": "z2BuOKyNaMHj"
      }
    },
    {
      "cell_type": "code",
      "execution_count": null,
      "metadata": {
        "id": "di9krddMRU_A"
      },
      "outputs": [],
      "source": [
        "#a = None\n",
        "def bind_a_variable():\n",
        "    global a\n",
        "    a = 6\n",
        "bind_a_variable()\n",
        "print(a)"
      ]
    },
    {
      "cell_type": "markdown",
      "source": [
        "Anonymous (Lambda) Functions\n",
        "\n"
      ],
      "metadata": {
        "id": "JzdddQumcbuU"
      }
    },
    {
      "cell_type": "code",
      "execution_count": null,
      "metadata": {
        "id": "Xh4mrDC1RU_B"
      },
      "outputs": [],
      "source": [
        "def short_function(x):\n",
        "    return x * 2\n",
        "\n",
        "equiv_anon = lambda x: x * 2"
      ]
    },
    {
      "cell_type": "code",
      "execution_count": null,
      "metadata": {
        "id": "IUW4EDe5RU_B",
        "colab": {
          "base_uri": "https://localhost:8080/"
        },
        "outputId": "81b3a546-81ff-4621-f0b7-a2caa6fa3e41"
      },
      "outputs": [
        {
          "output_type": "execute_result",
          "data": {
            "text/plain": [
              "[8, 0, 2, 10, 12]"
            ]
          },
          "metadata": {},
          "execution_count": 110
        }
      ],
      "source": [
        "def apply_to_list(some_list, f): # f is a function\n",
        "    return [f(x) for x in some_list]\n",
        "\n",
        "ints = [4, 0, 1, 5, 6]\n",
        "apply_to_list(ints, lambda x: x * 2)"
      ]
    },
    {
      "cell_type": "code",
      "execution_count": null,
      "metadata": {
        "id": "xvDpKIzvRU_B"
      },
      "outputs": [],
      "source": [
        "strings = [\"foo\", \"card\", \"bar\", \"aaaa\", \"abab\", ]"
      ]
    },
    {
      "cell_type": "code",
      "execution_count": null,
      "metadata": {
        "id": "Gaw5nVpzRU_B",
        "colab": {
          "base_uri": "https://localhost:8080/"
        },
        "outputId": "2f128fc7-650f-4eed-d500-4893aacc9417"
      },
      "outputs": [
        {
          "output_type": "execute_result",
          "data": {
            "text/plain": [
              "['aaaa', 'foo', 'abab', 'bar', 'card']"
            ]
          },
          "metadata": {},
          "execution_count": 111
        }
      ],
      "source": [
        "strings.sort(key=lambda x: len(set(x)))\n",
        "strings"
      ]
    },
    {
      "cell_type": "code",
      "execution_count": null,
      "metadata": {
        "id": "nb2imI_sRU_B",
        "colab": {
          "base_uri": "https://localhost:8080/"
        },
        "outputId": "f4243a0c-6505-4bff-e9df-38b948d32442"
      },
      "outputs": [
        {
          "output_type": "stream",
          "name": "stdout",
          "text": [
            "a\n",
            "b\n",
            "c\n"
          ]
        }
      ],
      "source": [
        "some_dict = {\"a\": 1, \"b\": 2, \"c\": 3}\n",
        "for key in some_dict: # for key in some_dict.keys():\n",
        "    print(key)"
      ]
    },
    {
      "cell_type": "code",
      "execution_count": null,
      "metadata": {
        "id": "15uiJXvsRU_B",
        "colab": {
          "base_uri": "https://localhost:8080/"
        },
        "outputId": "2b796d41-55d6-4034-c47a-e838539c0cad"
      },
      "outputs": [
        {
          "output_type": "execute_result",
          "data": {
            "text/plain": [
              "<dict_keyiterator at 0x7adf5b2ac310>"
            ]
          },
          "metadata": {},
          "execution_count": 114
        }
      ],
      "source": [
        "dict_iterator = iter(some_dict)\n",
        "dict_iterator"
      ]
    },
    {
      "cell_type": "code",
      "execution_count": null,
      "metadata": {
        "id": "U_KTY3W3RU_B",
        "colab": {
          "base_uri": "https://localhost:8080/"
        },
        "outputId": "b2527a5f-4a9e-4967-b360-59651efa57f9"
      },
      "outputs": [
        {
          "output_type": "execute_result",
          "data": {
            "text/plain": [
              "['a', 'b', 'c']"
            ]
          },
          "metadata": {},
          "execution_count": 115
        }
      ],
      "source": [
        "list(dict_iterator)"
      ]
    },
    {
      "cell_type": "markdown",
      "source": [
        "Generator"
      ],
      "metadata": {
        "id": "Kn-uwettXp6H"
      }
    },
    {
      "cell_type": "code",
      "execution_count": null,
      "metadata": {
        "id": "b50JX9ALRU_B"
      },
      "outputs": [],
      "source": [
        "def squares(n=10):\n",
        "    print(f\"Generating squares from 1 to {n ** 2}\")\n",
        "    for i in range(1, n + 1):\n",
        "        yield i ** 2 # you can't use \"return\" here if you want to make it a generator."
      ]
    },
    {
      "cell_type": "code",
      "execution_count": null,
      "metadata": {
        "id": "Fa-FIfyARU_B",
        "colab": {
          "base_uri": "https://localhost:8080/"
        },
        "outputId": "1f5c8fb0-a0ac-410a-93bc-6d4e4e2ad9c6"
      },
      "outputs": [
        {
          "output_type": "execute_result",
          "data": {
            "text/plain": [
              "<generator object squares at 0x7adf5b4775a0>"
            ]
          },
          "metadata": {},
          "execution_count": 116
        }
      ],
      "source": [
        "gen = squares()\n",
        "gen"
      ]
    },
    {
      "cell_type": "code",
      "execution_count": null,
      "metadata": {
        "id": "LWyHPXoNRU_B",
        "colab": {
          "base_uri": "https://localhost:8080/"
        },
        "outputId": "8d4138dc-df49-403f-d2fc-0932c02dcd46"
      },
      "outputs": [
        {
          "output_type": "stream",
          "name": "stdout",
          "text": [
            "Generating squares from 1 to 100\n",
            "1 4 9 16 25 36 49 64 81 100 "
          ]
        }
      ],
      "source": [
        "for x in squares():\n",
        "    print(x, end=\" \")"
      ]
    },
    {
      "cell_type": "markdown",
      "source": [
        "Another way to make a generator is by using a generator expression. This is a generator analogue to list, dictionary, and set comprehensions. To create one, enclose what would otherwise be a list comprehension within parentheses instead of brackets"
      ],
      "metadata": {
        "id": "zFweYMgPCNww"
      }
    },
    {
      "cell_type": "code",
      "execution_count": null,
      "metadata": {
        "id": "DcgAYq0VRU_B",
        "colab": {
          "base_uri": "https://localhost:8080/"
        },
        "outputId": "178fdc97-e206-4358-da03-56993ecb757c"
      },
      "outputs": [
        {
          "output_type": "execute_result",
          "data": {
            "text/plain": [
              "<generator object <genexpr> at 0x7adf5b2cb780>"
            ]
          },
          "metadata": {},
          "execution_count": 123
        }
      ],
      "source": [
        "gen = (x ** 2 for x in range(100))\n",
        "gen"
      ]
    },
    {
      "cell_type": "code",
      "execution_count": null,
      "metadata": {
        "id": "QI2OwpjqRU_B",
        "colab": {
          "base_uri": "https://localhost:8080/"
        },
        "outputId": "d0af43ea-b723-439c-d76e-584f2a861b4d"
      },
      "outputs": [
        {
          "output_type": "execute_result",
          "data": {
            "text/plain": [
              "{0: 0, 1: 1, 2: 4, 3: 9, 4: 16}"
            ]
          },
          "metadata": {},
          "execution_count": 124
        }
      ],
      "source": [
        "sum(x ** 2 for x in range(100))\n",
        "dict((i, i ** 2) for i in range(5))"
      ]
    },
    {
      "cell_type": "markdown",
      "source": [
        "The standard library itertools module has a collection of generators for many common data algorithms. For example, groupby takes any sequence and a function, grouping consecutive elements in the sequence by return value of the function. Here’s an example:"
      ],
      "metadata": {
        "id": "urI0sozrCY74"
      }
    },
    {
      "cell_type": "code",
      "execution_count": null,
      "metadata": {
        "id": "411FLXhnRU_B"
      },
      "outputs": [],
      "source": [
        "import itertools\n",
        "def first_letter(x):\n",
        "    return x[0]\n",
        "\n",
        "names = [\"Alan\", \"Adam\", \"Wes\", \"Will\", \"Albert\", \"Steven\"]\n",
        "\n",
        "for letter, names in itertools.groupby(names, first_letter):\n",
        "    print(letter, list(names)) # names is a generator"
      ]
    },
    {
      "cell_type": "markdown",
      "source": [
        "Errors and Exception Handling\n"
      ],
      "metadata": {
        "id": "Y_gJHAVPCnPH"
      }
    },
    {
      "cell_type": "code",
      "execution_count": null,
      "metadata": {
        "id": "PuUNY9zwRU_B",
        "colab": {
          "base_uri": "https://localhost:8080/",
          "height": 158
        },
        "outputId": "bf7f3148-a4f6-4a7b-a8d3-2459531a2279"
      },
      "outputs": [
        {
          "output_type": "error",
          "ename": "ValueError",
          "evalue": "could not convert string to float: 'something'",
          "traceback": [
            "\u001b[0;31m---------------------------------------------------------------------------\u001b[0m",
            "\u001b[0;31mValueError\u001b[0m                                Traceback (most recent call last)",
            "\u001b[0;32m/tmp/ipython-input-1474345796.py\u001b[0m in \u001b[0;36m<cell line: 0>\u001b[0;34m()\u001b[0m\n\u001b[1;32m      1\u001b[0m \u001b[0mfloat\u001b[0m\u001b[0;34m(\u001b[0m\u001b[0;34m\"1.2345\"\u001b[0m\u001b[0;34m)\u001b[0m\u001b[0;34m\u001b[0m\u001b[0;34m\u001b[0m\u001b[0m\n\u001b[0;32m----> 2\u001b[0;31m \u001b[0mfloat\u001b[0m\u001b[0;34m(\u001b[0m\u001b[0;34m\"something\"\u001b[0m\u001b[0;34m)\u001b[0m\u001b[0;34m\u001b[0m\u001b[0;34m\u001b[0m\u001b[0m\n\u001b[0m",
            "\u001b[0;31mValueError\u001b[0m: could not convert string to float: 'something'"
          ]
        }
      ],
      "source": [
        "float(\"1.2345\")\n",
        "float(\"something\")"
      ]
    },
    {
      "cell_type": "code",
      "execution_count": null,
      "metadata": {
        "id": "iKt3KydORU_B"
      },
      "outputs": [],
      "source": [
        "def attempt_float(x):\n",
        "    try:\n",
        "        return float(x)\n",
        "    except:\n",
        "        return x"
      ]
    },
    {
      "cell_type": "code",
      "execution_count": null,
      "metadata": {
        "id": "1WFt0cJARU_B",
        "colab": {
          "base_uri": "https://localhost:8080/",
          "height": 35
        },
        "outputId": "a62b73a1-31bf-42ca-aa0b-b684cc34c247"
      },
      "outputs": [
        {
          "output_type": "execute_result",
          "data": {
            "text/plain": [
              "'something'"
            ],
            "application/vnd.google.colaboratory.intrinsic+json": {
              "type": "string"
            }
          },
          "metadata": {},
          "execution_count": 129
        }
      ],
      "source": [
        "attempt_float(\"1.2345\")\n",
        "attempt_float(\"something\")"
      ]
    },
    {
      "cell_type": "markdown",
      "source": [
        "You might want to suppress only ValueError, since a TypeError (the input was not a string or numeric value) might indicate a legitimate bug in your program. To do that, write the exception type after except:"
      ],
      "metadata": {
        "id": "xubJ6AjqDLn8"
      }
    },
    {
      "cell_type": "code",
      "execution_count": null,
      "metadata": {
        "id": "CqWo90WrRU_B"
      },
      "outputs": [],
      "source": [
        "float((1, 2))\n"
      ]
    },
    {
      "cell_type": "code",
      "execution_count": null,
      "metadata": {
        "id": "CTUyw4DeRU_C"
      },
      "outputs": [],
      "source": [
        "def attempt_float(x):\n",
        "    try:\n",
        "        return float(x)\n",
        "    except ValueError:\n",
        "        return x"
      ]
    },
    {
      "cell_type": "code",
      "execution_count": null,
      "metadata": {
        "id": "Gd4Vje1IRU_C",
        "colab": {
          "base_uri": "https://localhost:8080/",
          "height": 263
        },
        "outputId": "97fe0ce8-52f0-4434-858c-b7be68a4871b"
      },
      "outputs": [
        {
          "output_type": "error",
          "ename": "TypeError",
          "evalue": "float() argument must be a string or a real number, not 'tuple'",
          "traceback": [
            "\u001b[0;31m---------------------------------------------------------------------------\u001b[0m",
            "\u001b[0;31mTypeError\u001b[0m                                 Traceback (most recent call last)",
            "\u001b[0;32m/tmp/ipython-input-3151118377.py\u001b[0m in \u001b[0;36m<cell line: 0>\u001b[0;34m()\u001b[0m\n\u001b[0;32m----> 1\u001b[0;31m \u001b[0mattempt_float\u001b[0m\u001b[0;34m(\u001b[0m\u001b[0;34m(\u001b[0m\u001b[0;36m1\u001b[0m\u001b[0;34m,\u001b[0m \u001b[0;36m2\u001b[0m\u001b[0;34m)\u001b[0m\u001b[0;34m)\u001b[0m\u001b[0;34m\u001b[0m\u001b[0;34m\u001b[0m\u001b[0m\n\u001b[0m",
            "\u001b[0;32m/tmp/ipython-input-1063157278.py\u001b[0m in \u001b[0;36mattempt_float\u001b[0;34m(x)\u001b[0m\n\u001b[1;32m      1\u001b[0m \u001b[0;32mdef\u001b[0m \u001b[0mattempt_float\u001b[0m\u001b[0;34m(\u001b[0m\u001b[0mx\u001b[0m\u001b[0;34m)\u001b[0m\u001b[0;34m:\u001b[0m\u001b[0;34m\u001b[0m\u001b[0;34m\u001b[0m\u001b[0m\n\u001b[1;32m      2\u001b[0m     \u001b[0;32mtry\u001b[0m\u001b[0;34m:\u001b[0m\u001b[0;34m\u001b[0m\u001b[0;34m\u001b[0m\u001b[0m\n\u001b[0;32m----> 3\u001b[0;31m         \u001b[0;32mreturn\u001b[0m \u001b[0mfloat\u001b[0m\u001b[0;34m(\u001b[0m\u001b[0mx\u001b[0m\u001b[0;34m)\u001b[0m\u001b[0;34m\u001b[0m\u001b[0;34m\u001b[0m\u001b[0m\n\u001b[0m\u001b[1;32m      4\u001b[0m     \u001b[0;32mexcept\u001b[0m \u001b[0mValueError\u001b[0m\u001b[0;34m:\u001b[0m\u001b[0;34m\u001b[0m\u001b[0;34m\u001b[0m\u001b[0m\n\u001b[1;32m      5\u001b[0m         \u001b[0;32mreturn\u001b[0m \u001b[0mx\u001b[0m\u001b[0;34m\u001b[0m\u001b[0;34m\u001b[0m\u001b[0m\n",
            "\u001b[0;31mTypeError\u001b[0m: float() argument must be a string or a real number, not 'tuple'"
          ]
        }
      ],
      "source": [
        "attempt_float((1, 2))"
      ]
    },
    {
      "cell_type": "code",
      "execution_count": null,
      "metadata": {
        "id": "VzhKM7yURU_C"
      },
      "outputs": [],
      "source": [
        "def attempt_float(x):\n",
        "    try:\n",
        "        return float(x)\n",
        "    except (TypeError, ValueError):\n",
        "        return x"
      ]
    }
  ],
  "metadata": {
    "kernelspec": {
      "display_name": "Python 3",
      "language": "python",
      "name": "python3"
    },
    "language_info": {
      "codemirror_mode": {
        "name": "ipython",
        "version": 3
      },
      "file_extension": ".py",
      "mimetype": "text/x-python",
      "name": "python",
      "nbconvert_exporter": "python",
      "pygments_lexer": "ipython3",
      "version": "3.7.6"
    },
    "colab": {
      "provenance": []
    }
  },
  "nbformat": 4,
  "nbformat_minor": 0
}