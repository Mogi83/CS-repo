{
 "cells": [
  {
   "cell_type": "markdown",
   "id": "38a2a921",
   "metadata": {},
   "source": [
    "## CS233 - Homework 2 (100 points in total)"
   ]
  },
  {
   "cell_type": "markdown",
   "id": "1f3b75dd",
   "metadata": {},
   "source": [
    "### 1. String split (20 points)\n",
    "### Tasks\n",
    "1. split val (5 pts)\n",
    "2. remove surrounding white spaces (5 pts)\n",
    "3. convert all to lowercase and connect them with \" | \" (10 pts)"
   ]
  },
  {
   "cell_type": "code",
   "execution_count": 8,
   "id": "ab7b812e",
   "metadata": {},
   "outputs": [
    {
     "data": {
      "text/plain": [
       "['  Alice ', '  Bob', 'Carol  ', ' dave  ']"
      ]
     },
     "metadata": {},
     "output_type": "display_data"
    },
    {
     "data": {
      "text/plain": [
       "['Alice', 'Bob', 'Carol', 'dave']"
      ]
     },
     "metadata": {},
     "output_type": "display_data"
    },
    {
     "data": {
      "text/plain": [
       "'alice | bob | carol | dave'"
      ]
     },
     "metadata": {},
     "output_type": "display_data"
    }
   ],
   "source": [
    "val = \"  Alice ,  Bob,Carol  , dave  \"\n",
    "# 1) split\n",
    "split = val.split(\",\")\n",
    "display(split)\n",
    "# expected output: ['  Alice ', '  Bob', 'Carol  ', ' dave  ']\n",
    "\n",
    "# 2) remove surrounding white spaces\n",
    "whitespace = [w.strip() for w in split]\n",
    "display(whitespace)\n",
    "# expected output: # ['Alice', 'Bob', 'Carol', 'dave']\n",
    "\n",
    "# 3) lowercase + join with \" | \"\n",
    "lower_joined = \" | \".join([c.lower() for c in whitespace])\n",
    "display(lower_joined)\n",
    "# expected output: 'alice | bob | carol | dave'"
   ]
  },
  {
   "cell_type": "markdown",
   "id": "ad6269b4",
   "metadata": {},
   "source": [
    "### 2. Processing Large Datasets with `chunksize` (20 points)\n",
    "\n",
    "You are given a CSV file, named `large_sales.csv` containing sales transaction data with the following columns:\n",
    "\n",
    "- `transaction_id`  \n",
    "- `customer_id`  \n",
    "- `product_id`  \n",
    "- `quantity`  \n",
    "- `price`  \n",
    "\n",
    "Because the file is too large to fit in memory all at once, you need to process it in **chunks**.  \n",
    "\n",
    "---\n",
    "\n",
    "### Tasks\n",
    "\n",
    "1. Write Python code that reads this file in chunks of 100,000. (5 pts)\n",
    "2. For each chunk, compute the total sales revenue, and keep a running total across all chunks. (10 pts)\n",
    "   ```python\n",
    "   revenue = quantity * price\n",
    "3. Print the overall total revenue. (5 pts)"
   ]
  },
  {
   "cell_type": "code",
   "execution_count": 12,
   "id": "ad726ebc",
   "metadata": {},
   "outputs": [
    {
     "ename": "KeyError",
     "evalue": "'key'",
     "output_type": "error",
     "traceback": [
      "\u001b[1;31m---------------------------------------------------------------------------\u001b[0m",
      "\u001b[1;31mKeyError\u001b[0m                                  Traceback (most recent call last)",
      "File \u001b[1;32m\\\\?\\C:\\Users\\evanc\\AppData\\Roaming\\jupyterlab-desktop\\jlab_server\\Lib\\site-packages\\pandas\\core\\indexes\\base.py:3805\u001b[0m, in \u001b[0;36mIndex.get_loc\u001b[1;34m(self, key)\u001b[0m\n\u001b[0;32m   3804\u001b[0m \u001b[38;5;28;01mtry\u001b[39;00m:\n\u001b[1;32m-> 3805\u001b[0m     \u001b[38;5;28;01mreturn\u001b[39;00m \u001b[38;5;28;43mself\u001b[39;49m\u001b[38;5;241;43m.\u001b[39;49m\u001b[43m_engine\u001b[49m\u001b[38;5;241;43m.\u001b[39;49m\u001b[43mget_loc\u001b[49m\u001b[43m(\u001b[49m\u001b[43mcasted_key\u001b[49m\u001b[43m)\u001b[49m\n\u001b[0;32m   3806\u001b[0m \u001b[38;5;28;01mexcept\u001b[39;00m \u001b[38;5;167;01mKeyError\u001b[39;00m \u001b[38;5;28;01mas\u001b[39;00m err:\n",
      "File \u001b[1;32mindex.pyx:167\u001b[0m, in \u001b[0;36mpandas._libs.index.IndexEngine.get_loc\u001b[1;34m()\u001b[0m\n",
      "File \u001b[1;32mindex.pyx:196\u001b[0m, in \u001b[0;36mpandas._libs.index.IndexEngine.get_loc\u001b[1;34m()\u001b[0m\n",
      "File \u001b[1;32mpandas\\\\_libs\\\\hashtable_class_helper.pxi:7081\u001b[0m, in \u001b[0;36mpandas._libs.hashtable.PyObjectHashTable.get_item\u001b[1;34m()\u001b[0m\n",
      "File \u001b[1;32mpandas\\\\_libs\\\\hashtable_class_helper.pxi:7089\u001b[0m, in \u001b[0;36mpandas._libs.hashtable.PyObjectHashTable.get_item\u001b[1;34m()\u001b[0m\n",
      "\u001b[1;31mKeyError\u001b[0m: 'key'",
      "\nThe above exception was the direct cause of the following exception:\n",
      "\u001b[1;31mKeyError\u001b[0m                                  Traceback (most recent call last)",
      "Cell \u001b[1;32mIn[12], line 7\u001b[0m\n\u001b[0;32m      5\u001b[0m tot \u001b[38;5;241m=\u001b[39m pd\u001b[38;5;241m.\u001b[39mSeries([], dtype\u001b[38;5;241m=\u001b[39m\u001b[38;5;124m'\u001b[39m\u001b[38;5;124mint64\u001b[39m\u001b[38;5;124m'\u001b[39m)\n\u001b[0;32m      6\u001b[0m \u001b[38;5;28;01mfor\u001b[39;00m piece \u001b[38;5;129;01min\u001b[39;00m chunker:\n\u001b[1;32m----> 7\u001b[0m     tot \u001b[38;5;241m=\u001b[39m tot\u001b[38;5;241m.\u001b[39madd(\u001b[43mpiece\u001b[49m\u001b[43m[\u001b[49m\u001b[38;5;124;43m\"\u001b[39;49m\u001b[38;5;124;43mkey\u001b[39;49m\u001b[38;5;124;43m\"\u001b[39;49m\u001b[43m]\u001b[49m\u001b[38;5;241m.\u001b[39mvalue_counts(), fill_value\u001b[38;5;241m=\u001b[39m\u001b[38;5;241m0\u001b[39m)\n\u001b[0;32m      9\u001b[0m tot \u001b[38;5;241m=\u001b[39m tot\u001b[38;5;241m.\u001b[39msort_values(ascending\u001b[38;5;241m=\u001b[39m\u001b[38;5;28;01mFalse\u001b[39;00m)\n",
      "File \u001b[1;32m\\\\?\\C:\\Users\\evanc\\AppData\\Roaming\\jupyterlab-desktop\\jlab_server\\Lib\\site-packages\\pandas\\core\\frame.py:4102\u001b[0m, in \u001b[0;36mDataFrame.__getitem__\u001b[1;34m(self, key)\u001b[0m\n\u001b[0;32m   4100\u001b[0m \u001b[38;5;28;01mif\u001b[39;00m \u001b[38;5;28mself\u001b[39m\u001b[38;5;241m.\u001b[39mcolumns\u001b[38;5;241m.\u001b[39mnlevels \u001b[38;5;241m>\u001b[39m \u001b[38;5;241m1\u001b[39m:\n\u001b[0;32m   4101\u001b[0m     \u001b[38;5;28;01mreturn\u001b[39;00m \u001b[38;5;28mself\u001b[39m\u001b[38;5;241m.\u001b[39m_getitem_multilevel(key)\n\u001b[1;32m-> 4102\u001b[0m indexer \u001b[38;5;241m=\u001b[39m \u001b[38;5;28;43mself\u001b[39;49m\u001b[38;5;241;43m.\u001b[39;49m\u001b[43mcolumns\u001b[49m\u001b[38;5;241;43m.\u001b[39;49m\u001b[43mget_loc\u001b[49m\u001b[43m(\u001b[49m\u001b[43mkey\u001b[49m\u001b[43m)\u001b[49m\n\u001b[0;32m   4103\u001b[0m \u001b[38;5;28;01mif\u001b[39;00m is_integer(indexer):\n\u001b[0;32m   4104\u001b[0m     indexer \u001b[38;5;241m=\u001b[39m [indexer]\n",
      "File \u001b[1;32m\\\\?\\C:\\Users\\evanc\\AppData\\Roaming\\jupyterlab-desktop\\jlab_server\\Lib\\site-packages\\pandas\\core\\indexes\\base.py:3812\u001b[0m, in \u001b[0;36mIndex.get_loc\u001b[1;34m(self, key)\u001b[0m\n\u001b[0;32m   3807\u001b[0m     \u001b[38;5;28;01mif\u001b[39;00m \u001b[38;5;28misinstance\u001b[39m(casted_key, \u001b[38;5;28mslice\u001b[39m) \u001b[38;5;129;01mor\u001b[39;00m (\n\u001b[0;32m   3808\u001b[0m         \u001b[38;5;28misinstance\u001b[39m(casted_key, abc\u001b[38;5;241m.\u001b[39mIterable)\n\u001b[0;32m   3809\u001b[0m         \u001b[38;5;129;01mand\u001b[39;00m \u001b[38;5;28many\u001b[39m(\u001b[38;5;28misinstance\u001b[39m(x, \u001b[38;5;28mslice\u001b[39m) \u001b[38;5;28;01mfor\u001b[39;00m x \u001b[38;5;129;01min\u001b[39;00m casted_key)\n\u001b[0;32m   3810\u001b[0m     ):\n\u001b[0;32m   3811\u001b[0m         \u001b[38;5;28;01mraise\u001b[39;00m InvalidIndexError(key)\n\u001b[1;32m-> 3812\u001b[0m     \u001b[38;5;28;01mraise\u001b[39;00m \u001b[38;5;167;01mKeyError\u001b[39;00m(key) \u001b[38;5;28;01mfrom\u001b[39;00m \u001b[38;5;21;01merr\u001b[39;00m\n\u001b[0;32m   3813\u001b[0m \u001b[38;5;28;01mexcept\u001b[39;00m \u001b[38;5;167;01mTypeError\u001b[39;00m:\n\u001b[0;32m   3814\u001b[0m     \u001b[38;5;66;03m# If we have a listlike key, _check_indexing_error will raise\u001b[39;00m\n\u001b[0;32m   3815\u001b[0m     \u001b[38;5;66;03m#  InvalidIndexError. Otherwise we fall through and re-raise\u001b[39;00m\n\u001b[0;32m   3816\u001b[0m     \u001b[38;5;66;03m#  the TypeError.\u001b[39;00m\n\u001b[0;32m   3817\u001b[0m     \u001b[38;5;28mself\u001b[39m\u001b[38;5;241m.\u001b[39m_check_indexing_error(key)\n",
      "\u001b[1;31mKeyError\u001b[0m: 'key'"
     ]
    }
   ],
   "source": [
    "import pandas as pd\n",
    "\n",
    "chunker = pd.read_csv(\"large_sales.csv\", chunksize=100_000)\n",
    "\n",
    "tot = pd.Series([], dtype='int64')\n",
    "for piece in chunker:\n",
    "    tot = tot.add(piece[\"key\"].value_counts(), fill_value=0)\n",
    "\n",
    "tot = tot.sort_values(ascending=False)"
   ]
  },
  {
   "cell_type": "markdown",
   "id": "f438e1ff",
   "metadata": {},
   "source": [
    "### 3. Working with Other Delimited Formats (20 pts)\n",
    "\n",
    "You are given a text file named employees.txt that contains employee records separated by the | (pipe) character.\n",
    "\n",
    "### Tasks\n",
    "\n",
    "1. Load this file into a pandas DataFrame using pd.read_csv with the appropriate sep argument.\n",
    "\n",
    "2. Display the first 3 rows of the DataFrame. (5 pts)\n",
    "\n",
    "3. Compute the average salary of all employees. (5 pts)\n",
    "\n",
    "4. Find the highest-paid employee and print their name and salary. (5 pts)\n",
    "\n",
    "5.  Save only the employees in the Engineering department into a new tab-delimited file named engineering_employees.txt.\n",
    "\n",
    "6. Load your generated .txt file using the provided code below. (#5 and #6, 5 pts in total)"
   ]
  },
  {
   "cell_type": "code",
   "execution_count": null,
   "id": "10cc7f0e",
   "metadata": {},
   "outputs": [],
   "source": [
    "import pandas as pd\n",
    "\n",
    "# 1. Load the file using | as the delimiter\n",
    "\n",
    "# 2. Display first 3 rows\n",
    "print(\"First 3 rows:\")\n",
    "\n",
    "# 3. Compute average salary\n",
    "\n",
    "print(\"\\nAverage salary:\")\n",
    "\n",
    "# 4. Highest-paid employee\n",
    "\n",
    "print(\"\\nHighest-paid employee:\")\n",
    "\n",
    "# 5. Save Engineering employees to tab-delimited file\n",
    "\n",
    "# 6 load your generated .txt from step 5\n",
    "check_df = pd.read_csv(\"replace_this_with_your_generated_file.txt\", sep=\"\\t\")\n",
    "print(\"Engineering Employees:\\n\")\n",
    "print(check_df)"
   ]
  },
  {
   "cell_type": "markdown",
   "id": "d5e081c8",
   "metadata": {},
   "source": [
    "### 4. Working with HTML Data (20 pts)\n",
    "\n",
    "You are given an HTML file named **`products.html`** that contains a simple table of product information:\n",
    "\n",
    "##### Tasks\n",
    "\n",
    "1. load the HTML table into a DataFrame. \n",
    "\n",
    "2. display the DataFrame. (5 pts)\n",
    "\n",
    "3. Compute the average product price. (5 pts)\n",
    "\n",
    "4. Save only the products in the Electronics category into a new CSV file. (5 pts)\n",
    "\n",
    "5. Reload your new csv file and print it here. (5 pts)\n"
   ]
  },
  {
   "cell_type": "code",
   "execution_count": 25,
   "id": "443bb00d",
   "metadata": {},
   "outputs": [],
   "source": [
    "import pandas as pd\n",
    "\n",
    "# YOUR CODE HERE"
   ]
  },
  {
   "cell_type": "markdown",
   "id": "2458629d",
   "metadata": {},
   "source": [
    "### 5. Binning Continuous Data (20 pts)\n",
    "\n",
    "Binning is a useful technique when you want to group continuous values into discrete intervals.  \n",
    "In this exercise, you’ll practice using `pd.cut` and `pd.qcut` with a dataset of exam scores.\n",
    "\n",
    "---\n",
    "\n",
    "## Dataset\n",
    "\n",
    "You are given a CSV file named **`exam_scores.csv`**.\n",
    "\n",
    "There are 100 students with scores ranging between 40 and 100.  \n",
    "\n",
    "---\n",
    "\n",
    "## Tasks\n",
    "\n",
    "1. Load the dataset into a pandas DataFrame.\n",
    "2. Use `pd.cut` to bin the scores into 4 equal-width intervals:   (5 pts)\n",
    "   - `40–55` (Poor)  \n",
    "   - `55–70` (Average)  \n",
    "   - `70–85` (Good)  \n",
    "   - `85–100` (Excellent)  \n",
    "   Add a new column `category` with these labels.  \n",
    "\n",
    "3. Count how many students fall into each category.  (5 pts)\n",
    "\n",
    "4. Use `pd.qcut` to divide the scores into **quartiles (4 groups with equal number of students)**. Add a new column `quartile`. Display the first 10 rows in the new dataframe. (5 pts)\n"
   ]
  },
  {
   "cell_type": "code",
   "execution_count": null,
   "id": "3f84a4e9",
   "metadata": {},
   "outputs": [],
   "source": [
    "# 1) Load the dataset\n",
    "\n",
    "# 2) Fixed-width bins with pd.cut\n",
    "\n",
    "# 3) Count students per category\n",
    "\n",
    "print(\"Counts per fixed-width bin (pd.cut):\")\n",
    "print(cut_counts, \"\\n\")\n",
    "\n",
    "# 4) Quantile-based bins with pd.qcut (quartiles)\n",
    "\n",
    "print(\"Counts per quantile bin (pd.qcut):\")\n",
    "print(qcut_counts, \"\\n\")\n",
    "\n",
    "# Display the first 10 rows in the new dataframe.\n"
   ]
  },
  {
   "cell_type": "markdown",
   "id": "a2161ad4",
   "metadata": {},
   "source": [
    "5. Compare the results of `pd.cut` (fixed-width bins) vs `pd.qcut` (quantile-based bins). (5 pts) \n",
    "   - Which method gives **evenly distributed counts** across groups?  \n",
    "   - Which method better preserves the interpretation of “score range”?  \n"
   ]
  },
  {
   "cell_type": "markdown",
   "id": "a40d5f03",
   "metadata": {},
   "source": [
    "Type your answer below:\n"
   ]
  },
  {
   "cell_type": "markdown",
   "id": "10ebc2ac",
   "metadata": {},
   "source": []
  }
 ],
 "metadata": {
  "kernelspec": {
   "display_name": "Python 3 (ipykernel)",
   "language": "python",
   "name": "python3"
  },
  "language_info": {
   "codemirror_mode": {
    "name": "ipython",
    "version": 3
   },
   "file_extension": ".py",
   "mimetype": "text/x-python",
   "name": "python",
   "nbconvert_exporter": "python",
   "pygments_lexer": "ipython3",
   "version": "3.12.5"
  }
 },
 "nbformat": 4,
 "nbformat_minor": 5
}
