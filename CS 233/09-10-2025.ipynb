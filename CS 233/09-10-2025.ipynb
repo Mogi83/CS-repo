{
 "cells": [
  {
   "cell_type": "code",
   "execution_count": 18,
   "id": "af162b35-19f0-42fc-8db7-38c6c5fa0207",
   "metadata": {},
   "outputs": [
    {
     "name": "stdout",
     "output_type": "stream",
     "text": [
      "[3]\n",
      "[6]\n",
      "[9]\n",
      "[5 6]\n"
     ]
    }
   ],
   "source": [
    "import numpy as np\n",
    "\n",
    "arr2d = np.array([[1,2,3],[4,5,6],[7,8,9]])\n",
    "\n",
    "for i in range(len(arr2d)):\n",
    "    print(arr2d[i][-1:])\n",
    "\n",
    "#print(arr2d[:, -1])\n",
    "\n",
    "print(arr2d[1,1:])"
   ]
  },
  {
   "cell_type": "code",
   "execution_count": null,
   "id": "a16a4065-80c3-483f-804f-7379cc170f4a",
   "metadata": {},
   "outputs": [],
   "source": []
  }
 ],
 "metadata": {
  "kernelspec": {
   "display_name": "Python 3 (ipykernel)",
   "language": "python",
   "name": "python3"
  },
  "language_info": {
   "codemirror_mode": {
    "name": "ipython",
    "version": 3
   },
   "file_extension": ".py",
   "mimetype": "text/x-python",
   "name": "python",
   "nbconvert_exporter": "python",
   "pygments_lexer": "ipython3",
   "version": "3.12.5"
  }
 },
 "nbformat": 4,
 "nbformat_minor": 5
}
