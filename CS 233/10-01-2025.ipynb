{
 "cells": [
  {
   "cell_type": "code",
   "execution_count": 1,
   "id": "c3f39f70-3540-4cfb-982f-118b696a7cfb",
   "metadata": {},
   "outputs": [],
   "source": [
    "val = \"   Alice ,   Bob,Carol   , dave \""
   ]
  },
  {
   "cell_type": "code",
   "execution_count": 4,
   "id": "31749d59-f24f-43a6-88ea-0ace382c85c5",
   "metadata": {},
   "outputs": [
    {
     "name": "stdout",
     "output_type": "stream",
     "text": [
      "['   Alice ', '   Bob', 'Carol   ', ' dave ']\n"
     ]
    }
   ],
   "source": [
    "pieces = val.split(\",\")\n",
    "print(pieces)"
   ]
  },
  {
   "cell_type": "code",
   "execution_count": 12,
   "id": "27197842-3dad-49cb-8d63-a8ebe34e89f6",
   "metadata": {},
   "outputs": [
    {
     "name": "stdout",
     "output_type": "stream",
     "text": [
      "['Alice', 'Bob', 'Carol', 'dave']\n"
     ]
    }
   ],
   "source": [
    "clean = [p.strip() for p in pieces]\n",
    "print(clean)"
   ]
  },
  {
   "cell_type": "code",
   "execution_count": 14,
   "id": "b1749d90-8fcf-482a-9e17-f1001c6df9b6",
   "metadata": {},
   "outputs": [
    {
     "name": "stdout",
     "output_type": "stream",
     "text": [
      "alice | bob | carol | dave\n"
     ]
    }
   ],
   "source": [
    "lower_joined = \" | \".join([c.lower() for c in clean])\n",
    "print(lower_joined)"
   ]
  }
 ],
 "metadata": {
  "kernelspec": {
   "display_name": "Python 3 (ipykernel)",
   "language": "python",
   "name": "python3"
  },
  "language_info": {
   "codemirror_mode": {
    "name": "ipython",
    "version": 3
   },
   "file_extension": ".py",
   "mimetype": "text/x-python",
   "name": "python",
   "nbconvert_exporter": "python",
   "pygments_lexer": "ipython3",
   "version": "3.12.5"
  }
 },
 "nbformat": 4,
 "nbformat_minor": 5
}
