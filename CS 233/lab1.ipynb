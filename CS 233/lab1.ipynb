{
 "cells": [
  {
   "cell_type": "markdown",
   "id": "0476bbf4",
   "metadata": {},
   "source": [
    "# Lab 1: Intro Python Practice (5 points)\n",
    "\n",
    "Instructions:\n",
    "- Feel free to experiment by modifying the code and re-running the cell.\n",
    "- Successful submission: 1 point\n",
    "- Each question: 1 point (4x1)\n",
    "- To get the point, you need to complete the code, give the answer, and provide explanation (only if required).\n"
   ]
  },
  {
   "cell_type": "markdown",
   "id": "fc0b0f8f",
   "metadata": {},
   "source": [
    "## Question 1: Area of a circle\n",
    "\n",
    "Compute the area of a circle with radius `r = 5` using the formula `A = π r^2`.\n"
   ]
  },
  {
   "cell_type": "code",
   "execution_count": 3,
   "id": "c469c3fb",
   "metadata": {},
   "outputs": [
    {
     "name": "stdout",
     "output_type": "stream",
     "text": [
      "78.54\n"
     ]
    }
   ],
   "source": [
    "import math\n",
    "r = 5\n",
    "area = math.pi * (r ** 2)\n",
    "print(f\"{area:.2f}\")\n"
   ]
  },
  {
   "cell_type": "markdown",
   "id": "8f76e66b",
   "metadata": {},
   "source": [
    "Your answer: 78.54\n"
   ]
  },
  {
   "cell_type": "markdown",
   "id": "fd678859",
   "metadata": {},
   "source": [
    "## Question 2: Sum of even numbers\n",
    "\n",
    "Given the list `nums = [1,2,3,4,5,6,7,8,9,10]`, compute the sum of the even numbers.\n"
   ]
  },
  {
   "cell_type": "code",
   "execution_count": 64,
   "id": "d0196afb",
   "metadata": {},
   "outputs": [
    {
     "name": "stdout",
     "output_type": "stream",
     "text": [
      "30\n"
     ]
    }
   ],
   "source": [
    "nums = [1, 2, 3, 4, 5, 6, 7, 8, 9, 10]\n",
    "total_evens = 0\n",
    "for i in range(len(nums)):\n",
    "    if nums[i] % 2 == 0:\n",
    "        total_evens = total_evens + nums[i]\n",
    "\n",
    "print(total_evens)\n"
   ]
  },
  {
   "cell_type": "markdown",
   "id": "daeb4503",
   "metadata": {},
   "source": [
    "This loop will enumerate through the `nums` list by checking its total length of the list. Then we check if the value at our index value of `nums` mod 2 has no remainder. If It does have no remainder we add our previous result into our variable `total evens` and the even index. Finally we print out `total evens`."
   ]
  },
  {
   "cell_type": "markdown",
   "id": "80713748",
   "metadata": {},
   "source": [
    "## Question 3: Count vowels in a string\n",
    "\n",
    "Count the number of vowels in the string `s = \"Hello, world!\"` (consider both uppercase and lowercase).\n"
   ]
  },
  {
   "cell_type": "code",
   "execution_count": 14,
   "id": "fad77ace",
   "metadata": {},
   "outputs": [
    {
     "name": "stdout",
     "output_type": "stream",
     "text": [
      "3\n"
     ]
    }
   ],
   "source": [
    "s = \"Hello, world!\"\n",
    "vowels = set(\"aeiouAEIOU\")\n",
    "\n",
    "count = 0\n",
    "\n",
    "for i in range(len(s)):\n",
    "    if s[i] in vowels:\n",
    "        count = count + 1\n",
    "\n",
    "print(count)\n"
   ]
  },
  {
   "cell_type": "markdown",
   "id": "99de18b3",
   "metadata": {},
   "source": [
    "I first create a variable to keep track of our count of vowels named `count`. Then we head into a loop that enumerates the total length of our string `s` then we check to see if the index value of our string `s` is anywhere in the object `vowels`. If it is then we increase the value of our `count` object which is then printed after the loop is finished.\n"
   ]
  },
  {
   "cell_type": "markdown",
   "id": "5d897bf6",
   "metadata": {},
   "source": [
    "## Question 4: Factorial function\n",
    "\n",
    "Write a function to compute the factorial of `n` (e.g., `factorial(5) == 120`) using an iterative approach.\n"
   ]
  },
  {
   "cell_type": "code",
   "execution_count": 69,
   "id": "d9f542c6",
   "metadata": {},
   "outputs": [
    {
     "data": {
      "text/plain": [
       "120"
      ]
     },
     "execution_count": 69,
     "metadata": {},
     "output_type": "execute_result"
    }
   ],
   "source": [
    "def factorial(n):\n",
    "    if type(n) == int and n > 0:\n",
    "        for i in range (1, n):\n",
    "            n = n * i\n",
    "        return n\n",
    "\n",
    "    else:\n",
    "        print(\"Invalid type or value for n\")\n",
    "\n",
    "factorial(5)"
   ]
  },
  {
   "cell_type": "markdown",
   "id": "a5e1efbc",
   "metadata": {
    "editable": true,
    "slideshow": {
     "slide_type": ""
    },
    "tags": []
   },
   "source": [
    "The function `factorial` takes in an interger parameter `n`, if an integer is not provided or it is not greater than zero then we print out an error message. If we are provided an integer we enter a loop that starts from `1` and iterates until `n`. We start from `1` because if we didn't we would be multiplying by zero defeating the purpose of factorial. Once we are in the loop the function assigns the value of n as itself times the current value of the index `i`. We return `n` once the function is has reached the value of `n`."
   ]
  }
 ],
 "metadata": {
  "kernelspec": {
   "display_name": "Python 3 (ipykernel)",
   "language": "python",
   "name": "python3"
  },
  "language_info": {
   "codemirror_mode": {
    "name": "ipython",
    "version": 3
   },
   "file_extension": ".py",
   "mimetype": "text/x-python",
   "name": "python",
   "nbconvert_exporter": "python",
   "pygments_lexer": "ipython3",
   "version": "3.12.5"
  }
 },
 "nbformat": 4,
 "nbformat_minor": 5
}
